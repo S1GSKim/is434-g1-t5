{
 "cells": [
  {
   "cell_type": "markdown",
   "metadata": {
    "papermill": {
     "duration": 0.018272,
     "end_time": "2020-08-18T13:19:08.032052",
     "exception": false,
     "start_time": "2020-08-18T13:19:08.013780",
     "status": "completed"
    },
    "tags": []
   },
   "source": [
    "<img src = \"https://ieee-dataport.org/sites/default/files/coronavirus-dataset-1.png\">\n",
    "<img src = \"https://media.giphy.com/media/6h8jgwC3dU6vS/giphy.gif\">"
   ]
  },
  {
   "cell_type": "code",
   "execution_count": null,
   "metadata": {},
   "outputs": [],
   "source": [
    "!pip install dexplot -q\n"
   ]
  },
  {
   "cell_type": "code",
   "execution_count": null,
   "metadata": {},
   "outputs": [],
   "source": [
    "!pip install pycaret -q\n"
   ]
  },
  {
   "cell_type": "code",
   "execution_count": null,
   "metadata": {},
   "outputs": [],
   "source": [
    "!pip install stylecloud -q"
   ]
  },
  {
   "cell_type": "code",
   "execution_count": null,
   "metadata": {
    "_cell_guid": "b1076dfc-b9ad-4769-8c92-a6c4dae69d19",
    "_kg_hide-input": true,
    "_kg_hide-output": true,
    "_uuid": "8f2839f25d086af736a60e9eeb907d3b93b6e0e5",
    "execution": {
     "iopub.execute_input": "2020-08-18T13:19:08.093406Z",
     "iopub.status.busy": "2020-08-18T13:19:08.080919Z",
     "iopub.status.idle": "2020-08-18T13:20:19.788997Z",
     "shell.execute_reply": "2020-08-18T13:20:19.788061Z"
    },
    "papermill": {
     "duration": 71.742255,
     "end_time": "2020-08-18T13:20:19.789160",
     "exception": false,
     "start_time": "2020-08-18T13:19:08.046905",
     "status": "completed"
    },
    "tags": []
   },
   "outputs": [],
   "source": [
    "#For uploading and accessing the data\n",
    "import pandas as pd\n",
    "import numpy as np\n",
    "\n",
    "#For visualizations\n",
    "import matplotlib.pyplot as plt\n",
    "import seaborn as sns\n",
    "\n",
    "# for visualizations\n",
    "plt.style.use('ggplot')\n",
    "\n",
    "# for interactive visualizations\n",
    "import plotly.offline as py\n",
    "from plotly.offline import init_notebook_mode, iplot\n",
    "import plotly.graph_objs as go\n",
    "from plotly import tools\n",
    "init_notebook_mode(connected = True)\n",
    "import plotly.figure_factory as ff\n",
    "from sklearn.preprocessing import StandardScaler\n",
    "\n",
    "from pandas_profiling import ProfileReport\n",
    "\n",
    "import dexplot as dxp\n",
    "\n",
    "\n",
    "from sklearn.feature_extraction.text import CountVectorizer,TfidfVectorizer\n",
    "\n",
    "# Nltk for tokenize and stopwords\n",
    "from nltk.corpus import stopwords \n",
    "from nltk.tokenize import word_tokenize \n",
    "import requests\n",
    "from PIL import Image\n",
    "from io import BytesIO\n",
    "from wordcloud import WordCloud, STOPWORDS\n",
    "import stylecloud\n",
    "from wordcloud import ImageColorGenerator\n",
    "RANDOM_SEED = 42\n"
   ]
  },
  {
   "cell_type": "markdown",
   "metadata": {
    "papermill": {
     "duration": 0.014577,
     "end_time": "2020-08-18T13:20:19.819082",
     "exception": false,
     "start_time": "2020-08-18T13:20:19.804505",
     "status": "completed"
    },
    "tags": []
   },
   "source": [
    "# <a id='1'> Detailed Analysis for Tweets in COVID Pandemic</a>"
   ]
  },
  {
   "cell_type": "code",
   "execution_count": null,
   "metadata": {
    "execution": {
     "iopub.execute_input": "2020-08-18T13:20:19.865159Z",
     "iopub.status.busy": "2020-08-18T13:20:19.864345Z",
     "iopub.status.idle": "2020-08-18T13:20:21.296480Z",
     "shell.execute_reply": "2020-08-18T13:20:21.295662Z"
    },
    "papermill": {
     "duration": 1.462511,
     "end_time": "2020-08-18T13:20:21.296617",
     "exception": false,
     "start_time": "2020-08-18T13:20:19.834106",
     "status": "completed"
    },
    "tags": []
   },
   "outputs": [],
   "source": [
    "df = pd.read_csv('/kaggle/input/covid19-tweets/covid19_tweets.csv')\n",
    "df.head()"
   ]
  },
  {
   "cell_type": "code",
   "execution_count": null,
   "metadata": {
    "_kg_hide-input": true,
    "execution": {
     "iopub.execute_input": "2020-08-18T13:20:21.352517Z",
     "iopub.status.busy": "2020-08-18T13:20:21.351254Z",
     "iopub.status.idle": "2020-08-18T13:20:21.355274Z",
     "shell.execute_reply": "2020-08-18T13:20:21.354589Z"
    },
    "papermill": {
     "duration": 0.042839,
     "end_time": "2020-08-18T13:20:21.355435",
     "exception": false,
     "start_time": "2020-08-18T13:20:21.312596",
     "status": "completed"
    },
    "tags": []
   },
   "outputs": [],
   "source": [
    "def missing_value_of_data(data):\n",
    "    total=data.isnull().sum().sort_values(ascending=False)\n",
    "    percentage=round(total/data.shape[0]*100,2)\n",
    "    return pd.concat([total,percentage],axis=1,keys=['Total','Percentage'])\n",
    "\n",
    "def duplicated_values_data(data):\n",
    "    dup=[]\n",
    "    columns=data.columns\n",
    "    for i in data.columns:\n",
    "        dup.append(sum(data[i].duplicated()))\n",
    "    return pd.concat([pd.Series(columns),pd.Series(dup)],axis=1,keys=['Columns','Duplicate count'])\n",
    "\n",
    "def unique_values_in_column(data,feature):\n",
    "    unique_val=pd.Series(data.loc[:,feature].unique())\n",
    "    return pd.concat([unique_val],axis=1,keys=['Unique Values'])\n",
    "\n",
    "def count_values_in_column(data,feature):\n",
    "    total=data.loc[:,feature].value_counts(dropna=False)\n",
    "    percentage=round(data.loc[:,feature].value_counts(dropna=False,normalize=True)*100,2)\n",
    "    return pd.concat([total,percentage],axis=1,keys=['Total','Percentage'])\n",
    "\n",
    "def ngrams_top(corpus,ngram_range,n=None):\n",
    "    \"\"\"\n",
    "    List the top n words in a vocabulary according to occurrence in a text corpus.\n",
    "    \"\"\"\n",
    "    vec = CountVectorizer(stop_words = 'english',ngram_range=ngram_range).fit(corpus)\n",
    "    bag_of_words = vec.transform(corpus)\n",
    "    sum_words = bag_of_words.sum(axis=0) \n",
    "    words_freq = [(word, sum_words[0, idx]) for word, idx in vec.vocabulary_.items()]\n",
    "    words_freq =sorted(words_freq, key = lambda x: x[1], reverse=True)\n",
    "    total_list=words_freq[:n]\n",
    "    df=pd.DataFrame(total_list,columns=['text','count'])\n",
    "    return df\n",
    "\n"
   ]
  },
  {
   "cell_type": "code",
   "execution_count": null,
   "metadata": {
    "execution": {
     "iopub.execute_input": "2020-08-18T13:20:21.522480Z",
     "iopub.status.busy": "2020-08-18T13:20:21.391949Z",
     "iopub.status.idle": "2020-08-18T13:20:21.560723Z",
     "shell.execute_reply": "2020-08-18T13:20:21.559932Z"
    },
    "papermill": {
     "duration": 0.189595,
     "end_time": "2020-08-18T13:20:21.560854",
     "exception": false,
     "start_time": "2020-08-18T13:20:21.371259",
     "status": "completed"
    },
    "tags": []
   },
   "outputs": [],
   "source": [
    "missing_value_of_data(df)"
   ]
  },
  {
   "cell_type": "code",
   "execution_count": null,
   "metadata": {
    "execution": {
     "iopub.execute_input": "2020-08-18T13:20:21.745925Z",
     "iopub.status.busy": "2020-08-18T13:20:21.661979Z",
     "iopub.status.idle": "2020-08-18T13:20:22.133568Z",
     "shell.execute_reply": "2020-08-18T13:20:22.132906Z"
    },
    "papermill": {
     "duration": 0.556719,
     "end_time": "2020-08-18T13:20:22.133714",
     "exception": false,
     "start_time": "2020-08-18T13:20:21.576995",
     "status": "completed"
    },
    "tags": []
   },
   "outputs": [],
   "source": [
    "duplicated_values_data(df)"
   ]
  },
  {
   "cell_type": "code",
   "execution_count": null,
   "metadata": {
    "execution": {
     "iopub.execute_input": "2020-08-18T13:20:22.218898Z",
     "iopub.status.busy": "2020-08-18T13:20:22.199747Z",
     "iopub.status.idle": "2020-08-18T13:20:22.306153Z",
     "shell.execute_reply": "2020-08-18T13:20:22.305501Z"
    },
    "papermill": {
     "duration": 0.15637,
     "end_time": "2020-08-18T13:20:22.306294",
     "exception": false,
     "start_time": "2020-08-18T13:20:22.149924",
     "status": "completed"
    },
    "tags": []
   },
   "outputs": [],
   "source": [
    "count_values_in_column(df,'user_location')"
   ]
  },
  {
   "cell_type": "code",
   "execution_count": null,
   "metadata": {
    "execution": {
     "iopub.execute_input": "2020-08-18T13:20:22.403483Z",
     "iopub.status.busy": "2020-08-18T13:20:22.379111Z",
     "iopub.status.idle": "2020-08-18T13:20:22.521284Z",
     "shell.execute_reply": "2020-08-18T13:20:22.520522Z"
    },
    "papermill": {
     "duration": 0.198601,
     "end_time": "2020-08-18T13:20:22.521446",
     "exception": false,
     "start_time": "2020-08-18T13:20:22.322845",
     "status": "completed"
    },
    "tags": []
   },
   "outputs": [],
   "source": [
    "count_values_in_column(df,'hashtags')"
   ]
  },
  {
   "cell_type": "code",
   "execution_count": null,
   "metadata": {
    "execution": {
     "iopub.execute_input": "2020-08-18T13:20:22.589736Z",
     "iopub.status.busy": "2020-08-18T13:20:22.584563Z",
     "iopub.status.idle": "2020-08-18T13:20:35.399946Z",
     "shell.execute_reply": "2020-08-18T13:20:35.399273Z"
    },
    "papermill": {
     "duration": 12.861769,
     "end_time": "2020-08-18T13:20:35.400078",
     "exception": false,
     "start_time": "2020-08-18T13:20:22.538309",
     "status": "completed"
    },
    "tags": []
   },
   "outputs": [],
   "source": [
    "dd_11 = ngrams_top(df['text'],(1,1),n=10)\n",
    "dxp.bar(x='text', y='count', data=dd_11,figsize=(10,5),cmap='dark12_r',title='Count Plot for Most Frequent words in Tweets')"
   ]
  },
  {
   "cell_type": "code",
   "execution_count": null,
   "metadata": {
    "execution": {
     "iopub.execute_input": "2020-08-18T13:20:35.480641Z",
     "iopub.status.busy": "2020-08-18T13:20:35.465114Z",
     "iopub.status.idle": "2020-08-18T13:20:57.431667Z",
     "shell.execute_reply": "2020-08-18T13:20:57.430950Z"
    },
    "papermill": {
     "duration": 22.013865,
     "end_time": "2020-08-18T13:20:57.431797",
     "exception": false,
     "start_time": "2020-08-18T13:20:35.417932",
     "status": "completed"
    },
    "tags": []
   },
   "outputs": [],
   "source": [
    "dd_22 = ngrams_top(df['text'],(2,2),n=10)\n",
    "dxp.bar(x='text', y='count', data=dd_22,figsize=(10,5),cmap='dark12_r',title='Count Plot for Most Frequent words in Tweets')"
   ]
  },
  {
   "cell_type": "code",
   "execution_count": null,
   "metadata": {
    "execution": {
     "iopub.execute_input": "2020-08-18T13:20:57.483191Z",
     "iopub.status.busy": "2020-08-18T13:20:57.477809Z",
     "iopub.status.idle": "2020-08-18T13:21:21.165145Z",
     "shell.execute_reply": "2020-08-18T13:21:21.164466Z"
    },
    "papermill": {
     "duration": 23.714602,
     "end_time": "2020-08-18T13:21:21.165295",
     "exception": false,
     "start_time": "2020-08-18T13:20:57.450693",
     "status": "completed"
    },
    "tags": []
   },
   "outputs": [],
   "source": [
    "dd_33 = ngrams_top(df['text'],(3,3),n=10)\n",
    "dxp.bar(x='text', y='count', data=dd_33,figsize=(10,5),cmap='dark12_r',title='Count Plot for Most Frequent words in Tweets')"
   ]
  },
  {
   "cell_type": "code",
   "execution_count": null,
   "metadata": {
    "_kg_hide-input": true,
    "execution": {
     "iopub.execute_input": "2020-08-18T13:21:21.249957Z",
     "iopub.status.busy": "2020-08-18T13:21:21.248651Z",
     "iopub.status.idle": "2020-08-18T13:21:21.257726Z",
     "shell.execute_reply": "2020-08-18T13:21:21.256884Z"
    },
    "papermill": {
     "duration": 0.07282,
     "end_time": "2020-08-18T13:21:21.257874",
     "exception": false,
     "start_time": "2020-08-18T13:21:21.185054",
     "status": "completed"
    },
    "tags": []
   },
   "outputs": [],
   "source": [
    "Top10_source = pd.DataFrame(df['source'].value_counts().sort_values(ascending=False)[:10]).reset_index()\n",
    "Top10_source.columns = ['Source','Count']"
   ]
  },
  {
   "cell_type": "code",
   "execution_count": null,
   "metadata": {
    "execution": {
     "iopub.execute_input": "2020-08-18T13:21:21.309038Z",
     "iopub.status.busy": "2020-08-18T13:21:21.303793Z",
     "iopub.status.idle": "2020-08-18T13:21:21.665279Z",
     "shell.execute_reply": "2020-08-18T13:21:21.664573Z"
    },
    "papermill": {
     "duration": 0.388487,
     "end_time": "2020-08-18T13:21:21.665437",
     "exception": false,
     "start_time": "2020-08-18T13:21:21.276950",
     "status": "completed"
    },
    "tags": []
   },
   "outputs": [],
   "source": [
    "dxp.bar(x='Source', y='Count', data=Top10_source,figsize=(10,5),cmap='viridis',title='Source for Tweets in COVID-19')"
   ]
  },
  {
   "cell_type": "markdown",
   "metadata": {
    "papermill": {
     "duration": 0.020603,
     "end_time": "2020-08-18T13:21:21.706126",
     "exception": false,
     "start_time": "2020-08-18T13:21:21.685523",
     "status": "completed"
    },
    "tags": []
   },
   "source": [
    "#### Inference-\n",
    "* Twitter Web app has most tweets followed by Twitter for Android and Iphone"
   ]
  },
  {
   "cell_type": "code",
   "execution_count": null,
   "metadata": {
    "_kg_hide-input": true,
    "execution": {
     "iopub.execute_input": "2020-08-18T13:21:21.799774Z",
     "iopub.status.busy": "2020-08-18T13:21:21.780286Z",
     "iopub.status.idle": "2020-08-18T13:21:21.815143Z",
     "shell.execute_reply": "2020-08-18T13:21:21.814300Z"
    },
    "papermill": {
     "duration": 0.08929,
     "end_time": "2020-08-18T13:21:21.815289",
     "exception": false,
     "start_time": "2020-08-18T13:21:21.725999",
     "status": "completed"
    },
    "tags": []
   },
   "outputs": [],
   "source": [
    "best_10_regions = pd.DataFrame(df['user_location'].value_counts().sort_values(ascending=False)[:15]).reset_index()\n",
    "best_10_regions.columns = ['user_location','Count']"
   ]
  },
  {
   "cell_type": "code",
   "execution_count": null,
   "metadata": {
    "execution": {
     "iopub.execute_input": "2020-08-18T13:21:21.871654Z",
     "iopub.status.busy": "2020-08-18T13:21:21.870483Z",
     "iopub.status.idle": "2020-08-18T13:21:22.355392Z",
     "shell.execute_reply": "2020-08-18T13:21:22.354638Z"
    },
    "papermill": {
     "duration": 0.52029,
     "end_time": "2020-08-18T13:21:22.355535",
     "exception": false,
     "start_time": "2020-08-18T13:21:21.835245",
     "status": "completed"
    },
    "tags": []
   },
   "outputs": [],
   "source": [
    "dxp.bar(x='user_location', y='Count', data=best_10_regions,figsize=(15,5),cmap='viridis',title='Geographical Location for Tweets')"
   ]
  },
  {
   "cell_type": "markdown",
   "metadata": {
    "papermill": {
     "duration": 0.020666,
     "end_time": "2020-08-18T13:21:22.397532",
     "exception": false,
     "start_time": "2020-08-18T13:21:22.376866",
     "status": "completed"
    },
    "tags": []
   },
   "source": [
    "#### Inference-\n",
    "* India dominates in Tweets for COVID -19 followed by US."
   ]
  },
  {
   "cell_type": "code",
   "execution_count": null,
   "metadata": {
    "_kg_hide-input": true,
    "execution": {
     "iopub.execute_input": "2020-08-18T13:21:22.499486Z",
     "iopub.status.busy": "2020-08-18T13:21:22.498671Z",
     "iopub.status.idle": "2020-08-18T13:21:22.570651Z",
     "shell.execute_reply": "2020-08-18T13:21:22.569993Z"
    },
    "papermill": {
     "duration": 0.152123,
     "end_time": "2020-08-18T13:21:22.570796",
     "exception": false,
     "start_time": "2020-08-18T13:21:22.418673",
     "status": "completed"
    },
    "tags": []
   },
   "outputs": [],
   "source": [
    "Top10_user = pd.DataFrame(df['user_name'].value_counts().sort_values(ascending=False)[:10]).reset_index()\n",
    "Top10_user.columns = ['user_name','count']"
   ]
  },
  {
   "cell_type": "code",
   "execution_count": null,
   "metadata": {
    "execution": {
     "iopub.execute_input": "2020-08-18T13:21:22.630183Z",
     "iopub.status.busy": "2020-08-18T13:21:22.629013Z",
     "iopub.status.idle": "2020-08-18T13:21:23.208761Z",
     "shell.execute_reply": "2020-08-18T13:21:23.209407Z"
    },
    "papermill": {
     "duration": 0.617651,
     "end_time": "2020-08-18T13:21:23.209584",
     "exception": false,
     "start_time": "2020-08-18T13:21:22.591933",
     "status": "completed"
    },
    "tags": []
   },
   "outputs": [],
   "source": [
    "dxp.bar(x='user_name', y='count', data=Top10_user,figsize=(15,5),cmap='viridis',title='Users Dominating in Tweets in COVID-19')"
   ]
  },
  {
   "cell_type": "code",
   "execution_count": null,
   "metadata": {
    "execution": {
     "iopub.execute_input": "2020-08-18T13:21:23.278455Z",
     "iopub.status.busy": "2020-08-18T13:21:23.277583Z",
     "iopub.status.idle": "2020-08-18T13:21:23.834980Z",
     "shell.execute_reply": "2020-08-18T13:21:23.835603Z"
    },
    "papermill": {
     "duration": 0.604154,
     "end_time": "2020-08-18T13:21:23.835772",
     "exception": false,
     "start_time": "2020-08-18T13:21:23.231618",
     "status": "completed"
    },
    "tags": []
   },
   "outputs": [],
   "source": [
    "dxp.bar(x='user_verified', y='user_followers', data=df.head(100),figsize=(10,10),split='source',aggfunc='mean',title='Relationship betwwen fake and real users')"
   ]
  },
  {
   "cell_type": "code",
   "execution_count": null,
   "metadata": {
    "execution": {
     "iopub.execute_input": "2020-08-18T13:21:23.906100Z",
     "iopub.status.busy": "2020-08-18T13:21:23.904979Z",
     "iopub.status.idle": "2020-08-18T13:21:34.233976Z",
     "shell.execute_reply": "2020-08-18T13:21:34.233212Z"
    },
    "papermill": {
     "duration": 10.374132,
     "end_time": "2020-08-18T13:21:34.234133",
     "exception": false,
     "start_time": "2020-08-18T13:21:23.860001",
     "status": "completed"
    },
    "tags": []
   },
   "outputs": [],
   "source": [
    "hashtags = df['hashtags'].dropna().tolist()\n",
    "unique_hashtags=(\" \").join(hashtags)\n",
    "stylecloud.gen_stylecloud(text = unique_hashtags,\n",
    "                          icon_name='fas fa-first-aid',\n",
    "                          palette='colorbrewer.diverging.Spectral_11',\n",
    "                          background_color='black',\n",
    "                          gradient='horizontal')\n"
   ]
  },
  {
   "cell_type": "code",
   "execution_count": null,
   "metadata": {
    "_kg_hide-input": true,
    "execution": {
     "iopub.execute_input": "2020-08-18T13:21:34.288627Z",
     "iopub.status.busy": "2020-08-18T13:21:34.287818Z",
     "iopub.status.idle": "2020-08-18T13:21:34.301272Z",
     "shell.execute_reply": "2020-08-18T13:21:34.301873Z"
    },
    "papermill": {
     "duration": 0.043714,
     "end_time": "2020-08-18T13:21:34.302038",
     "exception": false,
     "start_time": "2020-08-18T13:21:34.258324",
     "status": "completed"
    },
    "tags": []
   },
   "outputs": [],
   "source": [
    "from IPython.display import Image \n",
    "\n",
    "Image(\"./stylecloud.png\",width = 600, height = 600)"
   ]
  },
  {
   "cell_type": "code",
   "execution_count": null,
   "metadata": {
    "execution": {
     "iopub.execute_input": "2020-08-18T13:21:34.384870Z",
     "iopub.status.busy": "2020-08-18T13:21:34.384041Z",
     "iopub.status.idle": "2020-08-18T13:22:05.923172Z",
     "shell.execute_reply": "2020-08-18T13:22:05.921935Z"
    },
    "papermill": {
     "duration": 31.594167,
     "end_time": "2020-08-18T13:22:05.923418",
     "exception": false,
     "start_time": "2020-08-18T13:21:34.329251",
     "status": "completed"
    },
    "tags": []
   },
   "outputs": [],
   "source": [
    "hashtags = df['text'].dropna().tolist()\n",
    "unique_hashtags=(\" \").join(hashtags)\n",
    "stylecloud.gen_stylecloud(text = unique_hashtags,\n",
    "                          icon_name='far fa-comment',\n",
    "                          background_color='white',\n",
    "                          gradient='horizontal')\n"
   ]
  },
  {
   "cell_type": "code",
   "execution_count": null,
   "metadata": {
    "_kg_hide-input": true,
    "execution": {
     "iopub.execute_input": "2020-08-18T13:22:05.986727Z",
     "iopub.status.busy": "2020-08-18T13:22:05.985709Z",
     "iopub.status.idle": "2020-08-18T13:22:05.994051Z",
     "shell.execute_reply": "2020-08-18T13:22:05.993260Z"
    },
    "papermill": {
     "duration": 0.041486,
     "end_time": "2020-08-18T13:22:05.994197",
     "exception": false,
     "start_time": "2020-08-18T13:22:05.952711",
     "status": "completed"
    },
    "tags": []
   },
   "outputs": [],
   "source": [
    "from IPython.display import Image \n",
    "\n",
    "Image(\"./stylecloud.png\",width = 600, height = 600)"
   ]
  },
  {
   "cell_type": "code",
   "execution_count": null,
   "metadata": {
    "_kg_hide-input": true,
    "execution": {
     "iopub.execute_input": "2020-08-18T13:22:06.116087Z",
     "iopub.status.busy": "2020-08-18T13:22:06.060097Z",
     "iopub.status.idle": "2020-08-18T13:22:07.704340Z",
     "shell.execute_reply": "2020-08-18T13:22:07.703501Z"
    },
    "papermill": {
     "duration": 1.681086,
     "end_time": "2020-08-18T13:22:07.704502",
     "exception": false,
     "start_time": "2020-08-18T13:22:06.023416",
     "status": "completed"
    },
    "tags": []
   },
   "outputs": [],
   "source": [
    "df_plot = df[['user_created','user_followers','user_favourites','user_friends']]\n",
    "df_plot['user_created'] = pd.to_datetime(df_plot.user_created)\n",
    "df_plot['user_created'] = df_plot['user_created'].dt.strftime('%m/%d/%Y')\n",
    "df_plot = df_plot.sort_values('user_created')"
   ]
  },
  {
   "cell_type": "code",
   "execution_count": null,
   "metadata": {
    "execution": {
     "iopub.execute_input": "2020-08-18T13:22:07.780503Z",
     "iopub.status.busy": "2020-08-18T13:22:07.779619Z",
     "iopub.status.idle": "2020-08-18T13:22:08.087152Z",
     "shell.execute_reply": "2020-08-18T13:22:08.086332Z"
    },
    "papermill": {
     "duration": 0.352743,
     "end_time": "2020-08-18T13:22:08.087286",
     "exception": false,
     "start_time": "2020-08-18T13:22:07.734543",
     "status": "completed"
    },
    "tags": []
   },
   "outputs": [],
   "source": [
    "dxp.line(x='user_created',y = 'user_followers',aggfunc='mean',data=df_plot.head(100),figsize=(10,5),cmap='viridis',title='Followers Timeline')"
   ]
  },
  {
   "cell_type": "code",
   "execution_count": null,
   "metadata": {
    "execution": {
     "iopub.execute_input": "2020-08-18T13:22:08.171413Z",
     "iopub.status.busy": "2020-08-18T13:22:08.166673Z",
     "iopub.status.idle": "2020-08-18T13:22:08.469710Z",
     "shell.execute_reply": "2020-08-18T13:22:08.468929Z"
    },
    "papermill": {
     "duration": 0.350723,
     "end_time": "2020-08-18T13:22:08.469843",
     "exception": false,
     "start_time": "2020-08-18T13:22:08.119120",
     "status": "completed"
    },
    "tags": []
   },
   "outputs": [],
   "source": [
    "dxp.line(x='user_created',y = 'user_favourites',aggfunc='mean',data=df_plot.head(100),figsize=(10,5),cmap='viridis_r',title='User Favourite Timeline')"
   ]
  },
  {
   "cell_type": "code",
   "execution_count": null,
   "metadata": {
    "execution": {
     "iopub.execute_input": "2020-08-18T13:22:08.548449Z",
     "iopub.status.busy": "2020-08-18T13:22:08.547645Z",
     "iopub.status.idle": "2020-08-18T13:22:08.840686Z",
     "shell.execute_reply": "2020-08-18T13:22:08.841340Z"
    },
    "papermill": {
     "duration": 0.340861,
     "end_time": "2020-08-18T13:22:08.841546",
     "exception": false,
     "start_time": "2020-08-18T13:22:08.500685",
     "status": "completed"
    },
    "tags": []
   },
   "outputs": [],
   "source": [
    "dxp.line(x='user_created',y = 'user_friends',aggfunc='mean',data=df_plot.head(100),figsize=(10,5),cmap='plotly3',title='User Friends Timeline')"
   ]
  },
  {
   "cell_type": "markdown",
   "metadata": {
    "papermill": {
     "duration": 0.03126,
     "end_time": "2020-08-18T13:22:08.904675",
     "exception": false,
     "start_time": "2020-08-18T13:22:08.873415",
     "status": "completed"
    },
    "tags": []
   },
   "source": [
    "# <a id='1'> Topic Modeling with PyCaret</a><br>\n",
    "<img src = 'https://pycaret.org/wp-content/uploads/2020/03/Divi93_43.png'> <br>\n",
    "\n",
    "###### PyCaret is an open source low-code machine learning library in Python that aims to reduce the hypothesis to insights cycle time in a ML experiment. It enables data scientists to perform end-to-end experiments quickly and efficiently. In comparison with the other open source machine learning libraries, PyCaret is an alternative low-code library that can be used to perform complex machine learning tasks with only few lines of code. PyCaret is essentially a Python wrapper around several machine learning libraries and frameworks such as scikit-learn, XGBoost, Microsoft LightGBM, spaCy and many more.\n",
    "\n",
    "###### PyCaret is a great library which not only simplifies the machine learning tasks for citizen data scientists but also helps new startups to reduce the cost of investing in a team of data scientists. Therefore, this library has not only helped the citizen data scientists but has also helped individuals who want to start exploring the field of data science, having no prior knowledge in this field.\n",
    "\n",
    "###### PyCaret is simple, easy to use and deployment ready. All the steps performed in a ML experiment can be reproduced using a pipeline that is automatically developed and orchestrated in PyCaret as you progress through the experiment. A pipeline can be saved in a binary file format that is transferable across environments."
   ]
  },
  {
   "cell_type": "code",
   "execution_count": null,
   "metadata": {
    "_cell_guid": "79c7e3d0-c299-4dcb-8224-4455121ee9b0",
    "_uuid": "d629ff2d2480ee46fbb7e2d37f6b5fab8052498a",
    "execution": {
     "iopub.execute_input": "2020-08-18T13:22:08.974692Z",
     "iopub.status.busy": "2020-08-18T13:22:08.973833Z",
     "iopub.status.idle": "2020-08-18T13:22:08.980073Z",
     "shell.execute_reply": "2020-08-18T13:22:08.979395Z"
    },
    "papermill": {
     "duration": 0.043397,
     "end_time": "2020-08-18T13:22:08.980204",
     "exception": false,
     "start_time": "2020-08-18T13:22:08.936807",
     "status": "completed"
    },
    "tags": []
   },
   "outputs": [],
   "source": [
    "from pycaret.nlp import *"
   ]
  },
  {
   "cell_type": "markdown",
   "metadata": {
    "papermill": {
     "duration": 0.031997,
     "end_time": "2020-08-18T13:22:09.045574",
     "exception": false,
     "start_time": "2020-08-18T13:22:09.013577",
     "status": "completed"
    },
    "tags": []
   },
   "source": [
    "<b> This function initializes the environment in pycaret. setup() must called before executing any other function in pycaret. It takes one mandatory parameter: dataframe {array-like, sparse matrix} or object of type list. If a dataframe is passed, target column containing text must be specified. When data passed is of type list, no target parameter is required.<b>"
   ]
  },
  {
   "cell_type": "code",
   "execution_count": null,
   "metadata": {
    "execution": {
     "iopub.execute_input": "2020-08-18T13:22:09.118315Z",
     "iopub.status.busy": "2020-08-18T13:22:09.117131Z",
     "iopub.status.idle": "2020-08-18T13:33:27.298233Z",
     "shell.execute_reply": "2020-08-18T13:33:27.297278Z"
    },
    "papermill": {
     "duration": 678.22061,
     "end_time": "2020-08-18T13:33:27.298475",
     "exception": false,
     "start_time": "2020-08-18T13:22:09.077865",
     "status": "completed"
    },
    "tags": []
   },
   "outputs": [],
   "source": [
    "nlp1 = setup(df, target = 'text', session_id=RANDOM_SEED, experiment_name='covid')"
   ]
  },
  {
   "cell_type": "code",
   "execution_count": null,
   "metadata": {
    "execution": {
     "iopub.execute_input": "2020-08-18T13:33:27.381059Z",
     "iopub.status.busy": "2020-08-18T13:33:27.379893Z",
     "iopub.status.idle": "2020-08-18T13:33:27.384869Z",
     "shell.execute_reply": "2020-08-18T13:33:27.384178Z"
    },
    "papermill": {
     "duration": 0.052737,
     "end_time": "2020-08-18T13:33:27.385010",
     "exception": false,
     "start_time": "2020-08-18T13:33:27.332273",
     "status": "completed"
    },
    "tags": []
   },
   "outputs": [],
   "source": [
    "models()"
   ]
  },
  {
   "cell_type": "markdown",
   "metadata": {
    "papermill": {
     "duration": 0.032582,
     "end_time": "2020-08-18T13:33:27.450707",
     "exception": false,
     "start_time": "2020-08-18T13:33:27.418125",
     "status": "completed"
    },
    "tags": []
   },
   "source": [
    "<b> This function creates a model on the dataset passed as a data param during the setup stage. setup() function must be called before using create_model(). This function returns a trained model object.  </b>\n",
    "\n"
   ]
  },
  {
   "cell_type": "code",
   "execution_count": null,
   "metadata": {
    "execution": {
     "iopub.execute_input": "2020-08-18T13:33:27.526133Z",
     "iopub.status.busy": "2020-08-18T13:33:27.524891Z",
     "iopub.status.idle": "2020-08-18T13:56:11.574416Z",
     "shell.execute_reply": "2020-08-18T13:56:11.572927Z"
    },
    "papermill": {
     "duration": 1364.090928,
     "end_time": "2020-08-18T13:56:11.574589",
     "exception": false,
     "start_time": "2020-08-18T13:33:27.483661",
     "status": "completed"
    },
    "tags": []
   },
   "outputs": [],
   "source": [
    "#Latent Dirichlet Allocation\n",
    "lda = create_model('lda',multi_core=True)"
   ]
  },
  {
   "cell_type": "code",
   "execution_count": null,
   "metadata": {
    "execution": {
     "iopub.execute_input": "2020-08-18T13:56:11.653419Z",
     "iopub.status.busy": "2020-08-18T13:56:11.652171Z",
     "iopub.status.idle": "2020-08-18T13:56:16.069285Z",
     "shell.execute_reply": "2020-08-18T13:56:16.068433Z"
    },
    "papermill": {
     "duration": 4.460441,
     "end_time": "2020-08-18T13:56:16.069473",
     "exception": false,
     "start_time": "2020-08-18T13:56:11.609032",
     "status": "completed"
    },
    "tags": []
   },
   "outputs": [],
   "source": [
    "#Non-Negative Matrix Factorization\n",
    "nmf = create_model('nmf', num_topics = 6)"
   ]
  },
  {
   "cell_type": "code",
   "execution_count": null,
   "metadata": {
    "execution": {
     "iopub.execute_input": "2020-08-18T13:56:16.148549Z",
     "iopub.status.busy": "2020-08-18T13:56:16.147598Z",
     "iopub.status.idle": "2020-08-18T13:56:27.020558Z",
     "shell.execute_reply": "2020-08-18T13:56:27.019660Z"
    },
    "papermill": {
     "duration": 10.914261,
     "end_time": "2020-08-18T13:56:27.020718",
     "exception": false,
     "start_time": "2020-08-18T13:56:16.106457",
     "status": "completed"
    },
    "tags": []
   },
   "outputs": [],
   "source": [
    "#Latent Semantic Indexing\n",
    "lsi = create_model('lsi', num_topics = 6)"
   ]
  },
  {
   "cell_type": "code",
   "execution_count": null,
   "metadata": {
    "execution": {
     "iopub.execute_input": "2020-08-18T13:56:27.096865Z",
     "iopub.status.busy": "2020-08-18T13:56:27.095606Z",
     "iopub.status.idle": "2020-08-18T14:01:03.147235Z",
     "shell.execute_reply": "2020-08-18T14:01:03.145870Z"
    },
    "papermill": {
     "duration": 276.092673,
     "end_time": "2020-08-18T14:01:03.147402",
     "exception": false,
     "start_time": "2020-08-18T13:56:27.054729",
     "status": "completed"
    },
    "tags": []
   },
   "outputs": [],
   "source": [
    "#Hierarchical Dirichlet Process\n",
    "hdp = create_model('hdp', num_topics = 6)"
   ]
  },
  {
   "cell_type": "code",
   "execution_count": null,
   "metadata": {
    "execution": {
     "iopub.execute_input": "2020-08-18T14:01:03.222567Z",
     "iopub.status.busy": "2020-08-18T14:01:03.221278Z",
     "iopub.status.idle": "2020-08-18T14:01:03.283025Z",
     "shell.execute_reply": "2020-08-18T14:01:03.282160Z"
    },
    "papermill": {
     "duration": 0.10173,
     "end_time": "2020-08-18T14:01:03.283176",
     "exception": false,
     "start_time": "2020-08-18T14:01:03.181446",
     "status": "completed"
    },
    "tags": []
   },
   "outputs": [],
   "source": [
    "#Random Projections\n",
    "rp = create_model('rp',num_topics = 6)"
   ]
  },
  {
   "cell_type": "markdown",
   "metadata": {
    "papermill": {
     "duration": 0.033815,
     "end_time": "2020-08-18T14:01:03.351710",
     "exception": false,
     "start_time": "2020-08-18T14:01:03.317895",
     "status": "completed"
    },
    "tags": []
   },
   "source": [
    "<b> This function assigns each of the data point in the dataset passed during setup stage to one of the topic using trained model object passed as model param. create_model() function must be called before using assign_model(). This function returns data frame with topic weights, dominant topic and % of the dominant topic (where applicable). <b>\n",
    "\n"
   ]
  },
  {
   "cell_type": "code",
   "execution_count": null,
   "metadata": {
    "execution": {
     "iopub.execute_input": "2020-08-18T14:01:03.427206Z",
     "iopub.status.busy": "2020-08-18T14:01:03.426391Z",
     "iopub.status.idle": "2020-08-18T14:03:51.375300Z",
     "shell.execute_reply": "2020-08-18T14:03:51.373961Z"
    },
    "papermill": {
     "duration": 167.989762,
     "end_time": "2020-08-18T14:03:51.375740",
     "exception": false,
     "start_time": "2020-08-18T14:01:03.385978",
     "status": "completed"
    },
    "tags": []
   },
   "outputs": [],
   "source": [
    "lda_results = assign_model(lda)\n",
    "lda_results.head()"
   ]
  },
  {
   "cell_type": "code",
   "execution_count": null,
   "metadata": {
    "execution": {
     "iopub.execute_input": "2020-08-18T14:03:51.456049Z",
     "iopub.status.busy": "2020-08-18T14:03:51.455155Z",
     "iopub.status.idle": "2020-08-18T14:05:54.607738Z",
     "shell.execute_reply": "2020-08-18T14:05:54.606884Z"
    },
    "papermill": {
     "duration": 123.194613,
     "end_time": "2020-08-18T14:05:54.607892",
     "exception": false,
     "start_time": "2020-08-18T14:03:51.413279",
     "status": "completed"
    },
    "tags": []
   },
   "outputs": [],
   "source": [
    "nmf_results = assign_model(nmf)\n",
    "nmf_results.head()"
   ]
  },
  {
   "cell_type": "code",
   "execution_count": null,
   "metadata": {
    "execution": {
     "iopub.execute_input": "2020-08-18T14:05:54.685719Z",
     "iopub.status.busy": "2020-08-18T14:05:54.684856Z",
     "iopub.status.idle": "2020-08-18T14:12:30.472916Z",
     "shell.execute_reply": "2020-08-18T14:12:30.472091Z"
    },
    "papermill": {
     "duration": 395.829366,
     "end_time": "2020-08-18T14:12:30.473095",
     "exception": false,
     "start_time": "2020-08-18T14:05:54.643729",
     "status": "completed"
    },
    "tags": []
   },
   "outputs": [],
   "source": [
    "hdp_results = assign_model(hdp)\n",
    "hdp_results.head()"
   ]
  },
  {
   "cell_type": "markdown",
   "metadata": {
    "papermill": {
     "duration": 0.034885,
     "end_time": "2020-08-18T14:12:30.544037",
     "exception": false,
     "start_time": "2020-08-18T14:12:30.509152",
     "status": "completed"
    },
    "tags": []
   },
   "source": [
    "<b> This function takes a trained model object (optional) and returns a plot based on the inferred dataset by internally calling assign_model before generating a plot </b>"
   ]
  },
  {
   "cell_type": "markdown",
   "metadata": {
    "papermill": {
     "duration": 0.034728,
     "end_time": "2020-08-18T14:12:30.614105",
     "exception": false,
     "start_time": "2020-08-18T14:12:30.579377",
     "status": "completed"
    },
    "tags": []
   },
   "source": [
    "##### Plotting LDA Results(Word Frequency Distribution)"
   ]
  },
  {
   "cell_type": "code",
   "execution_count": null,
   "metadata": {
    "execution": {
     "iopub.execute_input": "2020-08-18T14:12:30.694769Z",
     "iopub.status.busy": "2020-08-18T14:12:30.693917Z",
     "iopub.status.idle": "2020-08-18T14:15:25.668298Z",
     "shell.execute_reply": "2020-08-18T14:15:25.667598Z"
    },
    "papermill": {
     "duration": 175.01667,
     "end_time": "2020-08-18T14:15:25.668481",
     "exception": false,
     "start_time": "2020-08-18T14:12:30.651811",
     "status": "completed"
    },
    "tags": []
   },
   "outputs": [],
   "source": [
    "plot_model(lda)"
   ]
  },
  {
   "cell_type": "markdown",
   "metadata": {
    "papermill": {
     "duration": 0.043055,
     "end_time": "2020-08-18T14:15:25.756038",
     "exception": false,
     "start_time": "2020-08-18T14:15:25.712983",
     "status": "completed"
    },
    "tags": []
   },
   "source": [
    "##### Plotting Word Distribution"
   ]
  },
  {
   "cell_type": "code",
   "execution_count": null,
   "metadata": {
    "execution": {
     "iopub.execute_input": "2020-08-18T14:15:25.850884Z",
     "iopub.status.busy": "2020-08-18T14:15:25.849877Z",
     "iopub.status.idle": "2020-08-18T14:18:13.466707Z",
     "shell.execute_reply": "2020-08-18T14:18:13.467389Z"
    },
    "papermill": {
     "duration": 167.667692,
     "end_time": "2020-08-18T14:18:13.467603",
     "exception": false,
     "start_time": "2020-08-18T14:15:25.799911",
     "status": "completed"
    },
    "tags": []
   },
   "outputs": [],
   "source": [
    "plot_model(lda, plot = 'distribution')"
   ]
  },
  {
   "cell_type": "markdown",
   "metadata": {
    "papermill": {
     "duration": 0.160063,
     "end_time": "2020-08-18T14:18:13.787404",
     "exception": false,
     "start_time": "2020-08-18T14:18:13.627341",
     "status": "completed"
    },
    "tags": []
   },
   "source": [
    "###### Plotting Bigrams"
   ]
  },
  {
   "cell_type": "code",
   "execution_count": null,
   "metadata": {
    "execution": {
     "iopub.execute_input": "2020-08-18T14:18:14.119002Z",
     "iopub.status.busy": "2020-08-18T14:18:14.117857Z",
     "iopub.status.idle": "2020-08-18T14:21:06.454945Z",
     "shell.execute_reply": "2020-08-18T14:21:06.455657Z"
    },
    "papermill": {
     "duration": 172.506881,
     "end_time": "2020-08-18T14:21:06.455991",
     "exception": false,
     "start_time": "2020-08-18T14:18:13.949110",
     "status": "completed"
    },
    "tags": []
   },
   "outputs": [],
   "source": [
    "plot_model(lda, plot = 'bigram')"
   ]
  },
  {
   "cell_type": "markdown",
   "metadata": {
    "papermill": {
     "duration": 0.169228,
     "end_time": "2020-08-18T14:21:06.797473",
     "exception": false,
     "start_time": "2020-08-18T14:21:06.628245",
     "status": "completed"
    },
    "tags": []
   },
   "source": [
    "###### Plotting Trigrams"
   ]
  },
  {
   "cell_type": "code",
   "execution_count": null,
   "metadata": {
    "execution": {
     "iopub.execute_input": "2020-08-18T14:21:07.146979Z",
     "iopub.status.busy": "2020-08-18T14:21:07.145916Z",
     "iopub.status.idle": "2020-08-18T14:23:58.723827Z",
     "shell.execute_reply": "2020-08-18T14:23:58.724485Z"
    },
    "papermill": {
     "duration": 171.757474,
     "end_time": "2020-08-18T14:23:58.724699",
     "exception": false,
     "start_time": "2020-08-18T14:21:06.967225",
     "status": "completed"
    },
    "tags": []
   },
   "outputs": [],
   "source": [
    "plot_model(lda, plot = 'trigram')"
   ]
  },
  {
   "cell_type": "markdown",
   "metadata": {
    "papermill": {
     "duration": 0.176789,
     "end_time": "2020-08-18T14:23:59.079863",
     "exception": false,
     "start_time": "2020-08-18T14:23:58.903074",
     "status": "completed"
    },
    "tags": []
   },
   "source": [
    "##### Plotting tsne 3D Dimension Plot"
   ]
  },
  {
   "cell_type": "code",
   "execution_count": null,
   "metadata": {
    "execution": {
     "iopub.execute_input": "2020-08-18T14:23:59.446761Z",
     "iopub.status.busy": "2020-08-18T14:23:59.445868Z",
     "iopub.status.idle": "2020-08-18T15:17:56.664147Z",
     "shell.execute_reply": "2020-08-18T15:17:56.665402Z"
    },
    "papermill": {
     "duration": 3237.404029,
     "end_time": "2020-08-18T15:17:56.665685",
     "exception": false,
     "start_time": "2020-08-18T14:23:59.261656",
     "status": "completed"
    },
    "tags": []
   },
   "outputs": [],
   "source": [
    "plot_model(lda, plot = 'tsne')"
   ]
  },
  {
   "cell_type": "markdown",
   "metadata": {
    "papermill": {
     "duration": 0.840221,
     "end_time": "2020-08-18T15:17:58.326266",
     "exception": false,
     "start_time": "2020-08-18T15:17:57.486045",
     "status": "completed"
    },
    "tags": []
   },
   "source": [
    "###### Plotting Topic Distribution"
   ]
  },
  {
   "cell_type": "code",
   "execution_count": null,
   "metadata": {
    "execution": {
     "iopub.execute_input": "2020-08-18T15:17:59.964539Z",
     "iopub.status.busy": "2020-08-18T15:17:59.963637Z",
     "iopub.status.idle": "2020-08-18T15:20:47.325565Z",
     "shell.execute_reply": "2020-08-18T15:20:47.326623Z"
    },
    "papermill": {
     "duration": 168.169954,
     "end_time": "2020-08-18T15:20:47.326921",
     "exception": false,
     "start_time": "2020-08-18T15:17:59.156967",
     "status": "completed"
    },
    "tags": []
   },
   "outputs": [],
   "source": [
    "plot_model(lda, plot = 'topic_distribution')"
   ]
  },
  {
   "cell_type": "markdown",
   "metadata": {
    "papermill": {
     "duration": 0.877007,
     "end_time": "2020-08-18T15:20:48.998507",
     "exception": false,
     "start_time": "2020-08-18T15:20:48.121500",
     "status": "completed"
    },
    "tags": []
   },
   "source": [
    "###### Plotting WordCloud"
   ]
  },
  {
   "cell_type": "code",
   "execution_count": null,
   "metadata": {
    "execution": {
     "iopub.execute_input": "2020-08-18T15:20:50.575522Z",
     "iopub.status.busy": "2020-08-18T15:20:50.574696Z",
     "iopub.status.idle": "2020-08-18T15:23:42.403921Z",
     "shell.execute_reply": "2020-08-18T15:23:42.404999Z"
    },
    "papermill": {
     "duration": 172.612648,
     "end_time": "2020-08-18T15:23:42.405383",
     "exception": false,
     "start_time": "2020-08-18T15:20:49.792735",
     "status": "completed"
    },
    "tags": []
   },
   "outputs": [],
   "source": [
    "plot_model(lda, plot = 'wordcloud')"
   ]
  },
  {
   "cell_type": "markdown",
   "metadata": {
    "papermill": {
     "duration": 0.781039,
     "end_time": "2020-08-18T15:23:43.976681",
     "exception": false,
     "start_time": "2020-08-18T15:23:43.195642",
     "status": "completed"
    },
    "tags": []
   },
   "source": [
    "##### Plotting UMAP Dimensionality Plot"
   ]
  },
  {
   "cell_type": "code",
   "execution_count": null,
   "metadata": {
    "execution": {
     "iopub.execute_input": "2020-08-18T15:23:45.573715Z",
     "iopub.status.busy": "2020-08-18T15:23:45.572726Z",
     "iopub.status.idle": "2020-08-18T15:55:00.813552Z",
     "shell.execute_reply": "2020-08-18T15:55:00.814227Z"
    },
    "papermill": {
     "duration": 1876.038834,
     "end_time": "2020-08-18T15:55:00.814613",
     "exception": false,
     "start_time": "2020-08-18T15:23:44.775779",
     "status": "completed"
    },
    "tags": []
   },
   "outputs": [],
   "source": [
    "plot_model(lda, plot = 'umap')"
   ]
  },
  {
   "cell_type": "markdown",
   "metadata": {
    "papermill": {
     "duration": 0.857209,
     "end_time": "2020-08-18T15:55:02.532329",
     "exception": false,
     "start_time": "2020-08-18T15:55:01.675120",
     "status": "completed"
    },
    "tags": []
   },
   "source": [
    "<b> This function displays the user interface for all the available plots for a given model. It internally uses the plot_model() function.<b/>\n",
    "\n"
   ]
  },
  {
   "cell_type": "code",
   "execution_count": null,
   "metadata": {
    "execution": {
     "iopub.execute_input": "2020-08-18T15:55:04.233241Z",
     "iopub.status.busy": "2020-08-18T15:55:04.231797Z",
     "iopub.status.idle": "2020-08-18T15:55:04.304131Z",
     "shell.execute_reply": "2020-08-18T15:55:04.298697Z"
    },
    "papermill": {
     "duration": 0.912259,
     "end_time": "2020-08-18T15:55:04.304386",
     "exception": false,
     "start_time": "2020-08-18T15:55:03.392127",
     "status": "completed"
    },
    "tags": []
   },
   "outputs": [],
   "source": [
    "evaluate_model(lda)"
   ]
  },
  {
   "cell_type": "markdown",
   "metadata": {
    "papermill": {
     "duration": 0.807227,
     "end_time": "2020-08-18T15:55:05.929183",
     "exception": false,
     "start_time": "2020-08-18T15:55:05.121956",
     "status": "completed"
    },
    "tags": []
   },
   "source": [
    "# <a id='1'> References</a>\n",
    "* [Pycaret](https://github.com/pycaret/pycaret)\n",
    "* [Helper Functions Notebook](https://www.kaggle.com/raenish/cheatsheet-text-helper-functions)"
   ]
  },
  {
   "cell_type": "markdown",
   "metadata": {
    "papermill": {
     "duration": 0.808551,
     "end_time": "2020-08-18T15:55:07.541248",
     "exception": false,
     "start_time": "2020-08-18T15:55:06.732697",
     "status": "completed"
    },
    "tags": []
   },
   "source": [
    "## Made with ❤️ for Learning "
   ]
  }
 ],
 "metadata": {
  "kernelspec": {
   "display_name": "Python 3",
   "language": "python",
   "name": "python3"
  },
  "language_info": {
   "codemirror_mode": {
    "name": "ipython",
    "version": 3
   },
   "file_extension": ".py",
   "mimetype": "text/x-python",
   "name": "python",
   "nbconvert_exporter": "python",
   "pygments_lexer": "ipython3",
   "version": "3.9.13"
  },
  "papermill": {
   "duration": 9365.934717,
   "end_time": "2020-08-18T15:55:08.490940",
   "environment_variables": {},
   "exception": null,
   "input_path": "__notebook__.ipynb",
   "output_path": "__notebook__.ipynb",
   "parameters": {},
   "start_time": "2020-08-18T13:19:02.556223",
   "version": "2.1.0"
  },
  "widgets": {
   "application/vnd.jupyter.widget-state+json": {
    "state": {
     "00bfa376aa9f44e29354ea376dc17d86": {
      "model_module": "@jupyter-widgets/base",
      "model_module_version": "1.2.0",
      "model_name": "LayoutModel",
      "state": {
       "_model_module": "@jupyter-widgets/base",
       "_model_module_version": "1.2.0",
       "_model_name": "LayoutModel",
       "_view_count": null,
       "_view_module": "@jupyter-widgets/base",
       "_view_module_version": "1.2.0",
       "_view_name": "LayoutView",
       "align_content": null,
       "align_items": null,
       "align_self": null,
       "border": null,
       "bottom": null,
       "display": null,
       "flex": null,
       "flex_flow": null,
       "grid_area": null,
       "grid_auto_columns": null,
       "grid_auto_flow": null,
       "grid_auto_rows": null,
       "grid_column": null,
       "grid_gap": null,
       "grid_row": null,
       "grid_template_areas": null,
       "grid_template_columns": null,
       "grid_template_rows": null,
       "height": null,
       "justify_content": null,
       "justify_items": null,
       "left": null,
       "margin": null,
       "max_height": null,
       "max_width": null,
       "min_height": null,
       "min_width": null,
       "object_fit": null,
       "object_position": null,
       "order": null,
       "overflow": null,
       "overflow_x": null,
       "overflow_y": null,
       "padding": null,
       "right": null,
       "top": null,
       "visibility": null,
       "width": null
      }
     },
     "06444f559e29477b8545492cc4db5189": {
      "model_module": "@jupyter-widgets/controls",
      "model_module_version": "1.5.0",
      "model_name": "DropdownModel",
      "state": {
       "_dom_classes": [],
       "_model_module": "@jupyter-widgets/controls",
       "_model_module_version": "1.5.0",
       "_model_name": "DropdownModel",
       "_options_labels": [
        "Qualitative",
        "Sequential",
        "Diverging",
        "Cyclic",
        "Misc",
        "All Colormaps"
       ],
       "_view_count": null,
       "_view_module": "@jupyter-widgets/controls",
       "_view_module_version": "1.5.0",
       "_view_name": "DropdownView",
       "description": "Colormap Category: ",
       "description_tooltip": null,
       "disabled": false,
       "index": null,
       "layout": "IPY_MODEL_672d996ede3346eeb4241fe5f56c7afb",
       "style": "IPY_MODEL_8a6a5c0fa61441cea1262bce69909c7c"
      }
     },
     "103d20f8dde1415ba18c5b9bf9c4c727": {
      "model_module": "@jupyter-widgets/controls",
      "model_module_version": "1.5.0",
      "model_name": "ProgressStyleModel",
      "state": {
       "_model_module": "@jupyter-widgets/controls",
       "_model_module_version": "1.5.0",
       "_model_name": "ProgressStyleModel",
       "_view_count": null,
       "_view_module": "@jupyter-widgets/base",
       "_view_module_version": "1.2.0",
       "_view_name": "StyleView",
       "bar_color": null,
       "description_width": ""
      }
     },
     "118dfb75e47c4570adbd6df279fd2955": {
      "model_module": "@jupyter-widgets/base",
      "model_module_version": "1.2.0",
      "model_name": "LayoutModel",
      "state": {
       "_model_module": "@jupyter-widgets/base",
       "_model_module_version": "1.2.0",
       "_model_name": "LayoutModel",
       "_view_count": null,
       "_view_module": "@jupyter-widgets/base",
       "_view_module_version": "1.2.0",
       "_view_name": "LayoutView",
       "align_content": null,
       "align_items": null,
       "align_self": null,
       "border": null,
       "bottom": null,
       "display": null,
       "flex": null,
       "flex_flow": null,
       "grid_area": null,
       "grid_auto_columns": null,
       "grid_auto_flow": null,
       "grid_auto_rows": null,
       "grid_column": null,
       "grid_gap": null,
       "grid_row": null,
       "grid_template_areas": null,
       "grid_template_columns": null,
       "grid_template_rows": null,
       "height": null,
       "justify_content": null,
       "justify_items": null,
       "left": null,
       "margin": null,
       "max_height": null,
       "max_width": null,
       "min_height": null,
       "min_width": null,
       "object_fit": null,
       "object_position": null,
       "order": null,
       "overflow": null,
       "overflow_x": null,
       "overflow_y": null,
       "padding": null,
       "right": null,
       "top": null,
       "visibility": null,
       "width": null
      }
     },
     "14b52ef8fb7f410fa88af74891e42497": {
      "model_module": "@jupyter-widgets/controls",
      "model_module_version": "1.5.0",
      "model_name": "ToggleButtonsStyleModel",
      "state": {
       "_model_module": "@jupyter-widgets/controls",
       "_model_module_version": "1.5.0",
       "_model_name": "ToggleButtonsStyleModel",
       "_view_count": null,
       "_view_module": "@jupyter-widgets/base",
       "_view_module_version": "1.2.0",
       "_view_name": "StyleView",
       "button_width": "",
       "description_width": "",
       "font_weight": ""
      }
     },
     "14c1d22eb76d4f869718abce750be0d3": {
      "model_module": "@jupyter-widgets/controls",
      "model_module_version": "1.5.0",
      "model_name": "IntProgressModel",
      "state": {
       "_dom_classes": [],
       "_model_module": "@jupyter-widgets/controls",
       "_model_module_version": "1.5.0",
       "_model_name": "IntProgressModel",
       "_view_count": null,
       "_view_module": "@jupyter-widgets/controls",
       "_view_module_version": "1.5.0",
       "_view_name": "ProgressView",
       "bar_style": "",
       "description": "Processing: ",
       "description_tooltip": null,
       "layout": "IPY_MODEL_bd6ee919c3ff4bf3a66ecb67c915f6a9",
       "max": 4,
       "min": 0,
       "orientation": "horizontal",
       "style": "IPY_MODEL_de392bb17fa44ca99f7f13a98d80a96a",
       "value": 4
      }
     },
     "196413e12a2b4f5ca5275f3925b5ea49": {
      "model_module": "@jupyter-widgets/base",
      "model_module_version": "1.2.0",
      "model_name": "LayoutModel",
      "state": {
       "_model_module": "@jupyter-widgets/base",
       "_model_module_version": "1.2.0",
       "_model_name": "LayoutModel",
       "_view_count": null,
       "_view_module": "@jupyter-widgets/base",
       "_view_module_version": "1.2.0",
       "_view_name": "LayoutView",
       "align_content": null,
       "align_items": null,
       "align_self": null,
       "border": null,
       "bottom": null,
       "display": null,
       "flex": null,
       "flex_flow": null,
       "grid_area": null,
       "grid_auto_columns": null,
       "grid_auto_flow": null,
       "grid_auto_rows": null,
       "grid_column": null,
       "grid_gap": null,
       "grid_row": null,
       "grid_template_areas": null,
       "grid_template_columns": null,
       "grid_template_rows": null,
       "height": null,
       "justify_content": null,
       "justify_items": null,
       "left": null,
       "margin": null,
       "max_height": null,
       "max_width": null,
       "min_height": null,
       "min_width": null,
       "object_fit": null,
       "object_position": null,
       "order": null,
       "overflow": null,
       "overflow_x": null,
       "overflow_y": null,
       "padding": null,
       "right": null,
       "top": null,
       "visibility": null,
       "width": null
      }
     },
     "1a8610879e09475fbdbc8672960e83d2": {
      "model_module": "@jupyter-widgets/base",
      "model_module_version": "1.2.0",
      "model_name": "LayoutModel",
      "state": {
       "_model_module": "@jupyter-widgets/base",
       "_model_module_version": "1.2.0",
       "_model_name": "LayoutModel",
       "_view_count": null,
       "_view_module": "@jupyter-widgets/base",
       "_view_module_version": "1.2.0",
       "_view_name": "LayoutView",
       "align_content": null,
       "align_items": null,
       "align_self": null,
       "border": null,
       "bottom": null,
       "display": null,
       "flex": null,
       "flex_flow": null,
       "grid_area": null,
       "grid_auto_columns": null,
       "grid_auto_flow": null,
       "grid_auto_rows": null,
       "grid_column": null,
       "grid_gap": null,
       "grid_row": null,
       "grid_template_areas": null,
       "grid_template_columns": null,
       "grid_template_rows": null,
       "height": null,
       "justify_content": null,
       "justify_items": null,
       "left": null,
       "margin": null,
       "max_height": null,
       "max_width": null,
       "min_height": null,
       "min_width": null,
       "object_fit": null,
       "object_position": null,
       "order": null,
       "overflow": null,
       "overflow_x": null,
       "overflow_y": null,
       "padding": null,
       "right": null,
       "top": null,
       "visibility": null,
       "width": null
      }
     },
     "203bf2ed1221418bb1e011cbd421eb6a": {
      "model_module": "@jupyter-widgets/base",
      "model_module_version": "1.2.0",
      "model_name": "LayoutModel",
      "state": {
       "_model_module": "@jupyter-widgets/base",
       "_model_module_version": "1.2.0",
       "_model_name": "LayoutModel",
       "_view_count": null,
       "_view_module": "@jupyter-widgets/base",
       "_view_module_version": "1.2.0",
       "_view_name": "LayoutView",
       "align_content": null,
       "align_items": null,
       "align_self": null,
       "border": null,
       "bottom": null,
       "display": null,
       "flex": null,
       "flex_flow": null,
       "grid_area": null,
       "grid_auto_columns": null,
       "grid_auto_flow": null,
       "grid_auto_rows": null,
       "grid_column": null,
       "grid_gap": null,
       "grid_row": null,
       "grid_template_areas": null,
       "grid_template_columns": null,
       "grid_template_rows": null,
       "height": null,
       "justify_content": null,
       "justify_items": null,
       "left": null,
       "margin": null,
       "max_height": null,
       "max_width": null,
       "min_height": null,
       "min_width": null,
       "object_fit": null,
       "object_position": null,
       "order": null,
       "overflow": null,
       "overflow_x": null,
       "overflow_y": null,
       "padding": null,
       "right": null,
       "top": null,
       "visibility": null,
       "width": null
      }
     },
     "2958676c12e3478c9b1372f1b8ff9a69": {
      "model_module": "@jupyter-widgets/controls",
      "model_module_version": "1.5.0",
      "model_name": "IntProgressModel",
      "state": {
       "_dom_classes": [],
       "_model_module": "@jupyter-widgets/controls",
       "_model_module_version": "1.5.0",
       "_model_name": "IntProgressModel",
       "_view_count": null,
       "_view_module": "@jupyter-widgets/controls",
       "_view_module_version": "1.5.0",
       "_view_name": "ProgressView",
       "bar_style": "",
       "description": "Processing: ",
       "description_tooltip": null,
       "layout": "IPY_MODEL_203bf2ed1221418bb1e011cbd421eb6a",
       "max": 4,
       "min": 0,
       "orientation": "horizontal",
       "style": "IPY_MODEL_f60f81ecc8d94fa1a48f5a54fa5b8431",
       "value": 4
      }
     },
     "2d90319ffdd6499a91667006294fdb7e": {
      "model_module": "@jupyter-widgets/base",
      "model_module_version": "1.2.0",
      "model_name": "LayoutModel",
      "state": {
       "_model_module": "@jupyter-widgets/base",
       "_model_module_version": "1.2.0",
       "_model_name": "LayoutModel",
       "_view_count": null,
       "_view_module": "@jupyter-widgets/base",
       "_view_module_version": "1.2.0",
       "_view_name": "LayoutView",
       "align_content": null,
       "align_items": null,
       "align_self": null,
       "border": null,
       "bottom": null,
       "display": null,
       "flex": null,
       "flex_flow": null,
       "grid_area": null,
       "grid_auto_columns": null,
       "grid_auto_flow": null,
       "grid_auto_rows": null,
       "grid_column": null,
       "grid_gap": null,
       "grid_row": null,
       "grid_template_areas": null,
       "grid_template_columns": null,
       "grid_template_rows": null,
       "height": null,
       "justify_content": null,
       "justify_items": null,
       "left": null,
       "margin": null,
       "max_height": null,
       "max_width": null,
       "min_height": null,
       "min_width": null,
       "object_fit": null,
       "object_position": null,
       "order": null,
       "overflow": null,
       "overflow_x": null,
       "overflow_y": null,
       "padding": null,
       "right": null,
       "top": null,
       "visibility": null,
       "width": null
      }
     },
     "2dac2edec94c49498b21330f82a8485a": {
      "model_module": "@jupyter-widgets/controls",
      "model_module_version": "1.5.0",
      "model_name": "ToggleButtonsModel",
      "state": {
       "_dom_classes": [],
       "_model_module": "@jupyter-widgets/controls",
       "_model_module_version": "1.5.0",
       "_model_name": "ToggleButtonsModel",
       "_options_labels": [
        "Frequency Plot",
        "Bigrams",
        "Trigrams",
        "Sentiment Polarity",
        "Word Cloud"
       ],
       "_view_count": null,
       "_view_module": "@jupyter-widgets/controls",
       "_view_module_version": "1.5.0",
       "_view_name": "ToggleButtonsView",
       "button_style": "",
       "description": "Plot Type:",
       "description_tooltip": null,
       "disabled": false,
       "icons": [
        ""
       ],
       "index": 0,
       "layout": "IPY_MODEL_4efec171120e42b081fdd951dd70752e",
       "style": "IPY_MODEL_14b52ef8fb7f410fa88af74891e42497",
       "tooltips": []
      }
     },
     "2f1e055afdbf4df7a92daee5c7948064": {
      "model_module": "@jupyter-widgets/controls",
      "model_module_version": "1.5.0",
      "model_name": "IntProgressModel",
      "state": {
       "_dom_classes": [],
       "_model_module": "@jupyter-widgets/controls",
       "_model_module_version": "1.5.0",
       "_model_name": "IntProgressModel",
       "_view_count": null,
       "_view_module": "@jupyter-widgets/controls",
       "_view_module_version": "1.5.0",
       "_view_name": "ProgressView",
       "bar_style": "",
       "description": "Processing: ",
       "description_tooltip": null,
       "layout": "IPY_MODEL_e43a4de4baff48ad9e34e5cfdb117f69",
       "max": 147606,
       "min": 0,
       "orientation": "horizontal",
       "style": "IPY_MODEL_fdca827609e446c0aca24796b6c6257c",
       "value": 147606
      }
     },
     "32c96f1ca89e4a0e9cd89169c367339d": {
      "model_module": "@jupyter-widgets/base",
      "model_module_version": "1.2.0",
      "model_name": "LayoutModel",
      "state": {
       "_model_module": "@jupyter-widgets/base",
       "_model_module_version": "1.2.0",
       "_model_name": "LayoutModel",
       "_view_count": null,
       "_view_module": "@jupyter-widgets/base",
       "_view_module_version": "1.2.0",
       "_view_name": "LayoutView",
       "align_content": null,
       "align_items": null,
       "align_self": null,
       "border": null,
       "bottom": null,
       "display": null,
       "flex": null,
       "flex_flow": null,
       "grid_area": null,
       "grid_auto_columns": null,
       "grid_auto_flow": null,
       "grid_auto_rows": null,
       "grid_column": null,
       "grid_gap": null,
       "grid_row": null,
       "grid_template_areas": null,
       "grid_template_columns": null,
       "grid_template_rows": null,
       "height": null,
       "justify_content": null,
       "justify_items": null,
       "left": null,
       "margin": null,
       "max_height": null,
       "max_width": null,
       "min_height": null,
       "min_width": null,
       "object_fit": null,
       "object_position": null,
       "order": null,
       "overflow": null,
       "overflow_x": null,
       "overflow_y": null,
       "padding": null,
       "right": null,
       "top": null,
       "visibility": null,
       "width": null
      }
     },
     "3f8f28b7b59145eaa5d0296264682216": {
      "model_module": "@jupyter-widgets/controls",
      "model_module_version": "1.5.0",
      "model_name": "ProgressStyleModel",
      "state": {
       "_model_module": "@jupyter-widgets/controls",
       "_model_module_version": "1.5.0",
       "_model_name": "ProgressStyleModel",
       "_view_count": null,
       "_view_module": "@jupyter-widgets/base",
       "_view_module_version": "1.2.0",
       "_view_name": "StyleView",
       "bar_color": null,
       "description_width": ""
      }
     },
     "42126dadc2b943d5a8d91efeb36411f5": {
      "model_module": "@jupyter-widgets/controls",
      "model_module_version": "1.5.0",
      "model_name": "ButtonModel",
      "state": {
       "_dom_classes": [],
       "_model_module": "@jupyter-widgets/controls",
       "_model_module_version": "1.5.0",
       "_model_name": "ButtonModel",
       "_view_count": null,
       "_view_module": "@jupyter-widgets/controls",
       "_view_module_version": "1.5.0",
       "_view_name": "ButtonView",
       "button_style": "",
       "description": "Run Interact",
       "disabled": false,
       "icon": "",
       "layout": "IPY_MODEL_2d90319ffdd6499a91667006294fdb7e",
       "style": "IPY_MODEL_88b90e098b4a4e86ad1076f4137637a4",
       "tooltip": ""
      }
     },
     "42ea8aeb324e48edb60868d33bef9afb": {
      "model_module": "@jupyter-widgets/controls",
      "model_module_version": "1.5.0",
      "model_name": "ProgressStyleModel",
      "state": {
       "_model_module": "@jupyter-widgets/controls",
       "_model_module_version": "1.5.0",
       "_model_name": "ProgressStyleModel",
       "_view_count": null,
       "_view_module": "@jupyter-widgets/base",
       "_view_module_version": "1.2.0",
       "_view_name": "StyleView",
       "bar_color": null,
       "description_width": ""
      }
     },
     "463dece22e804eb69239ae711d92be1f": {
      "model_module": "@jupyter-widgets/controls",
      "model_module_version": "1.5.0",
      "model_name": "IntProgressModel",
      "state": {
       "_dom_classes": [],
       "_model_module": "@jupyter-widgets/controls",
       "_model_module_version": "1.5.0",
       "_model_name": "IntProgressModel",
       "_view_count": null,
       "_view_module": "@jupyter-widgets/controls",
       "_view_module_version": "1.5.0",
       "_view_name": "ProgressView",
       "bar_style": "",
       "description": "Processing: ",
       "description_tooltip": null,
       "layout": "IPY_MODEL_118dfb75e47c4570adbd6df279fd2955",
       "max": 147606,
       "min": 0,
       "orientation": "horizontal",
       "style": "IPY_MODEL_103d20f8dde1415ba18c5b9bf9c4c727",
       "value": 147606
      }
     },
     "4c7d7de74d3a4c1b98df973998ff0546": {
      "model_module": "@jupyter-widgets/controls",
      "model_module_version": "1.5.0",
      "model_name": "ProgressStyleModel",
      "state": {
       "_model_module": "@jupyter-widgets/controls",
       "_model_module_version": "1.5.0",
       "_model_name": "ProgressStyleModel",
       "_view_count": null,
       "_view_module": "@jupyter-widgets/base",
       "_view_module_version": "1.2.0",
       "_view_name": "StyleView",
       "bar_color": null,
       "description_width": ""
      }
     },
     "4efec171120e42b081fdd951dd70752e": {
      "model_module": "@jupyter-widgets/base",
      "model_module_version": "1.2.0",
      "model_name": "LayoutModel",
      "state": {
       "_model_module": "@jupyter-widgets/base",
       "_model_module_version": "1.2.0",
       "_model_name": "LayoutModel",
       "_view_count": null,
       "_view_module": "@jupyter-widgets/base",
       "_view_module_version": "1.2.0",
       "_view_name": "LayoutView",
       "align_content": null,
       "align_items": null,
       "align_self": null,
       "border": null,
       "bottom": null,
       "display": null,
       "flex": null,
       "flex_flow": null,
       "grid_area": null,
       "grid_auto_columns": null,
       "grid_auto_flow": null,
       "grid_auto_rows": null,
       "grid_column": null,
       "grid_gap": null,
       "grid_row": null,
       "grid_template_areas": null,
       "grid_template_columns": null,
       "grid_template_rows": null,
       "height": null,
       "justify_content": null,
       "justify_items": null,
       "left": null,
       "margin": null,
       "max_height": null,
       "max_width": null,
       "min_height": null,
       "min_width": null,
       "object_fit": null,
       "object_position": null,
       "order": null,
       "overflow": null,
       "overflow_x": null,
       "overflow_y": null,
       "padding": null,
       "right": null,
       "top": null,
       "visibility": null,
       "width": null
      }
     },
     "572d35c0c9d74dc0a735f96e5d226013": {
      "model_module": "@jupyter-widgets/controls",
      "model_module_version": "1.5.0",
      "model_name": "IntProgressModel",
      "state": {
       "_dom_classes": [],
       "_model_module": "@jupyter-widgets/controls",
       "_model_module_version": "1.5.0",
       "_model_name": "IntProgressModel",
       "_view_count": null,
       "_view_module": "@jupyter-widgets/controls",
       "_view_module_version": "1.5.0",
       "_view_name": "ProgressView",
       "bar_style": "",
       "description": "Processing: ",
       "description_tooltip": null,
       "layout": "IPY_MODEL_f8302b3a238241d3a5d292865b211149",
       "max": 4,
       "min": 0,
       "orientation": "horizontal",
       "style": "IPY_MODEL_e2ae47898cb34729bb18feec66d89cc3",
       "value": 4
      }
     },
     "5aff88771c20410e9738fe100ef4de87": {
      "model_module": "@jupyter-widgets/controls",
      "model_module_version": "1.5.0",
      "model_name": "IntProgressModel",
      "state": {
       "_dom_classes": [],
       "_model_module": "@jupyter-widgets/controls",
       "_model_module_version": "1.5.0",
       "_model_name": "IntProgressModel",
       "_view_count": null,
       "_view_module": "@jupyter-widgets/controls",
       "_view_module_version": "1.5.0",
       "_view_name": "ProgressView",
       "bar_style": "",
       "description": "Processing: ",
       "description_tooltip": null,
       "layout": "IPY_MODEL_9c8c36dd61ad4fa8a699b1bd56c03d0e",
       "max": 147606,
       "min": 0,
       "orientation": "horizontal",
       "style": "IPY_MODEL_ea4fc273c9ae478f864f725dd870825d",
       "value": 147606
      }
     },
     "5e2d70a2865d430d8c6261b910d4f118": {
      "model_module": "@jupyter-widgets/controls",
      "model_module_version": "1.5.0",
      "model_name": "IntProgressModel",
      "state": {
       "_dom_classes": [],
       "_model_module": "@jupyter-widgets/controls",
       "_model_module_version": "1.5.0",
       "_model_name": "IntProgressModel",
       "_view_count": null,
       "_view_module": "@jupyter-widgets/controls",
       "_view_module_version": "1.5.0",
       "_view_name": "ProgressView",
       "bar_style": "",
       "description": "Processing: ",
       "description_tooltip": null,
       "layout": "IPY_MODEL_1a8610879e09475fbdbc8672960e83d2",
       "max": 147606,
       "min": 0,
       "orientation": "horizontal",
       "style": "IPY_MODEL_96d77639a1df4f5f8bbc0909ff7a3980",
       "value": 147606
      }
     },
     "6080c2194c3748419555bc7950aa51d8": {
      "model_module": "@jupyter-widgets/controls",
      "model_module_version": "1.5.0",
      "model_name": "ProgressStyleModel",
      "state": {
       "_model_module": "@jupyter-widgets/controls",
       "_model_module_version": "1.5.0",
       "_model_name": "ProgressStyleModel",
       "_view_count": null,
       "_view_module": "@jupyter-widgets/base",
       "_view_module_version": "1.2.0",
       "_view_name": "StyleView",
       "bar_color": null,
       "description_width": ""
      }
     },
     "60887724934c45a7b8c958925c2bb59e": {
      "model_module": "@jupyter-widgets/base",
      "model_module_version": "1.2.0",
      "model_name": "LayoutModel",
      "state": {
       "_model_module": "@jupyter-widgets/base",
       "_model_module_version": "1.2.0",
       "_model_name": "LayoutModel",
       "_view_count": null,
       "_view_module": "@jupyter-widgets/base",
       "_view_module_version": "1.2.0",
       "_view_name": "LayoutView",
       "align_content": null,
       "align_items": null,
       "align_self": null,
       "border": null,
       "bottom": null,
       "display": null,
       "flex": null,
       "flex_flow": null,
       "grid_area": null,
       "grid_auto_columns": null,
       "grid_auto_flow": null,
       "grid_auto_rows": null,
       "grid_column": null,
       "grid_gap": null,
       "grid_row": null,
       "grid_template_areas": null,
       "grid_template_columns": null,
       "grid_template_rows": null,
       "height": null,
       "justify_content": null,
       "justify_items": null,
       "left": null,
       "margin": null,
       "max_height": null,
       "max_width": null,
       "min_height": null,
       "min_width": null,
       "object_fit": null,
       "object_position": null,
       "order": null,
       "overflow": null,
       "overflow_x": null,
       "overflow_y": null,
       "padding": null,
       "right": null,
       "top": null,
       "visibility": null,
       "width": null
      }
     },
     "6111a7bfb68a4d178d948aa3e91ac868": {
      "model_module": "@jupyter-widgets/base",
      "model_module_version": "1.2.0",
      "model_name": "LayoutModel",
      "state": {
       "_model_module": "@jupyter-widgets/base",
       "_model_module_version": "1.2.0",
       "_model_name": "LayoutModel",
       "_view_count": null,
       "_view_module": "@jupyter-widgets/base",
       "_view_module_version": "1.2.0",
       "_view_name": "LayoutView",
       "align_content": null,
       "align_items": null,
       "align_self": null,
       "border": null,
       "bottom": null,
       "display": null,
       "flex": null,
       "flex_flow": null,
       "grid_area": null,
       "grid_auto_columns": null,
       "grid_auto_flow": null,
       "grid_auto_rows": null,
       "grid_column": null,
       "grid_gap": null,
       "grid_row": null,
       "grid_template_areas": null,
       "grid_template_columns": null,
       "grid_template_rows": null,
       "height": null,
       "justify_content": null,
       "justify_items": null,
       "left": null,
       "margin": null,
       "max_height": null,
       "max_width": null,
       "min_height": null,
       "min_width": null,
       "object_fit": null,
       "object_position": null,
       "order": null,
       "overflow": null,
       "overflow_x": null,
       "overflow_y": null,
       "padding": null,
       "right": null,
       "top": null,
       "visibility": null,
       "width": null
      }
     },
     "64ae3af999ed460bb9dbb0b097ad4c74": {
      "model_module": "@jupyter-widgets/base",
      "model_module_version": "1.2.0",
      "model_name": "LayoutModel",
      "state": {
       "_model_module": "@jupyter-widgets/base",
       "_model_module_version": "1.2.0",
       "_model_name": "LayoutModel",
       "_view_count": null,
       "_view_module": "@jupyter-widgets/base",
       "_view_module_version": "1.2.0",
       "_view_name": "LayoutView",
       "align_content": null,
       "align_items": null,
       "align_self": null,
       "border": null,
       "bottom": null,
       "display": null,
       "flex": null,
       "flex_flow": null,
       "grid_area": null,
       "grid_auto_columns": null,
       "grid_auto_flow": null,
       "grid_auto_rows": null,
       "grid_column": null,
       "grid_gap": null,
       "grid_row": null,
       "grid_template_areas": null,
       "grid_template_columns": null,
       "grid_template_rows": null,
       "height": null,
       "justify_content": null,
       "justify_items": null,
       "left": null,
       "margin": null,
       "max_height": null,
       "max_width": null,
       "min_height": null,
       "min_width": null,
       "object_fit": null,
       "object_position": null,
       "order": null,
       "overflow": null,
       "overflow_x": null,
       "overflow_y": null,
       "padding": null,
       "right": null,
       "top": null,
       "visibility": null,
       "width": null
      }
     },
     "672d996ede3346eeb4241fe5f56c7afb": {
      "model_module": "@jupyter-widgets/base",
      "model_module_version": "1.2.0",
      "model_name": "LayoutModel",
      "state": {
       "_model_module": "@jupyter-widgets/base",
       "_model_module_version": "1.2.0",
       "_model_name": "LayoutModel",
       "_view_count": null,
       "_view_module": "@jupyter-widgets/base",
       "_view_module_version": "1.2.0",
       "_view_name": "LayoutView",
       "align_content": null,
       "align_items": null,
       "align_self": null,
       "border": null,
       "bottom": null,
       "display": null,
       "flex": null,
       "flex_flow": null,
       "grid_area": null,
       "grid_auto_columns": null,
       "grid_auto_flow": null,
       "grid_auto_rows": null,
       "grid_column": null,
       "grid_gap": null,
       "grid_row": null,
       "grid_template_areas": null,
       "grid_template_columns": null,
       "grid_template_rows": null,
       "height": null,
       "justify_content": null,
       "justify_items": null,
       "left": null,
       "margin": null,
       "max_height": null,
       "max_width": null,
       "min_height": null,
       "min_width": null,
       "object_fit": null,
       "object_position": null,
       "order": null,
       "overflow": null,
       "overflow_x": null,
       "overflow_y": null,
       "padding": null,
       "right": null,
       "top": null,
       "visibility": null,
       "width": null
      }
     },
     "6a297911f9cf45c786e84fea54ae78a9": {
      "model_module": "@jupyter-widgets/base",
      "model_module_version": "1.2.0",
      "model_name": "LayoutModel",
      "state": {
       "_model_module": "@jupyter-widgets/base",
       "_model_module_version": "1.2.0",
       "_model_name": "LayoutModel",
       "_view_count": null,
       "_view_module": "@jupyter-widgets/base",
       "_view_module_version": "1.2.0",
       "_view_name": "LayoutView",
       "align_content": null,
       "align_items": null,
       "align_self": null,
       "border": null,
       "bottom": null,
       "display": null,
       "flex": null,
       "flex_flow": null,
       "grid_area": null,
       "grid_auto_columns": null,
       "grid_auto_flow": null,
       "grid_auto_rows": null,
       "grid_column": null,
       "grid_gap": null,
       "grid_row": null,
       "grid_template_areas": null,
       "grid_template_columns": null,
       "grid_template_rows": null,
       "height": null,
       "justify_content": null,
       "justify_items": null,
       "left": null,
       "margin": null,
       "max_height": null,
       "max_width": null,
       "min_height": null,
       "min_width": null,
       "object_fit": null,
       "object_position": null,
       "order": null,
       "overflow": null,
       "overflow_x": null,
       "overflow_y": null,
       "padding": null,
       "right": null,
       "top": null,
       "visibility": null,
       "width": null
      }
     },
     "6ab799208022470b851554a880783f82": {
      "model_module": "@jupyter-widgets/controls",
      "model_module_version": "1.5.0",
      "model_name": "DropdownModel",
      "state": {
       "_dom_classes": [],
       "_model_module": "@jupyter-widgets/controls",
       "_model_module_version": "1.5.0",
       "_model_name": "DropdownModel",
       "_options_labels": [
        "Topic 0",
        "Topic 1",
        "Topic 2",
        "Topic 3"
       ],
       "_view_count": null,
       "_view_module": "@jupyter-widgets/controls",
       "_view_module_version": "1.5.0",
       "_view_name": "DropdownView",
       "description": "Topic #:",
       "description_tooltip": null,
       "disabled": false,
       "index": 0,
       "layout": "IPY_MODEL_78fa0922c8444acc97bc348aefe8f1e4",
       "style": "IPY_MODEL_8801b8ee0ddd44cbae66a73bd2ff13fe"
      }
     },
     "74574ad4ebde43ffbd962236277c8ef4": {
      "model_module": "@jupyter-widgets/controls",
      "model_module_version": "1.5.0",
      "model_name": "IntProgressModel",
      "state": {
       "_dom_classes": [],
       "_model_module": "@jupyter-widgets/controls",
       "_model_module_version": "1.5.0",
       "_model_name": "IntProgressModel",
       "_view_count": null,
       "_view_module": "@jupyter-widgets/controls",
       "_view_module_version": "1.5.0",
       "_view_name": "ProgressView",
       "bar_style": "",
       "description": "Processing: ",
       "description_tooltip": null,
       "layout": "IPY_MODEL_6111a7bfb68a4d178d948aa3e91ac868",
       "max": 147606,
       "min": 0,
       "orientation": "horizontal",
       "style": "IPY_MODEL_78ce6105b316414ab17ee9634599cdc8",
       "value": 147605
      }
     },
     "788325c4fd4c4af3ae08220a0bfc77ba": {
      "model_module": "@jupyter-widgets/base",
      "model_module_version": "1.2.0",
      "model_name": "LayoutModel",
      "state": {
       "_model_module": "@jupyter-widgets/base",
       "_model_module_version": "1.2.0",
       "_model_name": "LayoutModel",
       "_view_count": null,
       "_view_module": "@jupyter-widgets/base",
       "_view_module_version": "1.2.0",
       "_view_name": "LayoutView",
       "align_content": null,
       "align_items": null,
       "align_self": null,
       "border": null,
       "bottom": null,
       "display": null,
       "flex": null,
       "flex_flow": null,
       "grid_area": null,
       "grid_auto_columns": null,
       "grid_auto_flow": null,
       "grid_auto_rows": null,
       "grid_column": null,
       "grid_gap": null,
       "grid_row": null,
       "grid_template_areas": null,
       "grid_template_columns": null,
       "grid_template_rows": null,
       "height": null,
       "justify_content": null,
       "justify_items": null,
       "left": null,
       "margin": null,
       "max_height": null,
       "max_width": null,
       "min_height": null,
       "min_width": null,
       "object_fit": null,
       "object_position": null,
       "order": null,
       "overflow": null,
       "overflow_x": null,
       "overflow_y": null,
       "padding": null,
       "right": null,
       "top": null,
       "visibility": null,
       "width": null
      }
     },
     "78ce6105b316414ab17ee9634599cdc8": {
      "model_module": "@jupyter-widgets/controls",
      "model_module_version": "1.5.0",
      "model_name": "ProgressStyleModel",
      "state": {
       "_model_module": "@jupyter-widgets/controls",
       "_model_module_version": "1.5.0",
       "_model_name": "ProgressStyleModel",
       "_view_count": null,
       "_view_module": "@jupyter-widgets/base",
       "_view_module_version": "1.2.0",
       "_view_name": "StyleView",
       "bar_color": null,
       "description_width": ""
      }
     },
     "78fa0922c8444acc97bc348aefe8f1e4": {
      "model_module": "@jupyter-widgets/base",
      "model_module_version": "1.2.0",
      "model_name": "LayoutModel",
      "state": {
       "_model_module": "@jupyter-widgets/base",
       "_model_module_version": "1.2.0",
       "_model_name": "LayoutModel",
       "_view_count": null,
       "_view_module": "@jupyter-widgets/base",
       "_view_module_version": "1.2.0",
       "_view_name": "LayoutView",
       "align_content": null,
       "align_items": null,
       "align_self": null,
       "border": null,
       "bottom": null,
       "display": null,
       "flex": null,
       "flex_flow": null,
       "grid_area": null,
       "grid_auto_columns": null,
       "grid_auto_flow": null,
       "grid_auto_rows": null,
       "grid_column": null,
       "grid_gap": null,
       "grid_row": null,
       "grid_template_areas": null,
       "grid_template_columns": null,
       "grid_template_rows": null,
       "height": null,
       "justify_content": null,
       "justify_items": null,
       "left": null,
       "margin": null,
       "max_height": null,
       "max_width": null,
       "min_height": null,
       "min_width": null,
       "object_fit": null,
       "object_position": null,
       "order": null,
       "overflow": null,
       "overflow_x": null,
       "overflow_y": null,
       "padding": null,
       "right": null,
       "top": null,
       "visibility": null,
       "width": null
      }
     },
     "7c33047e4b8b43858f1665c68ad01346": {
      "model_module": "@jupyter-widgets/controls",
      "model_module_version": "1.5.0",
      "model_name": "IntProgressModel",
      "state": {
       "_dom_classes": [],
       "_model_module": "@jupyter-widgets/controls",
       "_model_module_version": "1.5.0",
       "_model_name": "IntProgressModel",
       "_view_count": null,
       "_view_module": "@jupyter-widgets/controls",
       "_view_module_version": "1.5.0",
       "_view_name": "ProgressView",
       "bar_style": "",
       "description": "Processing: ",
       "description_tooltip": null,
       "layout": "IPY_MODEL_00bfa376aa9f44e29354ea376dc17d86",
       "max": 4,
       "min": 0,
       "orientation": "horizontal",
       "style": "IPY_MODEL_beb96166f40046818f2268ccdaea9e75",
       "value": 4
      }
     },
     "857e6f1bd3b8464785e65255b71c72e3": {
      "model_module": "@jupyter-widgets/controls",
      "model_module_version": "1.5.0",
      "model_name": "IntProgressModel",
      "state": {
       "_dom_classes": [],
       "_model_module": "@jupyter-widgets/controls",
       "_model_module_version": "1.5.0",
       "_model_name": "IntProgressModel",
       "_view_count": null,
       "_view_module": "@jupyter-widgets/controls",
       "_view_module_version": "1.5.0",
       "_view_name": "ProgressView",
       "bar_style": "",
       "description": "Processing: ",
       "description_tooltip": null,
       "layout": "IPY_MODEL_196413e12a2b4f5ca5275f3925b5ea49",
       "max": 4,
       "min": 0,
       "orientation": "horizontal",
       "style": "IPY_MODEL_6080c2194c3748419555bc7950aa51d8",
       "value": 4
      }
     },
     "8801b8ee0ddd44cbae66a73bd2ff13fe": {
      "model_module": "@jupyter-widgets/controls",
      "model_module_version": "1.5.0",
      "model_name": "DescriptionStyleModel",
      "state": {
       "_model_module": "@jupyter-widgets/controls",
       "_model_module_version": "1.5.0",
       "_model_name": "DescriptionStyleModel",
       "_view_count": null,
       "_view_module": "@jupyter-widgets/base",
       "_view_module_version": "1.2.0",
       "_view_name": "StyleView",
       "description_width": ""
      }
     },
     "88b90e098b4a4e86ad1076f4137637a4": {
      "model_module": "@jupyter-widgets/controls",
      "model_module_version": "1.5.0",
      "model_name": "ButtonStyleModel",
      "state": {
       "_model_module": "@jupyter-widgets/controls",
       "_model_module_version": "1.5.0",
       "_model_name": "ButtonStyleModel",
       "_view_count": null,
       "_view_module": "@jupyter-widgets/base",
       "_view_module_version": "1.2.0",
       "_view_name": "StyleView",
       "button_color": null,
       "font_weight": ""
      }
     },
     "8a6a5c0fa61441cea1262bce69909c7c": {
      "model_module": "@jupyter-widgets/controls",
      "model_module_version": "1.5.0",
      "model_name": "DescriptionStyleModel",
      "state": {
       "_model_module": "@jupyter-widgets/controls",
       "_model_module_version": "1.5.0",
       "_model_name": "DescriptionStyleModel",
       "_view_count": null,
       "_view_module": "@jupyter-widgets/base",
       "_view_module_version": "1.2.0",
       "_view_name": "StyleView",
       "description_width": "initial"
      }
     },
     "96d77639a1df4f5f8bbc0909ff7a3980": {
      "model_module": "@jupyter-widgets/controls",
      "model_module_version": "1.5.0",
      "model_name": "ProgressStyleModel",
      "state": {
       "_model_module": "@jupyter-widgets/controls",
       "_model_module_version": "1.5.0",
       "_model_name": "ProgressStyleModel",
       "_view_count": null,
       "_view_module": "@jupyter-widgets/base",
       "_view_module_version": "1.2.0",
       "_view_name": "StyleView",
       "bar_color": null,
       "description_width": ""
      }
     },
     "97cd0678879542d3bcdaeac25ce28aca": {
      "model_module": "@jupyter-widgets/controls",
      "model_module_version": "1.5.0",
      "model_name": "IntProgressModel",
      "state": {
       "_dom_classes": [],
       "_model_module": "@jupyter-widgets/controls",
       "_model_module_version": "1.5.0",
       "_model_name": "IntProgressModel",
       "_view_count": null,
       "_view_module": "@jupyter-widgets/controls",
       "_view_module_version": "1.5.0",
       "_view_name": "ProgressView",
       "bar_style": "",
       "description": "Processing: ",
       "description_tooltip": null,
       "layout": "IPY_MODEL_788325c4fd4c4af3ae08220a0bfc77ba",
       "max": 147606,
       "min": 0,
       "orientation": "horizontal",
       "style": "IPY_MODEL_ba490c6043a94f848db5bc384fbc8934",
       "value": 147606
      }
     },
     "9c8c36dd61ad4fa8a699b1bd56c03d0e": {
      "model_module": "@jupyter-widgets/base",
      "model_module_version": "1.2.0",
      "model_name": "LayoutModel",
      "state": {
       "_model_module": "@jupyter-widgets/base",
       "_model_module_version": "1.2.0",
       "_model_name": "LayoutModel",
       "_view_count": null,
       "_view_module": "@jupyter-widgets/base",
       "_view_module_version": "1.2.0",
       "_view_name": "LayoutView",
       "align_content": null,
       "align_items": null,
       "align_self": null,
       "border": null,
       "bottom": null,
       "display": null,
       "flex": null,
       "flex_flow": null,
       "grid_area": null,
       "grid_auto_columns": null,
       "grid_auto_flow": null,
       "grid_auto_rows": null,
       "grid_column": null,
       "grid_gap": null,
       "grid_row": null,
       "grid_template_areas": null,
       "grid_template_columns": null,
       "grid_template_rows": null,
       "height": null,
       "justify_content": null,
       "justify_items": null,
       "left": null,
       "margin": null,
       "max_height": null,
       "max_width": null,
       "min_height": null,
       "min_width": null,
       "object_fit": null,
       "object_position": null,
       "order": null,
       "overflow": null,
       "overflow_x": null,
       "overflow_y": null,
       "padding": null,
       "right": null,
       "top": null,
       "visibility": null,
       "width": null
      }
     },
     "a954da09092747a0902c6e5a6d606211": {
      "model_module": "@jupyter-widgets/controls",
      "model_module_version": "1.5.0",
      "model_name": "ProgressStyleModel",
      "state": {
       "_model_module": "@jupyter-widgets/controls",
       "_model_module_version": "1.5.0",
       "_model_name": "ProgressStyleModel",
       "_view_count": null,
       "_view_module": "@jupyter-widgets/base",
       "_view_module_version": "1.2.0",
       "_view_name": "StyleView",
       "bar_color": null,
       "description_width": ""
      }
     },
     "ba490c6043a94f848db5bc384fbc8934": {
      "model_module": "@jupyter-widgets/controls",
      "model_module_version": "1.5.0",
      "model_name": "ProgressStyleModel",
      "state": {
       "_model_module": "@jupyter-widgets/controls",
       "_model_module_version": "1.5.0",
       "_model_name": "ProgressStyleModel",
       "_view_count": null,
       "_view_module": "@jupyter-widgets/base",
       "_view_module_version": "1.2.0",
       "_view_name": "StyleView",
       "bar_color": null,
       "description_width": ""
      }
     },
     "bc923af1113c412e91e8b275571483f8": {
      "model_module": "@jupyter-widgets/base",
      "model_module_version": "1.2.0",
      "model_name": "LayoutModel",
      "state": {
       "_model_module": "@jupyter-widgets/base",
       "_model_module_version": "1.2.0",
       "_model_name": "LayoutModel",
       "_view_count": null,
       "_view_module": "@jupyter-widgets/base",
       "_view_module_version": "1.2.0",
       "_view_name": "LayoutView",
       "align_content": null,
       "align_items": null,
       "align_self": null,
       "border": null,
       "bottom": null,
       "display": null,
       "flex": null,
       "flex_flow": null,
       "grid_area": null,
       "grid_auto_columns": null,
       "grid_auto_flow": null,
       "grid_auto_rows": null,
       "grid_column": null,
       "grid_gap": null,
       "grid_row": null,
       "grid_template_areas": null,
       "grid_template_columns": null,
       "grid_template_rows": null,
       "height": null,
       "justify_content": null,
       "justify_items": null,
       "left": null,
       "margin": null,
       "max_height": null,
       "max_width": null,
       "min_height": null,
       "min_width": null,
       "object_fit": null,
       "object_position": null,
       "order": null,
       "overflow": null,
       "overflow_x": null,
       "overflow_y": null,
       "padding": null,
       "right": null,
       "top": null,
       "visibility": null,
       "width": null
      }
     },
     "bd6ee919c3ff4bf3a66ecb67c915f6a9": {
      "model_module": "@jupyter-widgets/base",
      "model_module_version": "1.2.0",
      "model_name": "LayoutModel",
      "state": {
       "_model_module": "@jupyter-widgets/base",
       "_model_module_version": "1.2.0",
       "_model_name": "LayoutModel",
       "_view_count": null,
       "_view_module": "@jupyter-widgets/base",
       "_view_module_version": "1.2.0",
       "_view_name": "LayoutView",
       "align_content": null,
       "align_items": null,
       "align_self": null,
       "border": null,
       "bottom": null,
       "display": null,
       "flex": null,
       "flex_flow": null,
       "grid_area": null,
       "grid_auto_columns": null,
       "grid_auto_flow": null,
       "grid_auto_rows": null,
       "grid_column": null,
       "grid_gap": null,
       "grid_row": null,
       "grid_template_areas": null,
       "grid_template_columns": null,
       "grid_template_rows": null,
       "height": null,
       "justify_content": null,
       "justify_items": null,
       "left": null,
       "margin": null,
       "max_height": null,
       "max_width": null,
       "min_height": null,
       "min_width": null,
       "object_fit": null,
       "object_position": null,
       "order": null,
       "overflow": null,
       "overflow_x": null,
       "overflow_y": null,
       "padding": null,
       "right": null,
       "top": null,
       "visibility": null,
       "width": null
      }
     },
     "beb96166f40046818f2268ccdaea9e75": {
      "model_module": "@jupyter-widgets/controls",
      "model_module_version": "1.5.0",
      "model_name": "ProgressStyleModel",
      "state": {
       "_model_module": "@jupyter-widgets/controls",
       "_model_module_version": "1.5.0",
       "_model_name": "ProgressStyleModel",
       "_view_count": null,
       "_view_module": "@jupyter-widgets/base",
       "_view_module_version": "1.2.0",
       "_view_name": "StyleView",
       "bar_color": null,
       "description_width": ""
      }
     },
     "bede73797a27459299a900b24c205794": {
      "model_module": "@jupyter-widgets/controls",
      "model_module_version": "1.5.0",
      "model_name": "ProgressStyleModel",
      "state": {
       "_model_module": "@jupyter-widgets/controls",
       "_model_module_version": "1.5.0",
       "_model_name": "ProgressStyleModel",
       "_view_count": null,
       "_view_module": "@jupyter-widgets/base",
       "_view_module_version": "1.2.0",
       "_view_name": "StyleView",
       "bar_color": null,
       "description_width": ""
      }
     },
     "c7759db1ade64beba6d11d320058bb8e": {
      "model_module": "@jupyter-widgets/controls",
      "model_module_version": "1.5.0",
      "model_name": "VBoxModel",
      "state": {
       "_dom_classes": [
        "widget-interact"
       ],
       "_model_module": "@jupyter-widgets/controls",
       "_model_module_version": "1.5.0",
       "_model_name": "VBoxModel",
       "_view_count": null,
       "_view_module": "@jupyter-widgets/controls",
       "_view_module_version": "1.5.0",
       "_view_name": "VBoxView",
       "box_style": "",
       "children": [
        "IPY_MODEL_2dac2edec94c49498b21330f82a8485a",
        "IPY_MODEL_6ab799208022470b851554a880783f82",
        "IPY_MODEL_42126dadc2b943d5a8d91efeb36411f5",
        "IPY_MODEL_ea28f371eef24566b915fce7eb178eb2"
       ],
       "layout": "IPY_MODEL_6a297911f9cf45c786e84fea54ae78a9"
      }
     },
     "cbaa30d60442494aa9c666b5c6bea141": {
      "model_module": "@jupyter-widgets/base",
      "model_module_version": "1.2.0",
      "model_name": "LayoutModel",
      "state": {
       "_model_module": "@jupyter-widgets/base",
       "_model_module_version": "1.2.0",
       "_model_name": "LayoutModel",
       "_view_count": null,
       "_view_module": "@jupyter-widgets/base",
       "_view_module_version": "1.2.0",
       "_view_name": "LayoutView",
       "align_content": null,
       "align_items": null,
       "align_self": null,
       "border": null,
       "bottom": null,
       "display": null,
       "flex": null,
       "flex_flow": null,
       "grid_area": null,
       "grid_auto_columns": null,
       "grid_auto_flow": null,
       "grid_auto_rows": null,
       "grid_column": null,
       "grid_gap": null,
       "grid_row": null,
       "grid_template_areas": null,
       "grid_template_columns": null,
       "grid_template_rows": null,
       "height": null,
       "justify_content": null,
       "justify_items": null,
       "left": null,
       "margin": null,
       "max_height": null,
       "max_width": null,
       "min_height": null,
       "min_width": null,
       "object_fit": null,
       "object_position": null,
       "order": null,
       "overflow": null,
       "overflow_x": null,
       "overflow_y": null,
       "padding": null,
       "right": null,
       "top": null,
       "visibility": null,
       "width": null
      }
     },
     "ddaf362816d9444e80d846a34f8a8f73": {
      "model_module": "@jupyter-widgets/controls",
      "model_module_version": "1.5.0",
      "model_name": "IntProgressModel",
      "state": {
       "_dom_classes": [],
       "_model_module": "@jupyter-widgets/controls",
       "_model_module_version": "1.5.0",
       "_model_name": "IntProgressModel",
       "_view_count": null,
       "_view_module": "@jupyter-widgets/controls",
       "_view_module_version": "1.5.0",
       "_view_name": "ProgressView",
       "bar_style": "",
       "description": "Processing: ",
       "description_tooltip": null,
       "layout": "IPY_MODEL_32c96f1ca89e4a0e9cd89169c367339d",
       "max": 147606,
       "min": 0,
       "orientation": "horizontal",
       "style": "IPY_MODEL_42ea8aeb324e48edb60868d33bef9afb",
       "value": 147606
      }
     },
     "de052e7f4491458491d0619f14bba570": {
      "model_module": "@jupyter-widgets/controls",
      "model_module_version": "1.5.0",
      "model_name": "IntProgressModel",
      "state": {
       "_dom_classes": [],
       "_model_module": "@jupyter-widgets/controls",
       "_model_module_version": "1.5.0",
       "_model_name": "IntProgressModel",
       "_view_count": null,
       "_view_module": "@jupyter-widgets/controls",
       "_view_module_version": "1.5.0",
       "_view_name": "ProgressView",
       "bar_style": "",
       "description": "Processing: ",
       "description_tooltip": null,
       "layout": "IPY_MODEL_e96c201967774c13abf2cd6ec731d200",
       "max": 147606,
       "min": 0,
       "orientation": "horizontal",
       "style": "IPY_MODEL_3f8f28b7b59145eaa5d0296264682216",
       "value": 147606
      }
     },
     "de392bb17fa44ca99f7f13a98d80a96a": {
      "model_module": "@jupyter-widgets/controls",
      "model_module_version": "1.5.0",
      "model_name": "ProgressStyleModel",
      "state": {
       "_model_module": "@jupyter-widgets/controls",
       "_model_module_version": "1.5.0",
       "_model_name": "ProgressStyleModel",
       "_view_count": null,
       "_view_module": "@jupyter-widgets/base",
       "_view_module_version": "1.2.0",
       "_view_name": "StyleView",
       "bar_color": null,
       "description_width": ""
      }
     },
     "e2ae47898cb34729bb18feec66d89cc3": {
      "model_module": "@jupyter-widgets/controls",
      "model_module_version": "1.5.0",
      "model_name": "ProgressStyleModel",
      "state": {
       "_model_module": "@jupyter-widgets/controls",
       "_model_module_version": "1.5.0",
       "_model_name": "ProgressStyleModel",
       "_view_count": null,
       "_view_module": "@jupyter-widgets/base",
       "_view_module_version": "1.2.0",
       "_view_name": "StyleView",
       "bar_color": null,
       "description_width": ""
      }
     },
     "e43a4de4baff48ad9e34e5cfdb117f69": {
      "model_module": "@jupyter-widgets/base",
      "model_module_version": "1.2.0",
      "model_name": "LayoutModel",
      "state": {
       "_model_module": "@jupyter-widgets/base",
       "_model_module_version": "1.2.0",
       "_model_name": "LayoutModel",
       "_view_count": null,
       "_view_module": "@jupyter-widgets/base",
       "_view_module_version": "1.2.0",
       "_view_name": "LayoutView",
       "align_content": null,
       "align_items": null,
       "align_self": null,
       "border": null,
       "bottom": null,
       "display": null,
       "flex": null,
       "flex_flow": null,
       "grid_area": null,
       "grid_auto_columns": null,
       "grid_auto_flow": null,
       "grid_auto_rows": null,
       "grid_column": null,
       "grid_gap": null,
       "grid_row": null,
       "grid_template_areas": null,
       "grid_template_columns": null,
       "grid_template_rows": null,
       "height": null,
       "justify_content": null,
       "justify_items": null,
       "left": null,
       "margin": null,
       "max_height": null,
       "max_width": null,
       "min_height": null,
       "min_width": null,
       "object_fit": null,
       "object_position": null,
       "order": null,
       "overflow": null,
       "overflow_x": null,
       "overflow_y": null,
       "padding": null,
       "right": null,
       "top": null,
       "visibility": null,
       "width": null
      }
     },
     "e96c201967774c13abf2cd6ec731d200": {
      "model_module": "@jupyter-widgets/base",
      "model_module_version": "1.2.0",
      "model_name": "LayoutModel",
      "state": {
       "_model_module": "@jupyter-widgets/base",
       "_model_module_version": "1.2.0",
       "_model_name": "LayoutModel",
       "_view_count": null,
       "_view_module": "@jupyter-widgets/base",
       "_view_module_version": "1.2.0",
       "_view_name": "LayoutView",
       "align_content": null,
       "align_items": null,
       "align_self": null,
       "border": null,
       "bottom": null,
       "display": null,
       "flex": null,
       "flex_flow": null,
       "grid_area": null,
       "grid_auto_columns": null,
       "grid_auto_flow": null,
       "grid_auto_rows": null,
       "grid_column": null,
       "grid_gap": null,
       "grid_row": null,
       "grid_template_areas": null,
       "grid_template_columns": null,
       "grid_template_rows": null,
       "height": null,
       "justify_content": null,
       "justify_items": null,
       "left": null,
       "margin": null,
       "max_height": null,
       "max_width": null,
       "min_height": null,
       "min_width": null,
       "object_fit": null,
       "object_position": null,
       "order": null,
       "overflow": null,
       "overflow_x": null,
       "overflow_y": null,
       "padding": null,
       "right": null,
       "top": null,
       "visibility": null,
       "width": null
      }
     },
     "ea28f371eef24566b915fce7eb178eb2": {
      "model_module": "@jupyter-widgets/output",
      "model_module_version": "1.0.0",
      "model_name": "OutputModel",
      "state": {
       "_dom_classes": [],
       "_model_module": "@jupyter-widgets/output",
       "_model_module_version": "1.0.0",
       "_model_name": "OutputModel",
       "_view_count": null,
       "_view_module": "@jupyter-widgets/output",
       "_view_module_version": "1.0.0",
       "_view_name": "OutputView",
       "layout": "IPY_MODEL_60887724934c45a7b8c958925c2bb59e",
       "msg_id": "",
       "outputs": []
      }
     },
     "ea4fc273c9ae478f864f725dd870825d": {
      "model_module": "@jupyter-widgets/controls",
      "model_module_version": "1.5.0",
      "model_name": "ProgressStyleModel",
      "state": {
       "_model_module": "@jupyter-widgets/controls",
       "_model_module_version": "1.5.0",
       "_model_name": "ProgressStyleModel",
       "_view_count": null,
       "_view_module": "@jupyter-widgets/base",
       "_view_module_version": "1.2.0",
       "_view_name": "StyleView",
       "bar_color": null,
       "description_width": ""
      }
     },
     "edee1ce51939415fbf8502ff1d09eb91": {
      "model_module": "@jupyter-widgets/controls",
      "model_module_version": "1.5.0",
      "model_name": "IntProgressModel",
      "state": {
       "_dom_classes": [],
       "_model_module": "@jupyter-widgets/controls",
       "_model_module_version": "1.5.0",
       "_model_name": "IntProgressModel",
       "_view_count": null,
       "_view_module": "@jupyter-widgets/controls",
       "_view_module_version": "1.5.0",
       "_view_name": "ProgressView",
       "bar_style": "",
       "description": "Processing: ",
       "description_tooltip": null,
       "layout": "IPY_MODEL_64ae3af999ed460bb9dbb0b097ad4c74",
       "max": 147606,
       "min": 0,
       "orientation": "horizontal",
       "style": "IPY_MODEL_4c7d7de74d3a4c1b98df973998ff0546",
       "value": 147606
      }
     },
     "f60f81ecc8d94fa1a48f5a54fa5b8431": {
      "model_module": "@jupyter-widgets/controls",
      "model_module_version": "1.5.0",
      "model_name": "ProgressStyleModel",
      "state": {
       "_model_module": "@jupyter-widgets/controls",
       "_model_module_version": "1.5.0",
       "_model_name": "ProgressStyleModel",
       "_view_count": null,
       "_view_module": "@jupyter-widgets/base",
       "_view_module_version": "1.2.0",
       "_view_name": "StyleView",
       "bar_color": null,
       "description_width": ""
      }
     },
     "f76faf85d54c418388fe483687f30c0e": {
      "model_module": "@jupyter-widgets/controls",
      "model_module_version": "1.5.0",
      "model_name": "IntProgressModel",
      "state": {
       "_dom_classes": [],
       "_model_module": "@jupyter-widgets/controls",
       "_model_module_version": "1.5.0",
       "_model_name": "IntProgressModel",
       "_view_count": null,
       "_view_module": "@jupyter-widgets/controls",
       "_view_module_version": "1.5.0",
       "_view_name": "ProgressView",
       "bar_style": "",
       "description": "Processing: ",
       "description_tooltip": null,
       "layout": "IPY_MODEL_bc923af1113c412e91e8b275571483f8",
       "max": 147606,
       "min": 0,
       "orientation": "horizontal",
       "style": "IPY_MODEL_a954da09092747a0902c6e5a6d606211",
       "value": 147606
      }
     },
     "f8302b3a238241d3a5d292865b211149": {
      "model_module": "@jupyter-widgets/base",
      "model_module_version": "1.2.0",
      "model_name": "LayoutModel",
      "state": {
       "_model_module": "@jupyter-widgets/base",
       "_model_module_version": "1.2.0",
       "_model_name": "LayoutModel",
       "_view_count": null,
       "_view_module": "@jupyter-widgets/base",
       "_view_module_version": "1.2.0",
       "_view_name": "LayoutView",
       "align_content": null,
       "align_items": null,
       "align_self": null,
       "border": null,
       "bottom": null,
       "display": null,
       "flex": null,
       "flex_flow": null,
       "grid_area": null,
       "grid_auto_columns": null,
       "grid_auto_flow": null,
       "grid_auto_rows": null,
       "grid_column": null,
       "grid_gap": null,
       "grid_row": null,
       "grid_template_areas": null,
       "grid_template_columns": null,
       "grid_template_rows": null,
       "height": null,
       "justify_content": null,
       "justify_items": null,
       "left": null,
       "margin": null,
       "max_height": null,
       "max_width": null,
       "min_height": null,
       "min_width": null,
       "object_fit": null,
       "object_position": null,
       "order": null,
       "overflow": null,
       "overflow_x": null,
       "overflow_y": null,
       "padding": null,
       "right": null,
       "top": null,
       "visibility": null,
       "width": null
      }
     },
     "fca6d39217f149a4a045a514d70e830a": {
      "model_module": "@jupyter-widgets/controls",
      "model_module_version": "1.5.0",
      "model_name": "IntProgressModel",
      "state": {
       "_dom_classes": [],
       "_model_module": "@jupyter-widgets/controls",
       "_model_module_version": "1.5.0",
       "_model_name": "IntProgressModel",
       "_view_count": null,
       "_view_module": "@jupyter-widgets/controls",
       "_view_module_version": "1.5.0",
       "_view_name": "ProgressView",
       "bar_style": "",
       "description": "Processing: ",
       "description_tooltip": null,
       "layout": "IPY_MODEL_cbaa30d60442494aa9c666b5c6bea141",
       "max": 11,
       "min": 0,
       "orientation": "horizontal",
       "style": "IPY_MODEL_bede73797a27459299a900b24c205794",
       "value": 11
      }
     },
     "fdca827609e446c0aca24796b6c6257c": {
      "model_module": "@jupyter-widgets/controls",
      "model_module_version": "1.5.0",
      "model_name": "ProgressStyleModel",
      "state": {
       "_model_module": "@jupyter-widgets/controls",
       "_model_module_version": "1.5.0",
       "_model_name": "ProgressStyleModel",
       "_view_count": null,
       "_view_module": "@jupyter-widgets/base",
       "_view_module_version": "1.2.0",
       "_view_name": "StyleView",
       "bar_color": null,
       "description_width": ""
      }
     }
    },
    "version_major": 2,
    "version_minor": 0
   }
  }
 },
 "nbformat": 4,
 "nbformat_minor": 4
}
