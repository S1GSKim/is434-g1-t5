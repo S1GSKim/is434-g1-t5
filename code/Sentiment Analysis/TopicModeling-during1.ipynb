{
 "cells": [
  {
   "cell_type": "code",
   "execution_count": 1,
   "metadata": {},
   "outputs": [
    {
     "name": "stderr",
     "output_type": "stream",
     "text": [
      "C:\\ProgramData\\Anaconda3\\lib\\site-packages\\scipy\\__init__.py:146: UserWarning: A NumPy version >=1.16.5 and <1.23.0 is required for this version of SciPy (detected version 1.24.2\n",
      "  warnings.warn(f\"A NumPy version >={np_minversion} and <{np_maxversion}\"\n"
     ]
    }
   ],
   "source": [
    "import nltk\n",
    "\n",
    "# nltk.download('stopwords')"
   ]
  },
  {
   "cell_type": "code",
   "execution_count": 2,
   "metadata": {},
   "outputs": [],
   "source": [
    "import re\n",
    "import numpy as np\n",
    "import pandas as pd\n",
    "from pprint import pprint"
   ]
  },
  {
   "cell_type": "code",
   "execution_count": 3,
   "metadata": {},
   "outputs": [],
   "source": [
    "# Gensim (Topic Modeling Pacakge)\n",
    "import gensim\n",
    "import gensim.corpora as corpora\n",
    "from gensim.utils import simple_preprocess\n",
    "from gensim.models import CoherenceModel"
   ]
  },
  {
   "cell_type": "code",
   "execution_count": 4,
   "metadata": {},
   "outputs": [],
   "source": [
    "# spacy for lemmatization\n",
    "import spacy\n",
    "\n",
    "from spacy_download import load_spacy"
   ]
  },
  {
   "cell_type": "code",
   "execution_count": 5,
   "metadata": {},
   "outputs": [],
   "source": [
    "# Plotting tools\n",
    "import pyLDAvis\n",
    "import pyLDAvis.gensim  # don't skip this\n",
    "import matplotlib.pyplot as plt\n",
    "%matplotlib inline"
   ]
  },
  {
   "cell_type": "code",
   "execution_count": 6,
   "metadata": {},
   "outputs": [],
   "source": [
    "# Enable logging for gensim - optional\n",
    "import logging\n",
    "logging.basicConfig(format='%(asctime)s : %(levelname)s : %(message)s', level=logging.ERROR)\n",
    "\n",
    "import warnings\n",
    "warnings.filterwarnings(\"ignore\",category=DeprecationWarning)"
   ]
  },
  {
   "cell_type": "code",
   "execution_count": 7,
   "metadata": {},
   "outputs": [],
   "source": [
    "# NLTK Stop words\n",
    "from nltk.corpus import stopwords\n",
    "stop_words = stopwords.words('english')\n",
    "stop_words.extend(['from', 'subject', 're', 'edu', 'use'])"
   ]
  },
  {
   "cell_type": "code",
   "execution_count": 8,
   "metadata": {},
   "outputs": [
    {
     "name": "stdout",
     "output_type": "stream",
     "text": [
      "['AndyVermaut' 'TrendzNewsbd' 'COVIDLive' 'AhmadNorMaulana'\n",
      " 'islandofcovid' 'suhail1mirza' 'yasu_yasuno_sa' 'eeeer71' 'nicktompan'\n",
      " 'BenHssinAhmed2' 'Mott_Mason' 'newsfilterio' 'GlobalPandemics'\n",
      " 'AquariusOnFire' 'VonPyotr' 'SharonShepshan' 'tazalot1981' 'latimes'\n",
      " 'Ravie777' 'schisano85' 'morning_news24h' 'CTVNews' 'unstoppable8672'\n",
      " 'Leedslad48' 'jlwoods0241' 'merapimanf' 'BobinSea' 'renztamayo'\n",
      " 'pop_popculture' 'durindale' 'Hibatu3' 'boatratbown' 'CGJr_carlos'\n",
      " 'yahata11' 'LouWasHe' 'andy68101744' 'mlauriat' 'DefaultNu'\n",
      " 'TraderMarcoCost' 'VivekSubbiah' 'alicuff' 'meer10001' 'jonathanrockoff'\n",
      " 'JerrBoi' 'Alan_Nishihara' 'NuritBaytch' 'NZStuff' 'elvisjj'\n",
      " 'WatchOurCity' 'onelinernews123' 'CassieY4' 'SetTheoryVirus'\n",
      " 'ZyiteGadgets' 'bmangh' 'roto_rua' 'jayjames4' 'usatodaysun21'\n",
      " 'chuck85258' 'tjmakiboi' 'Su15100307' 'Melodys_Musings' 'jebender1'\n",
      " 'Reuters' 'caa1000' 'DennisKendel' 'TweeterSomebody' 'Nesgirl914' 'Nan10'\n",
      " 'thedextazlab' 'fox5dc' 'EGirald' 'MelanieMoore' 'easyOntario'\n",
      " 'JaxRaymond' 'ErieNewsNow' 'wbaltv11' 'RichinWriterss' 'patricksgeaney'\n",
      " 'Raphael_A_Bauer' 'bornblonde0077' 'SocialistVoice' 'PAconsultants1'\n",
      " 'mcbc' 'apokerplayer' 'sapp_erlot' 'alexselby1770' 'Okie_Resister'\n",
      " 'DrAnthony' 'US_FDA' 'corndnc1' 'HammerToe' 'KodyKinsley' 'DrEricDing'\n",
      " '1NewsNZ' 'openletterbot' 'helenbinchy' 'AstorAaron' 'Teelin'\n",
      " 'leemorson3NUFC' 'NedPagliarulo' 'RobButl69654384' 'RavenHawk4'\n",
      " 'TheHinduScience' 'thehill' 'JulianneMcShane' 'drpestuk' 'sauceocho'\n",
      " 'ReginaPhelps' 'AlyeskaDawn' 'MarianneSkolek' 'dubvNOW' 'thinkpolca'\n",
      " 'TALK1370' 'PulpNews' '509ShawnG' 'chuckghunter' 'ashishkjha' 'MHGtweet'\n",
      " 'BuckeyeFineArts' 'HindustanTimes' 'MikeTaddow' 'jools6691' 'jt120651'\n",
      " 'LarcombePeter' '_avasharpe' 'civility1799' 'TimesofNewsHUB' 'bba7422847'\n",
      " 'unfard' 'bottlecapkingnj' 'feedpushr' 'CHOMcgoo' 'maryaalexand1'\n",
      " 'aldotjahjadi8' 'Djfury4412' 'StephenGutowski' 'Care2much18' 'tlscadden1'\n",
      " 'PIX11News' 'thomaskaine5' 'HealthNews_b' 'itrixy' 'meister_mitch'\n",
      " 'koconews' 'FriedrichHayek' 'Chris_1791' 'debbiemac603' '82669F'\n",
      " 'darlenekrause35' 'globalissuesweb' 'TinkerChip' 'Jerusalem_Post'\n",
      " 'EdCara4' 'Trendypedia2' 'AndrewMakeTweet' 'DavidMPeirce1' 'wacotrib'\n",
      " 'LNevilllle' 'BulletinCurrent' 'mailmenow' 'CBSPhiladelphia' 'q0mega'\n",
      " 'skepticalraptor' 'zyiteblog' 'Laughatsaltyge1' 'AliezeMac'\n",
      " 'Reuters_Health' 'VIXC_News' 'namenzie' 'Beepr5' 'BNOFeed'\n",
      " 'ralphmorrison22' 'guardiannews' 'ArmstrongDrew' 'CNBC' 'JudexXavier'\n",
      " '_DrFrusci' 'tobbystweet' 'LatinoLdnOnt' 'seashawol' 'zryanverse'\n",
      " 'qctimes' 'Mikejcl52' 'Justin_EAndrews' 'inkylu_lu' 'Johnjenkins309'\n",
      " 'sondra_watkins' 'HesterMcQueen' 'ecobearwitness' 'allenfolsom3'\n",
      " 'PicoDeGallo14' 'norionakatsuji' 'BARDA' 'joedunford200' 'canisgallicus'\n",
      " 'WXII' 'BabeTruth2' 'hcextrak']\n"
     ]
    },
    {
     "data": {
      "text/plain": [
       "datetime          149172\n",
       "tweet_id          149172\n",
       "text              149172\n",
       "username          149172\n",
       "url               149172\n",
       "user_location     119906\n",
       "like_count        149172\n",
       "retweet_count     149172\n",
       "follower_count    149172\n",
       "reply_count       149172\n",
       "verified          149172\n",
       "hashtags           28831\n",
       "dtype: int64"
      ]
     },
     "execution_count": 8,
     "metadata": {},
     "output_type": "execute_result"
    }
   ],
   "source": [
    "'''\n",
    "We will be using the 20-Newsgroups dataset for this exercise.\n",
    "This version of the dataset contains about 11k newsgroups posts from \n",
    "20 different topics. This is available as newsgroups.json.\n",
    "'''\n",
    "# Import Dataset\n",
    "df = pd.read_csv('during1_covidTweets.csv')\n",
    "print(df.username.unique())\n",
    "df.head()\n",
    "df.count()"
   ]
  },
  {
   "cell_type": "code",
   "execution_count": 9,
   "metadata": {},
   "outputs": [
    {
     "name": "stdout",
     "output_type": "stream",
     "text": [
      "['US Authorizes Johnson &amp; Johnson Covid Vaccine For Emergency Use ']\n"
     ]
    }
   ],
   "source": [
    "'''\n",
    "As you can see there are many emails, newline and extra spaces that is quite distracting.\n",
    "Let’s get rid of them using regular expressions.\n",
    "'''\n",
    "# Convert to list\n",
    "data = df.text.tolist()\n",
    "\n",
    "# Remove Emails\n",
    "data = [re.sub('\\S*@\\S*\\s?', '', sent) for sent in data]\n",
    "\n",
    "#remove URL\n",
    "data = [re.sub('http://\\S+|https://\\S+', '', sent) for sent in data]\n",
    "data = [re.sub('http[s]?://\\S+', '', sent) for sent in data]\n",
    "data = [re.sub(r\"http\\S+\", \"\", sent) for sent in data]\n",
    "\n",
    "# Remove new line characters\n",
    "data = [re.sub('\\s+', ' ', sent) for sent in data]\n",
    "\n",
    "# Remove distracting single quotes\n",
    "data = [re.sub(\"\\'\", \"\", sent) for sent in data]\n",
    "\n",
    "pprint(data[:1])"
   ]
  },
  {
   "cell_type": "code",
   "execution_count": 10,
   "metadata": {},
   "outputs": [
    {
     "name": "stdout",
     "output_type": "stream",
     "text": [
      "[['us', 'authorizes', 'johnson', 'amp', 'johnson', 'covid', 'vaccine', 'for', 'emergency', 'use']]\n"
     ]
    }
   ],
   "source": [
    "\n",
    "def sent_to_words(sentences):\n",
    "    for sentence in sentences:\n",
    "        yield(gensim.utils.simple_preprocess(str(sentence), deacc=True))  # deacc=True removes punctuations\n",
    "\n",
    "data_words = list(sent_to_words(data))\n",
    "\n",
    "print(data_words[:1])"
   ]
  },
  {
   "cell_type": "code",
   "execution_count": 11,
   "metadata": {},
   "outputs": [
    {
     "name": "stdout",
     "output_type": "stream",
     "text": [
      "['us', 'authorizes', 'johnson', 'amp', 'johnson', 'covid', 'vaccine', 'for', 'emergency_use']\n"
     ]
    }
   ],
   "source": [
    "\n",
    "# Build the bigram and trigram models\n",
    "bigram = gensim.models.Phrases(data_words, min_count=5, threshold=100) # higher threshold fewer phrases.\n",
    "trigram = gensim.models.Phrases(bigram[data_words], threshold=100)  \n",
    "\n",
    "# Faster way to get a sentence clubbed as a trigram/bigram\n",
    "bigram_mod = gensim.models.phrases.Phraser(bigram)\n",
    "trigram_mod = gensim.models.phrases.Phraser(trigram)\n",
    "\n",
    "# See trigram example\n",
    "print(trigram_mod[bigram_mod[data_words[0]]])"
   ]
  },
  {
   "cell_type": "code",
   "execution_count": 12,
   "metadata": {},
   "outputs": [],
   "source": [
    "\n",
    "# Define functions for stopwords, bigrams, trigrams and lemmatization\n",
    "def remove_stopwords(texts):\n",
    "    return [[word for word in simple_preprocess(str(doc)) if word not in stop_words] for doc in texts]\n",
    "\n",
    "def make_bigrams(texts):\n",
    "    return [bigram_mod[doc] for doc in texts]\n",
    "\n",
    "def make_trigrams(texts):\n",
    "    return [trigram_mod[bigram_mod[doc]] for doc in texts]\n",
    "\n",
    "def lemmatization(texts, allowed_postags=['NOUN', 'ADJ', 'VERB', 'ADV']):\n",
    "    \"\"\"https://spacy.io/api/annotation\"\"\"\n",
    "    texts_out = []\n",
    "    for sent in texts:\n",
    "        doc = nlp(\" \".join(sent)) \n",
    "        texts_out.append([token.lemma_ for token in doc if token.pos_ in allowed_postags])\n",
    "    return texts_out"
   ]
  },
  {
   "cell_type": "code",
   "execution_count": 14,
   "metadata": {},
   "outputs": [
    {
     "name": "stdout",
     "output_type": "stream",
     "text": [
      "[['authorize', 'emergency']]\n"
     ]
    }
   ],
   "source": [
    "# Will download the model if it isn't installed yet \n",
    "nlp = spacy.load(\"en_core_web_sm\", disable=['parser', 'ner'])\n",
    "# Remove Stop Words\n",
    "data_words_nostops = remove_stopwords(data_words)\n",
    "\n",
    "# Form Bigrams\n",
    "data_words_bigrams = make_bigrams(data_words_nostops)\n",
    "\n",
    "# Do lemmatization keeping only noun, adj, vb, adv\n",
    "data_lemmatized = lemmatization(data_words_bigrams, allowed_postags=['NOUN', 'ADJ', 'VERB', 'ADV'])\n",
    "\n",
    "\n",
    "\n",
    "print(data_lemmatized[:1])"
   ]
  },
  {
   "cell_type": "code",
   "execution_count": 15,
   "metadata": {},
   "outputs": [
    {
     "name": "stdout",
     "output_type": "stream",
     "text": [
      "[[(0, 1), (1, 1)]]\n"
     ]
    }
   ],
   "source": [
    "import gensim.corpora as corpora\n",
    "\n",
    "# Create Dictionary\n",
    "id2word = corpora.Dictionary(data_lemmatized)\n",
    "\n",
    "# Create Corpus\n",
    "texts = data_lemmatized\n",
    "\n",
    "# Term Document Frequency\n",
    "corpus = [id2word.doc2bow(text) for text in texts]\n",
    "\n",
    "# View\n",
    "print(corpus[:1])"
   ]
  },
  {
   "cell_type": "code",
   "execution_count": 16,
   "metadata": {},
   "outputs": [
    {
     "data": {
      "text/plain": [
       "array(['fda_authorizes', 'thus_far', 'worrying_six', ...,\n",
       "       'whooping_cough', 'polio_diphtheria', 'infections_ezekiel'],\n",
       "      dtype=object)"
      ]
     },
     "execution_count": 16,
     "metadata": {},
     "output_type": "execute_result"
    }
   ],
   "source": [
    "vocab = len(id2word.token2id)\n",
    "\n",
    "pd.Series([t for tokens in data_words_bigrams for t in tokens if \"_\" in t]).unique()"
   ]
  },
  {
   "cell_type": "code",
   "execution_count": 17,
   "metadata": {},
   "outputs": [],
   "source": [
    "\n",
    "# Build LDA model\n",
    "lda_model = gensim.models.ldamodel.LdaModel(corpus=corpus,\n",
    "                                           id2word=id2word,\n",
    "                                           num_topics=20, \n",
    "                                           random_state=100,\n",
    "                                           update_every=1,\n",
    "                                           chunksize=100,\n",
    "                                           passes=10,\n",
    "                                           alpha='auto',\n",
    "                                           per_word_topics=True)"
   ]
  },
  {
   "cell_type": "code",
   "execution_count": 18,
   "metadata": {},
   "outputs": [
    {
     "name": "stdout",
     "output_type": "stream",
     "text": [
      "[(0,\n",
      "  '0.273*\"shoot\" + 0.000*\"ecosearch\" + 0.000*\"reuter\" + 0.000*\"campaign\" + '\n",
      "  '0.000*\"slow\" + 0.000*\"allergic_reaction\" + 0.000*\"investigates_possible\" + '\n",
      "  '0.000*\"frustrate\" + 0.000*\"near\" + 0.000*\"endorsement\"'),\n",
      " (1,\n",
      "  '0.257*\"year\" + 0.186*\"pfizer\" + 0.108*\"home\" + 0.082*\"set\" + 0.081*\"last\" + '\n",
      "  '0.068*\"child\" + 0.044*\"moderna\" + 0.036*\"effective\" + 0.034*\"cost\" + '\n",
      "  '0.028*\"stay\"'),\n",
      " (2,\n",
      "  '0.317*\"new\" + 0.241*\"case\" + 0.237*\"death\" + 0.130*\"die\" + 0.032*\"face\" + '\n",
      "  '0.007*\"decline\" + 0.006*\"additional\" + 0.004*\"past\" + 0.004*\"win\" + '\n",
      "  '0.000*\"ecosearch\"'),\n",
      " (3,\n",
      "  '0.816*\"covid\" + 0.087*\"pandemic\" + 0.045*\"vaccination\" + 0.019*\"global\" + '\n",
      "  '0.009*\"increase\" + 0.007*\"alert\" + 0.006*\"production\" + 0.003*\"protest\" + '\n",
      "  '0.000*\"ecosearch\" + 0.000*\"world\"'),\n",
      " (4,\n",
      "  '0.300*\"virus\" + 0.202*\"make\" + 0.168*\"spread\" + 0.103*\"update\" + '\n",
      "  '0.057*\"become\" + 0.039*\"holiday\" + 0.029*\"suggest\" + 0.026*\"summer\" + '\n",
      "  '0.014*\"clear\" + 0.007*\"book\"'),\n",
      " (5,\n",
      "  '0.521*\"coronavirus\" + 0.137*\"restriction\" + 0.113*\"go\" + 0.080*\"lockdown\" + '\n",
      "  '0.049*\"rollout\" + 0.016*\"full\" + 0.012*\"consider\" + 0.010*\"fine\" + '\n",
      "  '0.009*\"boost\" + 0.009*\"true\"'),\n",
      " (6,\n",
      "  '0.767*\"test\" + 0.030*\"blood\" + 0.000*\"ecosearch\" + 0.000*\"positive\" + '\n",
      "  '0.000*\"number\" + 0.000*\"show\" + 0.000*\"record\" + 0.000*\"life\" + '\n",
      "  '0.000*\"need\" + 0.000*\"report\"'),\n",
      " (7,\n",
      "  '0.247*\"family\" + 0.178*\"tell\" + 0.169*\"deal\" + 0.122*\"happen\" + '\n",
      "  '0.091*\"result\" + 0.057*\"enough\" + 0.000*\"ecosearch\" + 0.000*\"give\" + '\n",
      "  '0.000*\"public\" + 0.000*\"gathering\"'),\n",
      " (8,\n",
      "  '0.482*\"get\" + 0.200*\"patient\" + 0.149*\"even\" + 0.051*\"man\" + 0.023*\"save\" + '\n",
      "  '0.011*\"admit\" + 0.010*\"israeli\" + 0.000*\"ecosearch\" + 0.000*\"ple\" + '\n",
      "  '0.000*\"take\"'),\n",
      " (9,\n",
      "  '0.666*\"health\" + 0.094*\"well\" + 0.089*\"post\" + 0.078*\"supply\" + '\n",
      "  '0.013*\"protection\" + 0.006*\"exercise\" + 0.000*\"ecosearch\" + 0.000*\"public\" '\n",
      "  '+ 0.000*\"world\" + 0.000*\"time\"'),\n",
      " (10,\n",
      "  '0.216*\"know\" + 0.119*\"find\" + 0.104*\"bad\" + 0.084*\"good\" + 0.065*\"ask\" + '\n",
      "  '0.059*\"fight\" + 0.049*\"business\" + 0.048*\"open\" + 0.037*\"part\" + '\n",
      "  '0.035*\"soon\"'),\n",
      " (11,\n",
      "  '0.000*\"dmva\" + 0.000*\"veterans_affair\" + 0.000*\"paralyzed\" + '\n",
      "  '0.000*\"samantha\" + 0.000*\"fuckshit\" + 0.000*\"forcing_evacuation\" + '\n",
      "  '0.000*\"nphet_nazi\" + 0.000*\"nazi_germany\" + 0.000*\"covington\" + '\n",
      "  '0.000*\"financial_rather\"'),\n",
      " (12,\n",
      "  '0.000*\"dmva\" + 0.000*\"veterans_affair\" + 0.000*\"paralyzed\" + '\n",
      "  '0.000*\"samantha\" + 0.000*\"fuckshit\" + 0.000*\"forcing_evacuation\" + '\n",
      "  '0.000*\"nphet_nazi\" + 0.000*\"nazi_germany\" + 0.000*\"covington\" + '\n",
      "  '0.000*\"financial_rather\"'),\n",
      " (13,\n",
      "  '0.227*\"hospital\" + 0.211*\"work\" + 0.205*\"see\" + 0.093*\"help\" + '\n",
      "  '0.062*\"support\" + 0.045*\"read\" + 0.032*\"catch\" + 0.024*\"threaten\" + '\n",
      "  '0.020*\"fund\" + 0.009*\"position\"'),\n",
      " (14,\n",
      "  '0.871*\"vaccine\" + 0.032*\"medical\" + 0.026*\"approve\" + 0.021*\"also\" + '\n",
      "  '0.017*\"authorization\" + 0.012*\"issue\" + 0.000*\"ecosearch\" + 0.000*\"world\" + '\n",
      "  '0.000*\"public\" + 0.000*\"report\"'),\n",
      " (15,\n",
      "  '0.280*\"day\" + 0.204*\"first\" + 0.087*\"come\" + 0.078*\"begin\" + '\n",
      "  '0.078*\"receive\" + 0.077*\"month\" + 0.055*\"far\" + 0.053*\"distribution\" + '\n",
      "  '0.030*\"concern\" + 0.019*\"technology\"'),\n",
      " (16,\n",
      "  '0.199*\"amp\" + 0.149*\"variant\" + 0.108*\"news\" + 0.103*\"state\" + 0.099*\"end\" '\n",
      "  '+ 0.079*\"astrazeneca\" + 0.060*\"worker\" + 0.054*\"early\" + 0.038*\"disease\" + '\n",
      "  '0.029*\"offer\"'),\n",
      " (17,\n",
      "  '0.359*\"say\" + 0.243*\"people\" + 0.105*\"dose\" + 0.080*\"expert\" + '\n",
      "  '0.047*\"expect\" + 0.029*\"right\" + 0.026*\"back\" + 0.022*\"fall\" + '\n",
      "  '0.018*\"company\" + 0.013*\"away\"'),\n",
      " (18,\n",
      "  '0.310*\"care\" + 0.293*\"week\" + 0.197*\"staff\" + 0.082*\"battle\" + '\n",
      "  '0.006*\"sister\" + 0.000*\"ecosearch\" + 0.000*\"world\" + 0.000*\"need\" + '\n",
      "  '0.000*\"public\" + 0.000*\"hope\"'),\n",
      " (19,\n",
      "  '0.425*\"country\" + 0.164*\"shot\" + 0.114*\"emergency\" + 0.093*\"single\" + '\n",
      "  '0.058*\"add\" + 0.056*\"third\" + 0.000*\"ecosearch\" + 0.000*\"world\" + '\n",
      "  '0.000*\"public\" + 0.000*\"report\"')]\n"
     ]
    }
   ],
   "source": [
    "\n",
    "# Print the Keyword in the 10 topics\n",
    "pprint(lda_model.print_topics())\n",
    "doc_lda = lda_model[corpus]\n",
    "\n"
   ]
  },
  {
   "cell_type": "code",
   "execution_count": 19,
   "metadata": {},
   "outputs": [
    {
     "name": "stdout",
     "output_type": "stream",
     "text": [
      "\n",
      "Perplexity:  -20.594042272485687\n",
      "\n",
      "Coherence Score:  0.28596678866434266\n"
     ]
    }
   ],
   "source": [
    "'''\n",
    "Model perplexity and topic coherence provide a convenient measure to judge \n",
    "how good a given topic model is. In my experience, topic coherence score, \n",
    "in particular, has been more helpful.\n",
    "'''\n",
    "# Compute Perplexity\n",
    "print('\\nPerplexity: ', lda_model.log_perplexity(corpus))  # a measure of how good the model is. lower the better.\n",
    "\n",
    "# Compute Coherence Score\n",
    "coherence_model_lda = CoherenceModel(model=lda_model, texts=data_lemmatized, dictionary=id2word, coherence='c_v')\n",
    "coherence_lda = coherence_model_lda.get_coherence()\n",
    "print('\\nCoherence Score: ', coherence_lda)\n",
    "\n"
   ]
  },
  {
   "cell_type": "code",
   "execution_count": 20,
   "metadata": {},
   "outputs": [
    {
     "name": "stderr",
     "output_type": "stream",
     "text": [
      "C:\\Users\\hannah.kim\\AppData\\Roaming\\Python\\Python39\\site-packages\\pyLDAvis\\_prepare.py:243: FutureWarning: In a future version of pandas all arguments of DataFrame.drop except for the argument 'labels' will be keyword-only.\n",
      "  default_term_info = default_term_info.sort_values(\n"
     ]
    },
    {
     "data": {
      "text/html": [
       "\n",
       "<link rel=\"stylesheet\" type=\"text/css\" href=\"https://cdn.jsdelivr.net/gh/bmabey/pyLDAvis@3.4.0/pyLDAvis/js/ldavis.v1.0.0.css\">\n",
       "\n",
       "\n",
       "<div id=\"ldavis_el2184422020076532804220983802\" style=\"background-color:white;\"></div>\n",
       "<script type=\"text/javascript\">\n",
       "\n",
       "var ldavis_el2184422020076532804220983802_data = {\"mdsDat\": {\"x\": [-0.2189474951508101, -0.16750288133016808, -0.15847186606049768, -0.1229223604121015, -0.10226076351020202, -0.10873910191497856, -0.10463811577699296, -0.10816064549091445, -0.04607591159077078, -0.058916872879756575, -0.025265929129380634, 0.00032488869957884105, -0.051527325960539765, 0.03630583757249204, 0.07566080324712486, 0.10985579002339552, 0.1782339031178988, 0.2883059890965558, 0.29237102872503323, 0.29237102872503334], \"y\": [0.4291521832180045, -0.150417049704795, -0.1194851446450185, -0.057715726196100686, -0.040006634628721276, -0.04466505760970921, -0.0416598322550019, -0.0441227083813454, -0.010943860777509463, -0.016470864637841, -0.004957701494817951, 0.0013291630203737742, -0.014044296255882858, 0.008398811429605895, 0.014024614684762921, 0.017678489353546628, 0.021963357352881897, 0.018632810235757212, 0.01665472364590561, 0.01665472364590575], \"topics\": [1, 2, 3, 4, 5, 6, 7, 8, 9, 10, 11, 12, 13, 14, 15, 16, 17, 18, 19, 20], \"cluster\": [1, 1, 1, 1, 1, 1, 1, 1, 1, 1, 1, 1, 1, 1, 1, 1, 1, 1, 1, 1], \"Freq\": [22.82417365691379, 11.108929935128767, 9.66770406996893, 8.543588816179788, 7.123505952915411, 6.286850183681242, 5.568513358511409, 4.600750285273103, 4.064257553395234, 3.9533695914091798, 3.5216088177858937, 3.0900336052152944, 2.804855839729591, 2.418958624826794, 1.6134900515597739, 1.3109779283606013, 1.2822888997275688, 0.17226899464198425, 0.021994579406842383, 0.02187925536879507]}, \"tinfo\": {\"Term\": [\"covid\", \"vaccine\", \"coronavirus\", \"say\", \"new\", \"health\", \"case\", \"death\", \"get\", \"people\", \"day\", \"test\", \"virus\", \"country\", \"year\", \"amp\", \"first\", \"die\", \"pandemic\", \"know\", \"hospital\", \"pfizer\", \"variant\", \"make\", \"restriction\", \"work\", \"see\", \"dose\", \"patient\", \"spread\", \"covid\", \"pandemic\", \"vaccination\", \"global\", \"increase\", \"alert\", \"production\", \"protest\", \"ecosearch\", \"world\", \"report\", \"need\", \"take\", \"time\", \"ple\", \"public\", \"live\", \"record\", \"give\", \"warn\", \"life\", \"reuter\", \"science\", \"trump\", \"relief\", \"start\", \"high\", \"plan\", \"population\", \"study\", \"many\", \"kill\", \"number\", \"hope\", \"vaccine\", \"medical\", \"approve\", \"also\", \"authorization\", \"issue\", \"ecosearch\", \"world\", \"public\", \"take\", \"roll\", \"need\", \"develop\", \"ple\", \"report\", \"many\", \"still\", \"give\", \"important\", \"start\", \"time\", \"live\", \"life\", \"population\", \"impact\", \"already\", \"reuter\", \"biontech\", \"major\", \"learn\", \"science\", \"record\", \"hope\", \"new\", \"case\", \"death\", \"die\", \"face\", \"decline\", \"additional\", \"past\", \"win\", \"ecosearch\", \"report\", \"record\", \"world\", \"bring\", \"reuter\", \"public\", \"number\", \"time\", \"ple\", \"want\", \"take\", \"high\", \"rise\", \"challenge\", \"population\", \"ethic\", \"seize\", \"humble_virus\", \"professor_attorney\", \"dictate\", \"live\", \"give\", \"strain\", \"surge\", \"need\", \"life\", \"kill\", \"learn\", \"many\", \"warn\", \"hope\", \"say\", \"people\", \"dose\", \"expert\", \"expect\", \"right\", \"back\", \"fall\", \"company\", \"away\", \"ship\", \"authorize\", \"matter\", \"unite\", \"ecosearch\", \"need\", \"life\", \"public\", \"world\", \"time\", \"take\", \"kill\", \"report\", \"warn\", \"reuter\", \"roll\", \"give\", \"record\", \"nature\", \"biontech\", \"live\", \"ple\", \"many\", \"coronavirus\", \"restriction\", \"go\", \"lockdown\", \"rollout\", \"full\", \"consider\", \"fine\", \"boost\", \"true\", \"rd\", \"ecosearch\", \"report\", \"world\", \"time\", \"give\", \"record\", \"public\", \"need\", \"live\", \"reuter\", \"key\", \"take\", \"life\", \"trump\", \"hope\", \"ple\", \"science\", \"infection\", \"biontech\", \"warn\", \"many\", \"amp\", \"variant\", \"news\", \"state\", \"end\", \"astrazeneca\", \"worker\", \"early\", \"disease\", \"offer\", \"trial\", \"administer\", \"ecosearch\", \"public\", \"world\", \"population\", \"report\", \"give\", \"warn\", \"develop\", \"biontech\", \"reuter\", \"teach\", \"disorder\", \"take\", \"key\", \"local\", \"live\", \"need\", \"study\", \"time\", \"roll\", \"ple\", \"record\", \"life\", \"many\", \"hope\", \"day\", \"first\", \"come\", \"begin\", \"receive\", \"month\", \"far\", \"distribution\", \"concern\", \"technology\", \"optimistic\", \"ecosearch\", \"hope\", \"chief\", \"govt\", \"defense_force\", \"drive_officially\", \"inoculate_ple\", \"report\", \"world\", \"life\", \"nature\", \"think\", \"human\", \"record\", \"need\", \"time\", \"kill\", \"kind\", \"national\", \"roll\", \"public\", \"live\", \"take\", \"give\", \"year\", \"pfizer\", \"home\", \"set\", \"last\", \"child\", \"moderna\", \"effective\", \"cost\", \"stay\", \"able\", \"race\", \"option\", \"biontech\", \"teach\", \"world\", \"bring\", \"childhood\", \"equitable_distribution\", \"come_whispere\", \"happier_alfred\", \"lord_tennyson\", \"protectors_logistic\", \"quote_hope\", \"science_trumpe\", \"smile\", \"threshold\", \"priority\", \"happy\", \"spend\", \"take\", \"public\", \"hope\", \"ecosearch\", \"life\", \"time\", \"give\", \"report\", \"ple\", \"need\", \"record\", \"population\", \"start\", \"live\", \"reuter\", \"many\", \"know\", \"find\", \"bad\", \"good\", \"ask\", \"fight\", \"business\", \"open\", \"part\", \"soon\", \"aid\", \"explain\", \"stimulus\", \"feel\", \"choice\", \"jab\", \"prioritize\", \"dem\", \"foreign\", \"war\", \"learn\", \"human\", \"think\", \"tired\", \"dementia\", \"slip\", \"slowed_pace\", \"lazy\", \"friend_erik\", \"like_sand\", \"live\", \"need\", \"key\", \"ecosearch\", \"question\", \"world\", \"time\", \"warn\", \"report\", \"take\", \"give\", \"public\", \"life\", \"virus\", \"make\", \"spread\", \"update\", \"become\", \"holiday\", \"suggest\", \"summer\", \"clear\", \"book\", \"capital\", \"life\", \"shut\", \"ultimately\", \"duplicate\", \"dyer\", \"dublin_set\", \"system_wayne\", \"purpose\", \"recall\", \"drink\", \"entire\", \"drive\", \"impact\", \"already\", \"host\", \"next\", \"free\", \"nature\", \"take\", \"develop\", \"still\", \"ecosearch\", \"important\", \"major\", \"public\", \"time\", \"world\", \"live\", \"kill\", \"report\", \"many\", \"need\", \"start\", \"record\", \"ple\", \"hospital\", \"work\", \"see\", \"help\", \"support\", \"read\", \"catch\", \"threaten\", \"fund\", \"position\", \"m\", \"fleming\", \"opportunity_alexander\", \"hard\", \"created_opportunitie\", \"tapped_mind\", \"many\", \"learn\", \"scientist\", \"strategy\", \"dear_drop\", \"mind_eg\", \"unprepared_mind\", \"daily_mail\", \"beijing_responsible\", \"editor_slam\", \"lauded_beije\", \"prioritising_ple\", \"times_praise\", \"wests_elderly\", \"prepare\", \"let\", \"start\", \"time\", \"china\", \"call\", \"number\", \"place\", \"plan\", \"record\", \"ecosearch\", \"report\", \"take\", \"life\", \"public\", \"need\", \"live\", \"world\", \"ple\", \"give\", \"get\", \"patient\", \"even\", \"man\", \"save\", \"admit\", \"israeli\", \"ple\", \"trust\", \"disorder\", \"take\", \"nation\", \"crowd\", \"act_humanely\", \"fear_bertrand\", \"killer_trust\", \"little_info\", \"think_sanely\", \"general\", \"influence\", \"severe_mental\", \"premature_mortality\", \"great\", \"life_expectancy\", \"avg_tend\", \"refer\", \"reduction\", \"ultimately\", \"population\", \"free\", \"need\", \"next\", \"ecosearch\", \"time\", \"report\", \"still\", \"live\", \"high\", \"record\", \"world\", \"warn\", \"give\", \"life\", \"public\", \"number\", \"biontech\", \"many\", \"trump\", \"health\", \"well\", \"post\", \"supply\", \"protection\", \"exercise\", \"public\", \"mental\", \"nationalism\", \"organization\", \"procurement\", \"operation\", \"arrival\", \"accord\", \"revolution\", \"crave\", \"satisfaction\", \"common_reaction\", \"deus_history\", \"human_mind\", \"achievement\", \"large\", \"mark\", \"tmorrow_science\", \"thru\", \"team\", \"mth\", \"cater\", \"fiduciary_altruism\", \"govts_shd\", \"biontech\", \"official\", \"time\", \"many\", \"ecosearch\", \"world\", \"kill\", \"reuter\", \"need\", \"give\", \"key\", \"roll\", \"take\", \"report\", \"science\", \"live\", \"postpone\", \"history\", \"ple\", \"start\", \"record\", \"warn\", \"life\", \"population\", \"country\", \"shot\", \"emergency\", \"single\", \"add\", \"third\", \"whistleblower\", \"free\", \"preparedness\", \"unusual_outbreak\", \"activate\", \"conquer\", \"der_spiegel\", \"formidable_adversary\", \"past_weve\", \"tom_frieden\", \"immediately\", \"antibiotic\", \"microbe\", \"influenza\", \"illness\", \"created_opportunitie\", \"tapped_mind\", \"entire\", \"later\", \"duplicate\", \"dyer\", \"dublin_set\", \"system_wayne\", \"purpose\", \"infectious_disease\", \"many\", \"least\", \"thing\", \"high\", \"world\", \"biontech\", \"yet\", \"public\", \"drive\", \"kill\", \"next\", \"record\", \"scientist\", \"time\", \"warn\", \"nature\", \"plan\", \"ecosearch\", \"report\", \"take\", \"learn\", \"hard\", \"hope\", \"official\", \"give\", \"live\", \"need\", \"population\", \"reuter\", \"care\", \"week\", \"staff\", \"battle\", \"sister\", \"ensure_diverse\", \"lack_primary\", \"carnegie_connect\", \"youtube\", \"defense_force\", \"drive_officially\", \"inoculate_ple\", \"chief\", \"different\", \"govt\", \"beat\", \"chemo_mum\", \"dangling_life\", \"dignity\", \"locked_away\", \"realise\", \"style\", \"hope_core\", \"military_excercise\", \"reach_sanctuary\", \"training_seal\", \"heart\", \"twd\", \"invade\", \"direct\", \"lose\", \"hope\", \"frontline\", \"yet\", \"world\", \"need\", \"ple\", \"important\", \"public\", \"ecosearch\", \"many\", \"team\", \"roll\", \"report\", \"take\", \"time\", \"family\", \"tell\", \"deal\", \"happen\", \"result\", \"enough\", \"experience_count\", \"phenomenal_thing\", \"best_interest\", \"cater\", \"fiduciary_altruism\", \"govts_shd\", \"royal_soc\", \"solstice\", \"respect\", \"gathering\", \"mind\", \"resource\", \"politic\", \"postpone\", \"delegation\", \"fauci\", \"remain\", \"put\", \"key\", \"present_td\", \"inoculate\", \"science\", \"btwn\", \"cyprus_pre\", \"give\", \"lead\", \"travel\", \"public\", \"ecosearch\", \"test\", \"blood\", \"positive\", \"negative\", \"bombay\", \"efficacy\", \"figure\", \"send\", \"mortality\", \"rapid\", \"pcr\", \"trace\", \"reduction\", \"clearance\", \"provider\", \"passenger\", \"member\", \"couple\", \"expand\", \"require_negative\", \"police_officer\", \"arizona_legislature\", \"incoming\", \"partnership\", \"percent\", \"combo\", \"honest\", \"requirement\", \"done\", \"plano\", \"point\", \"put\", \"number\", \"show\", \"detect\", \"united_state\", \"seek\", \"half\", \"record\", \"life\", \"washington_post\", \"travel\", \"need\", \"ecosearch\", \"reuter\", \"time\", \"develop\", \"report\", \"official\", \"trump\", \"public\", \"world\", \"take\", \"give\", \"shoot\", \"investigates_possible\", \"frustrate\", \"endorsement\", \"panel_endorse\", \"epic\", \"step_toward\", \"allergic_reaction\", \"routine\", \"recipient\", \"card\", \"core\", \"shows_promise\", \"svuh\", \"info\", \"fashion\", \"hosp\", \"stepdown\", \"probable\", \"diabete\", \"rumour\", \"smoke\", \"shithouse\", \"monopoly\", \"authoritarian\", \"campaign\", \"mandatory\", \"beaumont\", \"recd\", \"developing_booster\", \"th\", \"booster\", \"stage\", \"near\", \"release\", \"claim\", \"slow\", \"market\", \"equity\", \"contract\", \"step\", \"friend\", \"delivery\", \"outbreak\", \"major\", \"reuter\", \"nurse\", \"due\", \"start\", \"vaccinate\", \"record\", \"ecosearch\", \"need\", \"roll\", \"vent\", \"thus_far\", \"ambulance_visit\", \"mum_uncle\", \"nhs_heroe\", \"want_thank\", \"worrying_six\", \"uruguay\", \"humidity\", \"moisture\", \"notably\", \"external\", \"teletrader\", \"duchess\", \"prince_william\", \"wholeheartedly\", \"nytime\", \"firepower\", \"created_stress\", \"dietary_habit\", \"natures_real\", \"heaven_hell\", \"successfully_meditation\", \"basic_survival\", \"black_familly\", \"familly\", \"food_med\", \"rent_im\", \"stop_scrolling\", \"thats_struggle\", \"authorize\", \"emergency\", \"reuter\", \"fda_authorize\", \"death\", \"new\", \"cnet\", \"admission\", \"admit\", \"covid\", \"dangerous\", \"even\", \"get\", \"hmm\", \"patient\", \"properly\", \"rocket\", \"sky\", \"test\", \"film\", \"increase\", \"pandemic\", \"production\", \"see\", \"case\", \"advanced\", \"always\", \"behind\", \"come\", \"vent\", \"thus_far\", \"ambulance_visit\", \"mum_uncle\", \"nhs_heroe\", \"want_thank\", \"worrying_six\", \"uruguay\", \"humidity\", \"moisture\", \"notably\", \"external\", \"teletrader\", \"duchess\", \"prince_william\", \"wholeheartedly\", \"nytime\", \"firepower\", \"created_stress\", \"dietary_habit\", \"natures_real\", \"heaven_hell\", \"successfully_meditation\", \"basic_survival\", \"black_familly\", \"familly\", \"food_med\", \"rent_im\", \"stop_scrolling\", \"thats_struggle\", \"authorize\", \"emergency\", \"reuter\", \"fda_authorize\", \"death\", \"new\", \"cnet\", \"admission\", \"admit\", \"covid\", \"dangerous\", \"even\", \"get\", \"hmm\", \"patient\", \"properly\", \"rocket\", \"sky\", \"test\", \"film\", \"increase\", \"pandemic\", \"production\", \"see\", \"case\", \"advanced\", \"always\", \"behind\", \"come\"], \"Freq\": [235412.0, 122390.0, 46946.0, 38772.0, 38714.0, 23627.0, 29445.0, 29008.0, 18831.0, 26238.0, 19694.0, 12442.0, 14996.0, 12991.0, 14963.0, 15785.0, 14393.0, 15920.0, 25025.0, 11089.0, 10102.0, 10806.0, 11854.0, 10097.0, 12334.0, 9412.0, 9139.0, 11385.0, 7831.0, 8378.0, 235410.7522820076, 25023.94649996476, 12944.826974563402, 5399.46574690206, 2500.1934856354665, 1894.3266778524649, 1862.0188492477243, 748.0198961946572, 0.11351559683074056, 0.11128216606600676, 0.11125110062104875, 0.11120298896678979, 0.1111900115350698, 0.11118738651727562, 0.11114842961257386, 0.111211684338233, 0.11113724867740678, 0.11114224441439632, 0.11113747836646376, 0.11109800466138377, 0.11113303224257487, 0.11111017818140428, 0.11108236119596657, 0.11108391980028187, 0.11106570873933475, 0.11108653661489544, 0.1110750603652265, 0.11107033533319699, 0.11108147525246104, 0.11105719383786486, 0.11110117929227861, 0.11107647951547149, 0.11107277988101781, 0.11107376426269064, 122388.82643926798, 4453.388208319319, 3701.4701417520514, 3006.199375238936, 2339.645928064469, 1637.2936930144838, 0.11735666402163043, 0.11564902269166728, 0.11557836905060506, 0.11552920376262811, 0.11545954029465492, 0.11553269332424025, 0.11544007221408195, 0.11548717730321238, 0.11554614849887744, 0.11547310726302797, 0.11543886643878805, 0.11547850530341654, 0.11541474294764328, 0.11543975280340807, 0.11550378665825413, 0.11545729643467093, 0.1154707675798418, 0.11543041802646394, 0.1154010003033996, 0.1153983491948064, 0.11544294691014687, 0.1154253314114824, 0.1153794879945138, 0.11541946224034985, 0.11541293827733586, 0.11544912750668644, 0.11542226506901315, 38712.74818138569, 29443.80307418448, 29007.03046545139, 15919.181936659406, 3949.9298301509357, 825.9873503120086, 673.7020380125977, 464.685896436398, 453.6140524221524, 0.11141236807830525, 0.10982991702298572, 0.10970713693372733, 0.10976380145986571, 0.10960399554337341, 0.10963454463055815, 0.10970934680855098, 0.10960410673204378, 0.10967489916861131, 0.10963948557709781, 0.1095725638961176, 0.10966435014350977, 0.10959302956075796, 0.10957627481799126, 0.10954657354441812, 0.10959476688373253, 0.10952903353166692, 0.10952824131239051, 0.10952760892682778, 0.10952760892682778, 0.1095291308217535, 0.109616386130828, 0.10962502410065754, 0.10955947143018128, 0.10956889466999532, 0.10965321042859685, 0.10961671969683912, 0.10958501702719928, 0.10958293918892169, 0.10959375923640728, 0.10958483634560992, 0.10958594823231364, 38771.216051388525, 26237.03485379, 11383.597515686506, 8635.485554775163, 5062.75092345966, 3087.106277315479, 2774.4114017227034, 2357.290908622791, 1982.2230783008538, 1451.9733739344847, 983.7879269914247, 943.523655971674, 933.3560642331621, 20.55297204238195, 0.13573005729104246, 0.13370936138504802, 0.13365180548833466, 0.133712702230952, 0.13372217205518716, 0.13365369699667734, 0.13364739606304227, 0.13356902129203757, 0.13366729374820566, 0.1335565545325062, 0.13357195681472525, 0.1335436701672368, 0.1335826303260876, 0.13358258119600078, 0.1335176066561771, 0.13353670597742962, 0.13356514001517855, 0.13357109703820585, 0.13355859343110935, 46944.906305321034, 12332.480746091742, 10187.011658312018, 7230.6640410457585, 4391.310978755221, 1453.668872609892, 1050.1970062201704, 934.262284232395, 826.2965700568698, 817.7674858552001, 526.6612806688192, 0.13473720565044764, 0.13257446690206137, 0.1325793108797491, 0.13252081447266156, 0.13247002951419745, 0.1324700090322622, 0.1325395656843873, 0.13249529398133417, 0.13243800600842665, 0.13242692528145383, 0.13238514213353417, 0.13247905180667716, 0.13244485721576937, 0.1323894228580024, 0.13240166081431712, 0.1324310626323753, 0.1323818650238934, 0.13235920176253405, 0.13238857285768935, 0.13238868550833324, 0.1323938776789203, 15783.927762922345, 11853.007468549587, 8623.622979851638, 8190.02194529864, 7864.486505619844, 6270.042307483549, 4781.396283179386, 4292.728843634842, 3057.798526757239, 2301.964265772452, 1863.9684740560156, 1791.7601764423387, 0.1119255203730156, 0.11064302269584454, 0.11064631258826367, 0.11052435157644007, 0.11061061183261647, 0.11055144799806799, 0.11051359615891597, 0.1104938387280692, 0.11050821845015393, 0.11052316757669582, 0.11045526383563825, 0.11046377778799765, 0.11056953336820724, 0.11048677992043364, 0.1104458279903482, 0.11052596036998569, 0.11057222674167125, 0.11047849192222389, 0.11056722863588064, 0.11049751726162575, 0.11052944910205652, 0.11052996427751777, 0.11052810241532451, 0.11051010742684514, 0.11050175616147348, 19692.398095757555, 14392.06180588308, 6123.476019950775, 5491.066110825228, 5484.655985522988, 5399.2488568643175, 3874.4910600982494, 3752.980414278534, 2102.1828336011718, 1352.9118230133977, 157.7767048816599, 0.10261038530855081, 0.10149798616421, 0.1014494810624464, 0.10145149843918257, 0.10143811330464737, 0.10143811330464737, 0.10143811330464737, 0.10153505946446867, 0.10155067011778424, 0.1014793734621799, 0.10142957147537163, 0.10142705775991466, 0.10141329636860724, 0.10146664477563029, 0.10149089332378047, 0.10148544960877812, 0.10142098161331645, 0.10136590402623384, 0.10136735301508004, 0.10141854795249187, 0.10148825152091168, 0.10143156483571808, 0.10144925690947572, 0.1014305161200338, 14962.013576899504, 10805.089941789522, 6305.91352788476, 4772.360600042058, 4734.80590736816, 3938.905895880758, 2579.20976452186, 2113.958193345281, 1974.4167924792089, 1647.5313854306414, 1068.9746389025063, 873.8266056391956, 327.326594929603, 0.08115932126580773, 0.08110810768731846, 0.08122980194414708, 0.0811164150946002, 0.08110393414114428, 0.08109948279950366, 0.08109891398021526, 0.08109891398021526, 0.08109891398021526, 0.08109891398021526, 0.08109891398021526, 0.08109891398021526, 0.08109896027945966, 0.0810997804375034, 0.0811021284706125, 0.08110202264376815, 0.08109376814990858, 0.08117960033485694, 0.08118323151845382, 0.08113312912183027, 0.08170057927543087, 0.08114549763426407, 0.08115898394274135, 0.08113868503115881, 0.08115890457260809, 0.08113429983129593, 0.08114615243786351, 0.08113132345129849, 0.08111660029157783, 0.08111592564544506, 0.08111990738046386, 0.08111818769424313, 0.08111917320673116, 11087.934236683379, 6122.37584115671, 5361.787057164023, 4340.09336685056, 3325.1065250264287, 3044.8274606793575, 2493.5582118398656, 2491.100246641292, 1924.9759889353923, 1816.1106080582913, 1730.9998774500984, 1508.2454889734493, 920.1274398498085, 870.2264193197361, 505.15200706998303, 364.0745356331538, 347.70455059249684, 195.07740214155038, 127.74781349067501, 0.11018812331757818, 0.11020946158689213, 0.11018339056890779, 0.11019317158282661, 0.11013986096693931, 0.1101388559882093, 0.1101394519639678, 0.11013833012724593, 0.11013833012724593, 0.11013833012724593, 0.11013833012724593, 0.11022617227972835, 0.11026869690296681, 0.11018392811567035, 0.1111503904515631, 0.11015222454247828, 0.11027923749383273, 0.11024061592752245, 0.11019033193362437, 0.11024315174594584, 0.11022556461817067, 0.11020566370215662, 0.11022762131882743, 0.11020329148492183, 14994.71003439196, 10095.897269268236, 8376.49955911825, 5128.686953596643, 2857.2288868306878, 1945.1961151393416, 1444.0396589880895, 1321.1385378333034, 686.5042697960519, 335.5726306306937, 252.56990991213607, 0.09996681761818602, 0.0998605478398731, 0.09985167023832615, 0.0998496014502576, 0.0998496014502576, 0.0998496014502576, 0.0998496014502576, 0.09985002202805175, 0.0998502948352696, 0.09985086318364007, 0.09985223858669665, 0.09986127532578733, 0.09988091744547122, 0.09987943973970796, 0.09986178683932076, 0.09987435870527583, 0.09986178683932076, 0.09988940857012622, 0.09996145240956865, 0.09988738524992731, 0.09989576270490823, 0.10074123774083871, 0.09987716634622602, 0.09986461721420577, 0.09995230200080388, 0.09993319412858824, 0.09996086132726335, 0.09990024129006764, 0.09988637358982785, 0.09993368290818685, 0.09989763825453082, 0.09991018738655108, 0.09988221327975591, 0.09989045433112792, 0.09988463444381417, 10100.745068546457, 9411.091118022521, 9138.063322160317, 4160.345331661091, 2763.7284125079486, 2008.0703928094224, 1435.2421947856799, 1083.730155422356, 882.7113985280688, 415.3503660893853, 318.54374405640283, 0.11005616409446026, 0.11005616409446026, 0.11006573273232481, 0.11003058697356513, 0.11003058697356513, 0.11011169257070286, 0.11008230824574734, 0.11007673919725475, 0.11003087048876113, 0.10999807385591105, 0.10999807385591105, 0.10999807385591105, 0.10999955218514727, 0.10999899528029801, 0.10999899528029801, 0.10999899528029801, 0.10999899528029801, 0.10999899528029801, 0.10999899528029801, 0.11001313053792651, 0.11001892234835882, 0.11006130787015887, 0.11011738312570803, 0.10999940030200657, 0.11003050596922342, 0.11005045328836965, 0.11002625324128362, 0.1100402366157714, 0.11007515961259139, 0.11082874300352494, 0.11010384527509964, 0.1100861559519786, 0.11006752495338516, 0.1100964840055467, 0.11008140707244582, 0.11005584007709342, 0.11008679386116957, 0.110058543596998, 0.1100529745485054, 18829.48212999775, 7829.898546980471, 5831.4653856726545, 1980.2654891878028, 900.8945196895808, 426.5927192908698, 383.7822296256777, 0.11317772909674664, 0.11308744326765134, 0.11308623495503994, 0.11317258488349667, 0.11306098477532248, 0.11304123419491716, 0.11303615217422808, 0.11303615217422808, 0.11303615217422808, 0.11303615217422808, 0.11303615217422808, 0.11304532113463216, 0.11303784914267495, 0.11303973268880448, 0.11303855103014775, 0.11304406839876299, 0.11304016803673064, 0.1130375470645221, 0.11304008807486665, 0.11304401509085367, 0.11302626355704808, 0.11308952227611506, 0.1130415185037669, 0.11316105260577913, 0.11305488990435619, 0.11394540741430029, 0.11311166282778849, 0.11312389699297884, 0.11307058019900118, 0.11308332078933012, 0.11306631556625509, 0.11308898031237023, 0.11312857920434798, 0.11306988719617994, 0.11308237901626536, 0.11308274328697908, 0.11310304471578078, 0.1130608070822914, 0.11306147343115797, 0.11306841234402192, 0.11305892353616187, 23626.004079764556, 3329.744504545968, 3158.420696807303, 2765.312965593783, 457.51324592369144, 212.50652983031836, 0.07517155112062507, 0.07500503137691124, 0.07499600698746839, 0.07499667635683725, 0.07499370855047893, 0.07499434566108303, 0.07499403113812657, 0.07499878930592932, 0.07500249906387722, 0.07500249099918603, 0.07500249099918603, 0.07500249099918603, 0.07500249099918603, 0.07500249099918603, 0.07500249099918603, 0.07500619269244276, 0.07499754734348589, 0.07500074902588875, 0.07500081354341828, 0.07501808811194963, 0.07500699109687067, 0.0750009829019333, 0.0750009829019333, 0.0750009829019333, 0.07503629818465912, 0.07502343500220932, 0.07506170196191109, 0.07503859662164859, 0.0755278895009038, 0.07507729100998349, 0.07502482212909418, 0.0750299835314565, 0.07505102431077408, 0.0750339674889049, 0.0750141202838836, 0.07501799940034652, 0.07503861275103098, 0.07503805628733878, 0.07501338639698521, 0.07501953169167283, 0.07500606365738369, 0.07500565235813295, 0.07501891071045111, 0.0750108621486424, 0.07500993470915542, 0.07500816047709338, 0.07500866048794723, 0.07500756368994524, 12989.559794725812, 5008.662941769275, 3480.7175043315483, 2846.6372475747294, 1772.1829625764058, 1714.2387985799044, 0.10851291480713858, 0.1085248637310852, 0.10850310806513348, 0.10850006171548934, 0.10850006171548934, 0.10851208714593388, 0.10850160575571993, 0.10851069611869912, 0.10851069611869912, 0.10851069611869912, 0.10850130668486445, 0.10851136381177182, 0.10851175329939755, 0.10850218998715853, 0.10850327498840165, 0.10850456864372998, 0.10850456864372998, 0.10850774714096142, 0.10851737304942599, 0.10850273248778008, 0.10850273248778008, 0.10850273248778008, 0.10850273248778008, 0.10850298982781852, 0.10851859715339258, 0.10858191671311912, 0.10850752457660386, 0.1085285082224403, 0.1085452492352107, 0.10863394808683553, 0.10855034735002611, 0.1085219982149816, 0.10861384078815699, 0.10851323474340258, 0.10854332266249055, 0.10852226946529238, 0.10856287355027518, 0.10853704217452559, 0.10857956587709236, 0.10854234894342621, 0.10853227095111034, 0.10853362024752806, 0.10912670557447889, 0.10858769643127957, 0.10856748480555843, 0.10853419752383049, 0.108521094047279, 0.10853436444709866, 0.10852831347862743, 0.10854090923023824, 0.10853750816864922, 0.10854727317983728, 0.10852958626854724, 0.10852676248326067, 6323.2713617538, 5981.410886650207, 4016.2303181469433, 1663.344157998823, 117.85436381045785, 0.08993045392062837, 0.08993045392062837, 0.08993052814789565, 0.0899306766024302, 0.08993855397117008, 0.08993855397117008, 0.08993855397117008, 0.08994491895933918, 0.08993320032951765, 0.08994530865249238, 0.08993480549417254, 0.08991624867735305, 0.08991624867735305, 0.08991625795576146, 0.08991625795576146, 0.08991633218302873, 0.0899151538251607, 0.08991395691047584, 0.08991395691047584, 0.08991395691047584, 0.08991395691047584, 0.08991793734768362, 0.08991181359813319, 0.08991432804681222, 0.08991432804681222, 0.0899276240060634, 0.0899486581579283, 0.08991831776242842, 0.0899253415175946, 0.08999116254685337, 0.08996277061711953, 0.08994709010690706, 0.08992521161987686, 0.08995197054973059, 0.09014480371171041, 0.08993320032951765, 0.0899224930462128, 0.08992754977879612, 0.08993882304501397, 0.08992978587522286, 0.08992455285287977, 4093.48477395585, 2942.637185545591, 2795.3268088839204, 2027.9403179808512, 1515.5205742056694, 953.0123948036097, 0.08793877842321601, 0.08793877842321601, 0.0879387859620221, 0.08795010924877733, 0.08795010924877733, 0.08795010924877733, 0.08795010924877733, 0.08795010924877733, 0.08793891412172573, 0.08795442144586388, 0.08794201257103092, 0.08793906489784764, 0.08793943429934631, 0.08795150392790498, 0.08792364803938263, 0.08794315093075132, 0.08794082143966786, 0.08794411589793152, 0.08795393896227378, 0.08790197397185848, 0.08791046266752185, 0.08795380326376406, 0.08790294647784479, 0.08790294647784479, 0.08798469729114283, 0.08792862365140557, 0.08792253983488661, 0.08796620459979092, 0.08801685783794563, 12440.682553996552, 494.44095589837355, 0.1284281108159675, 0.1281485394543896, 0.12814320080202418, 0.12814449859596935, 0.12814704994088433, 0.12814560467035446, 0.12814610609074237, 0.12813234652539174, 0.12812742080746342, 0.12812671291985694, 0.12814651902517948, 0.12811559318537208, 0.12811579965259062, 0.12811571116663983, 0.1281207401181774, 0.1281196340437923, 0.1281191326234044, 0.12811028402832358, 0.128110328271299, 0.12810964987900947, 0.12810962038369253, 0.12811697946526807, 0.12811354326084504, 0.12810795389828566, 0.12810810137487033, 0.12810826359911348, 0.12810487163766585, 0.12810591872141708, 0.128128541629507, 0.1281515332290586, 0.12818416979724828, 0.12817110337184565, 0.12812411733196657, 0.1281244712757698, 0.1281180707919947, 0.12811773159584994, 0.12816756393381332, 0.12816687079386532, 0.12812658019093073, 0.12813017861959694, 0.12816344933710075, 0.12847633565915786, 0.12814240442846692, 0.12815685713376554, 0.12813329037553367, 0.12815819917068613, 0.12813321663724134, 0.12813072428296024, 0.12814137209237414, 0.12814175553149432, 0.12813626940254422, 0.12813091600252033, 594.4354792983235, 0.06186418557248495, 0.061864181609939076, 0.06186365459133718, 0.06186342080113032, 0.06186342080113032, 0.06186342080113032, 0.06186418557248495, 0.06186197447188451, 0.06186197447188451, 0.06186197447188451, 0.061860944209955984, 0.06186027057715657, 0.061861665393305953, 0.06186197447188451, 0.061859644494907697, 0.061861356314727396, 0.06185974355855467, 0.061859569206536, 0.061859569206536, 0.06185974355855467, 0.06185974355855467, 0.06185932749123738, 0.06185932749123738, 0.06185932749123738, 0.0618644589881506, 0.06186197447188451, 0.06185899859992943, 0.06185899859992943, 0.061858966899562405, 0.06186005263713323, 0.06185998527385329, 0.06186031812770712, 0.06186365459133718, 0.06186240638938531, 0.061863393063309166, 0.0618642133103061, 0.061860944209955984, 0.061860944209955984, 0.06186124140089691, 0.0618612810263557, 0.061861356314727396, 0.06186097591032302, 0.06186342080113032, 0.06186345646404323, 0.06186794999106993, 0.06186212108608203, 0.0618624460148441, 0.061863646666245414, 0.061862168636632575, 0.061862616404316895, 0.06186865532423638, 0.061862220149729, 0.061861542554383704, 0.010861179257056324, 0.010861179257056324, 0.010861179257056324, 0.010861179257056324, 0.010861179257056324, 0.010861179257056324, 0.010861179257056324, 0.010861179257056324, 0.010861179257056324, 0.010861179257056324, 0.010861179257056324, 0.010861179257056324, 0.010861179257056324, 0.010861179257056324, 0.010861179257056324, 0.010861179257056324, 0.010861179257056324, 0.010861179257056324, 0.010861179257056324, 0.010861179257056324, 0.010861179257056324, 0.010861179257056324, 0.010861179257056324, 0.010861179257056324, 0.010861179257056324, 0.010861179257056324, 0.010861179257056324, 0.010861179257056324, 0.010861179257056324, 0.010861179257056324, 0.010861179257056324, 0.010861179257056324, 0.010861179257056324, 0.010861179257056324, 0.010861179257056324, 0.010861179257056324, 0.010861179257056324, 0.010861179257056324, 0.010861179257056324, 0.010861179257056324, 0.010861179257056324, 0.010861179257056324, 0.010861179257056324, 0.010861179257056324, 0.010861179257056324, 0.010861179257056324, 0.010861179257056324, 0.010861179257056324, 0.010861179257056324, 0.010861179257056324, 0.010861179257056324, 0.010861179257056324, 0.010861179257056324, 0.010861179257056324, 0.010861179257056324, 0.010861179257056324, 0.010861179257056324, 0.010861179257056324, 0.010861179257056324, 0.010804230905068756, 0.010804230905068756, 0.010804230905068756, 0.010804230905068756, 0.010804230905068756, 0.010804230905068756, 0.010804230905068756, 0.010804230905068756, 0.010804230905068756, 0.010804230905068756, 0.010804230905068756, 0.010804230905068756, 0.010804230905068756, 0.010804230905068756, 0.010804230905068756, 0.010804230905068756, 0.010804230905068756, 0.010804230905068756, 0.010804230905068756, 0.010804230905068756, 0.010804230905068756, 0.010804230905068756, 0.010804230905068756, 0.010804230905068756, 0.010804230905068756, 0.010804230905068756, 0.010804230905068756, 0.010804230905068756, 0.010804230905068756, 0.010804230905068756, 0.010804230905068756, 0.010804230905068756, 0.010804230905068756, 0.010804230905068756, 0.010804230905068756, 0.010804230905068756, 0.010804230905068756, 0.010804230905068756, 0.010804230905068756, 0.010804230905068756, 0.010804230905068756, 0.010804230905068756, 0.010804230905068756, 0.010804230905068756, 0.010804230905068756, 0.010804230905068756, 0.010804230905068756, 0.010804230905068756, 0.010804230905068756, 0.010804230905068756, 0.010804230905068756, 0.010804230905068756, 0.010804230905068756, 0.010804230905068756, 0.010804230905068756, 0.010804230905068756, 0.010804230905068756, 0.010804230905068756, 0.010804230905068756], \"Total\": [235412.0, 122390.0, 46946.0, 38772.0, 38714.0, 23627.0, 29445.0, 29008.0, 18831.0, 26238.0, 19694.0, 12442.0, 14996.0, 12991.0, 14963.0, 15785.0, 14393.0, 15920.0, 25025.0, 11089.0, 10102.0, 10806.0, 11854.0, 10097.0, 12334.0, 9412.0, 9139.0, 11385.0, 7831.0, 8378.0, 235412.5411433958, 25025.735361352934, 12946.615835951574, 5401.25460829023, 2501.982347023637, 1896.11553924759, 1863.807710650835, 749.8087575828274, 1.9204808132099487, 1.9031501869527185, 1.9027265832463374, 1.9023982188889275, 1.9022624071627658, 1.9023195161273874, 1.9017183247590064, 1.902814197142637, 1.9015783270373325, 1.9018053538597883, 1.901765258684494, 1.9011958876695296, 1.901816818496762, 1.9014321458974284, 1.9010157422853693, 1.9010631115105048, 1.9007989429973464, 1.9012031503091003, 1.901030725892656, 1.900951630479335, 1.9011578104788327, 1.9007876578869918, 1.9015630349234434, 1.9011531273852564, 1.901090371328192, 1.9012701031972756, 122390.61096683827, 4455.172735889606, 3703.254669322339, 3007.9839028092238, 2341.4304556600405, 1639.078220584771, 1.9204808132099487, 1.9031501869527185, 1.902814197142637, 1.9022624071627658, 1.9011239733699705, 1.9023982188889275, 1.9009008878512126, 1.9017183247590064, 1.9027265832463374, 1.9015630349234434, 1.9010998502701328, 1.901765258684494, 1.900752681469936, 1.9012031503091003, 1.9023195161273874, 1.9015783270373325, 1.901816818496762, 1.9011578104788327, 1.9006909591371257, 1.9006708249910966, 1.9014321458974284, 1.9011724696271806, 1.9004503494163398, 1.9011112578996414, 1.9010157422853693, 1.9018053538597883, 1.9012701031972756, 38714.53851339729, 29445.59340619608, 29008.820797462988, 15920.972268671005, 3951.720162162533, 827.777682323606, 675.492370024195, 466.47622844799525, 455.4043844337496, 1.9204808132099487, 1.9027265832463374, 1.9018053538597883, 1.9031501869527185, 1.9005035262816175, 1.9014321458974284, 1.902814197142637, 1.901090371328192, 1.9023195161273874, 1.9017183247590064, 1.9005892442888752, 1.9022624071627658, 1.901030725892656, 1.900750751093363, 1.900267108005568, 1.9011578104788327, 1.9000428560318128, 1.9000338298677657, 1.9000250186760892, 1.9000250186760892, 1.900056206794798, 1.9015783270373325, 1.901765258684494, 1.9005971682348137, 1.9007691954737707, 1.9023982188889275, 1.901816818496762, 1.9011531273852564, 1.9011112578996414, 1.9015630349234434, 1.9011958876695296, 1.9012701031972756, 38772.98247548637, 26238.801277887855, 11385.36393978436, 8637.251978873017, 5064.517347557512, 3088.872701413331, 2776.1778258205554, 2359.057332720643, 1983.9895023987062, 1453.7397980323371, 985.554351089277, 945.2900800695263, 935.1224883310144, 22.319396140234222, 1.9204808132099487, 1.9023982188889275, 1.901816818496762, 1.902814197142637, 1.9031501869527185, 1.9023195161273874, 1.9022624071627658, 1.9011531273852564, 1.9027265832463374, 1.9011958876695296, 1.9014321458974284, 1.9011239733699705, 1.901765258684494, 1.9018053538597883, 1.9008873158237265, 1.9011724696271806, 1.9015783270373325, 1.9017183247590064, 1.9015630349234434, 46946.67386352399, 12334.248304294699, 10188.779216514975, 7232.431599248715, 4393.078536958178, 1455.4364308128497, 1051.964564423128, 936.0298424353524, 828.0641282598272, 819.5350440581575, 528.4288388717766, 1.9204808132099487, 1.9027265832463374, 1.9031501869527185, 1.9023195161273874, 1.901765258684494, 1.9018053538597883, 1.902814197142637, 1.9023982188889275, 1.9015783270373325, 1.9014321458974284, 1.90088088926969, 1.9022624071627658, 1.901816818496762, 1.9010631115105048, 1.9012701031972756, 1.9017183247590064, 1.9010157422853693, 1.9007160963753023, 1.9011724696271806, 1.9011958876695296, 1.9015630349234434, 15785.717172259854, 11854.796877870907, 8625.412389172958, 8191.81135461996, 7866.27591494917, 6271.831716804869, 4783.185692500706, 4294.518252956162, 3059.587936099045, 2303.753675093772, 1865.7578833773357, 1793.5495857636588, 1.9204808132099487, 1.902814197142637, 1.9031501869527185, 1.9011578104788327, 1.9027265832463374, 1.901765258684494, 1.9011958876695296, 1.9009008878512126, 1.9011724696271806, 1.9014321458974284, 1.9002783020330833, 1.9004381376909845, 1.9022624071627658, 1.90088088926969, 1.900191279418338, 1.9015783270373325, 1.9023982188889275, 1.9007876578869918, 1.9023195161273874, 1.9011239733699705, 1.9017183247590064, 1.9018053538597883, 1.901816818496762, 1.9015630349234434, 1.9012701031972756, 19694.19658316265, 14393.860293288175, 6125.274507355869, 5492.864598230322, 5486.454472928082, 5401.047344269412, 3876.289547503344, 3754.7789016836286, 2103.981321006266, 1354.7103104184923, 159.57519228675446, 1.9204808132099487, 1.9012701031972756, 1.9004853544261504, 1.900540068010902, 1.9002953213864293, 1.9002953213864293, 1.9002953213864293, 1.9027265832463374, 1.9031501869527185, 1.901816818496762, 1.9008873158237265, 1.900968726866681, 1.9007291198480274, 1.9018053538597883, 1.9023982188889275, 1.9023195161273874, 1.9011531273852564, 1.900124369965421, 1.9001628195205444, 1.9011239733699705, 1.902814197142637, 1.9015783270373325, 1.9022624071627658, 1.901765258684494, 14963.832332399767, 10806.908697289784, 6307.732283385024, 4774.179355550327, 4736.624662868424, 3940.7246513810223, 2581.028520022124, 2115.776948845545, 1976.235547979473, 1649.3501409309056, 1070.7933944027704, 875.6453611394597, 329.1453504298671, 1.9011724696271806, 1.9002783020330833, 1.9031501869527185, 1.9005035262816175, 1.9002228703446251, 1.9001729277397907, 1.900166313132869, 1.900166313132869, 1.900166313132869, 1.900166313132869, 1.900166313132869, 1.900166313132869, 1.900167405439569, 1.9001956408517604, 1.9002525084399222, 1.900253469540859, 1.900175326829202, 1.9022624071627658, 1.902814197142637, 1.9012701031972756, 1.9204808132099487, 1.901816818496762, 1.9023195161273874, 1.901765258684494, 1.9027265832463374, 1.9017183247590064, 1.9023982188889275, 1.9018053538597883, 1.9011578104788327, 1.9012031503091003, 1.9015783270373325, 1.9014321458974284, 1.9015630349234434, 11089.723942222101, 6124.165546695432, 5363.576762702745, 4341.8830723892825, 3326.8962305651517, 3046.6171662180805, 2495.3479173785886, 2492.889952180015, 1926.7656944741152, 1817.9003135970142, 1732.7895829888214, 1510.0351945121722, 921.9171453885314, 872.016124858459, 506.94171260870587, 365.86424117187664, 349.4942561312197, 196.8671076802733, 129.53751902939794, 1.9005151789218655, 1.9011112578996414, 1.9007291198480274, 1.900968726866681, 1.9000502699741522, 1.9000356100158087, 1.9000467369279845, 1.9000298812338339, 1.9000298812338339, 1.9000298812338339, 1.9000298812338339, 1.9015783270373325, 1.9023982188889275, 1.90088088926969, 1.9204808132099487, 1.9003261398717752, 1.9031501869527185, 1.9023195161273874, 1.9011958876695296, 1.9027265832463374, 1.9022624071627658, 1.901765258684494, 1.902814197142637, 1.901816818496762, 14996.510050979656, 10097.697285855933, 8378.299575705947, 5130.486970184338, 2859.028903418383, 1946.9961317270368, 1445.8396755757847, 1322.9385544209986, 688.3042863837472, 337.372647218389, 254.3699264998314, 1.901816818496762, 1.9002532606249067, 1.9000854555369333, 1.9000674025003756, 1.9000674025003756, 1.9000674025003756, 1.9000674025003756, 1.900077496527712, 1.900083287844395, 1.9000975430521698, 1.9001322293414635, 1.900312350730061, 1.9006909591371257, 1.9006708249910966, 1.9003395088978239, 1.900584739358931, 1.9003526788410365, 1.9008873158237265, 1.9022624071627658, 1.9009008878512126, 1.9010998502701328, 1.9204808132099487, 1.900752681469936, 1.9004503494163398, 1.902814197142637, 1.9023195161273874, 1.9031501869527185, 1.9015783270373325, 1.9011531273852564, 1.9027265832463374, 1.9015630349234434, 1.9023982188889275, 1.9012031503091003, 1.9018053538597883, 1.9017183247590064, 10102.53490488305, 9412.880954359114, 9139.85315849691, 4162.135167997684, 2765.518248844542, 2009.8602291460159, 1437.0320311222733, 1085.5199917589493, 884.5012348646623, 417.14020243418184, 320.3335803929962, 1.9001887045670918, 1.9001887045670918, 1.9005926795196229, 1.900075478798256, 1.900075478798256, 1.9015630349234434, 1.9011112578996414, 1.9010290192367767, 1.9004652198163652, 1.8999217788818414, 1.8999217788818414, 1.8999217788818414, 1.9000042025676198, 1.9000000824709224, 1.9000000824709224, 1.9000000824709224, 1.9000000824709224, 1.9000000824709224, 1.9000000824709224, 1.9002565561652784, 1.9003785769204486, 1.9012031503091003, 1.9023195161273874, 1.9000081811632799, 1.9006481866310898, 1.901090371328192, 1.9006217772700065, 1.900951630479335, 1.9018053538597883, 1.9204808132099487, 1.9027265832463374, 1.9022624071627658, 1.901816818496762, 1.902814197142637, 1.9023982188889275, 1.9015783270373325, 1.9031501869527185, 1.9017183247590064, 1.901765258684494, 18831.268947120378, 7831.685364103099, 5833.252202795283, 1982.0523063104313, 902.6813368122093, 428.3795364134983, 385.56904674830616, 1.9017183247590064, 1.9004300008715533, 1.9004381376909845, 1.9022624071627658, 1.9004343443065634, 1.9001096864499756, 1.9000542665018323, 1.9000542665018323, 1.9000542665018323, 1.9000542665018323, 1.9000542665018323, 1.9002174556144933, 1.900096494905789, 1.9001292010416653, 1.90011837532423, 1.900218465805673, 1.9001544498678458, 1.9001115659366656, 1.900157120902214, 1.9002836174527353, 1.9000854555369333, 1.9011578104788327, 1.9003526788410365, 1.9023982188889275, 1.900584739358931, 1.9204808132099487, 1.9023195161273874, 1.9027265832463374, 1.9010998502701328, 1.9015783270373325, 1.901030725892656, 1.9018053538597883, 1.9031501869527185, 1.9011958876695296, 1.901765258684494, 1.901816818496762, 1.902814197142637, 1.901090371328192, 1.9011724696271806, 1.9015630349234434, 1.9010631115105048, 23627.82891940931, 3331.569344190719, 3160.2455364520542, 2767.137805238534, 459.33808556844247, 214.33136947506938, 1.902814197142637, 1.9001366768107244, 1.8999567811357017, 1.8999963736189234, 1.8999213120754204, 1.8999425730236676, 1.8999518352813227, 1.9001069298279603, 1.9002025424833868, 1.900202453102649, 1.900202453102649, 1.900202453102649, 1.900202453102649, 1.900202453102649, 1.900202538498037, 1.9002985789047115, 1.9000978246897617, 1.90018156404041, 1.9001848325793647, 1.9006261030960299, 1.900354250871199, 1.9002630211712574, 1.9002630211712574, 1.9002630211712574, 1.9011724696271806, 1.9009670278836617, 1.9023195161273874, 1.9015630349234434, 1.9204808132099487, 1.9031501869527185, 1.9011531273852564, 1.9014321458974284, 1.9023982188889275, 1.901765258684494, 1.90088088926969, 1.9011239733699705, 1.9022624071627658, 1.9027265832463374, 1.9010157422853693, 1.9015783270373325, 1.9005184390707397, 1.9004877160093003, 1.9017183247590064, 1.9012031503091003, 1.9018053538597883, 1.9011958876695296, 1.901816818496762, 1.9011578104788327, 12991.351136125493, 5010.454283168957, 3482.50884573123, 2848.428588985778, 1773.9743039760874, 1716.030139979586, 1.9000189931979063, 1.9003526788410365, 1.899975302360073, 1.899926992284586, 1.8999273965893886, 1.9001450122651886, 1.8999620762523013, 1.9001221651101605, 1.9001221651101605, 1.9001222930157187, 1.8999687000044332, 1.9001448546201998, 1.9001664493338517, 1.9000175515535764, 1.9000411386460898, 1.900075478798256, 1.900075478798256, 1.9001322293414635, 1.9003218017822134, 1.9000674025003756, 1.9000674025003756, 1.9000674025003756, 1.9000674025003756, 1.900077496527712, 1.9003563021906513, 1.9015630349234434, 1.9001596710010957, 1.9006011428693594, 1.901030725892656, 1.9031501869527185, 1.9011724696271806, 1.9005025300975005, 1.902814197142637, 1.900312350730061, 1.9011531273852564, 1.900584739358931, 1.9018053538597883, 1.9010290192367767, 1.9023195161273874, 1.9011958876695296, 1.9008873158237265, 1.900951630479335, 1.9204808132099487, 1.9027265832463374, 1.9022624071627658, 1.9011112578996414, 1.9005926795196229, 1.9012701031972756, 1.9009670278836617, 1.901765258684494, 1.9015783270373325, 1.9023982188889275, 1.9011578104788327, 1.9014321458974284, 6325.081286308578, 5983.220811204985, 4018.0402427017216, 1665.154082553601, 119.66428841993536, 1.9000823218956238, 1.9000823218956238, 1.9000889292259662, 1.9001084374017447, 1.9002953213864293, 1.9002953213864293, 1.9002953213864293, 1.9004853544261504, 1.9002574534992076, 1.900540068010902, 1.9004177303128449, 1.9000397846833859, 1.9000397846833859, 1.9000401801373847, 1.9000403106881407, 1.9000491033326654, 1.9000543897399722, 1.9000431459601834, 1.9000431459601834, 1.9000431459601834, 1.9000431459601834, 1.9001384500211764, 1.9000096946209564, 1.9000810823491419, 1.9000821607040124, 1.9004572356177558, 1.9012701031972756, 1.9002230653837688, 1.9005025300975005, 1.9031501869527185, 1.9023982188889275, 1.9017183247590064, 1.900752681469936, 1.902814197142637, 1.9204808132099487, 1.9015630349234434, 1.9006261030960299, 1.9011239733699705, 1.9027265832463374, 1.9022624071627658, 1.9023195161273874, 4095.2966962920027, 2944.4491078817437, 2797.138731220073, 2029.752240317004, 1517.3324965418221, 954.8243171397625, 1.8999965293150094, 1.8999965293150094, 1.899997068037417, 1.9002630211712574, 1.9002630211712574, 1.9002630211712574, 1.9002630211712574, 1.9002630211712574, 1.9000259256275291, 1.9003622653499412, 1.9001147267040903, 1.9000587665803672, 1.9000673029184478, 1.9005184390707397, 1.89994933575043, 1.9003848664290526, 1.900400457344856, 1.9005357247286987, 1.90088088926969, 1.899865922875074, 1.9000731050045105, 1.9010157422853693, 1.8999382506733948, 1.8999382506733948, 1.901765258684494, 1.9005370937608501, 1.9006192335793457, 1.902814197142637, 1.9204808132099487, 12442.454264372162, 496.2126662739833, 1.9011366617937826, 1.9000076472794978, 1.8999554076629108, 1.900035434772712, 1.9001271924370897, 1.9001620511942552, 1.9001985270696653, 1.9000172768406636, 1.89995969290978, 1.8999766771217859, 1.9002836174527353, 1.8998486214371948, 1.899869767945181, 1.8998836376020696, 1.8999939235319365, 1.8999785331614016, 1.8999775419685005, 1.8998471266181578, 1.8998478963281777, 1.899844356080465, 1.8998520236347165, 1.899971118562014, 1.8999279192880731, 1.899845274417295, 1.899848354888452, 1.8998552744068034, 1.8998226363049115, 1.8998385823778272, 1.900178305758737, 1.9005357247286987, 1.901090371328192, 1.9009072373407132, 1.9001251376730095, 1.9001455316266267, 1.9000761263500354, 1.9000843004258225, 1.9018053538597883, 1.901816818496762, 1.90042467353017, 1.9006192335793457, 1.9023982188889275, 1.9204808132099487, 1.9014321458974284, 1.9023195161273874, 1.9009008878512126, 1.9027265832463374, 1.9009670278836617, 1.9010631115105048, 1.902814197142637, 1.9031501869527185, 1.9022624071627658, 1.901765258684494, 596.2734304728048, 1.8998267840927896, 1.8998363381270176, 1.8998254274390423, 1.8998271619260698, 1.8998295117412858, 1.8998322722700745, 1.8998891854283462, 1.8998348323610499, 1.8998585488241668, 1.8998622956276718, 1.899840079378659, 1.8998194262503594, 1.8998631360680527, 1.8998767198529871, 1.899818622462339, 1.899871325925366, 1.8998221254541958, 1.8998168646247713, 1.8998192038888204, 1.8998249768238573, 1.8998269958246172, 1.8998144428280395, 1.8998146459468923, 1.8998182624970232, 1.8999759775353289, 1.8999009714856867, 1.8998131731379764, 1.8998131731379764, 1.899813010575688, 1.8998498526121643, 1.8998539278031232, 1.8998768913639783, 1.9000461954443462, 1.9000092120476364, 1.9000739760246672, 1.9001593340470702, 1.899924686292832, 1.8999303869824198, 1.8999579869078609, 1.899971318715827, 1.8999918416929673, 1.89999135138403, 1.90034030146822, 1.9004503494163398, 1.9014321458974284, 1.900307675939778, 1.9004779889989651, 1.9012031503091003, 1.9006760017816673, 1.9018053538597883, 1.9204808132099487, 1.9023982188889275, 1.9011239733699705, 1.8998091269691557, 1.8998091269691557, 1.8998091269691557, 1.8998091269691557, 1.8998091269691557, 1.8998091269691557, 1.8998091269691557, 1.8998091269691557, 1.8998091269691557, 1.8998091269691557, 1.8998091269691557, 1.8998091269691557, 1.8998091269691557, 1.8998091269691557, 1.8998091269691557, 1.8998091269691557, 1.8998091269691557, 1.8998091269691557, 1.8998091269691557, 1.8998091269691557, 1.8998091269691557, 1.8998091269691557, 1.8998091269691557, 1.8998091269691557, 1.8998091269691557, 1.8998091269691557, 1.8998091269691557, 1.8998091269691557, 1.8998091269691557, 1.8998091269691557, 945.2900800695263, 3482.50884573123, 1.9014321458974284, 1.899830052071091, 29008.820797462988, 38714.53851339729, 1.899824695952374, 1.899833990078645, 428.3795364134983, 235412.5411433958, 1.899991325022003, 5833.252202795283, 18831.268947120378, 1.899809700438181, 7831.685364103099, 1.8998094669762287, 1.8998183118322876, 1.8998540470406184, 12442.454264372162, 1.8998709165076852, 2501.982347023637, 25025.735361352934, 1863.807710650835, 9139.85315849691, 29445.59340619608, 1.8998332579148955, 1.899904286402025, 1.8998158743419875, 6125.274507355869, 1.8998091269691557, 1.8998091269691557, 1.8998091269691557, 1.8998091269691557, 1.8998091269691557, 1.8998091269691557, 1.8998091269691557, 1.8998091269691557, 1.8998091269691557, 1.8998091269691557, 1.8998091269691557, 1.8998091269691557, 1.8998091269691557, 1.8998091269691557, 1.8998091269691557, 1.8998091269691557, 1.8998091269691557, 1.8998091269691557, 1.8998091269691557, 1.8998091269691557, 1.8998091269691557, 1.8998091269691557, 1.8998091269691557, 1.8998091269691557, 1.8998091269691557, 1.8998091269691557, 1.8998091269691557, 1.8998091269691557, 1.8998091269691557, 1.8998091269691557, 945.2900800695263, 3482.50884573123, 1.9014321458974284, 1.899830052071091, 29008.820797462988, 38714.53851339729, 1.899824695952374, 1.899833990078645, 428.3795364134983, 235412.5411433958, 1.899991325022003, 5833.252202795283, 18831.268947120378, 1.899809700438181, 7831.685364103099, 1.8998094669762287, 1.8998183118322876, 1.8998540470406184, 12442.454264372162, 1.8998709165076852, 2501.982347023637, 25025.735361352934, 1863.807710650835, 9139.85315849691, 29445.59340619608, 1.8998332579148955, 1.899904286402025, 1.8998158743419875, 6125.274507355869], \"Category\": [\"Default\", \"Default\", \"Default\", \"Default\", \"Default\", \"Default\", \"Default\", \"Default\", \"Default\", \"Default\", \"Default\", \"Default\", \"Default\", \"Default\", \"Default\", \"Default\", \"Default\", \"Default\", \"Default\", \"Default\", \"Default\", \"Default\", \"Default\", \"Default\", \"Default\", \"Default\", \"Default\", \"Default\", \"Default\", \"Default\", \"Topic1\", \"Topic1\", \"Topic1\", \"Topic1\", \"Topic1\", \"Topic1\", \"Topic1\", \"Topic1\", \"Topic1\", \"Topic1\", \"Topic1\", \"Topic1\", \"Topic1\", \"Topic1\", \"Topic1\", \"Topic1\", \"Topic1\", \"Topic1\", \"Topic1\", \"Topic1\", \"Topic1\", \"Topic1\", \"Topic1\", \"Topic1\", \"Topic1\", \"Topic1\", \"Topic1\", \"Topic1\", \"Topic1\", \"Topic1\", \"Topic1\", \"Topic1\", \"Topic1\", \"Topic1\", \"Topic2\", \"Topic2\", \"Topic2\", \"Topic2\", \"Topic2\", \"Topic2\", \"Topic2\", \"Topic2\", \"Topic2\", \"Topic2\", \"Topic2\", \"Topic2\", \"Topic2\", \"Topic2\", \"Topic2\", \"Topic2\", \"Topic2\", \"Topic2\", \"Topic2\", \"Topic2\", \"Topic2\", \"Topic2\", \"Topic2\", \"Topic2\", \"Topic2\", \"Topic2\", \"Topic2\", \"Topic2\", \"Topic2\", \"Topic2\", \"Topic2\", \"Topic2\", \"Topic2\", \"Topic3\", \"Topic3\", \"Topic3\", \"Topic3\", \"Topic3\", \"Topic3\", \"Topic3\", \"Topic3\", \"Topic3\", \"Topic3\", \"Topic3\", \"Topic3\", \"Topic3\", \"Topic3\", \"Topic3\", \"Topic3\", \"Topic3\", \"Topic3\", \"Topic3\", \"Topic3\", \"Topic3\", \"Topic3\", \"Topic3\", \"Topic3\", \"Topic3\", \"Topic3\", \"Topic3\", \"Topic3\", \"Topic3\", \"Topic3\", \"Topic3\", \"Topic3\", \"Topic3\", \"Topic3\", \"Topic3\", \"Topic3\", \"Topic3\", \"Topic3\", \"Topic3\", \"Topic3\", \"Topic3\", \"Topic4\", \"Topic4\", \"Topic4\", \"Topic4\", \"Topic4\", \"Topic4\", \"Topic4\", \"Topic4\", \"Topic4\", \"Topic4\", \"Topic4\", \"Topic4\", \"Topic4\", \"Topic4\", \"Topic4\", \"Topic4\", \"Topic4\", \"Topic4\", \"Topic4\", \"Topic4\", \"Topic4\", \"Topic4\", \"Topic4\", \"Topic4\", \"Topic4\", \"Topic4\", \"Topic4\", \"Topic4\", \"Topic4\", \"Topic4\", \"Topic4\", \"Topic4\", \"Topic4\", \"Topic5\", \"Topic5\", \"Topic5\", \"Topic5\", \"Topic5\", \"Topic5\", \"Topic5\", \"Topic5\", \"Topic5\", \"Topic5\", \"Topic5\", \"Topic5\", \"Topic5\", \"Topic5\", \"Topic5\", \"Topic5\", \"Topic5\", \"Topic5\", \"Topic5\", \"Topic5\", \"Topic5\", \"Topic5\", \"Topic5\", \"Topic5\", \"Topic5\", \"Topic5\", \"Topic5\", \"Topic5\", \"Topic5\", \"Topic5\", \"Topic5\", \"Topic5\", \"Topic6\", \"Topic6\", \"Topic6\", \"Topic6\", \"Topic6\", \"Topic6\", \"Topic6\", \"Topic6\", \"Topic6\", \"Topic6\", \"Topic6\", \"Topic6\", \"Topic6\", \"Topic6\", \"Topic6\", \"Topic6\", \"Topic6\", \"Topic6\", \"Topic6\", \"Topic6\", \"Topic6\", \"Topic6\", \"Topic6\", \"Topic6\", \"Topic6\", \"Topic6\", \"Topic6\", \"Topic6\", \"Topic6\", \"Topic6\", \"Topic6\", \"Topic6\", \"Topic6\", \"Topic6\", \"Topic6\", \"Topic6\", \"Topic6\", \"Topic7\", \"Topic7\", \"Topic7\", \"Topic7\", \"Topic7\", \"Topic7\", \"Topic7\", \"Topic7\", \"Topic7\", \"Topic7\", \"Topic7\", \"Topic7\", \"Topic7\", \"Topic7\", \"Topic7\", \"Topic7\", \"Topic7\", \"Topic7\", \"Topic7\", \"Topic7\", \"Topic7\", \"Topic7\", \"Topic7\", \"Topic7\", \"Topic7\", \"Topic7\", \"Topic7\", \"Topic7\", \"Topic7\", \"Topic7\", \"Topic7\", \"Topic7\", \"Topic7\", \"Topic7\", \"Topic7\", \"Topic8\", \"Topic8\", \"Topic8\", \"Topic8\", \"Topic8\", \"Topic8\", \"Topic8\", \"Topic8\", \"Topic8\", \"Topic8\", \"Topic8\", \"Topic8\", \"Topic8\", \"Topic8\", \"Topic8\", \"Topic8\", \"Topic8\", \"Topic8\", \"Topic8\", \"Topic8\", \"Topic8\", \"Topic8\", \"Topic8\", \"Topic8\", \"Topic8\", \"Topic8\", \"Topic8\", \"Topic8\", \"Topic8\", \"Topic8\", \"Topic8\", \"Topic8\", \"Topic8\", \"Topic8\", \"Topic8\", \"Topic8\", \"Topic8\", \"Topic8\", \"Topic8\", \"Topic8\", \"Topic8\", \"Topic8\", \"Topic8\", \"Topic8\", \"Topic8\", \"Topic8\", \"Topic9\", \"Topic9\", \"Topic9\", \"Topic9\", \"Topic9\", \"Topic9\", \"Topic9\", \"Topic9\", \"Topic9\", \"Topic9\", \"Topic9\", \"Topic9\", \"Topic9\", \"Topic9\", \"Topic9\", \"Topic9\", \"Topic9\", \"Topic9\", \"Topic9\", \"Topic9\", \"Topic9\", \"Topic9\", \"Topic9\", \"Topic9\", \"Topic9\", \"Topic9\", \"Topic9\", \"Topic9\", \"Topic9\", \"Topic9\", \"Topic9\", \"Topic9\", \"Topic9\", \"Topic9\", \"Topic9\", \"Topic9\", \"Topic9\", \"Topic9\", \"Topic9\", \"Topic9\", \"Topic9\", \"Topic9\", \"Topic9\", \"Topic10\", \"Topic10\", \"Topic10\", \"Topic10\", \"Topic10\", \"Topic10\", \"Topic10\", \"Topic10\", \"Topic10\", \"Topic10\", \"Topic10\", \"Topic10\", \"Topic10\", \"Topic10\", \"Topic10\", \"Topic10\", \"Topic10\", \"Topic10\", \"Topic10\", \"Topic10\", \"Topic10\", \"Topic10\", \"Topic10\", \"Topic10\", \"Topic10\", \"Topic10\", \"Topic10\", \"Topic10\", \"Topic10\", \"Topic10\", \"Topic10\", \"Topic10\", \"Topic10\", \"Topic10\", \"Topic10\", \"Topic10\", \"Topic10\", \"Topic10\", \"Topic10\", \"Topic10\", \"Topic10\", \"Topic10\", \"Topic10\", \"Topic10\", \"Topic10\", \"Topic10\", \"Topic11\", \"Topic11\", \"Topic11\", \"Topic11\", \"Topic11\", \"Topic11\", \"Topic11\", \"Topic11\", \"Topic11\", \"Topic11\", \"Topic11\", \"Topic11\", \"Topic11\", \"Topic11\", \"Topic11\", \"Topic11\", \"Topic11\", \"Topic11\", \"Topic11\", \"Topic11\", \"Topic11\", \"Topic11\", \"Topic11\", \"Topic11\", \"Topic11\", \"Topic11\", \"Topic11\", \"Topic11\", \"Topic11\", \"Topic11\", \"Topic11\", \"Topic11\", \"Topic11\", \"Topic11\", \"Topic11\", \"Topic11\", \"Topic11\", \"Topic11\", \"Topic11\", \"Topic11\", \"Topic11\", \"Topic11\", \"Topic11\", \"Topic11\", \"Topic11\", \"Topic11\", \"Topic11\", \"Topic11\", \"Topic11\", \"Topic11\", \"Topic12\", \"Topic12\", \"Topic12\", \"Topic12\", \"Topic12\", \"Topic12\", \"Topic12\", \"Topic12\", \"Topic12\", \"Topic12\", \"Topic12\", \"Topic12\", \"Topic12\", \"Topic12\", \"Topic12\", \"Topic12\", \"Topic12\", \"Topic12\", \"Topic12\", \"Topic12\", \"Topic12\", \"Topic12\", \"Topic12\", \"Topic12\", \"Topic12\", \"Topic12\", \"Topic12\", \"Topic12\", \"Topic12\", \"Topic12\", \"Topic12\", \"Topic12\", \"Topic12\", \"Topic12\", \"Topic12\", \"Topic12\", \"Topic12\", \"Topic12\", \"Topic12\", \"Topic12\", \"Topic12\", \"Topic12\", \"Topic12\", \"Topic12\", \"Topic12\", \"Topic12\", \"Topic12\", \"Topic12\", \"Topic13\", \"Topic13\", \"Topic13\", \"Topic13\", \"Topic13\", \"Topic13\", \"Topic13\", \"Topic13\", \"Topic13\", \"Topic13\", \"Topic13\", \"Topic13\", \"Topic13\", \"Topic13\", \"Topic13\", \"Topic13\", \"Topic13\", \"Topic13\", \"Topic13\", \"Topic13\", \"Topic13\", \"Topic13\", \"Topic13\", \"Topic13\", \"Topic13\", \"Topic13\", \"Topic13\", \"Topic13\", \"Topic13\", \"Topic13\", \"Topic13\", \"Topic13\", \"Topic13\", \"Topic13\", \"Topic13\", \"Topic13\", \"Topic13\", \"Topic13\", \"Topic13\", \"Topic13\", \"Topic13\", \"Topic13\", \"Topic13\", \"Topic13\", \"Topic13\", \"Topic13\", \"Topic13\", \"Topic13\", \"Topic13\", \"Topic13\", \"Topic13\", \"Topic13\", \"Topic13\", \"Topic13\", \"Topic14\", \"Topic14\", \"Topic14\", \"Topic14\", \"Topic14\", \"Topic14\", \"Topic14\", \"Topic14\", \"Topic14\", \"Topic14\", \"Topic14\", \"Topic14\", \"Topic14\", \"Topic14\", \"Topic14\", \"Topic14\", \"Topic14\", \"Topic14\", \"Topic14\", \"Topic14\", \"Topic14\", \"Topic14\", \"Topic14\", \"Topic14\", \"Topic14\", \"Topic14\", \"Topic14\", \"Topic14\", \"Topic14\", \"Topic14\", \"Topic14\", \"Topic14\", \"Topic14\", \"Topic14\", \"Topic14\", \"Topic14\", \"Topic14\", \"Topic14\", \"Topic14\", \"Topic14\", \"Topic14\", \"Topic14\", \"Topic14\", \"Topic14\", \"Topic14\", \"Topic14\", \"Topic14\", \"Topic14\", \"Topic14\", \"Topic14\", \"Topic14\", \"Topic14\", \"Topic14\", \"Topic14\", \"Topic14\", \"Topic14\", \"Topic14\", \"Topic14\", \"Topic14\", \"Topic14\", \"Topic15\", \"Topic15\", \"Topic15\", \"Topic15\", \"Topic15\", \"Topic15\", \"Topic15\", \"Topic15\", \"Topic15\", \"Topic15\", \"Topic15\", \"Topic15\", \"Topic15\", \"Topic15\", \"Topic15\", \"Topic15\", \"Topic15\", \"Topic15\", \"Topic15\", \"Topic15\", \"Topic15\", \"Topic15\", \"Topic15\", \"Topic15\", \"Topic15\", \"Topic15\", \"Topic15\", \"Topic15\", \"Topic15\", \"Topic15\", \"Topic15\", \"Topic15\", \"Topic15\", \"Topic15\", \"Topic15\", \"Topic15\", \"Topic15\", \"Topic15\", \"Topic15\", \"Topic15\", \"Topic15\", \"Topic15\", \"Topic15\", \"Topic15\", \"Topic15\", \"Topic15\", \"Topic16\", \"Topic16\", \"Topic16\", \"Topic16\", \"Topic16\", \"Topic16\", \"Topic16\", \"Topic16\", \"Topic16\", \"Topic16\", \"Topic16\", \"Topic16\", \"Topic16\", \"Topic16\", \"Topic16\", \"Topic16\", \"Topic16\", \"Topic16\", \"Topic16\", \"Topic16\", \"Topic16\", \"Topic16\", \"Topic16\", \"Topic16\", \"Topic16\", \"Topic16\", \"Topic16\", \"Topic16\", \"Topic16\", \"Topic16\", \"Topic16\", \"Topic16\", \"Topic16\", \"Topic16\", \"Topic16\", \"Topic17\", \"Topic17\", \"Topic17\", \"Topic17\", \"Topic17\", \"Topic17\", \"Topic17\", \"Topic17\", \"Topic17\", \"Topic17\", \"Topic17\", \"Topic17\", \"Topic17\", \"Topic17\", \"Topic17\", \"Topic17\", \"Topic17\", \"Topic17\", \"Topic17\", \"Topic17\", \"Topic17\", \"Topic17\", \"Topic17\", \"Topic17\", \"Topic17\", \"Topic17\", \"Topic17\", \"Topic17\", \"Topic17\", \"Topic17\", \"Topic17\", \"Topic17\", \"Topic17\", \"Topic17\", \"Topic17\", \"Topic17\", \"Topic17\", \"Topic17\", \"Topic17\", \"Topic17\", \"Topic17\", \"Topic17\", \"Topic17\", \"Topic17\", \"Topic17\", \"Topic17\", \"Topic17\", \"Topic17\", \"Topic17\", \"Topic17\", \"Topic17\", \"Topic17\", \"Topic17\", \"Topic17\", \"Topic18\", \"Topic18\", \"Topic18\", \"Topic18\", \"Topic18\", \"Topic18\", \"Topic18\", \"Topic18\", \"Topic18\", \"Topic18\", \"Topic18\", \"Topic18\", \"Topic18\", \"Topic18\", \"Topic18\", \"Topic18\", \"Topic18\", \"Topic18\", \"Topic18\", \"Topic18\", \"Topic18\", \"Topic18\", \"Topic18\", \"Topic18\", \"Topic18\", \"Topic18\", \"Topic18\", \"Topic18\", \"Topic18\", \"Topic18\", \"Topic18\", \"Topic18\", \"Topic18\", \"Topic18\", \"Topic18\", \"Topic18\", \"Topic18\", \"Topic18\", \"Topic18\", \"Topic18\", \"Topic18\", \"Topic18\", \"Topic18\", \"Topic18\", \"Topic18\", \"Topic18\", \"Topic18\", \"Topic18\", \"Topic18\", \"Topic18\", \"Topic18\", \"Topic18\", \"Topic18\", \"Topic18\", \"Topic19\", \"Topic19\", \"Topic19\", \"Topic19\", \"Topic19\", \"Topic19\", \"Topic19\", \"Topic19\", \"Topic19\", \"Topic19\", \"Topic19\", \"Topic19\", \"Topic19\", \"Topic19\", \"Topic19\", \"Topic19\", \"Topic19\", \"Topic19\", \"Topic19\", \"Topic19\", \"Topic19\", \"Topic19\", \"Topic19\", \"Topic19\", \"Topic19\", \"Topic19\", \"Topic19\", \"Topic19\", \"Topic19\", \"Topic19\", \"Topic19\", \"Topic19\", \"Topic19\", \"Topic19\", \"Topic19\", \"Topic19\", \"Topic19\", \"Topic19\", \"Topic19\", \"Topic19\", \"Topic19\", \"Topic19\", \"Topic19\", \"Topic19\", \"Topic19\", \"Topic19\", \"Topic19\", \"Topic19\", \"Topic19\", \"Topic19\", \"Topic19\", \"Topic19\", \"Topic19\", \"Topic19\", \"Topic19\", \"Topic19\", \"Topic19\", \"Topic19\", \"Topic19\", \"Topic20\", \"Topic20\", \"Topic20\", \"Topic20\", \"Topic20\", \"Topic20\", \"Topic20\", \"Topic20\", \"Topic20\", \"Topic20\", \"Topic20\", \"Topic20\", \"Topic20\", \"Topic20\", \"Topic20\", \"Topic20\", \"Topic20\", \"Topic20\", \"Topic20\", \"Topic20\", \"Topic20\", \"Topic20\", \"Topic20\", \"Topic20\", \"Topic20\", \"Topic20\", \"Topic20\", \"Topic20\", \"Topic20\", \"Topic20\", \"Topic20\", \"Topic20\", \"Topic20\", \"Topic20\", \"Topic20\", \"Topic20\", \"Topic20\", \"Topic20\", \"Topic20\", \"Topic20\", \"Topic20\", \"Topic20\", \"Topic20\", \"Topic20\", \"Topic20\", \"Topic20\", \"Topic20\", \"Topic20\", \"Topic20\", \"Topic20\", \"Topic20\", \"Topic20\", \"Topic20\", \"Topic20\", \"Topic20\", \"Topic20\", \"Topic20\", \"Topic20\", \"Topic20\"], \"logprob\": [30.0, 29.0, 28.0, 27.0, 26.0, 25.0, 24.0, 23.0, 22.0, 21.0, 20.0, 19.0, 18.0, 17.0, 16.0, 15.0, 14.0, 13.0, 12.0, 11.0, 10.0, 9.0, 8.0, 7.0, 6.0, 5.0, 4.0, 3.0, 2.0, 1.0, -0.2038, -2.4453, -3.1044, -3.9788, -4.7488, -5.0263, -5.0435, -5.9554, -14.7487, -14.7686, -14.7688, -14.7693, -14.7694, -14.7694, -14.7698, -14.7692, -14.7699, -14.7698, -14.7699, -14.7702, -14.7699, -14.7701, -14.7704, -14.7703, -14.7705, -14.7703, -14.7704, -14.7705, -14.7704, -14.7706, -14.7702, -14.7704, -14.7704, -14.7704, -0.1378, -3.4514, -3.6363, -3.8444, -4.0951, -4.452, -13.9953, -14.01, -14.0106, -14.011, -14.0116, -14.011, -14.0118, -14.0114, -14.0109, -14.0115, -14.0118, -14.0115, -14.012, -14.0118, -14.0113, -14.0117, -14.0115, -14.0119, -14.0122, -14.0122, -14.0118, -14.0119, -14.0123, -14.012, -14.012, -14.0117, -14.012, -1.1499, -1.4236, -1.4386, -2.0386, -3.4324, -4.9973, -5.2011, -5.5725, -5.5966, -13.9084, -13.9227, -13.9238, -13.9233, -13.9247, -13.9245, -13.9238, -13.9247, -13.9241, -13.9244, -13.925, -13.9242, -13.9248, -13.925, -13.9253, -13.9248, -13.9254, -13.9254, -13.9254, -13.9254, -13.9254, -13.9246, -13.9245, -13.9251, -13.9251, -13.9243, -13.9246, -13.9249, -13.9249, -13.9248, -13.9249, -13.9249, -1.0248, -1.4153, -2.2503, -2.5266, -3.0606, -3.5553, -3.662, -3.825, -3.9983, -4.3096, -4.6988, -4.7406, -4.7515, -8.5672, -13.5873, -13.6023, -13.6028, -13.6023, -13.6022, -13.6027, -13.6028, -13.6034, -13.6026, -13.6035, -13.6034, -13.6036, -13.6033, -13.6033, -13.6038, -13.6036, -13.6034, -13.6034, -13.6035, -0.6517, -1.9885, -2.1796, -2.5224, -3.0211, -4.1266, -4.4517, -4.5687, -4.6915, -4.7019, -5.1419, -13.4129, -13.4291, -13.429, -13.4295, -13.4299, -13.4299, -13.4293, -13.4297, -13.4301, -13.4302, -13.4305, -13.4298, -13.43, -13.4305, -13.4304, -13.4302, -13.4305, -13.4307, -13.4305, -13.4305, -13.4304, -1.6168, -1.9032, -2.2213, -2.2728, -2.3134, -2.54, -2.811, -2.9188, -3.2581, -3.542, -3.7531, -3.7926, -13.4734, -13.485, -13.4849, -13.486, -13.4853, -13.4858, -13.4861, -13.4863, -13.4862, -13.486, -13.4867, -13.4866, -13.4856, -13.4864, -13.4867, -13.486, -13.4856, -13.4865, -13.4857, -13.4863, -13.486, -13.486, -13.486, -13.4862, -13.4862, -1.2742, -1.5878, -2.4423, -2.5513, -2.5525, -2.5682, -2.9, -2.9319, -3.5115, -3.9522, -6.101, -13.439, -13.4499, -13.4504, -13.4504, -13.4505, -13.4505, -13.4505, -13.4495, -13.4494, -13.4501, -13.4506, -13.4506, -13.4507, -13.4502, -13.45, -13.45, -13.4507, -13.4512, -13.4512, -13.4507, -13.45, -13.4506, -13.4504, -13.4506, -1.358, -1.6835, -2.222, -2.5007, -2.5086, -2.6926, -3.116, -3.315, -3.3833, -3.5642, -3.9968, -4.1984, -5.1803, -13.4826, -13.4833, -13.4818, -13.4831, -13.4833, -13.4834, -13.4834, -13.4834, -13.4834, -13.4834, -13.4834, -13.4834, -13.4834, -13.4834, -13.4833, -13.4833, -13.4834, -13.4824, -13.4823, -13.4829, -13.476, -13.4828, -13.4826, -13.4829, -13.4826, -13.4829, -13.4828, -13.483, -13.4831, -13.4832, -13.4831, -13.4831, -13.4831, -1.5337, -2.1276, -2.2602, -2.4716, -2.738, -2.8261, -3.0258, -3.0268, -3.2846, -3.3428, -3.3908, -3.5286, -4.0228, -4.0785, -4.6224, -4.9499, -4.9959, -5.5739, -5.9972, -13.0529, -13.0527, -13.0529, -13.0528, -13.0533, -13.0533, -13.0533, -13.0533, -13.0533, -13.0533, -13.0533, -13.0525, -13.0521, -13.0529, -13.0442, -13.0532, -13.052, -13.0524, -13.0528, -13.0524, -13.0525, -13.0527, -13.0525, -13.0527, -1.2042, -1.5997, -1.7864, -2.277, -2.862, -3.2465, -3.5444, -3.6334, -4.288, -5.0038, -5.2879, -13.1225, -13.1236, -13.1237, -13.1237, -13.1237, -13.1237, -13.1237, -13.1237, -13.1237, -13.1237, -13.1237, -13.1236, -13.1234, -13.1234, -13.1236, -13.1235, -13.1236, -13.1233, -13.1226, -13.1233, -13.1233, -13.1148, -13.1234, -13.1236, -13.1227, -13.1229, -13.1226, -13.1232, -13.1233, -13.1229, -13.1232, -13.1231, -13.1234, -13.1233, -13.1234, -1.4836, -1.5543, -1.5838, -2.3706, -2.7796, -3.099, -3.4349, -3.7158, -3.921, -4.6749, -4.9402, -12.9107, -12.9107, -12.9107, -12.911, -12.911, -12.9102, -12.9105, -12.9106, -12.911, -12.9113, -12.9113, -12.9113, -12.9113, -12.9113, -12.9113, -12.9113, -12.9113, -12.9113, -12.9113, -12.9111, -12.9111, -12.9107, -12.9102, -12.9113, -12.911, -12.9108, -12.911, -12.9109, -12.9106, -12.9037, -12.9103, -12.9105, -12.9106, -12.9104, -12.9105, -12.9107, -12.9105, -12.9107, -12.9108, -0.7301, -1.6075, -1.9022, -2.9823, -3.7699, -4.5174, -4.6232, -12.752, -12.7528, -12.7528, -12.7521, -12.7531, -12.7532, -12.7533, -12.7533, -12.7533, -12.7533, -12.7533, -12.7532, -12.7533, -12.7533, -12.7533, -12.7532, -12.7533, -12.7533, -12.7533, -12.7532, -12.7534, -12.7528, -12.7532, -12.7522, -12.7531, -12.7453, -12.7526, -12.7525, -12.753, -12.7529, -12.753, -12.7528, -12.7525, -12.753, -12.7529, -12.7529, -12.7527, -12.7531, -12.7531, -12.753, -12.7531, -0.4063, -2.3658, -2.4186, -2.5515, -4.3506, -5.1174, -13.0644, -13.0666, -13.0667, -13.0667, -13.0668, -13.0668, -13.0668, -13.0667, -13.0666, -13.0666, -13.0666, -13.0666, -13.0666, -13.0666, -13.0666, -13.0666, -13.0667, -13.0667, -13.0667, -13.0664, -13.0666, -13.0667, -13.0667, -13.0667, -13.0662, -13.0664, -13.0659, -13.0662, -13.0597, -13.0656, -13.0663, -13.0663, -13.066, -13.0662, -13.0665, -13.0664, -13.0662, -13.0662, -13.0665, -13.0664, -13.0666, -13.0666, -13.0664, -13.0665, -13.0665, -13.0666, -13.0666, -13.0666, -0.8565, -1.8095, -2.1734, -2.3745, -2.8484, -2.8817, -12.5493, -12.5492, -12.5494, -12.5494, -12.5494, -12.5493, -12.5494, -12.5493, -12.5493, -12.5493, -12.5494, -12.5493, -12.5493, -12.5494, -12.5494, -12.5494, -12.5494, -12.5493, -12.5492, -12.5494, -12.5494, -12.5494, -12.5494, -12.5494, -12.5492, -12.5486, -12.5493, -12.5491, -12.549, -12.5482, -12.5489, -12.5492, -12.5484, -12.5493, -12.549, -12.5492, -12.5488, -12.5491, -12.5487, -12.549, -12.5491, -12.5491, -12.5436, -12.5486, -12.5488, -12.5491, -12.5492, -12.5491, -12.5491, -12.549, -12.5491, -12.549, -12.5491, -12.5492, -1.1715, -1.227, -1.6254, -2.5069, -5.154, -12.3322, -12.3322, -12.3322, -12.3322, -12.3321, -12.3321, -12.3321, -12.332, -12.3321, -12.332, -12.3321, -12.3323, -12.3323, -12.3323, -12.3323, -12.3323, -12.3323, -12.3324, -12.3324, -12.3324, -12.3324, -12.3323, -12.3324, -12.3324, -12.3324, -12.3322, -12.332, -12.3323, -12.3322, -12.3315, -12.3318, -12.332, -12.3322, -12.3319, -12.3298, -12.3321, -12.3323, -12.3322, -12.3321, -12.3322, -12.3322, -1.3987, -1.7288, -1.7801, -2.1011, -2.3923, -2.8562, -12.1469, -12.1469, -12.1469, -12.1468, -12.1468, -12.1468, -12.1468, -12.1468, -12.1469, -12.1468, -12.1469, -12.1469, -12.1469, -12.1468, -12.1471, -12.1469, -12.1469, -12.1469, -12.1468, -12.1474, -12.1473, -12.1468, -12.1474, -12.1474, -12.1464, -12.1471, -12.1471, -12.1466, -12.1461, -0.265, -3.4903, -11.7461, -11.7483, -11.7483, -11.7483, -11.7483, -11.7483, -11.7483, -11.7484, -11.7484, -11.7484, -11.7483, -11.7485, -11.7485, -11.7485, -11.7485, -11.7485, -11.7485, -11.7486, -11.7486, -11.7486, -11.7486, -11.7485, -11.7485, -11.7486, -11.7486, -11.7486, -11.7486, -11.7486, -11.7484, -11.7482, -11.748, -11.7481, -11.7485, -11.7485, -11.7485, -11.7485, -11.7481, -11.7481, -11.7484, -11.7484, -11.7482, -11.7457, -11.7483, -11.7482, -11.7484, -11.7482, -11.7484, -11.7484, -11.7483, -11.7483, -11.7484, -11.7484, -1.2987, -10.4692, -10.4692, -10.4692, -10.4692, -10.4692, -10.4692, -10.4692, -10.4692, -10.4692, -10.4692, -10.4692, -10.4692, -10.4692, -10.4692, -10.4692, -10.4692, -10.4692, -10.4692, -10.4692, -10.4692, -10.4692, -10.4693, -10.4693, -10.4693, -10.4692, -10.4692, -10.4693, -10.4693, -10.4693, -10.4692, -10.4692, -10.4692, -10.4692, -10.4692, -10.4692, -10.4692, -10.4692, -10.4692, -10.4692, -10.4692, -10.4692, -10.4692, -10.4692, -10.4692, -10.4691, -10.4692, -10.4692, -10.4692, -10.4692, -10.4692, -10.4691, -10.4692, -10.4692, -10.1507, -10.1507, -10.1507, -10.1507, -10.1507, -10.1507, -10.1507, -10.1507, -10.1507, -10.1507, -10.1507, -10.1507, -10.1507, -10.1507, -10.1507, -10.1507, -10.1507, -10.1507, -10.1507, -10.1507, -10.1507, -10.1507, -10.1507, -10.1507, -10.1507, -10.1507, -10.1507, -10.1507, -10.1507, -10.1507, -10.1507, -10.1507, -10.1507, -10.1507, -10.1507, -10.1507, -10.1507, -10.1507, -10.1507, -10.1507, -10.1507, -10.1507, -10.1507, -10.1507, -10.1507, -10.1507, -10.1507, -10.1507, -10.1507, -10.1507, -10.1507, -10.1507, -10.1507, -10.1507, -10.1507, -10.1507, -10.1507, -10.1507, -10.1507, -10.1507, -10.1507, -10.1507, -10.1507, -10.1507, -10.1507, -10.1507, -10.1507, -10.1507, -10.1507, -10.1507, -10.1507, -10.1507, -10.1507, -10.1507, -10.1507, -10.1507, -10.1507, -10.1507, -10.1507, -10.1507, -10.1507, -10.1507, -10.1507, -10.1507, -10.1507, -10.1507, -10.1507, -10.1507, -10.1507, -10.1507, -10.1507, -10.1507, -10.1507, -10.1507, -10.1507, -10.1507, -10.1507, -10.1507, -10.1507, -10.1507, -10.1507, -10.1507, -10.1507, -10.1507, -10.1507, -10.1507, -10.1507, -10.1507, -10.1507, -10.1507, -10.1507, -10.1507, -10.1507, -10.1507, -10.1507, -10.1507, -10.1507, -10.1507], \"loglift\": [30.0, 29.0, 28.0, 27.0, 26.0, 25.0, 24.0, 23.0, 22.0, 21.0, 20.0, 19.0, 18.0, 17.0, 16.0, 15.0, 14.0, 13.0, 12.0, 11.0, 10.0, 9.0, 8.0, 7.0, 6.0, 5.0, 4.0, 3.0, 2.0, 1.0, 1.4773, 1.4773, 1.4772, 1.477, 1.4766, 1.4764, 1.4764, 1.475, -1.351, -1.3618, -1.3619, -1.3622, -1.3622, -1.3623, -1.3623, -1.3623, -1.3623, -1.3624, -1.3624, -1.3625, -1.3625, -1.3625, -1.3625, -1.3625, -1.3626, -1.3626, -1.3626, -1.3626, -1.3626, -1.3626, -1.3626, -1.3626, -1.3626, -1.3627, 2.1974, 2.197, 2.1969, 2.1968, 2.1967, 2.1963, -0.5977, -0.6033, -0.6037, -0.6039, -0.6039, -0.6039, -0.6039, -0.6039, -0.604, -0.604, -0.604, -0.604, -0.6041, -0.6041, -0.6041, -0.6041, -0.6041, -0.6041, -0.6041, -0.6042, -0.6042, -0.6042, -0.6042, -0.6042, -0.6042, -0.6043, -0.6043, 2.3363, 2.3363, 2.3363, 2.3363, 2.3359, 2.3342, 2.3337, 2.3325, 2.3324, -0.5107, -0.5157, -0.5164, -0.5166, -0.5166, -0.5168, -0.5169, -0.5169, -0.5169, -0.5169, -0.517, -0.517, -0.517, -0.517, -0.517, -0.517, -0.5171, -0.5171, -0.5171, -0.5171, -0.5171, -0.5171, -0.5171, -0.5171, -0.5171, -0.5172, -0.5172, -0.5171, -0.5171, -0.5173, -0.5172, -0.5172, 2.4599, 2.4599, 2.4598, 2.4598, 2.4596, 2.4594, 2.4594, 2.4592, 2.4591, 2.4588, 2.4582, 2.4581, 2.4581, 2.3775, -0.1897, -0.1952, -0.1953, -0.1954, -0.1955, -0.1956, -0.1956, -0.1956, -0.1957, -0.1957, -0.1957, -0.1958, -0.1958, -0.1958, -0.1959, -0.1959, -0.1959, -0.1959, -0.1959, 2.6417, 2.6416, 2.6416, 2.6415, 2.6414, 2.6406, 2.6401, 2.6399, 2.6396, 2.6396, 2.6384, -0.0152, -0.0221, -0.0223, -0.0223, -0.0224, -0.0224, -0.0224, -0.0226, -0.0226, -0.0226, -0.0226, -0.0226, -0.0226, -0.0227, -0.0227, -0.0227, -0.0227, -0.0227, -0.0227, -0.0227, -0.0229, 2.7666, 2.7666, 2.7665, 2.7665, 2.7665, 2.7664, 2.7663, 2.7663, 2.7661, 2.7659, 2.7658, 2.7657, -0.0758, -0.0781, -0.0782, -0.0783, -0.0783, -0.0783, -0.0784, -0.0784, -0.0784, -0.0784, -0.0784, -0.0784, -0.0784, -0.0785, -0.0785, -0.0785, -0.0785, -0.0785, -0.0785, -0.0785, -0.0785, -0.0786, -0.0786, -0.0786, -0.0785, 2.888, 2.8879, 2.8877, 2.8877, 2.8877, 2.8877, 2.8876, 2.8876, 2.8872, 2.8867, 2.8767, -0.0413, -0.0422, -0.0423, -0.0423, -0.0423, -0.0423, -0.0423, -0.0426, -0.0427, -0.0427, -0.0427, -0.0427, -0.0427, -0.0428, -0.0429, -0.0429, -0.0429, -0.0429, -0.0429, -0.0429, -0.0431, -0.043, -0.0432, -0.0431, 3.0788, 3.0788, 3.0787, 3.0786, 3.0786, 3.0785, 3.0782, 3.0781, 3.078, 3.0778, 3.0773, 3.0769, 3.0734, -0.0749, -0.075, -0.075, -0.075, -0.075, -0.0751, -0.0751, -0.0751, -0.0751, -0.0751, -0.0751, -0.0751, -0.0751, -0.0751, -0.0751, -0.0751, -0.0751, -0.0752, -0.0754, -0.0752, -0.0783, -0.0754, -0.0755, -0.0754, -0.0757, -0.0755, -0.0757, -0.0755, -0.0754, -0.0754, -0.0756, -0.0755, -0.0756, 3.2028, 3.2026, 3.2026, 3.2025, 3.2024, 3.2024, 3.2022, 3.2022, 3.202, 3.202, 3.2019, 3.2018, 3.201, 3.2009, 3.1994, 3.198, 3.1978, 3.1938, 3.189, 0.3552, 0.3551, 0.3551, 0.3551, 0.3551, 0.3551, 0.3551, 0.3551, 0.3551, 0.3551, 0.3551, 0.355, 0.355, 0.355, 0.3535, 0.355, 0.3547, 0.3548, 0.3549, 0.3546, 0.3547, 0.3547, 0.3544, 0.3547, 3.2305, 3.2304, 3.2304, 3.2303, 3.23, 3.2297, 3.2294, 3.2292, 3.228, 3.2253, 3.2235, 0.2849, 0.2846, 0.2846, 0.2846, 0.2846, 0.2846, 0.2846, 0.2846, 0.2846, 0.2846, 0.2846, 0.2846, 0.2846, 0.2846, 0.2846, 0.2846, 0.2846, 0.2846, 0.2846, 0.2846, 0.2845, 0.2828, 0.2845, 0.2846, 0.2842, 0.2843, 0.2841, 0.2843, 0.2844, 0.2841, 0.2843, 0.284, 0.2844, 0.2841, 0.2841, 3.3461, 3.3461, 3.3461, 3.3458, 3.3456, 3.3454, 3.345, 3.3446, 3.3442, 3.342, 3.3406, 0.4975, 0.4975, 0.4974, 0.4974, 0.4974, 0.4973, 0.4973, 0.4973, 0.4972, 0.4971, 0.4971, 0.4971, 0.4971, 0.4971, 0.4971, 0.4971, 0.4971, 0.4971, 0.4971, 0.4971, 0.4971, 0.497, 0.497, 0.4971, 0.4971, 0.497, 0.497, 0.497, 0.4969, 0.4939, 0.4966, 0.4967, 0.4968, 0.4965, 0.4966, 0.4968, 0.4963, 0.4968, 0.4967, 3.4769, 3.4768, 3.4767, 3.4761, 3.475, 3.4728, 3.4723, 0.6554, 0.6553, 0.6553, 0.6551, 0.6551, 0.6551, 0.6551, 0.6551, 0.6551, 0.6551, 0.6551, 0.6551, 0.6551, 0.6551, 0.655, 0.655, 0.655, 0.655, 0.655, 0.655, 0.655, 0.6549, 0.6549, 0.6549, 0.6549, 0.6524, 0.6545, 0.6544, 0.6548, 0.6547, 0.6548, 0.6546, 0.6542, 0.6548, 0.6546, 0.6545, 0.6542, 0.6547, 0.6547, 0.6545, 0.6547, 3.5737, 3.5733, 3.5732, 3.5732, 3.5698, 3.5653, 0.3425, 0.3417, 0.3417, 0.3417, 0.3417, 0.3417, 0.3416, 0.3416, 0.3416, 0.3416, 0.3416, 0.3416, 0.3416, 0.3416, 0.3416, 0.3416, 0.3416, 0.3416, 0.3416, 0.3416, 0.3416, 0.3416, 0.3416, 0.3416, 0.3416, 0.3415, 0.3413, 0.3414, 0.338, 0.3411, 0.3414, 0.3413, 0.3411, 0.3412, 0.3414, 0.3413, 0.341, 0.3408, 0.3413, 0.3411, 0.3415, 0.3415, 0.341, 0.3412, 0.3409, 0.3412, 0.3409, 0.3412, 3.7217, 3.7215, 3.7213, 3.7212, 3.7208, 3.7208, 0.8591, 0.859, 0.859, 0.859, 0.859, 0.859, 0.859, 0.859, 0.859, 0.859, 0.859, 0.859, 0.859, 0.859, 0.859, 0.859, 0.859, 0.859, 0.859, 0.859, 0.859, 0.859, 0.859, 0.859, 0.859, 0.8589, 0.859, 0.8589, 0.8588, 0.8586, 0.8588, 0.8589, 0.8585, 0.8589, 0.8588, 0.8589, 0.8586, 0.8588, 0.8585, 0.8587, 0.8588, 0.8588, 0.854, 0.8583, 0.8584, 0.8587, 0.8589, 0.8586, 0.8587, 0.8584, 0.8585, 0.8581, 0.8586, 0.8585, 4.1265, 4.1265, 4.1263, 4.1257, 4.1115, 1.0762, 1.0762, 1.0762, 1.0761, 1.0761, 1.0761, 1.0761, 1.0761, 1.0761, 1.0761, 1.076, 1.076, 1.076, 1.076, 1.076, 1.076, 1.076, 1.076, 1.076, 1.076, 1.076, 1.076, 1.076, 1.076, 1.076, 1.0759, 1.0757, 1.0759, 1.0759, 1.0752, 1.0753, 1.0755, 1.0757, 1.075, 1.0679, 1.0754, 1.0758, 1.0756, 1.0749, 1.075, 1.0749, 4.334, 4.3338, 4.3337, 4.3335, 4.3332, 4.3325, 1.2614, 1.2614, 1.2614, 1.2614, 1.2614, 1.2614, 1.2614, 1.2614, 1.2614, 1.2614, 1.2614, 1.2614, 1.2614, 1.2613, 1.2613, 1.2613, 1.2612, 1.2612, 1.2611, 1.2611, 1.2611, 1.2611, 1.2611, 1.2611, 1.261, 1.261, 1.2609, 1.2603, 1.2516, 4.3564, 4.3529, 1.6617, 1.6601, 1.6601, 1.6601, 1.66, 1.66, 1.66, 1.66, 1.66, 1.6599, 1.6599, 1.6599, 1.6599, 1.6599, 1.6599, 1.6599, 1.6599, 1.6599, 1.6599, 1.6599, 1.6599, 1.6599, 1.6599, 1.6599, 1.6599, 1.6599, 1.6599, 1.6599, 1.6599, 1.6598, 1.6598, 1.6598, 1.6598, 1.6598, 1.6598, 1.6598, 1.6593, 1.6593, 1.6597, 1.6596, 1.659, 1.6519, 1.6593, 1.6589, 1.6595, 1.6587, 1.6595, 1.6594, 1.6586, 1.6584, 1.6588, 1.659, 6.3608, 2.9393, 2.9393, 2.9393, 2.9393, 2.9393, 2.9393, 2.9393, 2.9393, 2.9392, 2.9392, 2.9392, 2.9392, 2.9392, 2.9392, 2.9392, 2.9392, 2.9392, 2.9392, 2.9392, 2.9392, 2.9392, 2.9392, 2.9392, 2.9392, 2.9392, 2.9392, 2.9392, 2.9392, 2.9392, 2.9392, 2.9392, 2.9392, 2.9392, 2.9392, 2.9391, 2.9391, 2.9392, 2.9392, 2.9392, 2.9392, 2.9392, 2.9392, 2.939, 2.939, 2.9385, 2.939, 2.9389, 2.9386, 2.9388, 2.9382, 2.9286, 2.9379, 2.9386, 3.2578, 3.2578, 3.2578, 3.2578, 3.2578, 3.2578, 3.2578, 3.2578, 3.2578, 3.2578, 3.2578, 3.2578, 3.2578, 3.2578, 3.2578, 3.2578, 3.2578, 3.2578, 3.2578, 3.2578, 3.2578, 3.2578, 3.2578, 3.2578, 3.2578, 3.2578, 3.2578, 3.2578, 3.2578, 3.2578, -2.9519, -4.2559, 3.257, 3.2578, -6.3758, -6.6644, 3.2578, 3.2578, -2.1604, -8.4695, 3.2577, -4.7718, -5.9437, 3.2578, -5.0664, 3.2578, 3.2578, 3.2578, -5.5293, 3.2578, -3.9253, -6.2281, -3.6308, -5.2208, -6.3907, 3.2578, 3.2578, 3.2578, -4.8206, 3.2578, 3.2578, 3.2578, 3.2578, 3.2578, 3.2578, 3.2578, 3.2578, 3.2578, 3.2578, 3.2578, 3.2578, 3.2578, 3.2578, 3.2578, 3.2578, 3.2578, 3.2578, 3.2578, 3.2578, 3.2578, 3.2578, 3.2578, 3.2578, 3.2578, 3.2578, 3.2578, 3.2578, 3.2578, 3.2578, -2.9519, -4.2559, 3.257, 3.2578, -6.3758, -6.6644, 3.2578, 3.2578, -2.1604, -8.4695, 3.2577, -4.7718, -5.9437, 3.2578, -5.0664, 3.2578, 3.2578, 3.2578, -5.5293, 3.2578, -3.9253, -6.2281, -3.6308, -5.2208, -6.3907, 3.2578, 3.2578, 3.2578, -4.8206]}, \"token.table\": {\"Topic\": [8, 14, 3, 6, 12, 9, 1, 2, 6, 2, 9, 6, 2, 4, 4, 4, 9, 15, 10, 7, 17, 10, 5, 9, 10, 15, 3, 11, 8, 9, 10, 7, 4, 7, 5, 5, 8, 14, 1, 7, 16, 3, 3, 9, 3, 6, 7, 4, 6, 8, 14, 6, 16, 12, 13, 4, 4, 9, 3, 4, 16, 7, 9, 9, 9, 5, 7, 9, 5, 11, 12, 1, 5, 9, 16, 13, 11, 10, 8, 11, 1, 12, 2, 9, 9, 8, 5, 11, 10, 12, 4, 2, 8, 7, 3, 6, 6, 9, 7, 8, 1, 9, 3, 12, 4, 8, 11, 13, 9, 1, 13, 1, 8, 5, 11, 7, 5, 16, 4, 5, 12, 4, 11, 8, 4, 18, 14, 14, 15, 9, 10, 15, 6, 8, 9, 10, 10, 13, 11, 7, 16, 17, 14, 11, 6, 5, 4, 10, 1, 2, 6, 10, 15, 13, 3, 11, 6, 8], \"Freq\": [0.9983251723328284, 0.9988870729572225, 0.997790692996071, 0.9991360229034321, 0.9967796397908077, 0.9989672242917489, 0.9988842772479838, 0.9993404543131461, 0.9998912198767331, 0.9993911654683064, 0.9994300301440934, 0.9997079454794744, 0.9993890676289007, 0.9986352548315841, 0.9988032259729753, 0.9992155308639454, 0.9997060240260361, 0.9987063764391716, 0.9992903522535371, 0.9996605417452084, 0.9955408911856322, 0.9959313618643766, 0.9975072845334275, 0.9994598278784288, 0.9946144321434464, 0.9996709471049672, 0.9999458864294531, 0.9985859527983615, 0.9995623517160942, 0.9961697517477623, 0.9981050729894481, 0.9996286685024259, 0.9989972213077232, 0.9990582991462498, 0.9981324804184775, 0.99996434542884, 0.9988687846538543, 0.9998959972591507, 0.9999934534354529, 0.9998884654596913, 0.9992353860764209, 0.9999372329721467, 0.9978524640594127, 0.9905158982509885, 0.9998761213424833, 0.9994809967445912, 0.9995262299777942, 0.9998802023552718, 0.9996464672247891, 0.9991601435838902, 0.9995667359946323, 0.9997106744063166, 0.9980893687906616, 0.9996139027223607, 0.9937882659065255, 0.9997003964142321, 0.9997392713702778, 0.9986522204783249, 0.9995647054720617, 0.9991279004998703, 0.9994391868374074, 0.9994093455931798, 0.9976879729617544, 0.999469192835906, 0.9996463931814188, 0.9978314340597612, 0.9998707578613194, 0.9881307049809329, 0.999013058363499, 0.9983027328787257, 0.9998795117245286, 0.9995825769281882, 0.9998253749073205, 0.9995663005295428, 0.9991367220677484, 0.9999225946905428, 0.9994870017643586, 0.9989747633831886, 0.9997253714477409, 0.9998480673516595, 0.9992076894443339, 0.9959305686969981, 0.9987320796782782, 0.99490455485372, 0.9998445459750772, 0.9996569998714148, 0.9998020583770382, 0.9958369010474639, 0.9998319135731757, 0.9989645549192132, 0.9977302563487671, 0.9995123116389847, 0.9992140652432207, 0.9996209356928552, 0.9999602600610425, 0.9998362525628652, 0.9992387749121222, 0.9992418629717842, 0.990128839801591, 0.9934820576165962, 0.9999306569286426, 0.9990835966826797, 0.9968353618942024, 0.9997848018625947, 0.999931350602919, 0.9998233817511327, 0.9948693450746466, 0.9992894424100428, 0.9957245187724668, 0.9990300980940766, 0.9970869265787388, 0.9975877081128549, 0.9981209731559376, 0.9972960618977055, 0.9990744485019208, 0.9997348974760915, 0.9998177185800682, 0.9991218163818022, 0.9993937265810682, 0.9995268609607837, 0.9981373971703603, 0.9999488696674901, 0.9997972441717855, 0.9995435120074001, 0.99842286618941, 0.9961872685304759, 0.9997097502368514, 0.9994984641737897, 0.9860920209202689, 0.9989546656751194, 0.999725531931012, 0.9994922294007813, 0.9997788822835942, 0.9991814103643611, 0.9979204797327819, 0.9987276074886712, 0.998534660272376, 0.9992274308729812, 0.9994510074756597, 0.998737508377002, 0.9995078509328401, 0.9998831207781631, 0.9988169555229315, 0.9985997570100147, 0.99905781806257, 0.9981269329856155, 0.940885670385329, 0.9997101697766743, 0.9998751924076493, 0.9999868374965568, 0.9998484260937224, 0.9998993065070124, 0.9996288268016407, 0.9995289474633161, 0.9969161815701537, 0.9998001722991893, 0.9995430466970721, 0.9998775492561622], \"Term\": [\"able\", \"add\", \"additional\", \"administer\", \"admit\", \"aid\", \"alert\", \"also\", \"amp\", \"approve\", \"ask\", \"astrazeneca\", \"authorization\", \"authorize\", \"away\", \"back\", \"bad\", \"battle\", \"become\", \"begin\", \"blood\", \"book\", \"boost\", \"business\", \"capital\", \"care\", \"case\", \"catch\", \"child\", \"choice\", \"clear\", \"come\", \"company\", \"concern\", \"consider\", \"coronavirus\", \"cost\", \"country\", \"covid\", \"day\", \"deal\", \"death\", \"decline\", \"dem\", \"die\", \"disease\", \"distribution\", \"dose\", \"early\", \"effective\", \"emergency\", \"end\", \"enough\", \"even\", \"exercise\", \"expect\", \"expert\", \"explain\", \"face\", \"fall\", \"family\", \"far\", \"feel\", \"fight\", \"find\", \"fine\", \"first\", \"foreign\", \"full\", \"fund\", \"get\", \"global\", \"go\", \"good\", \"happen\", \"health\", \"help\", \"holiday\", \"home\", \"hospital\", \"increase\", \"israeli\", \"issue\", \"jab\", \"know\", \"last\", \"lockdown\", \"m\", \"make\", \"man\", \"matter\", \"medical\", \"moderna\", \"month\", \"new\", \"news\", \"offer\", \"open\", \"optimistic\", \"option\", \"pandemic\", \"part\", \"past\", \"patient\", \"people\", \"pfizer\", \"position\", \"post\", \"prioritize\", \"production\", \"protection\", \"protest\", \"race\", \"rd\", \"read\", \"receive\", \"restriction\", \"result\", \"right\", \"rollout\", \"save\", \"say\", \"see\", \"set\", \"ship\", \"shoot\", \"shot\", \"single\", \"sister\", \"soon\", \"spread\", \"staff\", \"state\", \"stay\", \"stimulus\", \"suggest\", \"summer\", \"supply\", \"support\", \"technology\", \"tell\", \"test\", \"third\", \"threaten\", \"trial\", \"true\", \"unite\", \"update\", \"vaccination\", \"vaccine\", \"variant\", \"virus\", \"week\", \"well\", \"win\", \"work\", \"worker\", \"year\"]}, \"R\": 30, \"lambda.step\": 0.01, \"plot.opts\": {\"xlab\": \"PC1\", \"ylab\": \"PC2\"}, \"topic.order\": [4, 15, 3, 18, 6, 17, 16, 2, 11, 5, 14, 9, 10, 20, 19, 8, 7, 1, 12, 13]};\n",
       "\n",
       "function LDAvis_load_lib(url, callback){\n",
       "  var s = document.createElement('script');\n",
       "  s.src = url;\n",
       "  s.async = true;\n",
       "  s.onreadystatechange = s.onload = callback;\n",
       "  s.onerror = function(){console.warn(\"failed to load library \" + url);};\n",
       "  document.getElementsByTagName(\"head\")[0].appendChild(s);\n",
       "}\n",
       "\n",
       "if(typeof(LDAvis) !== \"undefined\"){\n",
       "   // already loaded: just create the visualization\n",
       "   !function(LDAvis){\n",
       "       new LDAvis(\"#\" + \"ldavis_el2184422020076532804220983802\", ldavis_el2184422020076532804220983802_data);\n",
       "   }(LDAvis);\n",
       "}else if(typeof define === \"function\" && define.amd){\n",
       "   // require.js is available: use it to load d3/LDAvis\n",
       "   require.config({paths: {d3: \"https://d3js.org/d3.v5\"}});\n",
       "   require([\"d3\"], function(d3){\n",
       "      window.d3 = d3;\n",
       "      LDAvis_load_lib(\"https://cdn.jsdelivr.net/gh/bmabey/pyLDAvis@3.4.0/pyLDAvis/js/ldavis.v3.0.0.js\", function(){\n",
       "        new LDAvis(\"#\" + \"ldavis_el2184422020076532804220983802\", ldavis_el2184422020076532804220983802_data);\n",
       "      });\n",
       "    });\n",
       "}else{\n",
       "    // require.js not available: dynamically load d3 & LDAvis\n",
       "    LDAvis_load_lib(\"https://d3js.org/d3.v5.js\", function(){\n",
       "         LDAvis_load_lib(\"https://cdn.jsdelivr.net/gh/bmabey/pyLDAvis@3.4.0/pyLDAvis/js/ldavis.v3.0.0.js\", function(){\n",
       "                 new LDAvis(\"#\" + \"ldavis_el2184422020076532804220983802\", ldavis_el2184422020076532804220983802_data);\n",
       "            })\n",
       "         });\n",
       "}\n",
       "</script>"
      ],
      "text/plain": [
       "PreparedData(topic_coordinates=              x         y  topics  cluster       Freq\n",
       "topic                                                \n",
       "3     -0.218947  0.429152       1        1  22.824174\n",
       "14    -0.167503 -0.150417       2        1  11.108930\n",
       "2     -0.158472 -0.119485       3        1   9.667704\n",
       "17    -0.122922 -0.057716       4        1   8.543589\n",
       "5     -0.102261 -0.040007       5        1   7.123506\n",
       "16    -0.108739 -0.044665       6        1   6.286850\n",
       "15    -0.104638 -0.041660       7        1   5.568513\n",
       "1     -0.108161 -0.044123       8        1   4.600750\n",
       "10    -0.046076 -0.010944       9        1   4.064258\n",
       "4     -0.058917 -0.016471      10        1   3.953370\n",
       "13    -0.025266 -0.004958      11        1   3.521609\n",
       "8      0.000325  0.001329      12        1   3.090034\n",
       "9     -0.051527 -0.014044      13        1   2.804856\n",
       "19     0.036306  0.008399      14        1   2.418959\n",
       "18     0.075661  0.014025      15        1   1.613490\n",
       "7      0.109856  0.017678      16        1   1.310978\n",
       "6      0.178234  0.021963      17        1   1.282289\n",
       "0      0.288306  0.018633      18        1   0.172269\n",
       "11     0.292371  0.016655      19        1   0.021995\n",
       "12     0.292371  0.016655      20        1   0.021879, topic_info=            Term           Freq          Total Category  logprob  loglift\n",
       "9          covid  235412.000000  235412.000000  Default  30.0000  30.0000\n",
       "39       vaccine  122390.000000  122390.000000  Default  29.0000  29.0000\n",
       "194  coronavirus   46946.000000   46946.000000  Default  28.0000  28.0000\n",
       "75           say   38772.000000   38772.000000  Default  27.0000  27.0000\n",
       "5            new   38714.000000   38714.000000  Default  26.0000  26.0000\n",
       "..           ...            ...            ...      ...      ...      ...\n",
       "25          case       0.010804   29445.593406  Topic20 -10.1507  -6.3907\n",
       "26      advanced       0.010804       1.899833  Topic20 -10.1507   3.2578\n",
       "27        always       0.010804       1.899904  Topic20 -10.1507   3.2578\n",
       "28        behind       0.010804       1.899816  Topic20 -10.1507   3.2578\n",
       "29          come       0.010804    6125.274507  Topic20 -10.1507  -4.8206\n",
       "\n",
       "[929 rows x 6 columns], token_table=      Topic      Freq        Term\n",
       "term                             \n",
       "171       8  0.998325        able\n",
       "90       14  0.998887         add\n",
       "268       3  0.997791  additional\n",
       "119       6  0.999136  administer\n",
       "8        12  0.996780       admit\n",
       "...     ...       ...         ...\n",
       "205      13  0.999529        well\n",
       "270       3  0.996916         win\n",
       "759      11  0.999800        work\n",
       "134       6  0.999543      worker\n",
       "78        8  0.999878        year\n",
       "\n",
       "[158 rows x 3 columns], R=30, lambda_step=0.01, plot_opts={'xlab': 'PC1', 'ylab': 'PC2'}, topic_order=[4, 15, 3, 18, 6, 17, 16, 2, 11, 5, 14, 9, 10, 20, 19, 8, 7, 1, 12, 13])"
      ]
     },
     "execution_count": 20,
     "metadata": {},
     "output_type": "execute_result"
    }
   ],
   "source": [
    "'''\n",
    "Now that the LDA model is built, the next step is to examine the produced \n",
    "topics and the associated keywords. There is no better tool than pyLDAvis package’s \n",
    "interactive chart and is designed to work well with jupyter notebooks.\n",
    "'''\n",
    "# Visualize the topics\n",
    "pyLDAvis.enable_notebook()\n",
    "vis = pyLDAvis.gensim.prepare(lda_model, corpus, id2word)\n",
    "vis"
   ]
  },
  {
   "cell_type": "code",
   "execution_count": null,
   "metadata": {},
   "outputs": [],
   "source": []
  }
 ],
 "metadata": {
  "kernelspec": {
   "display_name": "Python 3",
   "language": "python",
   "name": "python3"
  },
  "language_info": {
   "codemirror_mode": {
    "name": "ipython",
    "version": 3
   },
   "file_extension": ".py",
   "mimetype": "text/x-python",
   "name": "python",
   "nbconvert_exporter": "python",
   "pygments_lexer": "ipython3",
   "version": "3.9.13"
  }
 },
 "nbformat": 4,
 "nbformat_minor": 2
}
