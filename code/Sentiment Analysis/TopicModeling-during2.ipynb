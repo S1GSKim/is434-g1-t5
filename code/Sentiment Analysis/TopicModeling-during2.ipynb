{
 "cells": [
  {
   "cell_type": "code",
   "execution_count": 1,
   "metadata": {},
   "outputs": [
    {
     "name": "stderr",
     "output_type": "stream",
     "text": [
      "C:\\ProgramData\\Anaconda3\\lib\\site-packages\\scipy\\__init__.py:146: UserWarning: A NumPy version >=1.16.5 and <1.23.0 is required for this version of SciPy (detected version 1.24.2\n",
      "  warnings.warn(f\"A NumPy version >={np_minversion} and <{np_maxversion}\"\n"
     ]
    }
   ],
   "source": [
    "import nltk\n",
    "\n",
    "# nltk.download('stopwords')"
   ]
  },
  {
   "cell_type": "code",
   "execution_count": 2,
   "metadata": {},
   "outputs": [],
   "source": [
    "import re\n",
    "import numpy as np\n",
    "import pandas as pd\n",
    "from pprint import pprint"
   ]
  },
  {
   "cell_type": "code",
   "execution_count": 3,
   "metadata": {},
   "outputs": [],
   "source": [
    "# Gensim (Topic Modeling Pacakge)\n",
    "import gensim\n",
    "import gensim.corpora as corpora\n",
    "from gensim.utils import simple_preprocess\n",
    "from gensim.models import CoherenceModel"
   ]
  },
  {
   "cell_type": "code",
   "execution_count": 4,
   "metadata": {},
   "outputs": [],
   "source": [
    "# spacy for lemmatization\n",
    "import spacy\n",
    "\n",
    "from spacy_download import load_spacy"
   ]
  },
  {
   "cell_type": "code",
   "execution_count": 5,
   "metadata": {},
   "outputs": [],
   "source": [
    "# Plotting tools\n",
    "import pyLDAvis\n",
    "import pyLDAvis.gensim  # don't skip this\n",
    "import matplotlib.pyplot as plt\n",
    "%matplotlib inline"
   ]
  },
  {
   "cell_type": "code",
   "execution_count": 6,
   "metadata": {},
   "outputs": [],
   "source": [
    "# Enable logging for gensim - optional\n",
    "import logging\n",
    "logging.basicConfig(format='%(asctime)s : %(levelname)s : %(message)s', level=logging.ERROR)\n",
    "\n",
    "import warnings\n",
    "warnings.filterwarnings(\"ignore\",category=DeprecationWarning)"
   ]
  },
  {
   "cell_type": "code",
   "execution_count": 7,
   "metadata": {},
   "outputs": [],
   "source": [
    "# NLTK Stop words\n",
    "from nltk.corpus import stopwords\n",
    "stop_words = stopwords.words('english')\n",
    "stop_words.extend(['from', 'subject', 're', 'edu', 'use'])"
   ]
  },
  {
   "cell_type": "code",
   "execution_count": 8,
   "metadata": {},
   "outputs": [
    {
     "name": "stdout",
     "output_type": "stream",
     "text": [
      "['nicktompan' 'AndyVermaut' 'eeeer71' 'yasu_yasuno_sa' 'islandofcovid'\n",
      " 'COVIDLive' 'latimes' 'newsfilterio' 'VonPyotr' 'tazalot1981'\n",
      " 'Mott_Mason' 'Ravie777' 'AquariusOnFire' 'CTVNews' 'pop_popculture'\n",
      " 'BobinSea' 'unstoppable8672' 'renztamayo' 'merapimanf' 'TraderMarcoCost'\n",
      " 'VivekSubbiah' 'mlauriat' 'boatratbown' 'Hibatu3' 'NZStuff'\n",
      " 'Alan_Nishihara' 'jonathanrockoff' 'NuritBaytch' 'WatchOurCity' 'elvisjj'\n",
      " 'JerrBoi' 'meer10001' 'ZyiteGadgets' 'bmangh' 'CassieY4' 'usatodaysun21'\n",
      " 'Su15100307' 'tjmakiboi' 'roto_rua' 'jayjames4' 'chuck85258'\n",
      " 'SetTheoryVirus' 'Reuters' 'DennisKendel' 'fox5dc' 'TweeterSomebody'\n",
      " 'Nan10' 'jebender1' 'caa1000' 'Melodys_Musings' 'wbaltv11' 'ErieNewsNow'\n",
      " 'bornblonde0077' 'MelanieMoore' 'EGirald' 'easyOntario' 'RichinWriterss'\n",
      " 'SocialistVoice' 'US_FDA' 'Okie_Resister' 'mcbc' 'sapp_erlot'\n",
      " 'alexselby1770' 'apokerplayer' 'corndnc1' 'openletterbot' '1NewsNZ'\n",
      " 'AstorAaron' 'DrEricDing' 'KodyKinsley' 'HammerToe' 'helenbinchy'\n",
      " 'Teelin' 'NedPagliarulo' 'leemorson3NUFC' 'TheHinduScience' 'thehill'\n",
      " 'RavenHawk4' 'ReginaPhelps' 'sauceocho' 'AlyeskaDawn' 'JulianneMcShane'\n",
      " 'drpestuk' 'PulpNews' 'TALK1370' '509ShawnG' 'thinkpolca' 'MHGtweet'\n",
      " 'chuckghunter' 'dubvNOW' 'MarianneSkolek' 'ashishkjha' 'HindustanTimes'\n",
      " 'jt120651' 'LarcombePeter' 'unfard' '_avasharpe' 'MikeTaddow'\n",
      " 'civility1799' 'Care2much18' 'PIX11News' 'feedpushr' 'CHOMcgoo'\n",
      " 'aldotjahjadi8' 'tlscadden1' 'maryaalexand1' 'StephenGutowski'\n",
      " 'Djfury4412' 'HealthNews_b' 'thomaskaine5' 'koconews' 'itrixy'\n",
      " 'debbiemac603' 'meister_mitch' 'FriedrichHayek' 'Chris_1791' '82669F'\n",
      " 'wacotrib' 'Jerusalem_Post' 'AndrewMakeTweet' 'EdCara4' 'TinkerChip'\n",
      " 'globalissuesweb' 'skepticalraptor' 'Reuters_Health' 'CBSPhiladelphia'\n",
      " 'Laughatsaltyge1' 'q0mega' 'VIXC_News' 'guardiannews' 'CNBC' '_DrFrusci'\n",
      " 'BNOFeed' 'JudexXavier' 'Beepr5' 'namenzie' 'tobbystweet' 'ArmstrongDrew'\n",
      " 'LatinoLdnOnt' 'qctimes' 'sondra_watkins' 'Johnjenkins309'\n",
      " 'Justin_EAndrews' 'HesterMcQueen' 'zryanverse' 'inkylu_lu' 'seashawol'\n",
      " 'ecobearwitness' 'joedunford200' 'WXII' 'canisgallicus' 'BabeTruth2'\n",
      " 'hcextrak' 'BARDA' 'norionakatsuji']\n"
     ]
    },
    {
     "data": {
      "text/plain": [
       "datetime          58452\n",
       "tweet_id          58452\n",
       "text              58452\n",
       "username          58452\n",
       "url               58452\n",
       "user_location     49537\n",
       "like_count        58452\n",
       "retweet_count     58452\n",
       "follower_count    58452\n",
       "reply_count       58452\n",
       "verified          58452\n",
       "hashtags           6867\n",
       "dtype: int64"
      ]
     },
     "execution_count": 8,
     "metadata": {},
     "output_type": "execute_result"
    }
   ],
   "source": [
    "'''\n",
    "We will be using the 20-Newsgroups dataset for this exercise.\n",
    "This version of the dataset contains about 11k newsgroups posts from \n",
    "20 different topics. This is available as newsgroups.json.\n",
    "'''\n",
    "# Import Dataset\n",
    "df = pd.read_csv('during2_covidTweets.csv')\n",
    "print(df.username.unique())\n",
    "df.head()\n",
    "df.count()"
   ]
  },
  {
   "cell_type": "code",
   "execution_count": 9,
   "metadata": {},
   "outputs": [
    {
     "name": "stdout",
     "output_type": "stream",
     "text": [
      "['How Japan Has Nearly Wiped Out Covid Infections &amp; Deaths | Natures Real '\n",
      " 'Health ']\n"
     ]
    }
   ],
   "source": [
    "'''\n",
    "As you can see there are many emails, newline and extra spaces that is quite distracting.\n",
    "Let’s get rid of them using regular expressions.\n",
    "'''\n",
    "# Convert to list\n",
    "data = df.text.tolist()\n",
    "\n",
    "# Remove Emails\n",
    "data = [re.sub('\\S*@\\S*\\s?', '', sent) for sent in data]\n",
    "\n",
    "#remove URL\n",
    "data = [re.sub('http://\\S+|https://\\S+', '', sent) for sent in data]\n",
    "data = [re.sub('http[s]?://\\S+', '', sent) for sent in data]\n",
    "data = [re.sub(r\"http\\S+\", \"\", sent) for sent in data]\n",
    "\n",
    "# Remove new line characters\n",
    "data = [re.sub('\\s+', ' ', sent) for sent in data]\n",
    "\n",
    "# Remove distracting single quotes\n",
    "data = [re.sub(\"\\'\", \"\", sent) for sent in data]\n",
    "\n",
    "pprint(data[:1])"
   ]
  },
  {
   "cell_type": "code",
   "execution_count": 10,
   "metadata": {},
   "outputs": [
    {
     "name": "stdout",
     "output_type": "stream",
     "text": [
      "[['how', 'japan', 'has', 'nearly', 'wiped', 'out', 'covid', 'infections', 'amp', 'deaths', 'natures', 'real', 'health']]\n"
     ]
    }
   ],
   "source": [
    "\n",
    "def sent_to_words(sentences):\n",
    "    for sentence in sentences:\n",
    "        yield(gensim.utils.simple_preprocess(str(sentence), deacc=True))  # deacc=True removes punctuations\n",
    "\n",
    "data_words = list(sent_to_words(data))\n",
    "\n",
    "print(data_words[:1])"
   ]
  },
  {
   "cell_type": "code",
   "execution_count": 11,
   "metadata": {},
   "outputs": [
    {
     "name": "stdout",
     "output_type": "stream",
     "text": [
      "['how', 'japan', 'has_nearly_wiped', 'out', 'covid', 'infections', 'amp', 'deaths', 'natures_real_health']\n"
     ]
    }
   ],
   "source": [
    "\n",
    "# Build the bigram and trigram models\n",
    "bigram = gensim.models.Phrases(data_words, min_count=5, threshold=100) # higher threshold fewer phrases.\n",
    "trigram = gensim.models.Phrases(bigram[data_words], threshold=100)  \n",
    "\n",
    "# Faster way to get a sentence clubbed as a trigram/bigram\n",
    "bigram_mod = gensim.models.phrases.Phraser(bigram)\n",
    "trigram_mod = gensim.models.phrases.Phraser(trigram)\n",
    "\n",
    "# See trigram example\n",
    "print(trigram_mod[bigram_mod[data_words[0]]])"
   ]
  },
  {
   "cell_type": "code",
   "execution_count": 12,
   "metadata": {},
   "outputs": [],
   "source": [
    "\n",
    "# Define functions for stopwords, bigrams, trigrams and lemmatization\n",
    "def remove_stopwords(texts):\n",
    "    return [[word for word in simple_preprocess(str(doc)) if word not in stop_words] for doc in texts]\n",
    "\n",
    "def make_bigrams(texts):\n",
    "    return [bigram_mod[doc] for doc in texts]\n",
    "\n",
    "def make_trigrams(texts):\n",
    "    return [trigram_mod[bigram_mod[doc]] for doc in texts]\n",
    "\n",
    "def lemmatization(texts, allowed_postags=['NOUN', 'ADJ', 'VERB', 'ADV']):\n",
    "    \"\"\"https://spacy.io/api/annotation\"\"\"\n",
    "    texts_out = []\n",
    "    for sent in texts:\n",
    "        doc = nlp(\" \".join(sent)) \n",
    "        texts_out.append([token.lemma_ for token in doc if token.pos_ in allowed_postags])\n",
    "    return texts_out"
   ]
  },
  {
   "cell_type": "code",
   "execution_count": 13,
   "metadata": {},
   "outputs": [
    {
     "name": "stdout",
     "output_type": "stream",
     "text": [
      "[['nearly_wipe', 'infection', 'death', 'natures_real', 'health']]\n"
     ]
    }
   ],
   "source": [
    "# Will download the model if it isn't installed yet \n",
    "nlp = spacy.load(\"en_core_web_sm\", disable=['parser', 'ner'])\n",
    "# Remove Stop Words\n",
    "data_words_nostops = remove_stopwords(data_words)\n",
    "\n",
    "# Form Bigrams\n",
    "data_words_bigrams = make_bigrams(data_words_nostops)\n",
    "\n",
    "# Do lemmatization keeping only noun, adj, vb, adv\n",
    "data_lemmatized = lemmatization(data_words_bigrams, allowed_postags=['NOUN', 'ADJ', 'VERB', 'ADV'])\n",
    "\n",
    "\n",
    "\n",
    "print(data_lemmatized[:1])"
   ]
  },
  {
   "cell_type": "code",
   "execution_count": 14,
   "metadata": {},
   "outputs": [
    {
     "name": "stdout",
     "output_type": "stream",
     "text": [
      "[[(0, 1), (1, 1), (2, 1), (3, 1), (4, 1)]]\n"
     ]
    }
   ],
   "source": [
    "import gensim.corpora as corpora\n",
    "\n",
    "# Create Dictionary\n",
    "id2word = corpora.Dictionary(data_lemmatized)\n",
    "\n",
    "# Create Corpus\n",
    "texts = data_lemmatized\n",
    "\n",
    "# Term Document Frequency\n",
    "corpus = [id2word.doc2bow(text) for text in texts]\n",
    "\n",
    "# View\n",
    "print(corpus[:1])"
   ]
  },
  {
   "cell_type": "code",
   "execution_count": 15,
   "metadata": {},
   "outputs": [
    {
     "data": {
      "text/plain": [
       "array(['nearly_wiped', 'natures_real', 'microbiome_produces', ...,\n",
       "       'valid_source', 'technology_networks', 'aldous_huxley'],\n",
       "      dtype=object)"
      ]
     },
     "execution_count": 15,
     "metadata": {},
     "output_type": "execute_result"
    }
   ],
   "source": [
    "vocab = len(id2word.token2id)\n",
    "\n",
    "pd.Series([t for tokens in data_words_bigrams for t in tokens if \"_\" in t]).unique()"
   ]
  },
  {
   "cell_type": "code",
   "execution_count": 16,
   "metadata": {},
   "outputs": [],
   "source": [
    "\n",
    "# Build LDA model\n",
    "lda_model = gensim.models.ldamodel.LdaModel(corpus=corpus,\n",
    "                                           id2word=id2word,\n",
    "                                           num_topics=20, \n",
    "                                           random_state=100,\n",
    "                                           update_every=1,\n",
    "                                           chunksize=100,\n",
    "                                           passes=10,\n",
    "                                           alpha='auto',\n",
    "                                           per_word_topics=True)"
   ]
  },
  {
   "cell_type": "code",
   "execution_count": 17,
   "metadata": {},
   "outputs": [
    {
     "name": "stdout",
     "output_type": "stream",
     "text": [
      "[(0,\n",
      "  '0.602*\"infection\" + 0.109*\"symptom\" + 0.060*\"ease\" + 0.038*\"aid\" + '\n",
      "  '0.022*\"fund\" + 0.000*\"ecosearch\" + 0.000*\"die\" + 0.000*\"look\" + '\n",
      "  '0.000*\"month\" + 0.000*\"even\"'),\n",
      " (1,\n",
      "  '0.185*\"test\" + 0.102*\"cause\" + 0.074*\"positive\" + 0.061*\"many\" + '\n",
      "  '0.060*\"live\" + 0.059*\"increase\" + 0.057*\"hit\" + 0.037*\"keep\" + 0.034*\"find\" '\n",
      "  '+ 0.027*\"measure\"'),\n",
      " (2,\n",
      "  '0.277*\"people\" + 0.141*\"day\" + 0.101*\"booster\" + 0.058*\"public\" + '\n",
      "  '0.047*\"expert\" + 0.047*\"receive\" + 0.040*\"warn\" + 0.034*\"hospitalize\" + '\n",
      "  '0.032*\"share\" + 0.026*\"effect\"'),\n",
      " (3,\n",
      "  '0.117*\"study\" + 0.102*\"number\" + 0.079*\"testing\" + 0.073*\"school\" + '\n",
      "  '0.063*\"world\" + 0.045*\"much\" + 0.044*\"also\" + 0.036*\"outbreak\" + '\n",
      "  '0.035*\"try\" + 0.035*\"treat\"'),\n",
      " (4,\n",
      "  '0.000*\"dcm\" + 0.000*\"rulebreaker\" + 0.000*\"rampage\" + 0.000*\"vegaization\" + '\n",
      "  '0.000*\"utilization\" + 0.000*\"northern\" + 0.000*\"msd\" + 0.000*\"livelihood\" + '\n",
      "  '0.000*\"cave\" + 0.000*\"batu\"'),\n",
      " (5,\n",
      "  '0.628*\"vaccine\" + 0.267*\"say\" + 0.049*\"country\" + 0.012*\"biontech\" + '\n",
      "  '0.009*\"head\" + 0.000*\"ecosearch\" + 0.000*\"die\" + 0.000*\"look\" + '\n",
      "  '0.000*\"claim\" + 0.000*\"hospital\"'),\n",
      " (6,\n",
      "  '0.151*\"go\" + 0.124*\"pfizer\" + 0.122*\"make\" + 0.080*\"rule\" + 0.070*\"mask\" + '\n",
      "  '0.051*\"reduce\" + 0.047*\"hospitalization\" + 0.046*\"fall\" + 0.044*\"begin\" + '\n",
      "  '0.029*\"open\"'),\n",
      " (7,\n",
      "  '0.170*\"record\" + 0.166*\"year\" + 0.096*\"child\" + 0.072*\"virus\" + '\n",
      "  '0.057*\"well\" + 0.050*\"tell\" + 0.050*\"policy\" + 0.029*\"become\" + '\n",
      "  '0.023*\"travel\" + 0.023*\"return\"'),\n",
      " (8,\n",
      "  '0.207*\"show\" + 0.126*\"state\" + 0.112*\"long\" + 0.090*\"last\" + 0.065*\"shot\" + '\n",
      "  '0.048*\"level\" + 0.048*\"face\" + 0.040*\"early\" + 0.039*\"expect\" + '\n",
      "  '0.027*\"family\"'),\n",
      " (9,\n",
      "  '0.504*\"health\" + 0.290*\"vaccination\" + 0.014*\"win\" + 0.000*\"ecosearch\" + '\n",
      "  '0.000*\"die\" + 0.000*\"hospital\" + 0.000*\"vaccinate\" + 0.000*\"look\" + '\n",
      "  '0.000*\"claim\" + 0.000*\"still\"'),\n",
      " (10,\n",
      "  '0.641*\"covid\" + 0.099*\"case\" + 0.081*\"new\" + 0.047*\"report\" + '\n",
      "  '0.040*\"coronavirus\" + 0.030*\"surge\" + 0.017*\"think\" + 0.013*\"give\" + '\n",
      "  '0.006*\"never\" + 0.005*\"decision\"'),\n",
      " (11,\n",
      "  '0.063*\"russian\" + 0.000*\"beijing\" + 0.000*\"winter_olympic\" + '\n",
      "  '0.000*\"figure_skater\" + 0.000*\"month\" + 0.000*\"team\" + 0.000*\"official\" + '\n",
      "  '0.000*\"ahead\" + 0.000*\"doubt\" + 0.000*\"isolation\"'),\n",
      " (12,\n",
      "  '0.187*\"see\" + 0.161*\"mandate\" + 0.124*\"news\" + 0.112*\"spread\" + 0.080*\"due\" '\n",
      "  '+ 0.064*\"effective\" + 0.045*\"hong_kong\" + 0.038*\"control\" + 0.024*\"prove\" + '\n",
      "  '0.018*\"leader\"'),\n",
      " (13,\n",
      "  '0.145*\"week\" + 0.094*\"daily\" + 0.092*\"restriction\" + 0.072*\"come\" + '\n",
      "  '0.071*\"average\" + 0.061*\"government\" + 0.058*\"free\" + 0.049*\"lockdown\" + '\n",
      "  '0.047*\"lead\" + 0.032*\"move\"'),\n",
      " (14,\n",
      "  '0.696*\"get\" + 0.078*\"add\" + 0.030*\"mrna\" + 0.014*\"expose\" + 0.011*\"screen\" '\n",
      "  '+ 0.006*\"quick\" + 0.004*\"tie\" + 0.000*\"ecosearch\" + 0.000*\"die\" + '\n",
      "  '0.000*\"vaccinate\"'),\n",
      " (15,\n",
      "  '0.773*\"death\" + 0.124*\"reuter\" + 0.007*\"natural\" + 0.000*\"ecosearch\" + '\n",
      "  '0.000*\"look\" + 0.000*\"die\" + 0.000*\"hospital\" + 0.000*\"list\" + '\n",
      "  '0.000*\"dashboard\" + 0.000*\"rise\"'),\n",
      " (16,\n",
      "  '0.254*\"bad\" + 0.173*\"late\" + 0.125*\"fight\" + 0.068*\"authority\" + '\n",
      "  '0.068*\"close\" + 0.037*\"war\" + 0.021*\"animal\" + 0.000*\"ecosearch\" + '\n",
      "  '0.000*\"look\" + 0.000*\"die\"'),\n",
      " (17,\n",
      "  '0.200*\"pandemic\" + 0.181*\"risk\" + 0.113*\"know\" + 0.092*\"need\" + '\n",
      "  '0.068*\"datum\" + 0.042*\"drop\" + 0.041*\"accord\" + 0.040*\"use\" + '\n",
      "  '0.037*\"global\" + 0.036*\"prevent\"'),\n",
      " (18,\n",
      "  '0.209*\"high\" + 0.200*\"time\" + 0.149*\"take\" + 0.068*\"life\" + 0.066*\"amp\" + '\n",
      "  '0.045*\"less\" + 0.041*\"omicron\" + 0.037*\"announce\" + 0.031*\"push\" + '\n",
      "  '0.026*\"deadly\"'),\n",
      " (19,\n",
      "  '0.205*\"variant\" + 0.105*\"end\" + 0.091*\"update\" + 0.083*\"age\" + 0.076*\"dose\" '\n",
      "  '+ 0.072*\"help\" + 0.051*\"response\" + 0.048*\"nearly\" + 0.044*\"far\" + '\n",
      "  '0.042*\"plan\"')]\n"
     ]
    }
   ],
   "source": [
    "\n",
    "# Print the Keyword in the 10 topics\n",
    "pprint(lda_model.print_topics())\n",
    "doc_lda = lda_model[corpus]\n",
    "\n"
   ]
  },
  {
   "cell_type": "code",
   "execution_count": 18,
   "metadata": {},
   "outputs": [
    {
     "name": "stdout",
     "output_type": "stream",
     "text": [
      "\n",
      "Perplexity:  -17.856803358572087\n",
      "\n",
      "Coherence Score:  0.3010097902371597\n"
     ]
    }
   ],
   "source": [
    "'''\n",
    "Model perplexity and topic coherence provide a convenient measure to judge \n",
    "how good a given topic model is. In my experience, topic coherence score, \n",
    "in particular, has been more helpful.\n",
    "'''\n",
    "# Compute Perplexity\n",
    "print('\\nPerplexity: ', lda_model.log_perplexity(corpus))  # a measure of how good the model is. lower the better.\n",
    "\n",
    "# Compute Coherence Score\n",
    "coherence_model_lda = CoherenceModel(model=lda_model, texts=data_lemmatized, dictionary=id2word, coherence='c_v')\n",
    "coherence_lda = coherence_model_lda.get_coherence()\n",
    "print('\\nCoherence Score: ', coherence_lda)\n",
    "\n"
   ]
  },
  {
   "cell_type": "code",
   "execution_count": 19,
   "metadata": {},
   "outputs": [
    {
     "name": "stderr",
     "output_type": "stream",
     "text": [
      "C:\\Users\\hannah.kim\\AppData\\Roaming\\Python\\Python39\\site-packages\\pyLDAvis\\_prepare.py:243: FutureWarning: In a future version of pandas all arguments of DataFrame.drop except for the argument 'labels' will be keyword-only.\n",
      "  default_term_info = default_term_info.sort_values(\n"
     ]
    },
    {
     "data": {
      "text/html": [
       "\n",
       "<link rel=\"stylesheet\" type=\"text/css\" href=\"https://cdn.jsdelivr.net/gh/bmabey/pyLDAvis@3.4.0/pyLDAvis/js/ldavis.v1.0.0.css\">\n",
       "\n",
       "\n",
       "<div id=\"ldavis_el2839616111864402242777598999\" style=\"background-color:white;\"></div>\n",
       "<script type=\"text/javascript\">\n",
       "\n",
       "var ldavis_el2839616111864402242777598999_data = {\"mdsDat\": {\"x\": [0.2827511763486764, 0.1298229359967561, 0.1602007092922638, 0.06162427976137907, 0.09302247741226057, 0.08558621805563071, 0.09473368406863214, 0.05208351303305288, 0.029216731644025676, 0.030941693962999773, 0.030909296767837286, 0.041338913096230834, 0.027370110805961825, -0.151073285023781, -0.020292570149950333, -0.1219128045674542, -0.1292497681996737, -0.1914291044033369, -0.25217124012381537, -0.2534729677776956], \"y\": [-0.38508753193154277, 0.12066068489711212, 0.21749923276611088, 0.02697464373623443, 0.059225983851074034, 0.05019236997017871, 0.06179814804777423, 0.022036201989639178, 0.007546210422969322, 0.009158306715792573, 0.009416302514260868, 0.015283188132775358, 0.0074886076285686195, -0.03770383199266695, -0.011550987415810869, -0.034557480862732276, -0.035449455084500696, -0.04028844435881596, -0.03150374508790381, -0.031138403938516912], \"topics\": [1, 2, 3, 4, 5, 6, 7, 8, 9, 10, 11, 12, 13, 14, 15, 16, 17, 18, 19, 20], \"cluster\": [1, 1, 1, 1, 1, 1, 1, 1, 1, 1, 1, 1, 1, 1, 1, 1, 1, 1, 1, 1], \"Freq\": [28.037361992116544, 8.280275522541476, 7.694799747417163, 5.641064693068467, 5.5698252260857695, 5.491420278933891, 4.971804643249438, 4.711414342679817, 4.5181465173248805, 4.207572326516964, 4.172049096755145, 3.9712137600584, 3.4608562686839615, 2.2770221930956214, 2.2473583140638684, 1.8720355325572062, 1.7308045433856432, 1.0744334034142657, 0.048429098485082915, 0.022112499566388416]}, \"tinfo\": {\"Term\": [\"covid\", \"vaccine\", \"death\", \"say\", \"get\", \"people\", \"health\", \"infection\", \"test\", \"case\", \"pandemic\", \"new\", \"variant\", \"record\", \"risk\", \"show\", \"year\", \"vaccination\", \"see\", \"high\", \"time\", \"day\", \"go\", \"mandate\", \"cause\", \"week\", \"study\", \"pfizer\", \"make\", \"take\", \"covid\", \"case\", \"new\", \"report\", \"coronavirus\", \"surge\", \"think\", \"give\", \"never\", \"decision\", \"nation\", \"put\", \"bill\", \"ecosearch\", \"die\", \"hospital\", \"rise\", \"claim\", \"month\", \"still\", \"look\", \"first\", \"patient\", \"vaccinate\", \"start\", \"work\", \"home\", \"even\", \"big\", \"treatment\", \"rate\", \"infect\", \"test\", \"cause\", \"positive\", \"many\", \"live\", \"increase\", \"hit\", \"keep\", \"find\", \"measure\", \"post\", \"source\", \"group\", \"drive\", \"compare\", \"part\", \"result\", \"requirement\", \"urge\", \"real\", \"thank\", \"loss\", \"previous\", \"aim\", \"cancel\", \"arrival\", \"speak\", \"wide\", \"major\", \"declare\", \"vaccine\", \"say\", \"country\", \"biontech\", \"head\", \"ecosearch\", \"claim\", \"efficacy\", \"die\", \"look\", \"verify\", \"work\", \"mean\", \"even\", \"vaccinate\", \"require\", \"approve\", \"misinformation\", \"evidence\", \"multiple\", \"injection\", \"protest\", \"immunity\", \"serious_illness\", \"decrease\", \"first\", \"still\", \"list\", \"polio\", \"transmission\", \"start\", \"good\", \"month\", \"treatment\", \"disease\", \"ahead\", \"hospital\", \"patient\", \"rise\", \"home\", \"rate\", \"study\", \"number\", \"testing\", \"school\", \"world\", \"much\", \"also\", \"outbreak\", \"try\", \"treat\", \"serious\", \"student\", \"crisis\", \"economy\", \"decline\", \"condition\", \"researcher\", \"figure\", \"explain\", \"resident\", \"reason\", \"mark\", \"minister\", \"mass\", \"few\", \"worldwide\", \"cite\", \"capacity\", \"international\", \"recently\", \"people\", \"day\", \"booster\", \"public\", \"expert\", \"receive\", \"warn\", \"hospitalize\", \"share\", \"effect\", \"almost\", \"second\", \"question\", \"track\", \"ve\", \"shoot\", \"nationwide\", \"difference\", \"past\", \"antibodie\", \"reinfection\", \"persist\", \"note\", \"die\", \"infect\", \"ecosearch\", \"month\", \"unvaccinated\", \"start\", \"vaccinate\", \"hospital\", \"still\", \"look\", \"claim\", \"record\", \"year\", \"child\", \"virus\", \"well\", \"tell\", \"policy\", \"become\", \"travel\", \"return\", \"enter\", \"teacher\", \"hope\", \"full\", \"guidance\", \"quarantine\", \"great\", \"hold\", \"fake\", \"system\", \"history\", \"reopen\", \"information\", \"education\", \"avoid\", \"perform\", \"union\", \"fan\", \"ecosearch\", \"die\", \"pandemic\", \"risk\", \"know\", \"need\", \"datum\", \"drop\", \"accord\", \"use\", \"global\", \"prevent\", \"drug\", \"affect\", \"million\", \"nhs\", \"morning\", \"sars_cov\", \"role\", \"here\", \"decrease\", \"serious_illness\", \"population\", \"dramatically\", \"mental\", \"states_reporte\", \"efficacy\", \"dramatically_decrease\", \"story\", \"dramatically_reduce\", \"psychiatry\", \"healthy\", \"treatment\", \"dashboard\", \"vaccinate\", \"evidence\", \"patient\", \"ecosearch\", \"even\", \"die\", \"still\", \"look\", \"hospital\", \"claim\", \"work\", \"month\", \"rise\", \"first\", \"go\", \"pfizer\", \"make\", \"rule\", \"mask\", \"reduce\", \"hospitalization\", \"fall\", \"begin\", \"open\", \"large\", \"protection\", \"moderna\", \"sure\", \"consider\", \"jump\", \"study_find\", \"additional\", \"challenge\", \"cautious\", \"claim\", \"ahead\", \"ecosearch\", \"approve\", \"wrong\", \"verify\", \"still\", \"supreme_court\", \"die\", \"serious_illness\", \"look\", \"work\", \"month\", \"patient\", \"even\", \"hospital\", \"vaccinate\", \"week\", \"daily\", \"restriction\", \"come\", \"average\", \"government\", \"free\", \"lockdown\", \"lead\", \"move\", \"third\", \"national\", \"relate\", \"fuel\", \"target\", \"local\", \"toll\", \"prepare\", \"line\", \"expand\", \"stand\", \"capital\", \"activity\", \"log\", \"transmit\", \"icu\", \"hospital\", \"ecosearch\", \"next\", \"states_reporte\", \"home\", \"rise\", \"die\", \"month\", \"claim\", \"variant\", \"end\", \"update\", \"age\", \"dose\", \"help\", \"response\", \"nearly\", \"far\", \"plan\", \"provide\", \"delay\", \"total\", \"immune_system\", \"strain\", \"percent\", \"domestic\", \"disaster\", \"donate\", \"approve\", \"hospital\", \"immune\", \"emergency\", \"united_state\", \"evolution\", \"exact\", \"company\", \"fire\", \"cell\", \"england\", \"month\", \"ecosearch\", \"scientist\", \"include\", \"start\", \"look\", \"die\", \"still\", \"vaccinate\", \"rise\", \"claim\", \"first\", \"see\", \"mandate\", \"news\", \"spread\", \"due\", \"effective\", \"hong_kong\", \"control\", \"prove\", \"leader\", \"brain\", \"curb\", \"recent\", \"approach\", \"economic\", \"necessary\", \"ecosearch\", \"look\", \"list\", \"protest\", \"supreme_court\", \"medical\", \"place\", \"public_radio\", \"vaccinate\", \"efficacy\", \"dashboard\", \"continue\", \"even\", \"worker\", \"die\", \"first\", \"claim\", \"hospital\", \"month\", \"rise\", \"still\", \"work\", \"patient\", \"show\", \"state\", \"long\", \"last\", \"shot\", \"level\", \"face\", \"early\", \"expect\", \"family\", \"hour\", \"site\", \"talk\", \"seek\", \"expire\", \"chief\", \"currently\", \"officially\", \"dashboard\", \"list\", \"look\", \"month\", \"ahead\", \"claim\", \"research\", \"valid_source\", \"patient\", \"require\", \"wastewater\", \"immunity\", \"verify\", \"ecosearch\", \"mean\", \"die\", \"still\", \"vaccinate\", \"hospital\", \"start\", \"rise\", \"high\", \"time\", \"take\", \"life\", \"amp\", \"less\", \"omicron\", \"announce\", \"push\", \"deadly\", \"run\", \"away\", \"cut\", \"short\", \"surpass\", \"folk\", \"tour\", \"ever\", \"rate\", \"likely\", \"reading\", \"commemoration\", \"pleasure\", \"widespread\", \"none\", \"save\", \"habitual\", \"intolerable\", \"tedium\", \"smartphone\", \"month\", \"ecosearch\", \"discover\", \"work\", \"still\", \"die\", \"first\", \"hospital\", \"start\", \"look\", \"even\", \"claim\", \"vaccinate\", \"health\", \"vaccination\", \"win\", \"care\", \"mental\", \"worker\", \"psychiatry\", \"psychiatric\", \"rate\", \"low\", \"disorder\", \"service\", \"stress\", \"clinic\", \"official\", \"wire\", \"issue\", \"highlight\", \"coma\", \"dump\", \"stanford\", \"sapolsky\", \"viral\", \"lecture\", \"support\", \"depression\", \"inception\", \"youtub\", \"dictator\", \"technology_network\", \"ecosearch\", \"forbe\", \"apartheid\", \"proof\", \"protect\", \"kid\", \"team\", \"survivor\", \"patient\", \"vaccinate\", \"already\", \"die\", \"staff\", \"flu\", \"stop\", \"include\", \"hospital\", \"treatment\", \"work\", \"still\", \"look\", \"protest\", \"claim\", \"month\", \"rise\", \"first\", \"start\", \"even\", \"disease\", \"home\", \"misinformation\", \"infect\", \"ahead\", \"list\", \"death\", \"reuter\", \"natural\", \"dashboard\", \"list\", \"decrease\", \"states_reporte\", \"look\", \"icu\", \"serious_illness\", \"dramatically_decrease\", \"efficacy\", \"dramatically\", \"vaccination_status\", \"excess\", \"contribute\", \"certificate\", \"dramatically_reduce\", \"dramatic\", \"hospital\", \"valid_source\", \"comorbiditie\", \"rise\", \"statistic\", \"row\", \"status\", \"nsw\", \"preventable\", \"complication\", \"wrongful\", \"company\", \"read\", \"evidence\", \"rate\", \"disease\", \"first\", \"continue\", \"die\", \"vaccinate\", \"work\", \"still\", \"even\", \"ecosearch\", \"claim\", \"month\", \"big\", \"start\", \"ahead\", \"patient\", \"get\", \"add\", \"mrna\", \"expose\", \"screen\", \"quick\", \"tie\", \"mth\", \"ple\", \"date\", \"catch\", \"ill\", \"anti_vaxxer\", \"puncture\", \"wound\", \"joke\", \"gps\", \"complicated\", \"expensive\", \"convert\", \"allocate\", \"govt\", \"column\", \"mis\", \"rain\", \"everybodys\", \"advisory\", \"other\", \"orphan\", \"act\", \"tetanus\", \"maybe\", \"likely\", \"choice\", \"cell\", \"injection\", \"vaccinate\", \"recommend\", \"chance\", \"sick\", \"man\", \"thing\", \"kid\", \"back\", \"want\", \"immunity\", \"wait\", \"vaccinated\", \"die\", \"home\", \"still\", \"even\", \"good\", \"ecosearch\", \"work\", \"start\", \"hospital\", \"patient\", \"look\", \"month\", \"claim\", \"mean\", \"list\", \"first\", \"big\", \"protect\", \"rise\", \"infect\", \"infection\", \"symptom\", \"ease\", \"aid\", \"fund\", \"immunity\", \"flurona\", \"mild\", \"neurological\", \"breakthrough\", \"asymptomatic\", \"taste\", \"volume\", \"wwlp\", \"ambulance\", \"acute\", \"merge\", \"wrongful\", \"common\", \"court_rule\", \"lasting\", \"panic\", \"western\", \"horror\", \"natural_immunity\", \"smell\", \"european\", \"river\", \"worshipper\", \"gallop\", \"sit\", \"likelihood\", \"sue\", \"minute\", \"protect\", \"research\", \"science\", \"even\", \"single\", \"set\", \"rate\", \"vaccinated\", \"infect\", \"complication\", \"first\", \"stroke\", \"business\", \"ecosearch\", \"ahead\", \"likely\", \"month\", \"reach\", \"look\", \"still\", \"claim\", \"rise\", \"die\", \"vaccinate\", \"hospital\", \"start\", \"work\", \"patient\", \"home\", \"protest\", \"bad\", \"late\", \"fight\", \"authority\", \"close\", \"war\", \"animal\", \"since_tame\", \"original_epidemic\", \"weather\", \"reopening\", \"headache\", \"strategic\", \"cancellation\", \"welcome\", \"remember\", \"surgical_mask\", \"blow\", \"flight\", \"stockpile\", \"pretty_ugly\", \"lifetime\", \"gizmodo\", \"enemy\", \"class\", \"temporarily\", \"explainer\", \"confess\", \"chicago\", \"invites_litigation\", \"wall_street\", \"holiday\", \"non\", \"chinavirus\", \"build\", \"biden_administration\", \"web\", \"thing\", \"love\", \"good\", \"continue\", \"al_jazeera\", \"look\", \"back\", \"ecosearch\", \"start\", \"effort\", \"official\", \"ahead\", \"next\", \"hospital\", \"first\", \"even\", \"claim\", \"die\", \"watch\", \"disease\", \"likely\", \"patient\", \"month\", \"rise\", \"still\", \"work\", \"russian\", \"beijing\", \"rejoin\", \"anisimov\", \"artem\", \"figure_skater\", \"contracting\", \"sputnik\", \"female\", \"arab\", \"cycling\", \"counting\", \"putin\", \"teammate\", \"channel\", \"forward\", \"domestically\", \"woodland\", \"cyber\", \"eset\", \"espionage\", \"lur\", \"nhl\", \"hack\", \"absent\", \"dbl\", \"memorial\", \"annoyed\", \"diplomat\", \"vaxxe\", \"obrador\", \"meanwhile\", \"export\", \"winter_olympic\", \"pharmaceutical_firm\", \"gear\", \"miss\", \"bid\", \"former\", \"town\", \"athlete\", \"negative\", \"doubt\", \"team\", \"player\", \"isolation\", \"next\", \"peak\", \"game\", \"official\", \"ahead\", \"staff\", \"month\", \"yet\", \"natures_real\", \"nearly_wipe\", \"inhibit\", \"metabolite\", \"microbiome_produce\", \"thwart\", \"en_espanol\", \"preferably\", \"cornerstone\", \"comprise\", \"camera\", \"faucis\", \"vocabulary\", \"zelensky\", \"shanghais\", \"speedy\", \"newsnation\", \"americans_halte\", \"vaccinated_latin\", \"amp_dietary\", \"created_stress\", \"successfully_meditation\", \"evoo\", \"easy_prospective\", \"hallett\", \"reside\", \"irritation\", \"practicality\", \"crisis_center\", \"terrorist\", \"death\", \"health\", \"infection\", \"covid\", \"virus\", \"vaccination\", \"aid\", \"aide\", \"associated_press\", \"budget\", \"cut\", \"fund\", \"whatsapp\", \"booster\", \"news\", \"thank\", \"update\", \"variant\", \"hospitalization\", \"large\", \"reduce\", \"risk\", \"study_find\"], \"Freq\": [93677.0, 25186.0, 9059.0, 10707.0, 6800.0, 8058.0, 5986.0, 5439.0, 7982.0, 14508.0, 5184.0, 11811.0, 4494.0, 4868.0, 4688.0, 4290.0, 4751.0, 3441.0, 4080.0, 3778.0, 3610.0, 4093.0, 3704.0, 3503.0, 4388.0, 3410.0, 3434.0, 3055.0, 2994.0, 2688.0, 93676.32272737018, 14506.915149828988, 11809.57242500745, 6809.896691800622, 5792.260468457886, 4411.1695456625675, 2522.781225060771, 1969.8060280423163, 838.4138431773356, 669.3514141741903, 640.3595886014334, 637.8792015994353, 129.66101331825584, 0.10745562046729477, 0.1071262140185131, 0.10705918228330125, 0.10701456927203115, 0.10702792740676396, 0.10702393742252517, 0.1070193156907819, 0.10703038789704457, 0.10700713792638639, 0.10700346381589983, 0.10701353852610279, 0.10699682215463566, 0.10699763677641774, 0.10698795275217149, 0.10699494353705655, 0.1069754674264909, 0.10697587473738195, 0.10698114484156403, 0.1069763485480103, 7980.883770758185, 4386.729490078264, 3178.7740451976924, 2649.7286883919182, 2581.2520233675004, 2536.6726804240484, 2444.146817194059, 1616.9564004721856, 1463.6720431136564, 1152.9758051161332, 1141.0451632768745, 1080.754042180093, 899.4249700730685, 898.0676576522677, 848.1073307431778, 737.6398132083388, 688.7346553280904, 634.0808493786501, 581.7125055987926, 559.370184273489, 511.9861607037447, 356.8032713447819, 352.1213760766471, 308.43468746885094, 304.3632730850555, 261.67556416656856, 253.72418941198694, 205.3864754845822, 194.03158332373158, 137.8252301259385, 25185.031922588358, 10705.444647089485, 1953.9013571514513, 475.5321522642494, 341.2466663214119, 0.0867322232353284, 0.08653197628906618, 0.08650416218533818, 0.08657162598745798, 0.08653274281948388, 0.08649291061384978, 0.08651163585691077, 0.08649461705656539, 0.08650929063884709, 0.08652016807048875, 0.08648962548348821, 0.08648473428939431, 0.0864951007007575, 0.08648929697045206, 0.08647705985985518, 0.08647372910268304, 0.08649535621089674, 0.08648473428939431, 0.08648175942134466, 0.08648717076107915, 0.08651005716926478, 0.08651688294012717, 0.08649788393620272, 0.08647124700418762, 0.0864793594511083, 0.08650639789905648, 0.08649074790302842, 0.08651803273575372, 0.08649326650297229, 0.08649291061384978, 0.08649625962174617, 0.08652431098488918, 0.0865048830889453, 0.08650324964912663, 0.08649472656091077, 0.08649430679425346, 3432.473692964872, 2987.0157172312393, 2312.2306996018806, 2149.9857369664865, 1866.4875294002716, 1315.007140123194, 1303.2567334614564, 1052.8028317326068, 1037.2642270684912, 1025.4141886729374, 647.3416264387308, 599.1274300764779, 594.4177755436328, 583.6807847354338, 575.7170415939257, 539.712281267693, 539.5235399633676, 507.84640291781614, 469.5216151881826, 403.4867377901337, 401.4557136586144, 325.17030369506233, 303.38049277064215, 292.5439524330275, 285.04945941297314, 254.36581735449005, 247.65659557417985, 227.10937267210252, 213.75259611284457, 212.38956494253972, 8057.313979117768, 4092.2532464137844, 2930.8843526923815, 1687.8585179624922, 1371.8011988071887, 1362.6815738401187, 1161.6213749129365, 997.9583697395595, 935.9677980277315, 757.2849216110629, 748.2056092217239, 610.8199655386725, 558.060595351339, 511.13762064596875, 401.72931173953145, 400.09492079446414, 282.31755841854925, 199.70369421424567, 157.80480302184907, 138.53727121822442, 124.7614758846739, 38.73806381516051, 11.80845952853326, 0.08895140852315471, 0.08886193936264355, 0.08907984251038092, 0.08888433142274933, 0.08885469992374209, 0.08887020923262952, 0.08888156379054157, 0.08889013090026346, 0.08887816204689718, 0.08888494571820356, 0.08887926513658381, 4866.620675496767, 4749.949523583979, 2744.1661658972066, 2069.2477064377463, 1643.0616036273098, 1445.9554218597698, 1435.494402655746, 829.7354191978945, 662.2098943926707, 650.4918627834511, 585.5670280124174, 574.2263348609667, 552.4777048984625, 550.6741305676566, 493.83622498097026, 489.38375921723076, 473.30198146186956, 331.1267136449102, 322.8616783611337, 297.2377936406628, 287.31560073714303, 269.3217365029337, 237.30374411705532, 187.02812935541394, 183.59572579749502, 78.23973947330656, 64.26992741343963, 32.227984598622434, 0.09051555331145426, 0.09034324314789169, 5182.400712403095, 4687.0504040417345, 2938.5387865206076, 2393.922542264617, 1773.5466436054842, 1090.653119690101, 1062.5470147410917, 1030.67062458531, 967.9879062593319, 932.9321462317803, 681.2064157139516, 629.7179059154329, 501.04640567552985, 201.74926167930656, 190.30804146121417, 181.0705698035551, 135.82240174179753, 0.07935973709790216, 0.07935741991993055, 0.07935208392485597, 0.07934568662689363, 0.07934371732042413, 0.07934474914267611, 0.07934112892060341, 0.07936075712789985, 0.07933993790291825, 0.07934191900164209, 0.07933905937997228, 0.0793360169783607, 0.07934171263719168, 0.07936038567188913, 0.07935558032825843, 0.07938201266629084, 0.07935502019617878, 0.07937152345608346, 0.07954154417870284, 0.0793707333750448, 0.07941808517222042, 0.07937848088612547, 0.07938640528102074, 0.07938850430228765, 0.07938047967323074, 0.07936976051406436, 0.07937555640705696, 0.07936683013886871, 0.07936653533251099, 3702.98135948656, 3053.860037350372, 2993.0566007335897, 1955.7897455516675, 1715.8211900910685, 1253.914891350183, 1152.4855996705314, 1138.3730009023902, 1071.081287756136, 723.0751515219685, 720.4055814195026, 710.0663754098704, 669.7128143004261, 605.5552965585738, 397.6007105772261, 284.13468963181873, 261.4514452955302, 251.12491795880075, 214.66455620108968, 103.86934118547076, 0.09376405116614629, 0.0937368297092779, 0.09396462502876157, 0.09371480446646689, 0.09371483799042855, 0.09371988334665847, 0.09375012754740326, 0.0937127986160942, 0.09380160917786003, 0.09371073130512513, 0.0937591901917055, 0.09373916521194026, 0.09375045161236598, 0.09373817066774431, 0.09373628215123744, 0.0937550332204596, 0.09374364624814888, 3408.851446194956, 2224.87082895008, 2172.7260649582213, 1704.5073655389288, 1667.7229684992365, 1444.15137550402, 1358.3602690016057, 1162.8052015597032, 1100.1876436562893, 742.9139113752339, 623.0107492957095, 573.8986947472447, 546.3024082984733, 435.0565931528687, 408.825710696682, 356.82957106329206, 323.93534857115503, 316.00652874582573, 292.70066232975387, 266.76808204136233, 201.7918257212729, 156.88978876350367, 153.07784391555896, 121.45556457274908, 97.21432158285208, 0.10021818226422786, 0.1002735531604308, 0.10048104131453982, 0.10022490135691593, 0.10020526917540948, 0.10023679640138762, 0.100245969516764, 0.10029776118336914, 0.10025407100651229, 0.10024728761628654, 4493.314433598157, 2304.2016000765902, 1989.7114244292297, 1813.8225385058213, 1664.7949468882023, 1569.9229083844032, 1116.8319335317863, 1062.2076080509246, 959.9360132664656, 915.2676640030256, 740.052914274006, 557.9519769561365, 320.1607557163931, 307.36898872661993, 266.6151012860789, 80.16378942132378, 79.31129858528047, 70.90274023759922, 41.624788056389534, 0.09353174207356257, 0.09358138074530271, 0.09351615389397712, 0.09352561458171528, 0.09352214167102658, 0.09351699218276405, 0.0935110243649714, 0.09352363861528895, 0.09351293047399882, 0.09351330969987862, 0.09351099442608615, 0.09356421578442756, 0.09375955703103821, 0.09353002557747506, 0.09353225103461178, 0.09354961558805526, 0.09356738930626378, 0.0936009707558829, 0.0935565913483179, 0.09355657138906107, 0.09354869746224101, 0.09355827790552015, 0.09354929623994596, 4078.671046067154, 3501.6562466105006, 2690.9794220117574, 2446.9111903031153, 1731.5735769795194, 1396.1147078424938, 976.5223573770944, 830.7427294880599, 521.0146433320455, 387.2960805764842, 371.1534579092096, 356.6688552619468, 343.72939254679574, 268.49979932965437, 200.39251407879124, 72.60383923349723, 0.0934513928169895, 0.09324207598124899, 0.09320393921176269, 0.09320027792356603, 0.09318574161988794, 0.0931964781001403, 0.0931830203921742, 0.09317559886204582, 0.09322132538301008, 0.09319444954857188, 0.09318857169671022, 0.09319222308953337, 0.093207946838032, 0.0931896601877957, 0.0932691893046513, 0.09320967852839529, 0.09321985097235791, 0.09322873701776495, 0.09321834687558522, 0.09320828328073116, 0.09321539805428089, 0.0932057005882465, 0.0932052651918123, 4288.485091217961, 2620.1396188446156, 2322.595112947534, 1865.1236990271047, 1345.8745207270047, 1000.1873895784173, 990.4624445550836, 834.1869337499234, 803.2063075236475, 564.8387884685968, 562.4052952631705, 461.00695439285056, 447.28099715628304, 410.0696082600607, 326.3782522260534, 238.16406565884915, 197.35571639701223, 8.428191245444356, 0.08385335953217465, 0.08385747564700867, 0.0838845741879182, 0.08387493852321523, 0.08385199377324805, 0.08387254609033688, 0.08384140678680999, 0.08382330341676197, 0.08385899211036858, 0.0838401634752354, 0.08382346354022234, 0.08383607561748263, 0.08384042720799365, 0.08404678867229212, 0.08384317756390104, 0.0839076037091291, 0.08386478481202285, 0.08386549123905386, 0.0838739118492635, 0.08385374571228495, 0.08385356675077042, 3776.4824422701304, 3609.0266081519426, 2687.0407106440375, 1228.9857495993635, 1197.7160158216702, 812.0199452995166, 743.64258569817, 664.2215396047927, 552.877143917666, 477.0192118215394, 255.3478790387255, 252.61096367562857, 213.9330796494406, 102.24308123735292, 73.63761362653527, 48.710092477873786, 16.78775785467207, 0.07866065249942833, 0.0786814693772505, 0.07866934535179966, 0.07864837251156478, 0.07864696884985044, 0.07864709197807099, 0.07864708376952295, 0.07864812625512367, 0.07865045748276622, 0.07864648454551625, 0.07864648454551625, 0.07864648454551625, 0.07864659125664072, 0.07869339639754845, 0.07885068038648793, 0.07865031793744959, 0.07868190443029648, 0.07868860260549478, 0.07872695294192425, 0.07868253648849532, 0.07869514481828037, 0.07867712705533886, 0.07869102412716572, 0.07867633903472729, 0.07868562290255729, 0.07868099328146434, 5984.81987494755, 3439.4991429924416, 166.2352029499555, 0.1342363291019818, 0.13421770748877696, 0.1342333587170448, 0.13419441967087115, 0.13419285346790438, 0.13424494861899888, 0.13421779389997512, 0.13419350155189064, 0.1342001984197485, 0.13419825416778977, 0.13419355555888948, 0.13422967543972297, 0.13419016391936145, 0.13420798622898325, 0.1341927346525069, 0.13418791722820914, 0.13418821966740271, 0.1341854437076616, 0.1341854437076616, 0.13419384719668329, 0.13418572454405567, 0.13420846149057317, 0.13418588656505223, 0.13418521687826643, 0.13418521687826643, 0.13418570294125612, 0.13418761478901556, 0.1345580487941546, 0.13420581514762933, 0.13419075799634886, 0.13419374998408537, 0.1342243071440369, 0.13422675906178488, 0.13420130016252513, 0.13419651514242667, 0.1342444625560092, 0.13425823434071693, 0.13420441096565913, 0.13431903542002668, 0.13421172351330393, 0.13421351654566588, 0.13421664895159943, 0.1342173942481836, 0.1342646827763801, 0.13422211445988344, 0.13423812213434375, 0.13424778938713858, 0.13425598764956462, 0.13422253571447448, 0.13424791900393584, 0.1342461583757732, 0.13423510854380769, 0.13423572422359462, 0.1342324838036634, 0.1342322893784675, 0.1342204942499178, 0.13422608937499908, 0.13422000818692814, 0.1342193601029419, 0.13421918728054555, 0.13421919808194532, 9058.081893897393, 1451.2390349869847, 84.87498263422412, 0.06622164656380908, 0.06622602810520686, 0.06621745158439295, 0.066202873098112, 0.06624380479688766, 0.06620853925201206, 0.06620705741684346, 0.0661967485347713, 0.0662116415112499, 0.06619614620608767, 0.06619158343305055, 0.06619049604321461, 0.06619174867366288, 0.06618964318844132, 0.06619019221370162, 0.06618866773579436, 0.06623458330465144, 0.0661886890571637, 0.06618560811929518, 0.06621767012842861, 0.06618509640643121, 0.0661844994080899, 0.0661875110515081, 0.06618629040311381, 0.06618325210798397, 0.06619535731542237, 0.06618326276866864, 0.0661947496563964, 0.06619092780094359, 0.0662000053739368, 0.06620728662156379, 0.06620278248229233, 0.0662122864826722, 0.0662014232449974, 0.06624291996006036, 0.06621555931286471, 0.06620974390937932, 0.06621173745741189, 0.06620697213136613, 0.06629184717233562, 0.06621123640523259, 0.06621052213935996, 0.06619900859992052, 0.06620332617721031, 0.06619907789437085, 0.06619995740085581, 6798.582673351272, 758.4352175117048, 293.708718632855, 137.3719594674593, 103.6131712439919, 56.65290537771344, 39.79655396946983, 0.09254291562831625, 0.09254654766454828, 0.09253915038782144, 0.09254190327591906, 0.09254184999421394, 0.09254023378249211, 0.09253198399848342, 0.09253198399848342, 0.09253238361127179, 0.09253063419528718, 0.09253064307557135, 0.0925328809071862, 0.09253094500523368, 0.09253094500523368, 0.09253336044253224, 0.09253029674448811, 0.09253241913240853, 0.09253058091358206, 0.09253040330789834, 0.0925326855409341, 0.0925433241213888, 0.09252994153312068, 0.0925330052311648, 0.09253340484395317, 0.09254022490220792, 0.09255576539953324, 0.09253767626064657, 0.09253757857752054, 0.09253949671890468, 0.09258182903361882, 0.09254172567023534, 0.09253494113311733, 0.09253723224643728, 0.0925399318528298, 0.0925475422563771, 0.09255472640628348, 0.09254877661587894, 0.09255128973630354, 0.09254716040415711, 0.09254232952955999, 0.09254570403755062, 0.0926025378563403, 0.09255722176613972, 0.09256766498034233, 0.09256091596436104, 0.092550499391011, 0.09267398862289997, 0.09255900670326109, 0.09255732832954995, 0.09256718544499629, 0.09255657350539415, 0.09256469008514005, 0.09255997465423735, 0.09255971712599595, 0.09254914958781475, 0.09255065923612635, 0.09255275498319422, 0.09254882989758406, 0.09254857236934266, 0.09254990441197054, 0.09254877661587894, 5437.582334696777, 982.2970101126604, 540.502828056409, 345.2023129649673, 200.56456167148824, 0.08934455455938776, 0.08931968545894226, 0.08932978416925852, 0.08931553103014549, 0.08931943914893455, 0.0893183553849006, 0.08931498093779493, 0.08931567881615012, 0.08931365086375327, 0.0893162945911694, 0.08931536682347367, 0.08931434874210846, 0.08931501377912929, 0.089317665716879, 0.08931505483079724, 0.08931282983039422, 0.08931452936944745, 0.0893157773401532, 0.08931450473844668, 0.0893184539089037, 0.08931549818881113, 0.08931578555048679, 0.08931286267172858, 0.08931286267172858, 0.08931281340972703, 0.08931548997847753, 0.0893153421924729, 0.08931610575349681, 0.08931853601223959, 0.08933620465012626, 0.08933372512938194, 0.08932940649391337, 0.08934613094343713, 0.08932824883687711, 0.08932677918716442, 0.08933939846989296, 0.08932735391051574, 0.0893360076021201, 0.08932553121645867, 0.08934378278803026, 0.08931803518189058, 0.08932324874372052, 0.08945872745829671, 0.08933403712205838, 0.08932939828357978, 0.08934640188444562, 0.08932531774778531, 0.0893495957042123, 0.0893441850943762, 0.08934548232708349, 0.08933874164320571, 0.08936351221964814, 0.08934094201260796, 0.08934491581406574, 0.0893354821407703, 0.08933524404109618, 0.0893315247599797, 0.08932923407690796, 0.08932865114322304, 1424.1535320702137, 971.3494465802638, 697.7273590206607, 383.0017971862612, 379.5165928621064, 206.24716288000116, 119.43795385888221, 0.08354201296049206, 0.08353567771560626, 0.08353074917030892, 0.08352965846845409, 0.08353005091725232, 0.08352946479242379, 0.08353009678789108, 0.08352988782164786, 0.083529673758667, 0.08352957182391421, 0.08352930679355697, 0.08353040768888709, 0.08352962279129061, 0.08352720184091188, 0.08352785422332973, 0.08352856266986161, 0.08352717635722369, 0.08353032104434721, 0.08352711009963437, 0.0835263761694143, 0.08352593275323966, 0.08352622326728511, 0.08352638126615193, 0.08353337399019323, 0.08353040259214944, 0.0835305249138528, 0.08353032104434721, 0.08352879711979302, 0.08353475010935588, 0.08353055039754098, 0.08353959201011334, 0.08353078994421004, 0.08354002013607505, 0.08353814963336137, 0.0835324922545816, 0.08354621776904458, 0.08353487243105923, 0.08358737392548296, 0.08353942891450887, 0.08353108555499313, 0.08353496417233673, 0.0835358255209978, 0.08353402637261108, 0.08354094774232541, 0.08353705383476889, 0.08353651867731676, 0.0835381649235743, 0.08354384268930462, 0.08353270122082483, 0.08353405695303691, 0.08353325676522752, 0.08353496417233673, 0.08353499475276256, 0.08353430159644361, 0.08353441372467167, 0.08353418946821554, 15.883842244409655, 0.013894386908517355, 0.013894066204367617, 0.013894066204367617, 0.013894066204367617, 0.013894066204367617, 0.013894066204367617, 0.013893985339137884, 0.013893951338984472, 0.013893920095600257, 0.013893920095600257, 0.013893920095600257, 0.013893912744215735, 0.013894066204367617, 0.013893907230677344, 0.013894066204367617, 0.01389387966298539, 0.013893878744062326, 0.013893878744062326, 0.013893878744062326, 0.013893878744062326, 0.013893878744062326, 0.013894066204367617, 0.013893878744062326, 0.013893994528368534, 0.013893852095293436, 0.013893878744062326, 0.013893845662831979, 0.013893878744062326, 0.013893852095293436, 0.01389387966298539, 0.013893957771445928, 0.013893912744215735, 0.013894386908517355, 0.013893912744215735, 0.013893920095600257, 0.013894066204367617, 0.013893920095600257, 0.013894066204367617, 0.013893920095600257, 0.013894066204367617, 0.013894066204367617, 0.013894066204367617, 0.013894066204367617, 0.013893957771445928, 0.013894066204367617, 0.013894066204367617, 0.013893994528368534, 0.013893994528368534, 0.013894066204367617, 0.013894066204367617, 0.013893994528368534, 0.013894066204367617, 0.013893951338984472, 0.006769113077935928, 0.006769113077935928, 0.006769113077935928, 0.006769113077935928, 0.006769113077935928, 0.006769113077935928, 0.006769113077935928, 0.006769113077935928, 0.006769113077935928, 0.006769113077935928, 0.006769113077935928, 0.006769113077935928, 0.006769113077935928, 0.006769113077935928, 0.006769113077935928, 0.006769113077935928, 0.006769113077935928, 0.006769113077935928, 0.006769113077935928, 0.006769113077935928, 0.006769113077935928, 0.006769113077935928, 0.006769113077935928, 0.006769113077935928, 0.006769113077935928, 0.006769113077935928, 0.006769113077935928, 0.006769113077935928, 0.006769113077935928, 0.006769113077935928, 0.006769113077935928, 0.006769113077935928, 0.006769113077935928, 0.006769113077935928, 0.006769113077935928, 0.006769113077935928, 0.006769113077935928, 0.006769113077935928, 0.006769113077935928, 0.006769113077935928, 0.006769113077935928, 0.006769113077935928, 0.006769113077935928, 0.006769113077935928, 0.006769113077935928, 0.006769113077935928, 0.006769113077935928, 0.006769113077935928, 0.006769113077935928, 0.006769113077935928, 0.006769113077935928, 0.006769113077935928, 0.006769113077935928], \"Total\": [93677.0, 25186.0, 9059.0, 10707.0, 6800.0, 8058.0, 5986.0, 5439.0, 7982.0, 14508.0, 5184.0, 11811.0, 4494.0, 4868.0, 4688.0, 4290.0, 4751.0, 3441.0, 4080.0, 3778.0, 3610.0, 4093.0, 3704.0, 3503.0, 4388.0, 3410.0, 3434.0, 3055.0, 2994.0, 2688.0, 93677.9041059267, 14508.496528385493, 11811.153803563955, 6811.4780703571305, 5793.841847014395, 4412.750924219076, 2524.3626036172786, 1971.387406598824, 839.9952217338438, 670.9327927306985, 641.9409671579416, 639.4605801559435, 131.2423918747639, 1.6931011580145676, 1.6902900052086405, 1.6896041407117903, 1.6891951123885716, 1.6894247614315494, 1.6893962829360616, 1.6893532856111593, 1.689546672933957, 1.6892149586682796, 1.6891678238069576, 1.6893721577690581, 1.6891556836541195, 1.6891813875131352, 1.6890293542209347, 1.6891572338283103, 1.6888754345046877, 1.6889026235645228, 1.6890278719995044, 1.6889511841221878, 7982.468088672994, 4388.313807993072, 3180.3583631125, 2651.3130063067256, 2582.836341282308, 2538.2569983388557, 2445.7311351088665, 1618.5407183869931, 1465.256361028464, 1154.5601230309408, 1142.629481191682, 1082.3383601032128, 901.0092879878762, 899.6519755670754, 849.6916486579855, 739.2241311231464, 690.3189732428981, 635.6651672934578, 583.2968235136003, 560.9545021882967, 513.5704786185524, 358.3875892595894, 353.7056939914546, 310.01900538365845, 305.947590999863, 263.2598821282687, 255.30850732679454, 206.9707933993898, 195.61590123853918, 139.4095480407461, 25186.633749549124, 10707.046474050247, 1955.5031841122163, 477.1339792250145, 342.848493282177, 1.6931011580145676, 1.6894247614315494, 1.6888952873347303, 1.6902900052086405, 1.689546672933957, 1.688804493588269, 1.6891813875131352, 1.688868543817461, 1.6891572338283103, 1.6893721577690581, 1.6887898751156047, 1.688697603819201, 1.6889050991691215, 1.6887920290403042, 1.688556210303973, 1.6884962296596648, 1.6889207161579605, 1.688714485405495, 1.6886603880503905, 1.6887663674921078, 1.6892149586682796, 1.6893532856111593, 1.6889838510328354, 1.6884657299764472, 1.6886269392757327, 1.6891556836541195, 1.6888519280535588, 1.6893962829360616, 1.6889026235645228, 1.6888960103276442, 1.6889675865086398, 1.6896041407117903, 1.6891678238069576, 1.6891951123885716, 1.6890293542209347, 1.6890278719995044, 3434.058720483094, 2988.6007447494612, 2313.8157271201026, 2151.5707644847084, 1868.072556918494, 1316.5921676414164, 1304.8417609796788, 1054.3878592508293, 1038.8492545867136, 1026.9992161911598, 648.9266539569534, 600.7124575947005, 596.0028030618554, 585.2658122536563, 577.3020691121483, 541.2973087859156, 541.1085674815902, 509.4314304360385, 471.10664270640495, 405.0717653083561, 403.0407411768368, 326.7553312132847, 304.9655202888645, 294.1289799512499, 286.6344869311955, 255.95084487271254, 249.24162309240234, 228.694400190325, 215.33762363106706, 213.9745924607622, 8058.913447286101, 4093.852714582116, 2932.483820860713, 1689.4579861308239, 1373.4006669755204, 1364.2810420084504, 1163.2208430812682, 999.5578379078913, 937.5672661960633, 758.8843897793947, 749.8050773900557, 612.4194337070043, 559.6600635196708, 512.7370888143004, 403.32877990786307, 401.69438896279576, 283.91702659519336, 201.30316241619227, 159.4042711901808, 140.13673938655614, 126.36094405300561, 40.33753198349224, 13.407927696864975, 1.6902900052086405, 1.6889511841221878, 1.6931011580145676, 1.6893962829360616, 1.688848039480151, 1.6891556836541195, 1.6893721577690581, 1.6896041407117903, 1.6893532856111593, 1.689546672933957, 1.6894247614315494, 4868.218737373867, 4751.547585461079, 2745.7642277743053, 2070.845768314845, 1644.6596655044086, 1447.5534837368687, 1437.0924645328448, 831.3334810749934, 663.8079562697695, 652.08992466055, 587.1650898895163, 575.8243967380656, 554.0757667755614, 552.2721924447554, 495.4342868580691, 490.9818210943296, 474.9000433389684, 332.724775522009, 324.45974023823254, 298.8358555177616, 288.9136626405826, 270.9197983800325, 238.90180599415427, 188.6261912325129, 185.19378767459398, 79.83780135040546, 65.86798929053853, 33.82604647572136, 1.6931011580145676, 1.6902900052086405, 5184.009665949759, 4688.659357588399, 2940.1477400672707, 2395.53149581128, 1775.1555971521477, 1092.2620732367645, 1064.1559682877553, 1032.2795781319735, 969.5968598059955, 934.5410997784438, 682.8153692606152, 631.3268594620964, 502.6553592221934, 203.35821522597018, 191.9169950078778, 182.67952335021872, 137.43135528846116, 1.6887424877228234, 1.6887663674921078, 1.6886603880503905, 1.6885551864889032, 1.688514228512028, 1.6885497641673457, 1.6884753995896806, 1.6888952873347303, 1.688460669742792, 1.688504463826643, 1.68844394338808, 1.6883822750605857, 1.68850450157083, 1.6889026235645228, 1.6888010575649441, 1.6893721577690581, 1.6887920290403042, 1.6891678238069576, 1.6931011580145676, 1.6891572338283103, 1.6902900052086405, 1.6893532856111593, 1.689546672933957, 1.6896041407117903, 1.6894247614315494, 1.6891813875131352, 1.6893962829360616, 1.6891951123885716, 1.6892149586682796, 3704.5759597161955, 3055.4546375800073, 2994.651200963225, 1957.3843457813032, 1717.4157903207042, 1255.5094915798188, 1154.0801999485464, 1139.967601132026, 1072.6758879857716, 724.669751751604, 722.0001816491382, 711.660975639506, 671.3074145300617, 607.1498967882094, 399.19531080686176, 285.7292898614544, 263.0460455251659, 252.7195181884365, 216.25915643072543, 105.46394152446972, 1.6894247614315494, 1.6889675865086398, 1.6931011580145676, 1.688697603819201, 1.6887069868507836, 1.688804493588269, 1.6893532856111593, 1.6886866643090557, 1.6902900052086405, 1.6886603880503905, 1.689546672933957, 1.6891813875131352, 1.6893962829360616, 1.6891678238069576, 1.6891572338283103, 1.6896041407117903, 1.6893721577690581, 3410.4395452887047, 2226.4589280438286, 2174.31416405197, 1706.0954646326772, 1669.311067592985, 1445.7394745977685, 1359.9483680953542, 1164.3933006534517, 1101.7757427500378, 744.5020104689823, 624.598848389458, 575.4867938409932, 547.8905073922218, 436.64469224661724, 410.41380979043055, 358.4176701570406, 325.5234476649036, 317.5946278395743, 294.2887614235024, 268.3561811351109, 203.37992481502155, 158.47788785725234, 154.66594300930763, 123.04366369460946, 98.80242067660068, 1.6886492247495142, 1.6896041407117903, 1.6931011580145676, 1.6888004236977259, 1.6884753995896806, 1.6890293542209347, 1.6891951123885716, 1.6902900052086405, 1.6893962829360616, 1.6894247614315494, 4494.90921725398, 2305.796383732413, 1991.3062080850523, 1815.4173221616438, 1666.3897305440248, 1571.5176920402257, 1118.4267171876088, 1063.8023917067471, 961.530796922288, 916.862447658848, 741.6476979298284, 559.5467606119589, 321.75553937221565, 308.96377238244247, 268.20988494190146, 81.75857307714635, 80.90608224110304, 72.49752389342179, 43.21957171221211, 1.688697603819201, 1.6896041407117903, 1.688449873580503, 1.6886280382441383, 1.6885722971911854, 1.6884941178438688, 1.6884125014189608, 1.6886409563692657, 1.6884489280862953, 1.6884569854067086, 1.6884250685653286, 1.6893962829360616, 1.6931011580145676, 1.6887735617273856, 1.6888164212797598, 1.6891556836541195, 1.689546672933957, 1.6902900052086405, 1.6893532856111593, 1.6893721577690581, 1.6891951123885716, 1.6894247614315494, 1.6892149586682796, 4080.2661781190773, 3503.251378662424, 2692.574554063681, 2448.5063223550387, 1733.1687090314433, 1397.7098398944177, 978.1174894290181, 832.3378615399836, 522.6097753839691, 388.8912126284079, 372.7485899611333, 358.26398731387053, 345.32452459871945, 270.0949313815781, 201.987646130715, 74.19897128542098, 1.6931011580145676, 1.689546672933957, 1.6889838510328354, 1.6889207161579605, 1.6886866643090557, 1.688888654422243, 1.6886499339511918, 1.6885425458208536, 1.6893721577690581, 1.6888952873347303, 1.6888010575649441, 1.6888720168465288, 1.6891572338283103, 1.6888284213486817, 1.6902900052086405, 1.6892149586682796, 1.6894247614315494, 1.6896041407117903, 1.6893962829360616, 1.6891951123885716, 1.6893532856111593, 1.6891813875131352, 1.6891678238069576, 4290.089563193018, 2621.7440908196727, 2324.199584922591, 1866.728171002162, 1347.478992702062, 1001.7918615534744, 992.0669165301407, 835.7914057249805, 804.8107794987046, 566.4432604436539, 564.0097672382276, 462.61142636790777, 448.88546913134024, 411.6740802351179, 327.98272427967316, 239.76853763390642, 198.9601883720695, 10.03266322050159, 1.6888010575649441, 1.6889838510328354, 1.689546672933957, 1.6893962829360616, 1.6889675865086398, 1.6894247614315494, 1.688801099745614, 1.6884388790241303, 1.6891678238069576, 1.6887898751156047, 1.6884596012577051, 1.688714485405495, 1.688804493588269, 1.6931011580145676, 1.688868543817461, 1.6902900052086405, 1.6893532856111593, 1.6893721577690581, 1.6896041407117903, 1.6891556836541195, 1.6891951123885716, 3778.0920883058707, 3610.636254187683, 2688.650356679778, 1230.5953956351038, 1199.3256618574105, 813.6295913352568, 745.2522317339102, 665.8311856405329, 554.4867899534062, 478.6288578572797, 256.95752507446576, 254.2206097113689, 215.54272568518093, 103.85272727309324, 75.24725966227557, 50.31973851361409, 18.397403890412367, 1.6885808831315816, 1.6890278719995044, 1.6888087001190761, 1.6883709759008236, 1.6883482163855443, 1.6883572285458113, 1.6883594238412059, 1.6883829708745544, 1.6884334038406255, 1.6883495874062877, 1.6883495874062877, 1.6883495874062877, 1.6883521406686202, 1.6893962829360616, 1.6931011580145676, 1.6884389025496644, 1.6891813875131352, 1.6893532856111593, 1.6902900052086405, 1.6892149586682796, 1.6896041407117903, 1.6891556836541195, 1.689546672933957, 1.6891572338283103, 1.6894247614315494, 1.6893721577690581, 5986.373981530905, 3441.053249575797, 167.78930953331104, 1.6887410142761268, 1.6885497641673457, 1.6888284213486817, 1.6883822750605857, 1.688369576465865, 1.6890278719995044, 1.688699868110021, 1.6883967367349224, 1.6884880282882062, 1.6884708794330252, 1.68841497630495, 1.6888698067837302, 1.6883761718056365, 1.688600909699483, 1.6884092838553764, 1.6883500491346501, 1.6883556698805087, 1.6883278151427277, 1.6883278151427277, 1.6884336571004512, 1.688332673127265, 1.688619443772283, 1.6883358181555168, 1.6883285001486221, 1.6883285001486221, 1.6883361534449117, 1.6883603200994763, 1.6931011580145676, 1.6885937289270678, 1.6884006201163555, 1.6884421009421433, 1.6888550562411857, 1.6888967301529776, 1.6885469879909316, 1.6884833756531354, 1.6891678238069576, 1.6893721577690581, 1.6885979188267766, 1.6902900052086405, 1.6887068830469538, 1.6887372648114019, 1.6888032716923866, 1.6888164212797598, 1.6896041407117903, 1.6889026235645228, 1.6891813875131352, 1.6893532856111593, 1.689546672933957, 1.6889207161579605, 1.6894247614315494, 1.6893962829360616, 1.6891951123885716, 1.6892149586682796, 1.6891556836541195, 1.6891572338283103, 1.6888960103276442, 1.6890293542209347, 1.6889050991691215, 1.6889511841221878, 1.6889675865086398, 1.6889838510328354, 9059.703998291827, 1452.8611394591594, 86.49708703753826, 1.6888010575649441, 1.6889838510328354, 1.6887663674921078, 1.6884753995896806, 1.689546672933957, 1.6886492247495142, 1.6886603880503905, 1.688460669742792, 1.6888952873347303, 1.688514228512028, 1.6884210859571334, 1.6883974795589796, 1.688471148136736, 1.6884190879372438, 1.68844394338808, 1.6884271809306093, 1.6896041407117903, 1.6884388790241303, 1.6883702191711787, 1.6891951123885716, 1.6883676378723915, 1.6883524801858842, 1.6884311689992137, 1.6884045488245127, 1.688330821555586, 1.6886434586215544, 1.688336304368008, 1.6886409563692657, 1.6885399442939073, 1.6887920290403042, 1.6890278719995044, 1.6888960103276442, 1.6892149586682796, 1.6888720168465288, 1.6902900052086405, 1.6893721577690581, 1.6891813875131352, 1.6893532856111593, 1.6891572338283103, 1.6931011580145676, 1.6894247614315494, 1.6893962829360616, 1.6888754345046877, 1.6891556836541195, 1.6889675865086398, 1.6891678238069576, 6800.178430340288, 760.030974500721, 295.30447562187123, 138.96771645647556, 105.2089283690532, 58.24866236672969, 41.39231095848608, 1.6884219949931032, 1.6884911143227956, 1.688370457155039, 1.688480526567698, 1.6884826617029736, 1.6884580509501617, 1.688318082544551, 1.6883180908570181, 1.6883325039319086, 1.6883012894206517, 1.6883014741690558, 1.6883434688695023, 1.6883123441408507, 1.6883160605619667, 1.6883629000533085, 1.6883080117555205, 1.6883489123854871, 1.6883154326639975, 1.6883128747770948, 1.6883568980225117, 1.6885526736488525, 1.6883091742954843, 1.6883654700717583, 1.6883734220811946, 1.6885008055197808, 1.6888087001190761, 1.6884564275463771, 1.6884569854067086, 1.6884962296596648, 1.6893721577690581, 1.6885516179196205, 1.688404097447933, 1.6884553791563426, 1.6885256338062513, 1.6887153664059205, 1.6888967301529776, 1.6887515005529459, 1.6888214018271206, 1.688714485405495, 1.6885929504466377, 1.688694540917998, 1.6902900052086405, 1.6890293542209347, 1.6893532856111593, 1.6891572338283103, 1.6888519280535588, 1.6931011580145676, 1.6891813875131352, 1.6891556836541195, 1.6896041407117903, 1.6891678238069576, 1.689546672933957, 1.6893962829360616, 1.6894247614315494, 1.688868543817461, 1.6889838510328354, 1.6892149586682796, 1.6888754345046877, 1.6888550562411857, 1.6891951123885716, 1.6889511841221878, 5439.181308412247, 983.8959838281302, 542.1018017718789, 346.80128668043716, 202.1635353869581, 1.688714485405495, 1.6883665521586484, 1.6885790668131162, 1.6883186794061242, 1.6883954228399043, 1.6883754448620094, 1.6883214883905915, 1.6883362333530458, 1.688304196110057, 1.6883552463538196, 1.6883422987263148, 1.688323409508523, 1.688336304368008, 1.688386635320479, 1.6883381482069864, 1.6882978585259802, 1.688330033430619, 1.6883539368379548, 1.688330271712224, 1.6884054865950633, 1.6883511376158777, 1.6883567419338648, 1.688301519529732, 1.688301519529732, 1.6883012652061549, 1.688352409415289, 1.6883523443785438, 1.6883706034362707, 1.6884234959198927, 1.6888550562411857, 1.688801099745614, 1.6887011621426913, 1.6891572338283103, 1.6886920489018549, 1.688662836648188, 1.6890278719995044, 1.688694540917998, 1.6889511841221878, 1.6886434586215544, 1.6892149586682796, 1.6884260156321758, 1.688598277499997, 1.6931011580145676, 1.6889675865086398, 1.6888087001190761, 1.6893962829360616, 1.6886704729240951, 1.689546672933957, 1.6893532856111593, 1.6894247614315494, 1.6891951123885716, 1.6902900052086405, 1.6893721577690581, 1.6896041407117903, 1.6891556836541195, 1.6891813875131352, 1.6891678238069576, 1.6890293542209347, 1.6889207161579605, 1425.7582914722245, 972.9542059822745, 699.3321184226714, 384.6065565882718, 381.12135226411704, 207.85192228201183, 121.04271326089288, 1.6884145324168465, 1.6883715680482474, 1.6883451079957792, 1.6883273829771377, 1.6883444132713206, 1.6883359330763512, 1.6883502960433527, 1.68834839507559, 1.6883442776401365, 1.6883510685640462, 1.688345822564963, 1.688369689492986, 1.6883541107959221, 1.6883161145191379, 1.688331726447277, 1.688346305094607, 1.6883199604015071, 1.6883836078648171, 1.6883188415171904, 1.6883041125102058, 1.6882956601604988, 1.6883020704792298, 1.688306228615183, 1.6884496453098592, 1.6883898302698512, 1.6884054959380361, 1.6884019235712397, 1.6883673760861502, 1.6885462826634139, 1.6884227784218573, 1.6887153664059205, 1.6884317436220546, 1.6888519280535588, 1.6888720168465288, 1.6885487062862223, 1.689546672933957, 1.6887515005529459, 1.6931011580145676, 1.6891556836541195, 1.6884741113972943, 1.6888698067837302, 1.6889675865086398, 1.6888004236977259, 1.6896041407117903, 1.6892149586682796, 1.6891572338283103, 1.6894247614315494, 1.6902900052086405, 1.6886948071848535, 1.6888960103276442, 1.6888087001190761, 1.6891678238069576, 1.6893962829360616, 1.6891951123885716, 1.6893532856111593, 1.6891813875131352, 17.558231192644328, 1.6882947302680684, 1.6882876988806677, 1.6882876988806677, 1.6882876988806677, 1.6882884626507244, 1.6882922411559693, 1.6882872986538286, 1.6882885942798391, 1.688285728121224, 1.688285728121224, 1.6882857803013993, 1.688285202672396, 1.6883044502278355, 1.688285861862836, 1.6883066160076907, 1.6882849593444458, 1.688284883151261, 1.6882850354502061, 1.6882850354502061, 1.6882850354502061, 1.6882850354502061, 1.6883081781100273, 1.688285602730803, 1.688299935345863, 1.68828405221187, 1.6882873338881341, 1.6882840712666003, 1.688288529325198, 1.6882855007836228, 1.6882888947562407, 1.6882993177305492, 1.6882946400126395, 1.688379555737783, 1.6882965736674318, 1.688299657561314, 1.688362738998956, 1.6883042054738564, 1.6883809047460228, 1.6883074068399457, 1.6883975308674393, 1.6883997693026245, 1.6884148824225196, 1.6885469879909316, 1.6883748503508786, 1.6886695217558374, 1.6888004236977259, 1.6885413837248486, 1.6885589495149376, 1.6888698067837302, 1.6889675865086398, 1.6887068830469538, 1.6893962829360616, 1.6886029743974293, 1.6882826946538152, 1.6882826946538152, 1.6882826946538152, 1.6882826946538152, 1.6882826946538152, 1.6882826946538152, 1.6882826946538152, 1.6882826946538152, 1.6882826946538152, 1.6882826946538152, 1.6882826946538152, 1.6882826946538152, 1.6882826946538152, 1.6882826946538152, 1.6882826946538152, 1.6882826946538152, 1.6882826946538152, 1.6882826946538152, 1.6882826946538152, 1.6882826946538152, 1.6882826946538152, 1.6882826946538152, 1.6882826946538152, 1.6882826946538152, 1.6882826946538152, 1.6882826946538152, 1.6882826946538152, 1.6882826946538152, 1.6882826946538152, 1.6882826946538152, 9059.703998291827, 5986.373981530905, 5439.181308412247, 93677.9041059267, 2070.845768314845, 3441.053249575797, 346.80128668043716, 1.6882844159001096, 1.6884274620647173, 1.6883015599546014, 215.54272568518093, 202.1635353869581, 1.6882841428383748, 2932.483820860713, 2692.574554063681, 513.5704786185524, 1991.3062080850523, 4494.90921725398, 1154.0801999485464, 722.0001816491382, 1255.5094915798188, 4688.659357588399, 263.0460455251659], \"Category\": [\"Default\", \"Default\", \"Default\", \"Default\", \"Default\", \"Default\", \"Default\", \"Default\", \"Default\", \"Default\", \"Default\", \"Default\", \"Default\", \"Default\", \"Default\", \"Default\", \"Default\", \"Default\", \"Default\", \"Default\", \"Default\", \"Default\", \"Default\", \"Default\", \"Default\", \"Default\", \"Default\", \"Default\", \"Default\", \"Default\", \"Topic1\", \"Topic1\", \"Topic1\", \"Topic1\", \"Topic1\", \"Topic1\", \"Topic1\", \"Topic1\", \"Topic1\", \"Topic1\", \"Topic1\", \"Topic1\", \"Topic1\", \"Topic1\", \"Topic1\", \"Topic1\", \"Topic1\", \"Topic1\", \"Topic1\", \"Topic1\", \"Topic1\", \"Topic1\", \"Topic1\", \"Topic1\", \"Topic1\", \"Topic1\", \"Topic1\", \"Topic1\", \"Topic1\", \"Topic1\", \"Topic1\", \"Topic1\", \"Topic2\", \"Topic2\", \"Topic2\", \"Topic2\", \"Topic2\", \"Topic2\", \"Topic2\", \"Topic2\", \"Topic2\", \"Topic2\", \"Topic2\", \"Topic2\", \"Topic2\", \"Topic2\", \"Topic2\", \"Topic2\", \"Topic2\", \"Topic2\", \"Topic2\", \"Topic2\", \"Topic2\", \"Topic2\", \"Topic2\", \"Topic2\", \"Topic2\", \"Topic2\", \"Topic2\", \"Topic2\", \"Topic2\", \"Topic2\", \"Topic3\", \"Topic3\", \"Topic3\", \"Topic3\", \"Topic3\", \"Topic3\", \"Topic3\", \"Topic3\", \"Topic3\", \"Topic3\", \"Topic3\", \"Topic3\", \"Topic3\", \"Topic3\", \"Topic3\", \"Topic3\", \"Topic3\", \"Topic3\", \"Topic3\", \"Topic3\", \"Topic3\", \"Topic3\", \"Topic3\", \"Topic3\", \"Topic3\", \"Topic3\", \"Topic3\", \"Topic3\", \"Topic3\", \"Topic3\", \"Topic3\", \"Topic3\", \"Topic3\", \"Topic3\", \"Topic3\", \"Topic3\", \"Topic3\", \"Topic3\", \"Topic3\", \"Topic3\", \"Topic3\", \"Topic4\", \"Topic4\", \"Topic4\", \"Topic4\", \"Topic4\", \"Topic4\", \"Topic4\", \"Topic4\", \"Topic4\", \"Topic4\", \"Topic4\", \"Topic4\", \"Topic4\", \"Topic4\", \"Topic4\", \"Topic4\", \"Topic4\", \"Topic4\", \"Topic4\", \"Topic4\", \"Topic4\", \"Topic4\", \"Topic4\", \"Topic4\", \"Topic4\", \"Topic4\", \"Topic4\", \"Topic4\", \"Topic4\", \"Topic4\", \"Topic5\", \"Topic5\", \"Topic5\", \"Topic5\", \"Topic5\", \"Topic5\", \"Topic5\", \"Topic5\", \"Topic5\", \"Topic5\", \"Topic5\", \"Topic5\", \"Topic5\", \"Topic5\", \"Topic5\", \"Topic5\", \"Topic5\", \"Topic5\", \"Topic5\", \"Topic5\", \"Topic5\", \"Topic5\", \"Topic5\", \"Topic5\", \"Topic5\", \"Topic5\", \"Topic5\", \"Topic5\", \"Topic5\", \"Topic5\", \"Topic5\", \"Topic5\", \"Topic5\", \"Topic5\", \"Topic6\", \"Topic6\", \"Topic6\", \"Topic6\", \"Topic6\", \"Topic6\", \"Topic6\", \"Topic6\", \"Topic6\", \"Topic6\", \"Topic6\", \"Topic6\", \"Topic6\", \"Topic6\", \"Topic6\", \"Topic6\", \"Topic6\", \"Topic6\", \"Topic6\", \"Topic6\", \"Topic6\", \"Topic6\", \"Topic6\", \"Topic6\", \"Topic6\", \"Topic6\", \"Topic6\", \"Topic6\", \"Topic6\", \"Topic6\", \"Topic7\", \"Topic7\", \"Topic7\", \"Topic7\", \"Topic7\", \"Topic7\", \"Topic7\", \"Topic7\", \"Topic7\", \"Topic7\", \"Topic7\", \"Topic7\", \"Topic7\", \"Topic7\", \"Topic7\", \"Topic7\", \"Topic7\", \"Topic7\", \"Topic7\", \"Topic7\", \"Topic7\", \"Topic7\", \"Topic7\", \"Topic7\", \"Topic7\", \"Topic7\", \"Topic7\", \"Topic7\", \"Topic7\", \"Topic7\", \"Topic7\", \"Topic7\", \"Topic7\", \"Topic7\", \"Topic7\", \"Topic7\", \"Topic7\", \"Topic7\", \"Topic7\", \"Topic7\", \"Topic7\", \"Topic7\", \"Topic7\", \"Topic7\", \"Topic7\", \"Topic7\", \"Topic8\", \"Topic8\", \"Topic8\", \"Topic8\", \"Topic8\", \"Topic8\", \"Topic8\", \"Topic8\", \"Topic8\", \"Topic8\", \"Topic8\", \"Topic8\", \"Topic8\", \"Topic8\", \"Topic8\", \"Topic8\", \"Topic8\", \"Topic8\", \"Topic8\", \"Topic8\", \"Topic8\", \"Topic8\", \"Topic8\", \"Topic8\", \"Topic8\", \"Topic8\", \"Topic8\", \"Topic8\", \"Topic8\", \"Topic8\", \"Topic8\", \"Topic8\", \"Topic8\", \"Topic8\", \"Topic8\", \"Topic8\", \"Topic8\", \"Topic9\", \"Topic9\", \"Topic9\", \"Topic9\", \"Topic9\", \"Topic9\", \"Topic9\", \"Topic9\", \"Topic9\", \"Topic9\", \"Topic9\", \"Topic9\", \"Topic9\", \"Topic9\", \"Topic9\", \"Topic9\", \"Topic9\", \"Topic9\", \"Topic9\", \"Topic9\", \"Topic9\", \"Topic9\", \"Topic9\", \"Topic9\", \"Topic9\", \"Topic9\", \"Topic9\", \"Topic9\", \"Topic9\", \"Topic9\", \"Topic9\", \"Topic9\", \"Topic9\", \"Topic9\", \"Topic9\", \"Topic10\", \"Topic10\", \"Topic10\", \"Topic10\", \"Topic10\", \"Topic10\", \"Topic10\", \"Topic10\", \"Topic10\", \"Topic10\", \"Topic10\", \"Topic10\", \"Topic10\", \"Topic10\", \"Topic10\", \"Topic10\", \"Topic10\", \"Topic10\", \"Topic10\", \"Topic10\", \"Topic10\", \"Topic10\", \"Topic10\", \"Topic10\", \"Topic10\", \"Topic10\", \"Topic10\", \"Topic10\", \"Topic10\", \"Topic10\", \"Topic10\", \"Topic10\", \"Topic10\", \"Topic10\", \"Topic10\", \"Topic10\", \"Topic10\", \"Topic10\", \"Topic10\", \"Topic10\", \"Topic10\", \"Topic10\", \"Topic11\", \"Topic11\", \"Topic11\", \"Topic11\", \"Topic11\", \"Topic11\", \"Topic11\", \"Topic11\", \"Topic11\", \"Topic11\", \"Topic11\", \"Topic11\", \"Topic11\", \"Topic11\", \"Topic11\", \"Topic11\", \"Topic11\", \"Topic11\", \"Topic11\", \"Topic11\", \"Topic11\", \"Topic11\", \"Topic11\", \"Topic11\", \"Topic11\", \"Topic11\", \"Topic11\", \"Topic11\", \"Topic11\", \"Topic11\", \"Topic11\", \"Topic11\", \"Topic11\", \"Topic11\", \"Topic11\", \"Topic11\", \"Topic11\", \"Topic11\", \"Topic11\", \"Topic12\", \"Topic12\", \"Topic12\", \"Topic12\", \"Topic12\", \"Topic12\", \"Topic12\", \"Topic12\", \"Topic12\", \"Topic12\", \"Topic12\", \"Topic12\", \"Topic12\", \"Topic12\", \"Topic12\", \"Topic12\", \"Topic12\", \"Topic12\", \"Topic12\", \"Topic12\", \"Topic12\", \"Topic12\", \"Topic12\", \"Topic12\", \"Topic12\", \"Topic12\", \"Topic12\", \"Topic12\", \"Topic12\", \"Topic12\", \"Topic12\", \"Topic12\", \"Topic12\", \"Topic12\", \"Topic12\", \"Topic12\", \"Topic12\", \"Topic12\", \"Topic12\", \"Topic13\", \"Topic13\", \"Topic13\", \"Topic13\", \"Topic13\", \"Topic13\", \"Topic13\", \"Topic13\", \"Topic13\", \"Topic13\", \"Topic13\", \"Topic13\", \"Topic13\", \"Topic13\", \"Topic13\", \"Topic13\", \"Topic13\", \"Topic13\", \"Topic13\", \"Topic13\", \"Topic13\", \"Topic13\", \"Topic13\", \"Topic13\", \"Topic13\", \"Topic13\", \"Topic13\", \"Topic13\", \"Topic13\", \"Topic13\", \"Topic13\", \"Topic13\", \"Topic13\", \"Topic13\", \"Topic13\", \"Topic13\", \"Topic13\", \"Topic13\", \"Topic13\", \"Topic13\", \"Topic13\", \"Topic13\", \"Topic13\", \"Topic14\", \"Topic14\", \"Topic14\", \"Topic14\", \"Topic14\", \"Topic14\", \"Topic14\", \"Topic14\", \"Topic14\", \"Topic14\", \"Topic14\", \"Topic14\", \"Topic14\", \"Topic14\", \"Topic14\", \"Topic14\", \"Topic14\", \"Topic14\", \"Topic14\", \"Topic14\", \"Topic14\", \"Topic14\", \"Topic14\", \"Topic14\", \"Topic14\", \"Topic14\", \"Topic14\", \"Topic14\", \"Topic14\", \"Topic14\", \"Topic14\", \"Topic14\", \"Topic14\", \"Topic14\", \"Topic14\", \"Topic14\", \"Topic14\", \"Topic14\", \"Topic14\", \"Topic14\", \"Topic14\", \"Topic14\", \"Topic14\", \"Topic14\", \"Topic14\", \"Topic14\", \"Topic14\", \"Topic14\", \"Topic14\", \"Topic14\", \"Topic14\", \"Topic14\", \"Topic14\", \"Topic14\", \"Topic14\", \"Topic14\", \"Topic14\", \"Topic14\", \"Topic14\", \"Topic14\", \"Topic14\", \"Topic14\", \"Topic14\", \"Topic14\", \"Topic15\", \"Topic15\", \"Topic15\", \"Topic15\", \"Topic15\", \"Topic15\", \"Topic15\", \"Topic15\", \"Topic15\", \"Topic15\", \"Topic15\", \"Topic15\", \"Topic15\", \"Topic15\", \"Topic15\", \"Topic15\", \"Topic15\", \"Topic15\", \"Topic15\", \"Topic15\", \"Topic15\", \"Topic15\", \"Topic15\", \"Topic15\", \"Topic15\", \"Topic15\", \"Topic15\", \"Topic15\", \"Topic15\", \"Topic15\", \"Topic15\", \"Topic15\", \"Topic15\", \"Topic15\", \"Topic15\", \"Topic15\", \"Topic15\", \"Topic15\", \"Topic15\", \"Topic15\", \"Topic15\", \"Topic15\", \"Topic15\", \"Topic15\", \"Topic15\", \"Topic15\", \"Topic15\", \"Topic15\", \"Topic15\", \"Topic16\", \"Topic16\", \"Topic16\", \"Topic16\", \"Topic16\", \"Topic16\", \"Topic16\", \"Topic16\", \"Topic16\", \"Topic16\", \"Topic16\", \"Topic16\", \"Topic16\", \"Topic16\", \"Topic16\", \"Topic16\", \"Topic16\", \"Topic16\", \"Topic16\", \"Topic16\", \"Topic16\", \"Topic16\", \"Topic16\", \"Topic16\", \"Topic16\", \"Topic16\", \"Topic16\", \"Topic16\", \"Topic16\", \"Topic16\", \"Topic16\", \"Topic16\", \"Topic16\", \"Topic16\", \"Topic16\", \"Topic16\", \"Topic16\", \"Topic16\", \"Topic16\", \"Topic16\", \"Topic16\", \"Topic16\", \"Topic16\", \"Topic16\", \"Topic16\", \"Topic16\", \"Topic16\", \"Topic16\", \"Topic16\", \"Topic16\", \"Topic16\", \"Topic16\", \"Topic16\", \"Topic16\", \"Topic16\", \"Topic16\", \"Topic16\", \"Topic16\", \"Topic16\", \"Topic16\", \"Topic16\", \"Topic16\", \"Topic16\", \"Topic16\", \"Topic16\", \"Topic16\", \"Topic16\", \"Topic16\", \"Topic17\", \"Topic17\", \"Topic17\", \"Topic17\", \"Topic17\", \"Topic17\", \"Topic17\", \"Topic17\", \"Topic17\", \"Topic17\", \"Topic17\", \"Topic17\", \"Topic17\", \"Topic17\", \"Topic17\", \"Topic17\", \"Topic17\", \"Topic17\", \"Topic17\", \"Topic17\", \"Topic17\", \"Topic17\", \"Topic17\", \"Topic17\", \"Topic17\", \"Topic17\", \"Topic17\", \"Topic17\", \"Topic17\", \"Topic17\", \"Topic17\", \"Topic17\", \"Topic17\", \"Topic17\", \"Topic17\", \"Topic17\", \"Topic17\", \"Topic17\", \"Topic17\", \"Topic17\", \"Topic17\", \"Topic17\", \"Topic17\", \"Topic17\", \"Topic17\", \"Topic17\", \"Topic17\", \"Topic17\", \"Topic17\", \"Topic17\", \"Topic17\", \"Topic17\", \"Topic17\", \"Topic17\", \"Topic17\", \"Topic17\", \"Topic17\", \"Topic17\", \"Topic17\", \"Topic17\", \"Topic17\", \"Topic17\", \"Topic17\", \"Topic17\", \"Topic18\", \"Topic18\", \"Topic18\", \"Topic18\", \"Topic18\", \"Topic18\", \"Topic18\", \"Topic18\", \"Topic18\", \"Topic18\", \"Topic18\", \"Topic18\", \"Topic18\", \"Topic18\", \"Topic18\", \"Topic18\", \"Topic18\", \"Topic18\", \"Topic18\", \"Topic18\", \"Topic18\", \"Topic18\", \"Topic18\", \"Topic18\", \"Topic18\", \"Topic18\", \"Topic18\", \"Topic18\", \"Topic18\", \"Topic18\", \"Topic18\", \"Topic18\", \"Topic18\", \"Topic18\", \"Topic18\", \"Topic18\", \"Topic18\", \"Topic18\", \"Topic18\", \"Topic18\", \"Topic18\", \"Topic18\", \"Topic18\", \"Topic18\", \"Topic18\", \"Topic18\", \"Topic18\", \"Topic18\", \"Topic18\", \"Topic18\", \"Topic18\", \"Topic18\", \"Topic18\", \"Topic18\", \"Topic18\", \"Topic18\", \"Topic18\", \"Topic18\", \"Topic18\", \"Topic18\", \"Topic18\", \"Topic18\", \"Topic18\", \"Topic19\", \"Topic19\", \"Topic19\", \"Topic19\", \"Topic19\", \"Topic19\", \"Topic19\", \"Topic19\", \"Topic19\", \"Topic19\", \"Topic19\", \"Topic19\", \"Topic19\", \"Topic19\", \"Topic19\", \"Topic19\", \"Topic19\", \"Topic19\", \"Topic19\", \"Topic19\", \"Topic19\", \"Topic19\", \"Topic19\", \"Topic19\", \"Topic19\", \"Topic19\", \"Topic19\", \"Topic19\", \"Topic19\", \"Topic19\", \"Topic19\", \"Topic19\", \"Topic19\", \"Topic19\", \"Topic19\", \"Topic19\", \"Topic19\", \"Topic19\", \"Topic19\", \"Topic19\", \"Topic19\", \"Topic19\", \"Topic19\", \"Topic19\", \"Topic19\", \"Topic19\", \"Topic19\", \"Topic19\", \"Topic19\", \"Topic19\", \"Topic19\", \"Topic19\", \"Topic19\", \"Topic19\", \"Topic20\", \"Topic20\", \"Topic20\", \"Topic20\", \"Topic20\", \"Topic20\", \"Topic20\", \"Topic20\", \"Topic20\", \"Topic20\", \"Topic20\", \"Topic20\", \"Topic20\", \"Topic20\", \"Topic20\", \"Topic20\", \"Topic20\", \"Topic20\", \"Topic20\", \"Topic20\", \"Topic20\", \"Topic20\", \"Topic20\", \"Topic20\", \"Topic20\", \"Topic20\", \"Topic20\", \"Topic20\", \"Topic20\", \"Topic20\", \"Topic20\", \"Topic20\", \"Topic20\", \"Topic20\", \"Topic20\", \"Topic20\", \"Topic20\", \"Topic20\", \"Topic20\", \"Topic20\", \"Topic20\", \"Topic20\", \"Topic20\", \"Topic20\", \"Topic20\", \"Topic20\", \"Topic20\", \"Topic20\", \"Topic20\", \"Topic20\", \"Topic20\", \"Topic20\", \"Topic20\"], \"logprob\": [30.0, 29.0, 28.0, 27.0, 26.0, 25.0, 24.0, 23.0, 22.0, 21.0, 20.0, 19.0, 18.0, 17.0, 16.0, 15.0, 14.0, 13.0, 12.0, 11.0, 10.0, 9.0, 8.0, 7.0, 6.0, 5.0, 4.0, 3.0, 2.0, 1.0, -0.4454, -2.3106, -2.5163, -3.0668, -3.2287, -3.5011, -4.0598, -4.3073, -5.1615, -5.3867, -5.4309, -5.4348, -7.028, -14.1236, -14.1267, -14.1273, -14.1278, -14.1276, -14.1277, -14.1277, -14.1276, -14.1278, -14.1279, -14.1278, -14.1279, -14.1279, -14.128, -14.1279, -14.1281, -14.1281, -14.1281, -14.1281, -1.6885, -2.287, -2.6091, -2.7911, -2.8173, -2.8347, -2.8719, -3.285, -3.3846, -3.6232, -3.6336, -3.6879, -3.8715, -3.8731, -3.9303, -4.0698, -4.1384, -4.2211, -4.3073, -4.3465, -4.435, -4.7961, -4.8093, -4.9418, -4.9551, -5.1062, -5.1371, -5.3484, -5.4053, -5.7473, -0.466, -1.3215, -3.0224, -4.4355, -4.7674, -13.0449, -13.0472, -13.0475, -13.0468, -13.0472, -13.0477, -13.0474, -13.0476, -13.0475, -13.0474, -13.0477, -13.0478, -13.0476, -13.0477, -13.0478, -13.0479, -13.0476, -13.0478, -13.0478, -13.0477, -13.0475, -13.0474, -13.0476, -13.0479, -13.0478, -13.0475, -13.0477, -13.0474, -13.0477, -13.0477, -13.0476, -13.0473, -13.0475, -13.0475, -13.0476, -13.0477, -2.1485, -2.2875, -2.5435, -2.6163, -2.7577, -3.1079, -3.1169, -3.3303, -3.3452, -3.3566, -3.8166, -3.894, -3.9019, -3.9201, -3.9339, -3.9985, -3.9988, -4.0593, -4.1378, -4.2894, -4.2944, -4.5052, -4.5745, -4.6109, -4.6368, -4.7507, -4.7775, -4.8641, -4.9247, -4.9311, -1.2825, -1.9599, -2.2937, -2.8456, -3.0529, -3.0596, -3.2192, -3.3711, -3.4352, -3.6471, -3.6591, -3.862, -3.9523, -4.0402, -4.281, -4.2851, -4.6338, -4.98, -5.2154, -5.3457, -5.4504, -6.62, -7.808, -12.6965, -12.6975, -12.695, -12.6972, -12.6975, -12.6974, -12.6972, -12.6971, -12.6973, -12.6972, -12.6973, -1.7725, -1.7967, -2.3454, -2.6277, -2.8583, -2.9861, -2.9934, -3.5415, -3.767, -3.7849, -3.89, -3.9096, -3.9482, -3.9515, -4.0604, -4.0695, -4.1029, -4.4601, -4.4854, -4.5681, -4.602, -4.6667, -4.7933, -5.0314, -5.0499, -5.9028, -6.0995, -6.7898, -12.6648, -12.6668, -1.6102, -1.7107, -2.1775, -2.3825, -2.6825, -3.1687, -3.1948, -3.2252, -3.288, -3.3249, -3.6393, -3.7179, -3.9465, -4.8562, -4.9146, -4.9643, -5.2519, -12.697, -12.697, -12.6971, -12.6972, -12.6972, -12.6972, -12.6972, -12.697, -12.6972, -12.6972, -12.6972, -12.6973, -12.6972, -12.697, -12.697, -12.6967, -12.697, -12.6968, -12.6947, -12.6968, -12.6962, -12.6967, -12.6966, -12.6966, -12.6967, -12.6968, -12.6968, -12.6969, -12.6969, -1.8925, -2.0853, -2.1054, -2.5309, -2.6618, -2.9754, -3.0597, -3.0721, -3.133, -3.5259, -3.5296, -3.5441, -3.6026, -3.7033, -4.124, -4.46, -4.5432, -4.5835, -4.7403, -5.4663, -12.4764, -12.4767, -12.4743, -12.4769, -12.4769, -12.4769, -12.4765, -12.4769, -12.476, -12.477, -12.4764, -12.4767, -12.4765, -12.4767, -12.4767, -12.4765, -12.4766, -1.9334, -2.3601, -2.3838, -2.6265, -2.6483, -2.7923, -2.8535, -3.0089, -3.0643, -3.457, -3.633, -3.7151, -3.7644, -3.9921, -4.0542, -4.1903, -4.287, -4.3118, -4.3884, -4.4812, -4.7603, -5.012, -5.0366, -5.268, -5.4906, -12.3679, -12.3674, -12.3653, -12.3679, -12.3681, -12.3678, -12.3677, -12.3671, -12.3676, -12.3676, -1.586, -2.2538, -2.4006, -2.4931, -2.5789, -2.6375, -2.9781, -3.0282, -3.1294, -3.1771, -3.3896, -3.672, -4.2275, -4.2683, -4.4105, -5.6122, -5.6229, -5.735, -6.2676, -12.3658, -12.3652, -12.3659, -12.3658, -12.3659, -12.3659, -12.366, -12.3659, -12.366, -12.366, -12.366, -12.3654, -12.3633, -12.3658, -12.3658, -12.3656, -12.3654, -12.365, -12.3655, -12.3655, -12.3656, -12.3655, -12.3656, -1.6743, -1.8268, -2.0902, -2.1853, -2.5311, -2.7464, -3.1038, -3.2655, -3.7321, -4.0286, -4.0712, -4.111, -4.148, -4.395, -4.6876, -5.7028, -12.3581, -12.3604, -12.3608, -12.3608, -12.361, -12.3609, -12.361, -12.3611, -12.3606, -12.3609, -12.361, -12.3609, -12.3608, -12.361, -12.3601, -12.3607, -12.3606, -12.3605, -12.3606, -12.3608, -12.3607, -12.3608, -12.3608, -1.5748, -2.0675, -2.1881, -2.4074, -2.7337, -3.0306, -3.0403, -3.212, -3.2499, -3.602, -3.6063, -3.8051, -3.8353, -3.9222, -4.1504, -4.4655, -4.6535, -7.8069, -12.4172, -12.4171, -12.4168, -12.4169, -12.4172, -12.417, -12.4173, -12.4175, -12.4171, -12.4173, -12.4175, -12.4174, -12.4173, -12.4149, -12.4173, -12.4165, -12.417, -12.417, -12.4169, -12.4172, -12.4172, -1.5644, -1.6098, -1.9047, -2.687, -2.7128, -3.1014, -3.1894, -3.3023, -3.4858, -3.6334, -4.2583, -4.2691, -4.4353, -5.1736, -5.5018, -5.9151, -6.9803, -12.3436, -12.3433, -12.3434, -12.3437, -12.3437, -12.3437, -12.3437, -12.3437, -12.3437, -12.3437, -12.3437, -12.3437, -12.3437, -12.3431, -12.3411, -12.3437, -12.3433, -12.3432, -12.3427, -12.3433, -12.3431, -12.3433, -12.3432, -12.3434, -12.3432, -12.3433, -0.6853, -1.2392, -4.2689, -11.3905, -11.3906, -11.3905, -11.3908, -11.3908, -11.3904, -11.3906, -11.3908, -11.3907, -11.3907, -11.3908, -11.3905, -11.3908, -11.3907, -11.3908, -11.3908, -11.3908, -11.3908, -11.3908, -11.3908, -11.3908, -11.3907, -11.3908, -11.3908, -11.3908, -11.3908, -11.3908, -11.3881, -11.3907, -11.3908, -11.3908, -11.3905, -11.3905, -11.3907, -11.3907, -11.3904, -11.3903, -11.3907, -11.3898, -11.3906, -11.3906, -11.3906, -11.3906, -11.3902, -11.3906, -11.3904, -11.3904, -11.3903, -11.3906, -11.3904, -11.3904, -11.3905, -11.3905, -11.3905, -11.3905, -11.3906, -11.3905, -11.3906, -11.3906, -11.3906, -11.3906, -0.2578, -2.089, -4.928, -12.0839, -12.0839, -12.084, -12.0842, -12.0836, -12.0841, -12.0842, -12.0843, -12.0841, -12.0843, -12.0844, -12.0844, -12.0844, -12.0844, -12.0844, -12.0844, -12.0837, -12.0844, -12.0845, -12.084, -12.0845, -12.0845, -12.0844, -12.0845, -12.0845, -12.0843, -12.0845, -12.0843, -12.0844, -12.0843, -12.0841, -12.0842, -12.0841, -12.0842, -12.0836, -12.084, -12.0841, -12.0841, -12.0842, -12.0829, -12.0841, -12.0841, -12.0843, -12.0842, -12.0843, -12.0843, -0.362, -2.5552, -3.5039, -4.2638, -4.5458, -5.1495, -5.5027, -11.5665, -11.5665, -11.5666, -11.5665, -11.5665, -11.5666, -11.5667, -11.5667, -11.5667, -11.5667, -11.5667, -11.5666, -11.5667, -11.5667, -11.5666, -11.5667, -11.5667, -11.5667, -11.5667, -11.5666, -11.5665, -11.5667, -11.5666, -11.5666, -11.5666, -11.5664, -11.5666, -11.5666, -11.5666, -11.5661, -11.5666, -11.5666, -11.5666, -11.5666, -11.5665, -11.5664, -11.5665, -11.5664, -11.5665, -11.5665, -11.5665, -11.5659, -11.5664, -11.5663, -11.5663, -11.5665, -11.5651, -11.5664, -11.5664, -11.5663, -11.5664, -11.5663, -11.5664, -11.5664, -11.5665, -11.5665, -11.5664, -11.5665, -11.5665, -11.5665, -11.5665, -0.5069, -2.2181, -2.8155, -3.2639, -3.8069, -11.5233, -11.5235, -11.5234, -11.5236, -11.5236, -11.5236, -11.5236, -11.5236, -11.5236, -11.5236, -11.5236, -11.5236, -11.5236, -11.5236, -11.5236, -11.5236, -11.5236, -11.5236, -11.5236, -11.5236, -11.5236, -11.5236, -11.5236, -11.5236, -11.5236, -11.5236, -11.5236, -11.5236, -11.5236, -11.5234, -11.5234, -11.5234, -11.5233, -11.5235, -11.5235, -11.5233, -11.5235, -11.5234, -11.5235, -11.5233, -11.5236, -11.5235, -11.522, -11.5234, -11.5234, -11.5232, -11.5235, -11.5232, -11.5233, -11.5233, -11.5233, -11.5231, -11.5233, -11.5233, -11.5234, -11.5234, -11.5234, -11.5234, -11.5234, -1.3699, -1.7525, -2.0834, -2.6832, -2.6923, -3.3021, -3.8484, -11.1136, -11.1137, -11.1138, -11.1138, -11.1138, -11.1138, -11.1138, -11.1138, -11.1138, -11.1138, -11.1138, -11.1138, -11.1138, -11.1138, -11.1138, -11.1138, -11.1138, -11.1138, -11.1138, -11.1138, -11.1138, -11.1138, -11.1138, -11.1137, -11.1138, -11.1138, -11.1138, -11.1138, -11.1137, -11.1138, -11.1137, -11.1138, -11.1137, -11.1137, -11.1137, -11.1136, -11.1137, -11.1131, -11.1137, -11.1138, -11.1137, -11.1137, -11.1137, -11.1136, -11.1137, -11.1137, -11.1137, -11.1136, -11.1137, -11.1137, -11.1137, -11.1137, -11.1137, -11.1137, -11.1137, -11.1137, -2.7665, -9.808, -9.8081, -9.8081, -9.8081, -9.8081, -9.8081, -9.8081, -9.8081, -9.8081, -9.8081, -9.8081, -9.8081, -9.8081, -9.8081, -9.8081, -9.8081, -9.8081, -9.8081, -9.8081, -9.8081, -9.8081, -9.8081, -9.8081, -9.8081, -9.8081, -9.8081, -9.8081, -9.8081, -9.8081, -9.8081, -9.8081, -9.8081, -9.808, -9.8081, -9.8081, -9.8081, -9.8081, -9.8081, -9.8081, -9.8081, -9.8081, -9.8081, -9.8081, -9.8081, -9.8081, -9.8081, -9.8081, -9.8081, -9.8081, -9.8081, -9.8081, -9.8081, -9.8081, -9.7432, -9.7432, -9.7432, -9.7432, -9.7432, -9.7432, -9.7432, -9.7432, -9.7432, -9.7432, -9.7432, -9.7432, -9.7432, -9.7432, -9.7432, -9.7432, -9.7432, -9.7432, -9.7432, -9.7432, -9.7432, -9.7432, -9.7432, -9.7432, -9.7432, -9.7432, -9.7432, -9.7432, -9.7432, -9.7432, -9.7432, -9.7432, -9.7432, -9.7432, -9.7432, -9.7432, -9.7432, -9.7432, -9.7432, -9.7432, -9.7432, -9.7432, -9.7432, -9.7432, -9.7432, -9.7432, -9.7432, -9.7432, -9.7432, -9.7432, -9.7432, -9.7432, -9.7432], \"loglift\": [30.0, 29.0, 28.0, 27.0, 26.0, 25.0, 24.0, 23.0, 22.0, 21.0, 20.0, 19.0, 18.0, 17.0, 16.0, 15.0, 14.0, 13.0, 12.0, 11.0, 10.0, 9.0, 8.0, 7.0, 6.0, 5.0, 4.0, 3.0, 2.0, 1.0, 1.2716, 1.2715, 1.2715, 1.2714, 1.2714, 1.2713, 1.271, 1.2708, 1.2697, 1.2693, 1.2692, 1.2692, 1.2595, -1.4856, -1.487, -1.4872, -1.4874, -1.4874, -1.4874, -1.4875, -1.4875, -1.4875, -1.4875, -1.4875, -1.4876, -1.4876, -1.4876, -1.4876, -1.4876, -1.4876, -1.4876, -1.4876, 2.4911, 2.4909, 2.4908, 2.4907, 2.4907, 2.4907, 2.4906, 2.4903, 2.4902, 2.4899, 2.4899, 2.4898, 2.4895, 2.4895, 2.4894, 2.4891, 2.489, 2.4888, 2.4886, 2.4885, 2.4882, 2.4869, 2.4868, 2.4862, 2.4861, 2.4853, 2.4851, 2.4836, 2.4832, 2.4799, 2.5646, 2.5645, 2.5638, 2.5613, 2.5599, -0.4069, -0.407, -0.407, -0.4071, -0.4071, -0.4071, -0.4071, -0.4071, -0.4071, -0.4071, -0.4071, -0.4071, -0.4071, -0.4071, -0.4071, -0.4071, -0.4071, -0.4071, -0.4071, -0.4071, -0.4071, -0.4071, -0.4071, -0.4071, -0.4071, -0.4071, -0.4071, -0.4071, -0.4071, -0.4071, -0.4071, -0.4072, -0.4072, -0.4072, -0.4072, -0.4072, 2.8746, 2.8746, 2.8744, 2.8744, 2.8742, 2.8739, 2.8739, 2.8736, 2.8736, 2.8736, 2.8727, 2.8725, 2.8724, 2.8724, 2.8723, 2.8722, 2.8722, 2.872, 2.8717, 2.8712, 2.8712, 2.8702, 2.8699, 2.8697, 2.8696, 2.8689, 2.8687, 2.8681, 2.8677, 2.8677, 2.8876, 2.8874, 2.8873, 2.8869, 2.8866, 2.8866, 2.8864, 2.8862, 2.8861, 2.8857, 2.8857, 2.8852, 2.8849, 2.8847, 2.8838, 2.8838, 2.8822, 2.8798, 2.8777, 2.8763, 2.8751, 2.8473, 2.7608, -0.0568, -0.057, -0.057, -0.057, -0.057, -0.057, -0.057, -0.057, -0.057, -0.0571, -0.0571, 2.9017, 2.9016, 2.9014, 2.9012, 2.901, 2.9009, 2.9009, 2.9001, 2.8996, 2.8995, 2.8993, 2.8992, 2.8991, 2.8991, 2.8988, 2.8987, 2.8986, 2.8972, 2.897, 2.8966, 2.8964, 2.8961, 2.8953, 2.8935, 2.8933, 2.8818, 2.8774, 2.8536, -0.0268, -0.0271, 3.0011, 3.001, 3.0008, 3.0007, 3.0005, 2.9999, 2.9999, 2.9998, 2.9997, 2.9997, 2.999, 2.9988, 2.9982, 2.9934, 2.993, 2.9925, 2.9896, -0.0564, -0.0564, -0.0564, -0.0564, -0.0564, -0.0564, -0.0564, -0.0564, -0.0564, -0.0564, -0.0564, -0.0564, -0.0564, -0.0564, -0.0564, -0.0565, -0.0564, -0.0565, -0.0567, -0.0565, -0.0565, -0.0565, -0.0565, -0.0565, -0.0565, -0.0565, -0.0565, -0.0565, -0.0566, 3.0548, 3.0547, 3.0546, 3.0544, 3.0543, 3.0539, 3.0538, 3.0538, 3.0537, 3.053, 3.053, 3.0529, 3.0528, 3.0526, 3.0512, 3.0496, 3.0491, 3.0489, 3.0478, 3.0399, 0.1638, 0.1638, 0.1638, 0.1637, 0.1637, 0.1637, 0.1637, 0.1637, 0.1637, 0.1637, 0.1637, 0.1637, 0.1637, 0.1637, 0.1637, 0.1636, 0.1636, 3.0966, 3.0964, 3.0963, 3.0961, 3.0961, 3.096, 3.0959, 3.0957, 3.0956, 3.0949, 3.0945, 3.0943, 3.0942, 3.0934, 3.0932, 3.0926, 3.0922, 3.0921, 3.0917, 3.0911, 3.0892, 3.087, 3.0867, 3.0841, 3.0809, 0.2727, 0.2727, 0.2727, 0.2727, 0.2727, 0.2727, 0.2727, 0.2726, 0.2726, 0.2726, 3.1679, 3.1676, 3.1675, 3.1674, 3.1673, 3.1673, 3.1669, 3.1668, 3.1666, 3.1665, 3.1661, 3.1654, 3.1633, 3.1631, 3.1623, 3.1486, 3.1484, 3.146, 3.1307, 0.2749, 0.2749, 0.2749, 0.2748, 0.2748, 0.2748, 0.2748, 0.2748, 0.2748, 0.2748, 0.2748, 0.2748, 0.2747, 0.2748, 0.2748, 0.2748, 0.2748, 0.2747, 0.2747, 0.2747, 0.2748, 0.2747, 0.2748, 3.1764, 3.1763, 3.1762, 3.1761, 3.1758, 3.1756, 3.1751, 3.1748, 3.1737, 3.1727, 3.1725, 3.1723, 3.1721, 3.1708, 3.1688, 3.155, 0.2799, 0.2797, 0.2797, 0.2797, 0.2797, 0.2796, 0.2796, 0.2796, 0.2796, 0.2796, 0.2796, 0.2796, 0.2796, 0.2796, 0.2796, 0.2796, 0.2796, 0.2796, 0.2796, 0.2796, 0.2796, 0.2796, 0.2796, 3.2257, 3.2255, 3.2254, 3.2252, 3.2249, 3.2245, 3.2245, 3.2242, 3.2241, 3.2233, 3.2232, 3.2226, 3.2225, 3.2222, 3.2212, 3.2194, 3.218, 3.0518, 0.2234, 0.2233, 0.2233, 0.2233, 0.2233, 0.2233, 0.2233, 0.2232, 0.2232, 0.2232, 0.2232, 0.2232, 0.2232, 0.2232, 0.2232, 0.2232, 0.2232, 0.2232, 0.2232, 0.2232, 0.2232, 3.3632, 3.3632, 3.3631, 3.3623, 3.3623, 3.3617, 3.3615, 3.3612, 3.3607, 3.3603, 3.3574, 3.3573, 3.3562, 3.348, 3.342, 3.3311, 3.2721, 0.2972, 0.2972, 0.2971, 0.2971, 0.2971, 0.2971, 0.2971, 0.2971, 0.2971, 0.2971, 0.2971, 0.2971, 0.2971, 0.2971, 0.2969, 0.2971, 0.2971, 0.2971, 0.297, 0.2971, 0.297, 0.297, 0.297, 0.297, 0.297, 0.2969, 3.782, 3.7818, 3.773, 1.2502, 1.2501, 1.2501, 1.2501, 1.2501, 1.2501, 1.2501, 1.25, 1.25, 1.25, 1.25, 1.25, 1.25, 1.25, 1.25, 1.25, 1.25, 1.25, 1.25, 1.25, 1.25, 1.25, 1.25, 1.25, 1.25, 1.25, 1.25, 1.25, 1.25, 1.25, 1.25, 1.25, 1.25, 1.25, 1.25, 1.25, 1.25, 1.25, 1.2499, 1.25, 1.25, 1.25, 1.25, 1.2499, 1.25, 1.2499, 1.2499, 1.2498, 1.25, 1.2498, 1.2499, 1.2499, 1.2499, 1.2499, 1.2499, 1.25, 1.2499, 1.2499, 1.2499, 1.2499, 1.2499, 3.7952, 3.7943, 3.7765, 0.5566, 0.5566, 0.5566, 0.5566, 0.5565, 0.5565, 0.5565, 0.5565, 0.5564, 0.5564, 0.5564, 0.5564, 0.5564, 0.5564, 0.5564, 0.5564, 0.5564, 0.5564, 0.5564, 0.5564, 0.5564, 0.5564, 0.5564, 0.5563, 0.5563, 0.5563, 0.5563, 0.5563, 0.5563, 0.5563, 0.5563, 0.5563, 0.5563, 0.5563, 0.5561, 0.5562, 0.5562, 0.5562, 0.5562, 0.5552, 0.5561, 0.5561, 0.5563, 0.5562, 0.5562, 0.5561, 3.9779, 3.976, 3.9727, 3.9666, 3.9629, 3.9504, 3.9388, 1.0743, 1.0743, 1.0743, 1.0742, 1.0742, 1.0742, 1.0742, 1.0742, 1.0742, 1.0742, 1.0742, 1.0742, 1.0742, 1.0742, 1.0742, 1.0742, 1.0742, 1.0742, 1.0742, 1.0742, 1.0742, 1.0742, 1.0742, 1.0742, 1.0742, 1.0742, 1.0742, 1.0742, 1.0742, 1.0741, 1.0742, 1.0742, 1.0742, 1.0742, 1.0741, 1.0741, 1.0741, 1.0741, 1.0741, 1.0742, 1.0741, 1.0738, 1.0741, 1.074, 1.074, 1.0741, 1.0729, 1.074, 1.074, 1.0738, 1.074, 1.0738, 1.0739, 1.0739, 1.0741, 1.074, 1.0739, 1.0741, 1.0741, 1.0739, 1.074, 4.0563, 4.055, 4.0536, 4.052, 4.0486, 1.1174, 1.1173, 1.1173, 1.1173, 1.1173, 1.1173, 1.1173, 1.1173, 1.1173, 1.1173, 1.1173, 1.1173, 1.1173, 1.1173, 1.1173, 1.1173, 1.1173, 1.1173, 1.1173, 1.1173, 1.1173, 1.1173, 1.1173, 1.1173, 1.1173, 1.1173, 1.1172, 1.1172, 1.1172, 1.1172, 1.1172, 1.1172, 1.1171, 1.1172, 1.1172, 1.1171, 1.1172, 1.1171, 1.1172, 1.1171, 1.1172, 1.1172, 1.116, 1.1171, 1.1171, 1.117, 1.1172, 1.1169, 1.117, 1.117, 1.117, 1.1166, 1.1169, 1.1168, 1.117, 1.117, 1.1169, 1.117, 1.1171, 4.5323, 4.5317, 4.5311, 4.5292, 4.5292, 4.5256, 4.52, 1.5272, 1.5271, 1.5271, 1.5271, 1.5271, 1.5271, 1.5271, 1.5271, 1.5271, 1.5271, 1.5271, 1.5271, 1.5271, 1.5271, 1.5271, 1.5271, 1.5271, 1.5271, 1.5271, 1.5271, 1.5271, 1.5271, 1.5271, 1.5271, 1.5271, 1.527, 1.527, 1.5271, 1.527, 1.527, 1.527, 1.527, 1.5269, 1.5269, 1.527, 1.5266, 1.5269, 1.525, 1.5267, 1.527, 1.5268, 1.5268, 1.5269, 1.5265, 1.5266, 1.5267, 1.5265, 1.5261, 1.5269, 1.5268, 1.5268, 1.5267, 1.5265, 1.5266, 1.5265, 1.5266, 7.5326, 2.8328, 2.8328, 2.8328, 2.8328, 2.8328, 2.8328, 2.8328, 2.8328, 2.8328, 2.8328, 2.8328, 2.8328, 2.8328, 2.8328, 2.8328, 2.8328, 2.8328, 2.8328, 2.8328, 2.8328, 2.8328, 2.8328, 2.8328, 2.8328, 2.8328, 2.8328, 2.8328, 2.8328, 2.8328, 2.8328, 2.8328, 2.8328, 2.8328, 2.8328, 2.8328, 2.8328, 2.8328, 2.8328, 2.8328, 2.8328, 2.8327, 2.8327, 2.8327, 2.8328, 2.8326, 2.8325, 2.8327, 2.8327, 2.8325, 2.8324, 2.8326, 2.8322, 2.8326, 2.8977, 2.8977, 2.8977, 2.8977, 2.8977, 2.8977, 2.8977, 2.8977, 2.8977, 2.8977, 2.8977, 2.8977, 2.8977, 2.8977, 2.8977, 2.8977, 2.8977, 2.8977, 2.8977, 2.8977, 2.8977, 2.8977, 2.8977, 2.8977, 2.8977, 2.8977, 2.8977, 2.8977, 2.8977, 2.8977, -5.6902, -5.2758, -5.18, -8.0262, -4.2143, -4.7221, -2.4274, 2.8977, 2.8976, 2.8977, -1.9518, -1.8877, 2.8977, -4.5622, -4.4769, -2.82, -4.1751, -4.9893, -3.6297, -3.1606, -3.7139, -5.0315, -2.1509]}, \"token.table\": {\"Topic\": [7, 9, 16, 8, 7, 10, 17, 2, 5, 4, 13, 18, 13, 5, 11, 2, 18, 9, 6, 13, 18, 6, 8, 1, 3, 5, 11, 2, 4, 9, 1, 2, 8, 8, 12, 6, 4, 18, 9, 2, 4, 8, 11, 1, 3, 1, 4, 11, 12, 13, 9, 7, 5, 13, 15, 1, 2, 4, 10, 5, 10, 10, 10, 10, 2, 7, 7, 11, 12, 17, 11, 4, 6, 5, 11, 10, 6, 9, 12, 5, 12, 4, 16, 12, 6, 8, 12, 6, 10, 4, 18, 4, 2, 13, 9, 9, 6, 17, 16, 1, 7, 8, 9, 6, 2, 6, 3, 14, 10, 13, 6, 2, 6, 11, 6, 8, 5, 12, 10, 2, 17, 6, 4, 8, 2, 7, 8, 12, 18, 9, 11, 13, 12, 13, 9, 2, 9, 9, 9, 12, 2, 2, 8, 11, 2, 4, 8, 4, 2, 7, 4, 8, 7, 9, 16, 4, 1, 9, 5, 15, 10, 11, 7, 1, 1, 11, 7, 5, 4, 12, 13, 8, 4, 7, 2, 5, 5, 10, 6, 5, 8, 10, 6, 2, 2, 9, 7, 2, 8, 11, 10, 5, 13, 1, 6, 5, 16, 2, 4, 5, 11, 4, 6, 8, 5, 9, 6, 1, 2, 4, 4, 10, 9, 2, 6, 15, 7, 7, 8, 13, 19, 7, 3, 4, 16, 5, 11, 12, 4, 5, 5, 13, 12, 12, 12, 2, 2, 11, 9, 12, 10, 4, 4, 8, 8, 1, 13, 17, 6, 13, 12, 9, 6, 6, 2, 4, 2, 1, 9, 16, 13, 9, 10, 13, 5, 9, 6, 4, 4, 6, 10, 2, 7, 14, 3, 10, 5, 6, 18, 5, 9, 6, 2, 14, 4, 4, 6], \"Freq\": [0.9989137228731468, 0.9892287663535122, 0.9973277740396631, 0.9931959422811405, 0.9978983003143143, 0.9992192857563151, 0.9948059977006459, 0.9934874786751868, 0.9975926044721665, 0.998588517753834, 0.9988946606417497, 0.983124029478007, 0.997249774897865, 0.9918883556765187, 0.9922437219726332, 0.9952143026195884, 0.9958228569930708, 0.9992146055828436, 0.9935538460032385, 0.9951986201561127, 0.9987667674929606, 0.9983959733303787, 0.9984376567008338, 0.990533608409473, 0.9976233526129151, 0.9994940054399764, 0.995308929374312, 0.9936342332570813, 0.9925909852234471, 0.9906744853983445, 0.9998968515874429, 0.9997006121142296, 0.9861190326920405, 0.994177557836129, 0.9926239795622946, 0.9993574729554492, 0.9950183958963306, 0.99705775533841, 0.9993579112919609, 0.9980091028779001, 0.9976033341292139, 0.9970056992792682, 0.9983926460614103, 0.9996821026422487, 0.9992313057199655, 0.9999796739055503, 0.996639607982435, 0.9964719107735404, 0.9901478361670838, 0.9928425991632202, 0.9993447316609113, 0.9993490164163628, 0.999547439854024, 0.9965968248037285, 0.9998119145733516, 0.9971192453973937, 0.9898891570874749, 0.997744561847577, 0.9972356901677578, 0.9935263688828793, 0.9793437925463042, 0.9764408040989695, 0.9717819574813716, 0.9991660230985875, 0.9981637615300805, 0.998844532582712, 0.9973413468086095, 0.9993256807457039, 0.9978566353844874, 0.997967537152104, 0.9901595658507317, 0.9978372011022101, 0.9913787622923036, 0.9975168947934975, 0.9987766846554169, 0.9992209269885726, 0.9980157371247403, 0.994946339117756, 0.9977500556095528, 0.9989801468652226, 0.9939547905029824, 0.9976509719751614, 0.9858404778703272, 0.9979165553293825, 0.9955010127384041, 0.9982739850412661, 0.9974520652915466, 0.9460165562939197, 0.998407958510338, 0.9942976612873947, 0.9980951562389613, 0.9971901411053234, 0.9991425657230506, 0.9737729457147908, 0.9985673220093767, 0.9962333396561973, 0.9976964394330198, 0.9942445833036556, 0.9998267059677389, 0.9992962283343294, 0.9983530682985968, 0.9995745910643128, 0.9987968270713141, 0.9959990668233901, 0.9977699586289912, 0.9971049907200307, 0.9946084252420627, 0.9997704818417386, 0.9990342507450518, 0.999446257990284, 0.9933763511801682, 0.9992921809417169, 0.9948162095254163, 0.9988575100219602, 0.9962536409277718, 0.9981975256584082, 0.9984414729705368, 0.9964366446204136, 0.993644004385046, 0.9995047789330717, 0.9997828150331338, 0.9920393820957519, 0.993788249315137, 0.9939478033130839, 0.9990480817878165, 0.9996096318386897, 0.9972296660028955, 0.9990742246091275, 0.997991471777131, 0.9983882902108504, 0.9951369108712287, 0.9979971336433543, 0.9982113434713916, 0.9987035579356442, 0.9956207589536598, 0.9992890214323854, 0.99604464211706, 0.9988034106236529, 0.9833907441208694, 0.9994838718110214, 0.9961282441100818, 0.9917394177655899, 0.9994486165992573, 0.9996427950703036, 0.9995047712949764, 0.9946279951829189, 0.9991756275162464, 0.9961616160657238, 0.9986487295032803, 0.9967067709677763, 0.9935549425816965, 0.9980524354390202, 0.9900113327232999, 0.9979825300027918, 0.9955826080213509, 0.9987906903287533, 0.9969764086462112, 0.9974164588016524, 0.9932479336720913, 0.9826920525440521, 0.9983057081646005, 0.9838411333115535, 0.9993606864222166, 0.9976247225195812, 0.9999023123749682, 0.9994152235965743, 0.993321070287419, 0.894992893107995, 0.9994643832059958, 0.7973954496600788, 0.9983197209205308, 0.997695844558755, 0.9986837298640603, 0.9996123336800548, 0.9983440325178691, 0.9911905046226435, 0.9997625675844992, 0.9784906583987591, 0.9769808121050402, 0.9668415017547526, 0.999523921068205, 0.9979686727669961, 0.998543959707196, 0.999572889920754, 0.9985739198764741, 0.9949790465587479, 0.9983509555879253, 0.9951776462170954, 0.9976660577207941, 0.9969197373264088, 0.9977783279926202, 0.999137009536317, 0.9973186197032194, 0.9977159183829795, 0.9959635550458622, 0.9970338002872123, 0.978563243927076, 0.9965157563034575, 0.9949366379912908, 0.9990610131131307, 0.9961644062197477, 0.9907718367958835, 0.9997496543521123, 0.9987977059592601, 0.9892297096764747, 0.9965494795644115, 0.9929137759901198, 0.9997830029926158, 0.9973804333175157, 0.9979513030319412, 0.9948854363947609, 0.9987243534460654, 0.9993955960579677, 0.9980893278411543, 0.9967950361115641, 0.9987189832471861, 0.999646091246592, 0.9895849438037133, 0.9992927573042633, 0.9923819118591741, 0.9112535211805892, 0.9908061761963388, 0.9998088666136636, 0.9992699452369234, 0.9885092606892402, 0.997682252343933, 0.9996896824707497, 0.9959334815683275, 0.9970310142984492, 0.9983283693313845, 0.9957818953678422, 0.9821600518181746, 0.9989024001783536, 0.999512932501236, 0.9965166740896144, 0.9987634549854768, 0.9948747993535536, 0.9993847994831437, 0.9932150392115808, 0.9993347593207973, 0.995489036721508, 0.997149289026638, 0.9994004993360147, 0.9922217210257581, 0.9981060743083507, 0.9996032125426644, 0.9834245171468899, 0.9980729834664501, 0.9938566424213694, 0.9993861765343799, 0.9957996654803977, 0.996555160287729, 0.9968316786360556, 0.9989268211818617, 0.9998160858700986, 0.9992152671888169, 0.9969420387581918, 0.9994602187438024, 0.9974401995879745, 0.9663630532761874, 0.9995468238635822, 0.9953200063595056, 0.994543872109736, 0.9240434194554694, 0.9966121256835206, 0.9817573227026457, 0.9972763865622684, 0.9980533420477434, 0.9982199009350502, 0.9716404081761327, 0.9993440445875432, 0.9977767348263811, 0.9987604345188258, 0.999403307816858, 0.9999351342634601, 0.9995752489846398, 0.9967054671670923, 0.999108688660891, 0.9910901844848028, 0.9989504632000624, 0.9995779003645752, 0.9989908760218184, 0.9904779154245846, 0.9893359741553986, 0.9988905372487711, 0.9923780487082091, 0.999674298650441], \"Term\": [\"accord\", \"activity\", \"add\", \"additional\", \"affect\", \"age\", \"aid\", \"aim\", \"almost\", \"also\", \"amp\", \"animal\", \"announce\", \"antibodie\", \"approach\", \"arrival\", \"authority\", \"average\", \"avoid\", \"away\", \"bad\", \"become\", \"begin\", \"bill\", \"biontech\", \"booster\", \"brain\", \"cancel\", \"capacity\", \"capital\", \"case\", \"cause\", \"cautious\", \"challenge\", \"chief\", \"child\", \"cite\", \"close\", \"come\", \"compare\", \"condition\", \"consider\", \"control\", \"coronavirus\", \"country\", \"covid\", \"crisis\", \"curb\", \"currently\", \"cut\", \"daily\", \"datum\", \"day\", \"deadly\", \"death\", \"decision\", \"declare\", \"decline\", \"delay\", \"difference\", \"disaster\", \"domestic\", \"donate\", \"dose\", \"drive\", \"drop\", \"drug\", \"due\", \"early\", \"ease\", \"economic\", \"economy\", \"education\", \"effect\", \"effective\", \"end\", \"enter\", \"expand\", \"expect\", \"expert\", \"expire\", \"explain\", \"expose\", \"face\", \"fake\", \"fall\", \"family\", \"fan\", \"far\", \"few\", \"fight\", \"figure\", \"find\", \"folk\", \"free\", \"fuel\", \"full\", \"fund\", \"get\", \"give\", \"global\", \"go\", \"government\", \"great\", \"group\", \"guidance\", \"head\", \"health\", \"help\", \"high\", \"history\", \"hit\", \"hold\", \"hong_kong\", \"hope\", \"hospitalization\", \"hospitalize\", \"hour\", \"immune_system\", \"increase\", \"infection\", \"information\", \"international\", \"jump\", \"keep\", \"know\", \"large\", \"last\", \"late\", \"lead\", \"leader\", \"less\", \"level\", \"life\", \"line\", \"live\", \"local\", \"lockdown\", \"log\", \"long\", \"loss\", \"major\", \"make\", \"mandate\", \"many\", \"mark\", \"mask\", \"mass\", \"measure\", \"million\", \"minister\", \"moderna\", \"morning\", \"move\", \"mrna\", \"much\", \"nation\", \"national\", \"nationwide\", \"natural\", \"nearly\", \"necessary\", \"need\", \"never\", \"new\", \"news\", \"nhs\", \"note\", \"number\", \"officially\", \"omicron\", \"open\", \"outbreak\", \"pandemic\", \"part\", \"past\", \"people\", \"percent\", \"perform\", \"persist\", \"pfizer\", \"plan\", \"policy\", \"positive\", \"post\", \"prepare\", \"prevent\", \"previous\", \"protection\", \"prove\", \"provide\", \"public\", \"push\", \"put\", \"quarantine\", \"question\", \"quick\", \"real\", \"reason\", \"receive\", \"recent\", \"recently\", \"record\", \"reduce\", \"reinfection\", \"relate\", \"reopen\", \"report\", \"requirement\", \"researcher\", \"resident\", \"response\", \"restriction\", \"result\", \"return\", \"reuter\", \"risk\", \"role\", \"rule\", \"run\", \"russian\", \"sars_cov\", \"say\", \"school\", \"screen\", \"second\", \"see\", \"seek\", \"serious\", \"share\", \"shoot\", \"short\", \"shot\", \"show\", \"site\", \"source\", \"speak\", \"spread\", \"stand\", \"state\", \"strain\", \"student\", \"study\", \"study_find\", \"sure\", \"surge\", \"surpass\", \"symptom\", \"system\", \"take\", \"talk\", \"target\", \"teacher\", \"tell\", \"test\", \"testing\", \"thank\", \"think\", \"third\", \"tie\", \"time\", \"toll\", \"total\", \"tour\", \"track\", \"transmit\", \"travel\", \"treat\", \"try\", \"union\", \"update\", \"urge\", \"use\", \"vaccination\", \"vaccine\", \"variant\", \"ve\", \"virus\", \"war\", \"warn\", \"week\", \"well\", \"wide\", \"win\", \"world\", \"worldwide\", \"year\"]}, \"R\": 30, \"lambda.step\": 0.01, \"plot.opts\": {\"xlab\": \"PC1\", \"ylab\": \"PC2\"}, \"topic.order\": [11, 2, 6, 4, 3, 8, 18, 7, 14, 20, 13, 9, 19, 10, 16, 15, 1, 17, 12, 5]};\n",
       "\n",
       "function LDAvis_load_lib(url, callback){\n",
       "  var s = document.createElement('script');\n",
       "  s.src = url;\n",
       "  s.async = true;\n",
       "  s.onreadystatechange = s.onload = callback;\n",
       "  s.onerror = function(){console.warn(\"failed to load library \" + url);};\n",
       "  document.getElementsByTagName(\"head\")[0].appendChild(s);\n",
       "}\n",
       "\n",
       "if(typeof(LDAvis) !== \"undefined\"){\n",
       "   // already loaded: just create the visualization\n",
       "   !function(LDAvis){\n",
       "       new LDAvis(\"#\" + \"ldavis_el2839616111864402242777598999\", ldavis_el2839616111864402242777598999_data);\n",
       "   }(LDAvis);\n",
       "}else if(typeof define === \"function\" && define.amd){\n",
       "   // require.js is available: use it to load d3/LDAvis\n",
       "   require.config({paths: {d3: \"https://d3js.org/d3.v5\"}});\n",
       "   require([\"d3\"], function(d3){\n",
       "      window.d3 = d3;\n",
       "      LDAvis_load_lib(\"https://cdn.jsdelivr.net/gh/bmabey/pyLDAvis@3.4.0/pyLDAvis/js/ldavis.v3.0.0.js\", function(){\n",
       "        new LDAvis(\"#\" + \"ldavis_el2839616111864402242777598999\", ldavis_el2839616111864402242777598999_data);\n",
       "      });\n",
       "    });\n",
       "}else{\n",
       "    // require.js not available: dynamically load d3 & LDAvis\n",
       "    LDAvis_load_lib(\"https://d3js.org/d3.v5.js\", function(){\n",
       "         LDAvis_load_lib(\"https://cdn.jsdelivr.net/gh/bmabey/pyLDAvis@3.4.0/pyLDAvis/js/ldavis.v3.0.0.js\", function(){\n",
       "                 new LDAvis(\"#\" + \"ldavis_el2839616111864402242777598999\", ldavis_el2839616111864402242777598999_data);\n",
       "            })\n",
       "         });\n",
       "}\n",
       "</script>"
      ],
      "text/plain": [
       "PreparedData(topic_coordinates=              x         y  topics  cluster       Freq\n",
       "topic                                                \n",
       "10     0.282751 -0.385088       1        1  28.037362\n",
       "1      0.129823  0.120661       2        1   8.280276\n",
       "5      0.160201  0.217499       3        1   7.694800\n",
       "3      0.061624  0.026975       4        1   5.641065\n",
       "2      0.093022  0.059226       5        1   5.569825\n",
       "7      0.085586  0.050192       6        1   5.491420\n",
       "17     0.094734  0.061798       7        1   4.971805\n",
       "6      0.052084  0.022036       8        1   4.711414\n",
       "13     0.029217  0.007546       9        1   4.518147\n",
       "19     0.030942  0.009158      10        1   4.207572\n",
       "12     0.030909  0.009416      11        1   4.172049\n",
       "8      0.041339  0.015283      12        1   3.971214\n",
       "18     0.027370  0.007489      13        1   3.460856\n",
       "9     -0.151073 -0.037704      14        1   2.277022\n",
       "15    -0.020293 -0.011551      15        1   2.247358\n",
       "14    -0.121913 -0.034557      16        1   1.872036\n",
       "0     -0.129250 -0.035449      17        1   1.730805\n",
       "16    -0.191429 -0.040288      18        1   1.074433\n",
       "11    -0.252171 -0.031504      19        1   0.048429\n",
       "4     -0.253473 -0.031138      20        1   0.022112, topic_info=               Term          Freq         Total Category  logprob  loglift\n",
       "5             covid  93677.000000  93677.000000  Default  30.0000  30.0000\n",
       "58          vaccine  25186.000000  25186.000000  Default  29.0000  29.0000\n",
       "0             death   9059.000000   9059.000000  Default  28.0000  28.0000\n",
       "47              say  10707.000000  10707.000000  Default  27.0000  27.0000\n",
       "50              get   6800.000000   6800.000000  Default  26.0000  26.0000\n",
       "..              ...           ...           ...      ...      ...      ...\n",
       "25  hospitalization      0.006769   1154.080200  Topic20  -9.7432  -3.6297\n",
       "26            large      0.006769    722.000182  Topic20  -9.7432  -3.1606\n",
       "27           reduce      0.006769   1255.509492  Topic20  -9.7432  -3.7139\n",
       "28             risk      0.006769   4688.659358  Topic20  -9.7432  -5.0315\n",
       "29       study_find      0.006769    263.046046  Topic20  -9.7432  -2.1509\n",
       "\n",
       "[923 rows x 6 columns], token_table=      Topic      Freq        Term\n",
       "term                             \n",
       "183       7  0.998914      accord\n",
       "299       9  0.989229    activity\n",
       "295      16  0.997328         add\n",
       "214       8  0.993196  additional\n",
       "338       7  0.997898      affect\n",
       "...     ...       ...         ...\n",
       "147       2  0.990478        wide\n",
       "217      14  0.989336         win\n",
       "110       4  0.998891       world\n",
       "446       4  0.992378   worldwide\n",
       "383       6  0.999674        year\n",
       "\n",
       "[287 rows x 3 columns], R=30, lambda_step=0.01, plot_opts={'xlab': 'PC1', 'ylab': 'PC2'}, topic_order=[11, 2, 6, 4, 3, 8, 18, 7, 14, 20, 13, 9, 19, 10, 16, 15, 1, 17, 12, 5])"
      ]
     },
     "execution_count": 19,
     "metadata": {},
     "output_type": "execute_result"
    }
   ],
   "source": [
    "'''\n",
    "Now that the LDA model is built, the next step is to examine the produced \n",
    "topics and the associated keywords. There is no better tool than pyLDAvis package’s \n",
    "interactive chart and is designed to work well with jupyter notebooks.\n",
    "'''\n",
    "# Visualize the topics\n",
    "pyLDAvis.enable_notebook()\n",
    "vis = pyLDAvis.gensim.prepare(lda_model, corpus, id2word)\n",
    "vis"
   ]
  },
  {
   "cell_type": "code",
   "execution_count": null,
   "metadata": {},
   "outputs": [],
   "source": []
  }
 ],
 "metadata": {
  "kernelspec": {
   "display_name": "Python 3",
   "language": "python",
   "name": "python3"
  },
  "language_info": {
   "codemirror_mode": {
    "name": "ipython",
    "version": 3
   },
   "file_extension": ".py",
   "mimetype": "text/x-python",
   "name": "python",
   "nbconvert_exporter": "python",
   "pygments_lexer": "ipython3",
   "version": "3.9.13"
  }
 },
 "nbformat": 4,
 "nbformat_minor": 2
}
