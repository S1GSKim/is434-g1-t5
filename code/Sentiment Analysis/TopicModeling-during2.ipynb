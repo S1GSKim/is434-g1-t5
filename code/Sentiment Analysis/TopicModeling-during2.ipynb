{
 "cells": [
  {
   "cell_type": "code",
   "execution_count": 1,
   "metadata": {},
   "outputs": [
    {
     "name": "stderr",
     "output_type": "stream",
     "text": [
      "C:\\ProgramData\\Anaconda3\\lib\\site-packages\\scipy\\__init__.py:146: UserWarning: A NumPy version >=1.16.5 and <1.23.0 is required for this version of SciPy (detected version 1.24.2\n",
      "  warnings.warn(f\"A NumPy version >={np_minversion} and <{np_maxversion}\"\n"
     ]
    }
   ],
   "source": [
    "import nltk\n",
    "\n",
    "# nltk.download('stopwords')"
   ]
  },
  {
   "cell_type": "code",
   "execution_count": 2,
   "metadata": {},
   "outputs": [],
   "source": [
    "import re\n",
    "import numpy as np\n",
    "import pandas as pd\n",
    "from pprint import pprint"
   ]
  },
  {
   "cell_type": "code",
   "execution_count": 3,
   "metadata": {},
   "outputs": [],
   "source": [
    "# Gensim (Topic Modeling Pacakge)\n",
    "import gensim\n",
    "import gensim.corpora as corpora\n",
    "from gensim.utils import simple_preprocess\n",
    "from gensim.models import CoherenceModel"
   ]
  },
  {
   "cell_type": "code",
   "execution_count": 4,
   "metadata": {},
   "outputs": [],
   "source": [
    "# spacy for lemmatization\n",
    "import spacy\n",
    "\n",
    "from spacy_download import load_spacy"
   ]
  },
  {
   "cell_type": "code",
   "execution_count": 5,
   "metadata": {},
   "outputs": [],
   "source": [
    "# Plotting tools\n",
    "import pyLDAvis\n",
    "import pyLDAvis.gensim  # don't skip this\n",
    "import matplotlib.pyplot as plt\n",
    "%matplotlib inline"
   ]
  },
  {
   "cell_type": "code",
   "execution_count": 6,
   "metadata": {},
   "outputs": [],
   "source": [
    "# Enable logging for gensim - optional\n",
    "import logging\n",
    "logging.basicConfig(format='%(asctime)s : %(levelname)s : %(message)s', level=logging.ERROR)\n",
    "\n",
    "import warnings\n",
    "warnings.filterwarnings(\"ignore\",category=DeprecationWarning)"
   ]
  },
  {
   "cell_type": "code",
   "execution_count": 7,
   "metadata": {},
   "outputs": [],
   "source": [
    "# NLTK Stop words\n",
    "from nltk.corpus import stopwords\n",
    "stop_words = stopwords.words('english')\n",
    "stop_words.extend(['from', 'subject', 're', 'edu', 'use'])"
   ]
  },
  {
   "cell_type": "code",
   "execution_count": 8,
   "metadata": {},
   "outputs": [
    {
     "name": "stdout",
     "output_type": "stream",
     "text": [
      "['TheWadSquad_io' 'sharonlafon91' 'JDignum' 'Zolgath1' 'thestug1985'\n",
      " 'kittenhawk1' 'BiotechObserver' 'Ride4Truth' 'COVID19STATS3'\n",
      " 'Michael91693258' 'mileslunn' 'newsnow_africa' 'Americanhope78'\n",
      " 'Sharky_vs_Evil' 'OppenheimAviel' 'TorontoStar' 'DonEford' 'MJMcElwee'\n",
      " 'JenniferMeyer6' 'michaelab97' 'car_trump' 'NzuchiTimesUSA'\n",
      " 'ZyiteGadgets' 'GlobalCirculate' 'thepostxnews' 'theesk' 'RioSlade'\n",
      " 'JoyLing6' 'Truth_in_Number' 'LazarusLong13' 'PELCltd' 'healthylivingHe'\n",
      " 'KathMLee1' 'DrWaldoAyurveda' 'healthfoodat' 'jondknight'\n",
      " 'sheilab06007273' 'McKibbinGroup' 'chelseakenna' 'troothmonstah'\n",
      " 'USAfireman01' 'STForeignDesk' 'pastexpiry' 'GosiaGasperoPhD' 'Njayije'\n",
      " 'Bricky1WI' 'TrueDiagnostics' 'bettycjung' 'SerenaShimAward'\n",
      " 'Heather65557169' '1Alboforpm' 'StCatStandard' 'njoyflyfishing'\n",
      " 'Savage707Savage' 'gtamoeb' '_covid_19_bot_' 'adihridreamland'\n",
      " 'MonicaGandhi9' 'calexander007' 'ZakGregg' 'this1wierdgirl' 'juli_bg_bs'\n",
      " 'jruban15' 'woodrowdouglass' 'aparachick' 'CoeurdelaMer37'\n",
      " '_cryptomatters' 'stillwemadeit' 'JoeBlog05100722' 'isearch247' 'DR_ILL'\n",
      " 'jccnc16' '1Artypod' 'ColmanOfGuaire' 'pogue25' 'FluoridePoison'\n",
      " 'DiasporaEngager' 'DiasporaNews123' 'LarsonFanChris' 'jowens8614'\n",
      " 'healthystartgo' 'EGliasain' 'KKorncob' 'TheDriveInn1' 'smdemora'\n",
      " 'Phage_Papers' 'KevintheVille' 'NoNegativeWave1' 'jeguru1' 'nspector4'\n",
      " 'jkstudentupdate' 'bot_political' 'littlebytesnews' 'somershade1'\n",
      " 'kolby_anthony' 'The_King_SteveO' 'CarterKvbbiz' 'gemcarey' 'DeetoriaDee'\n",
      " 'SamLace65948404' 'EarlGreyTea_pls' 'deadlystingnyc' 'jaunnewsusa'\n",
      " 'WellandTribune' 'RF_Jenkins' 'IgorZepol' 'AGB07003591' 'jirkyrick'\n",
      " 'DeepADiver2' 'LostTogetherCda' 'CastelinoJenny' 'godlovesgoths'\n",
      " 'tearoeprice' 'VanessaQT' '_shnieder' 'HamidMerchant' 'suchipi'\n",
      " 'TelecasterRon' 'Richie07849741' 'meshaiman' 'JoshAlexCairo' 'WMUR9'\n",
      " 'LussianaK' 'sarahplusone' 'SocialPolicyAUS' 'eurojournalENG'\n",
      " 'Epiwhisper' 'TodayHeadline42' 'Cadoret' 'ElephantNewsUSA' 'StaciaLevy'\n",
      " 'Totallysamsays' 'LadyOphelia9' 'maximus_hoggus' 'casscassptyltd'\n",
      " 'BanglaViral' 'bacchaus351' 'mareefeb' 'ItsKnivesOnly' 'thatcuteDog'\n",
      " 'Reuters' 'typo_cat' 'bitco_united' 'UtsuroBune66' 'catladyactivist'\n",
      " 'lucilovesmic' 'yfc2016' 'BregmanPs' 'healthnewsmore' 'ConcernedofBri1'\n",
      " 'TheJamieGlick' 'COVID19LiveNow' 'brimetimenole' 'cmencke' 'joelsalmon01'\n",
      " 'PhyllisBaker89' 'PurpRmPolitics' 'marclappin' 'HilaryWollis'\n",
      " 'JudithAPadilla1' 'GroupZirigoza' 'tmillerphotos' '_Yggdrassil'\n",
      " 'jdavidson2017' 'intohoIIand' 'Lucy17269389' 'MrsMommaAce' 'Wxgirl169'\n",
      " 'HITManZac' '543coolio' 'sg325is' 'agargmd' 'ShutUpChewy' 'GBAFReview'\n",
      " 'GradyTripp00' 'allendh' 'TomthunkitsMind' 'Adam_Stirling' 'leannemo1'\n",
      " 'WPalmerCurl' 'worldnews_guru' '55leeanne' 'Lionnesss' 'curategg'\n",
      " 'adonitacara' 'dianaberrent' 'openletterbot' 'AmazonAllie73'\n",
      " 'JBrady70373767' 'MojackMarine' 'r_brownlee' 'OCcovidkids' 'MoriartyLab'\n",
      " 'DrAnnInStPaul' 'AmityLassiter' 'MrDLPFC' 'LimestoneDSB']\n"
     ]
    },
    {
     "data": {
      "text/plain": [
       "datetime          86093\n",
       "tweet_id          86093\n",
       "text              86093\n",
       "username          86093\n",
       "url               86093\n",
       "user_location     63516\n",
       "like_count        86093\n",
       "retweet_count     86093\n",
       "follower_count    86093\n",
       "reply_count       86093\n",
       "verified          86093\n",
       "hashtags          10863\n",
       "dtype: int64"
      ]
     },
     "execution_count": 8,
     "metadata": {},
     "output_type": "execute_result"
    }
   ],
   "source": [
    "'''\n",
    "We will be using the 20-Newsgroups dataset for this exercise.\n",
    "This version of the dataset contains about 11k newsgroups posts from \n",
    "20 different topics. This is available as newsgroups.json.\n",
    "'''\n",
    "# Import Dataset\n",
    "df = pd.read_csv('data/during2_covidTweets_v2.csv')\n",
    "print(df.username.unique())\n",
    "df.head()\n",
    "df.count()"
   ]
  },
  {
   "cell_type": "code",
   "execution_count": 9,
   "metadata": {},
   "outputs": [
    {
     "name": "stdout",
     "output_type": "stream",
     "text": [
      "['5stars #sputnik']\n"
     ]
    }
   ],
   "source": [
    "'''\n",
    "As you can see there are many emails, newline and extra spaces that is quite distracting.\n",
    "Let’s get rid of them using regular expressions.\n",
    "'''\n",
    "# Convert to list\n",
    "data = df.text.tolist()\n",
    "\n",
    "# Remove Emails\n",
    "data = [re.sub('\\S*@\\S*\\s?', '', sent) for sent in data]\n",
    "\n",
    "#remove URL\n",
    "data = [re.sub('http://\\S+|https://\\S+', '', sent) for sent in data]\n",
    "data = [re.sub('http[s]?://\\S+', '', sent) for sent in data]\n",
    "data = [re.sub(r\"http\\S+\", \"\", sent) for sent in data]\n",
    "\n",
    "# Remove new line characters\n",
    "data = [re.sub('\\s+', ' ', sent) for sent in data]\n",
    "\n",
    "# Remove distracting single quotes\n",
    "data = [re.sub(\"\\'\", \"\", sent) for sent in data]\n",
    "\n",
    "pprint(data[:1])"
   ]
  },
  {
   "cell_type": "code",
   "execution_count": 10,
   "metadata": {},
   "outputs": [
    {
     "name": "stdout",
     "output_type": "stream",
     "text": [
      "[['stars', 'sputnik']]\n"
     ]
    }
   ],
   "source": [
    "\n",
    "def sent_to_words(sentences):\n",
    "    for sentence in sentences:\n",
    "        yield(gensim.utils.simple_preprocess(str(sentence), deacc=True))  # deacc=True removes punctuations\n",
    "\n",
    "data_words = list(sent_to_words(data))\n",
    "\n",
    "print(data_words[:1])"
   ]
  },
  {
   "cell_type": "code",
   "execution_count": 11,
   "metadata": {},
   "outputs": [
    {
     "name": "stdout",
     "output_type": "stream",
     "text": [
      "['stars_sputnik']\n"
     ]
    }
   ],
   "source": [
    "\n",
    "# Build the bigram and trigram models\n",
    "bigram = gensim.models.Phrases(data_words, min_count=5, threshold=100) # higher threshold fewer phrases.\n",
    "trigram = gensim.models.Phrases(bigram[data_words], threshold=100)  \n",
    "\n",
    "# Faster way to get a sentence clubbed as a trigram/bigram\n",
    "bigram_mod = gensim.models.phrases.Phraser(bigram)\n",
    "trigram_mod = gensim.models.phrases.Phraser(trigram)\n",
    "\n",
    "# See trigram example\n",
    "print(trigram_mod[bigram_mod[data_words[0]]])"
   ]
  },
  {
   "cell_type": "code",
   "execution_count": 12,
   "metadata": {},
   "outputs": [],
   "source": [
    "\n",
    "# Define functions for stopwords, bigrams, trigrams and lemmatization\n",
    "def remove_stopwords(texts):\n",
    "    return [[word for word in simple_preprocess(str(doc)) if word not in stop_words] for doc in texts]\n",
    "\n",
    "def make_bigrams(texts):\n",
    "    return [bigram_mod[doc] for doc in texts]\n",
    "\n",
    "def make_trigrams(texts):\n",
    "    return [trigram_mod[bigram_mod[doc]] for doc in texts]\n",
    "\n",
    "def lemmatization(texts, allowed_postags=['NOUN', 'ADJ', 'VERB', 'ADV']):\n",
    "    \"\"\"https://spacy.io/api/annotation\"\"\"\n",
    "    texts_out = []\n",
    "    for sent in texts:\n",
    "        doc = nlp(\" \".join(sent)) \n",
    "        texts_out.append([token.lemma_ for token in doc if token.pos_ in allowed_postags])\n",
    "    return texts_out"
   ]
  },
  {
   "cell_type": "code",
   "execution_count": null,
   "metadata": {},
   "outputs": [],
   "source": [
    "# Will download the model if it isn't installed yet \n",
    "nlp = spacy.load(\"en_core_web_sm\", disable=['parser', 'ner'])\n",
    "# Remove Stop Words\n",
    "data_words_nostops = remove_stopwords(data_words)\n",
    "\n",
    "# Form Bigrams\n",
    "data_words_bigrams = make_bigrams(data_words_nostops)\n",
    "\n",
    "# Do lemmatization keeping only noun, adj, vb, adv\n",
    "data_lemmatized = lemmatization(data_words_bigrams, allowed_postags=['NOUN', 'ADJ', 'VERB', 'ADV'])\n",
    "\n",
    "\n",
    "\n",
    "print(data_lemmatized[:1])"
   ]
  },
  {
   "cell_type": "code",
   "execution_count": null,
   "metadata": {},
   "outputs": [],
   "source": [
    "import gensim.corpora as corpora\n",
    "\n",
    "# Create Dictionary\n",
    "id2word = corpora.Dictionary(data_lemmatized)\n",
    "\n",
    "# Create Corpus\n",
    "texts = data_lemmatized\n",
    "\n",
    "# Term Document Frequency\n",
    "corpus = [id2word.doc2bow(text) for text in texts]\n",
    "\n",
    "# View\n",
    "print(corpus[:1])"
   ]
  },
  {
   "cell_type": "code",
   "execution_count": null,
   "metadata": {},
   "outputs": [],
   "source": [
    "vocab = len(id2word.token2id)\n",
    "\n",
    "pd.Series([t for tokens in data_words_bigrams for t in tokens if \"_\" in t]).unique()"
   ]
  },
  {
   "cell_type": "code",
   "execution_count": null,
   "metadata": {},
   "outputs": [],
   "source": [
    "\n",
    "# Build LDA model\n",
    "lda_model = gensim.models.ldamodel.LdaModel(corpus=corpus,\n",
    "                                           id2word=id2word,\n",
    "                                           num_topics=20, \n",
    "                                           random_state=100,\n",
    "                                           update_every=1,\n",
    "                                           chunksize=100,\n",
    "                                           passes=10,\n",
    "                                           alpha='auto',\n",
    "                                           per_word_topics=True)"
   ]
  },
  {
   "cell_type": "code",
   "execution_count": null,
   "metadata": {},
   "outputs": [],
   "source": [
    "\n",
    "# Print the Keyword in the 10 topics\n",
    "pprint(lda_model.print_topics())\n",
    "doc_lda = lda_model[corpus]\n",
    "\n"
   ]
  },
  {
   "cell_type": "code",
   "execution_count": null,
   "metadata": {},
   "outputs": [],
   "source": [
    "'''\n",
    "Model perplexity and topic coherence provide a convenient measure to judge \n",
    "how good a given topic model is. In my experience, topic coherence score, \n",
    "in particular, has been more helpful.\n",
    "'''\n",
    "# Compute Perplexity\n",
    "print('\\nPerplexity: ', lda_model.log_perplexity(corpus))  # a measure of how good the model is. lower the better.\n",
    "\n",
    "# Compute Coherence Score\n",
    "coherence_model_lda = CoherenceModel(model=lda_model, texts=data_lemmatized, dictionary=id2word, coherence='c_v')\n",
    "coherence_lda = coherence_model_lda.get_coherence()\n",
    "print('\\nCoherence Score: ', coherence_lda)\n",
    "\n"
   ]
  },
  {
   "cell_type": "code",
   "execution_count": null,
   "metadata": {},
   "outputs": [],
   "source": [
    "'''\n",
    "Now that the LDA model is built, the next step is to examine the produced \n",
    "topics and the associated keywords. There is no better tool than pyLDAvis package’s \n",
    "interactive chart and is designed to work well with jupyter notebooks.\n",
    "'''\n",
    "# Visualize the topics\n",
    "pyLDAvis.enable_notebook()\n",
    "vis = pyLDAvis.gensim.prepare(lda_model, corpus, id2word)\n",
    "vis"
   ]
  },
  {
   "cell_type": "code",
   "execution_count": null,
   "metadata": {},
   "outputs": [],
   "source": []
  }
 ],
 "metadata": {
  "kernelspec": {
   "display_name": "Python 3",
   "language": "python",
   "name": "python3"
  },
  "language_info": {
   "codemirror_mode": {
    "name": "ipython",
    "version": 3
   },
   "file_extension": ".py",
   "mimetype": "text/x-python",
   "name": "python",
   "nbconvert_exporter": "python",
   "pygments_lexer": "ipython3",
   "version": "3.9.13"
  }
 },
 "nbformat": 4,
 "nbformat_minor": 2
}
