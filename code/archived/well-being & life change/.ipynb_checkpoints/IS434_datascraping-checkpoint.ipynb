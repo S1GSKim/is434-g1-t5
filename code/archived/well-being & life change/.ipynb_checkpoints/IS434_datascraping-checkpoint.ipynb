{
 "cells": [
  {
   "cell_type": "markdown",
   "metadata": {
    "id": "eMkLoD_7yL4N"
   },
   "source": [
    "**Importing the data**"
   ]
  },
  {
   "cell_type": "code",
   "execution_count": 1,
   "metadata": {
    "colab": {
     "base_uri": "https://localhost:8080/"
    },
    "executionInfo": {
     "elapsed": 3472,
     "status": "ok",
     "timestamp": 1679902706159,
     "user": {
      "displayName": "KIM HAN NAH _",
      "userId": "14021567696386502849"
     },
     "user_tz": -480
    },
    "id": "WAmbHECrtpS2",
    "outputId": "f97963af-0d4f-4e1a-c2f0-c792f6191918"
   },
   "outputs": [],
   "source": [
    "# from google.colab import drive\n",
    "# drive.mount('/content/drive')"
   ]
  },
  {
   "cell_type": "code",
   "execution_count": 2,
   "metadata": {
    "id": "HCGLe0DJliJU"
   },
   "outputs": [],
   "source": [
    "# pip install GetOldTweets3"
   ]
  },
  {
   "cell_type": "code",
   "execution_count": 3,
   "metadata": {
    "id": "nRpTryHBljBG"
   },
   "outputs": [],
   "source": [
    "# pip install twarc"
   ]
  },
  {
   "cell_type": "code",
   "execution_count": 4,
   "metadata": {
    "id": "PcW6id3dljRH"
   },
   "outputs": [],
   "source": [
    "# import plotly.graph_objects as go\n",
    "# from twarc import Twarc2"
   ]
  },
  {
   "cell_type": "code",
   "execution_count": 5,
   "metadata": {
    "id": "zKDbt0T5ljkx"
   },
   "outputs": [],
   "source": [
    "# Paste in your own bearer token below\n",
    "# client = Twarc2(\n",
    "#     bearer_token = 'AAAAAAAAAAAAAAAAAAAAAFcTlQEAAAAALP2qUZX5P8Tbl71LhX08vBf%2BvUw%3DCXKp7Y8C7X5jOxM4lgVOFWm2a8fMVPuzFK1HhWAtf9rCzY4bgZ'\n",
    "# )"
   ]
  },
  {
   "cell_type": "code",
   "execution_count": 6,
   "metadata": {
    "id": "2nQYVRVZl85p"
   },
   "outputs": [],
   "source": [
    "# query = 'covid lang=en'"
   ]
  },
  {
   "cell_type": "code",
   "execution_count": 7,
   "metadata": {
    "id": "FSBW85Ifl9Hl"
   },
   "outputs": [],
   "source": [
    "# results = client.search_recent(\n",
    "#     query=query,\n",
    "#     max_results=100,\n",
    "#     tweet_fields=\"author_id,context_annotations\"\n",
    "# )"
   ]
  },
  {
   "cell_type": "code",
   "execution_count": 8,
   "metadata": {
    "id": "pnklzhFdl9VN"
   },
   "outputs": [],
   "source": [
    "# for page in results:\n",
    "#     print(\"======================\")\n",
    "#     print(page)\n",
    "#     data = page['data']"
   ]
  },
  {
   "cell_type": "code",
   "execution_count": 9,
   "metadata": {
    "id": "nGGNUfMDmo29"
   },
   "outputs": [],
   "source": [
    "# len(data)"
   ]
  },
  {
   "cell_type": "code",
   "execution_count": 10,
   "metadata": {
    "id": "8E8fxMdLmtcL"
   },
   "outputs": [],
   "source": [
    "# Convert JSON into Pandas data frame\n",
    "\n",
    "# import pandas as pd\n",
    "\n",
    "# df = pd.json_normalize(data)\n",
    "\n",
    "# df"
   ]
  },
  {
   "cell_type": "code",
   "execution_count": 11,
   "metadata": {
    "id": "NomRFXiFm46Y"
   },
   "outputs": [],
   "source": [
    "# pip install tweepy"
   ]
  },
  {
   "cell_type": "code",
   "execution_count": 12,
   "metadata": {
    "colab": {
     "base_uri": "https://localhost:8080/"
    },
    "executionInfo": {
     "elapsed": 3685,
     "status": "ok",
     "timestamp": 1679902709835,
     "user": {
      "displayName": "KIM HAN NAH _",
      "userId": "14021567696386502849"
     },
     "user_tz": -480
    },
    "id": "PbnoYn6FnFOS",
    "outputId": "dfd8bcad-a9b3-4dbc-ee5a-9b4caf2b0049"
   },
   "outputs": [
    {
     "name": "stdout",
     "output_type": "stream",
     "text": [
      "Defaulting to user installation because normal site-packages is not writeable\n",
      "Requirement already satisfied: snscrape in c:\\users\\hannah.kim\\appdata\\roaming\\python\\python39\\site-packages (0.3.0)\n",
      "Requirement already satisfied: beautifulsoup4 in c:\\programdata\\anaconda3\\lib\\site-packages (from snscrape) (4.11.1)\n",
      "Requirement already satisfied: lxml in c:\\programdata\\anaconda3\\lib\\site-packages (from snscrape) (4.9.1)\n",
      "Requirement already satisfied: requests[socks] in c:\\programdata\\anaconda3\\lib\\site-packages (from snscrape) (2.28.1)\n",
      "Requirement already satisfied: soupsieve>1.2 in c:\\programdata\\anaconda3\\lib\\site-packages (from beautifulsoup4->snscrape) (2.3.1)\n",
      "Requirement already satisfied: urllib3<1.27,>=1.21.1 in c:\\programdata\\anaconda3\\lib\\site-packages (from requests[socks]->snscrape) (1.26.11)\n",
      "Requirement already satisfied: charset-normalizer<3,>=2 in c:\\programdata\\anaconda3\\lib\\site-packages (from requests[socks]->snscrape) (2.0.4)\n",
      "Requirement already satisfied: certifi>=2017.4.17 in c:\\programdata\\anaconda3\\lib\\site-packages (from requests[socks]->snscrape) (2022.9.14)\n",
      "Requirement already satisfied: idna<4,>=2.5 in c:\\programdata\\anaconda3\\lib\\site-packages (from requests[socks]->snscrape) (3.3)\n",
      "Requirement already satisfied: PySocks!=1.5.7,>=1.5.6 in c:\\programdata\\anaconda3\\lib\\site-packages (from requests[socks]->snscrape) (1.7.1)\n"
     ]
    },
    {
     "name": "stderr",
     "output_type": "stream",
     "text": [
      "WARNING: Ignoring invalid distribution -ktime (c:\\programdata\\anaconda3\\lib\\site-packages)\n",
      "WARNING: Ignoring invalid distribution -ktime (c:\\programdata\\anaconda3\\lib\\site-packages)\n",
      "WARNING: Ignoring invalid distribution -ktime (c:\\programdata\\anaconda3\\lib\\site-packages)\n",
      "WARNING: Ignoring invalid distribution -ktime (c:\\programdata\\anaconda3\\lib\\site-packages)\n"
     ]
    }
   ],
   "source": [
    "!pip install snscrape"
   ]
  },
  {
   "cell_type": "code",
   "execution_count": 13,
   "metadata": {},
   "outputs": [],
   "source": [
    "# pip install snscrape==0.3.0"
   ]
  },
  {
   "cell_type": "code",
   "execution_count": 14,
   "metadata": {
    "id": "VG5M6562m5K0"
   },
   "outputs": [
    {
     "ename": "TypeError",
     "evalue": "Multiple inheritance with NamedTuple is not supported",
     "output_type": "error",
     "traceback": [
      "\u001b[1;31m---------------------------------------------------------------------------\u001b[0m",
      "\u001b[1;31mTypeError\u001b[0m                                 Traceback (most recent call last)",
      "\u001b[1;32m~\\AppData\\Local\\Temp\\ipykernel_20448\\2714111727.py\u001b[0m in \u001b[0;36m<module>\u001b[1;34m\u001b[0m\n\u001b[1;32m----> 1\u001b[1;33m \u001b[1;32mimport\u001b[0m \u001b[0msnscrape\u001b[0m\u001b[1;33m.\u001b[0m\u001b[0mmodules\u001b[0m\u001b[1;33m.\u001b[0m\u001b[0mtwitter\u001b[0m \u001b[1;32mas\u001b[0m \u001b[0msntwitter\u001b[0m\u001b[1;33m\u001b[0m\u001b[1;33m\u001b[0m\u001b[0m\n\u001b[0m\u001b[0;32m      2\u001b[0m \u001b[1;32mimport\u001b[0m \u001b[0mpandas\u001b[0m \u001b[1;32mas\u001b[0m \u001b[0mpd\u001b[0m\u001b[1;33m\u001b[0m\u001b[1;33m\u001b[0m\u001b[0m\n",
      "\u001b[1;32m~\\AppData\\Roaming\\Python\\Python39\\site-packages\\snscrape\\modules\\__init__.py\u001b[0m in \u001b[0;36m<module>\u001b[1;34m\u001b[0m\n\u001b[0;32m     13\u001b[0m \u001b[1;33m\u001b[0m\u001b[0m\n\u001b[0;32m     14\u001b[0m \u001b[1;33m\u001b[0m\u001b[0m\n\u001b[1;32m---> 15\u001b[1;33m \u001b[0m_import_modules\u001b[0m\u001b[1;33m(\u001b[0m\u001b[1;33m)\u001b[0m\u001b[1;33m\u001b[0m\u001b[1;33m\u001b[0m\u001b[0m\n\u001b[0m",
      "\u001b[1;32m~\\AppData\\Roaming\\Python\\Python39\\site-packages\\snscrape\\modules\\__init__.py\u001b[0m in \u001b[0;36m_import_modules\u001b[1;34m()\u001b[0m\n\u001b[0;32m     10\u001b[0m                         \u001b[1;31m# Import module if not already imported\u001b[0m\u001b[1;33m\u001b[0m\u001b[1;33m\u001b[0m\u001b[0m\n\u001b[0;32m     11\u001b[0m                         \u001b[0mmoduleName\u001b[0m \u001b[1;33m=\u001b[0m \u001b[1;34mf'snscrape.modules.{fn[:-3]}'\u001b[0m\u001b[1;33m\u001b[0m\u001b[1;33m\u001b[0m\u001b[0m\n\u001b[1;32m---> 12\u001b[1;33m                         \u001b[0mmodule\u001b[0m \u001b[1;33m=\u001b[0m \u001b[0mimportlib\u001b[0m\u001b[1;33m.\u001b[0m\u001b[0mimport_module\u001b[0m\u001b[1;33m(\u001b[0m\u001b[0mmoduleName\u001b[0m\u001b[1;33m)\u001b[0m\u001b[1;33m\u001b[0m\u001b[1;33m\u001b[0m\u001b[0m\n\u001b[0m\u001b[0;32m     13\u001b[0m \u001b[1;33m\u001b[0m\u001b[0m\n\u001b[0;32m     14\u001b[0m \u001b[1;33m\u001b[0m\u001b[0m\n",
      "\u001b[1;32mC:\\ProgramData\\Anaconda3\\lib\\importlib\\__init__.py\u001b[0m in \u001b[0;36mimport_module\u001b[1;34m(name, package)\u001b[0m\n\u001b[0;32m    125\u001b[0m                 \u001b[1;32mbreak\u001b[0m\u001b[1;33m\u001b[0m\u001b[1;33m\u001b[0m\u001b[0m\n\u001b[0;32m    126\u001b[0m             \u001b[0mlevel\u001b[0m \u001b[1;33m+=\u001b[0m \u001b[1;36m1\u001b[0m\u001b[1;33m\u001b[0m\u001b[1;33m\u001b[0m\u001b[0m\n\u001b[1;32m--> 127\u001b[1;33m     \u001b[1;32mreturn\u001b[0m \u001b[0m_bootstrap\u001b[0m\u001b[1;33m.\u001b[0m\u001b[0m_gcd_import\u001b[0m\u001b[1;33m(\u001b[0m\u001b[0mname\u001b[0m\u001b[1;33m[\u001b[0m\u001b[0mlevel\u001b[0m\u001b[1;33m:\u001b[0m\u001b[1;33m]\u001b[0m\u001b[1;33m,\u001b[0m \u001b[0mpackage\u001b[0m\u001b[1;33m,\u001b[0m \u001b[0mlevel\u001b[0m\u001b[1;33m)\u001b[0m\u001b[1;33m\u001b[0m\u001b[1;33m\u001b[0m\u001b[0m\n\u001b[0m\u001b[0;32m    128\u001b[0m \u001b[1;33m\u001b[0m\u001b[0m\n\u001b[0;32m    129\u001b[0m \u001b[1;33m\u001b[0m\u001b[0m\n",
      "\u001b[1;32m~\\AppData\\Roaming\\Python\\Python39\\site-packages\\snscrape\\modules\\facebook.py\u001b[0m in \u001b[0;36m<module>\u001b[1;34m\u001b[0m\n\u001b[0;32m     12\u001b[0m \u001b[1;33m\u001b[0m\u001b[0m\n\u001b[0;32m     13\u001b[0m \u001b[1;33m\u001b[0m\u001b[0m\n\u001b[1;32m---> 14\u001b[1;33m \u001b[1;32mclass\u001b[0m \u001b[0mFacebookPost\u001b[0m\u001b[1;33m(\u001b[0m\u001b[0mtyping\u001b[0m\u001b[1;33m.\u001b[0m\u001b[0mNamedTuple\u001b[0m\u001b[1;33m,\u001b[0m \u001b[0msnscrape\u001b[0m\u001b[1;33m.\u001b[0m\u001b[0mbase\u001b[0m\u001b[1;33m.\u001b[0m\u001b[0mItem\u001b[0m\u001b[1;33m)\u001b[0m\u001b[1;33m:\u001b[0m\u001b[1;33m\u001b[0m\u001b[1;33m\u001b[0m\u001b[0m\n\u001b[0m\u001b[0;32m     15\u001b[0m         \u001b[0mcleanUrl\u001b[0m\u001b[1;33m:\u001b[0m \u001b[0mstr\u001b[0m\u001b[1;33m\u001b[0m\u001b[1;33m\u001b[0m\u001b[0m\n\u001b[0;32m     16\u001b[0m         \u001b[0mdirtyUrl\u001b[0m\u001b[1;33m:\u001b[0m \u001b[0mstr\u001b[0m\u001b[1;33m\u001b[0m\u001b[1;33m\u001b[0m\u001b[0m\n",
      "\u001b[1;32mC:\\ProgramData\\Anaconda3\\lib\\typing.py\u001b[0m in \u001b[0;36m_namedtuple_mro_entries\u001b[1;34m(bases)\u001b[0m\n\u001b[0;32m   1927\u001b[0m \u001b[1;32mdef\u001b[0m \u001b[0m_namedtuple_mro_entries\u001b[0m\u001b[1;33m(\u001b[0m\u001b[0mbases\u001b[0m\u001b[1;33m)\u001b[0m\u001b[1;33m:\u001b[0m\u001b[1;33m\u001b[0m\u001b[1;33m\u001b[0m\u001b[0m\n\u001b[0;32m   1928\u001b[0m     \u001b[1;32mif\u001b[0m \u001b[0mlen\u001b[0m\u001b[1;33m(\u001b[0m\u001b[0mbases\u001b[0m\u001b[1;33m)\u001b[0m \u001b[1;33m>\u001b[0m \u001b[1;36m1\u001b[0m\u001b[1;33m:\u001b[0m\u001b[1;33m\u001b[0m\u001b[1;33m\u001b[0m\u001b[0m\n\u001b[1;32m-> 1929\u001b[1;33m         \u001b[1;32mraise\u001b[0m \u001b[0mTypeError\u001b[0m\u001b[1;33m(\u001b[0m\u001b[1;34m\"Multiple inheritance with NamedTuple is not supported\"\u001b[0m\u001b[1;33m)\u001b[0m\u001b[1;33m\u001b[0m\u001b[1;33m\u001b[0m\u001b[0m\n\u001b[0m\u001b[0;32m   1930\u001b[0m     \u001b[1;32massert\u001b[0m \u001b[0mbases\u001b[0m\u001b[1;33m[\u001b[0m\u001b[1;36m0\u001b[0m\u001b[1;33m]\u001b[0m \u001b[1;32mis\u001b[0m \u001b[0mNamedTuple\u001b[0m\u001b[1;33m\u001b[0m\u001b[1;33m\u001b[0m\u001b[0m\n\u001b[0;32m   1931\u001b[0m     \u001b[1;32mreturn\u001b[0m \u001b[1;33m(\u001b[0m\u001b[0m_NamedTuple\u001b[0m\u001b[1;33m,\u001b[0m\u001b[1;33m)\u001b[0m\u001b[1;33m\u001b[0m\u001b[1;33m\u001b[0m\u001b[0m\n",
      "\u001b[1;31mTypeError\u001b[0m: Multiple inheritance with NamedTuple is not supported"
     ]
    }
   ],
   "source": [
    "import snscrape.modules.twitter as sntwitter\n",
    "import pandas as pd"
   ]
  },
  {
   "cell_type": "markdown",
   "metadata": {
    "id": "FJc_Kovypx6S"
   },
   "source": [
    "\n",
    "\n",
    "pre - jul 2019 - oct 2019\n",
    "\n",
    "during - dec 2020-Feb 2021 & Jan 2022 - Mar 2022\n",
    "\n",
    "post - dec 2022 - feb 2023\n",
    "\n",
    "Novak Djokovic (@DjokerNole)\n",
    "\n",
    "Simone Biles (@Simone_Biles)\n",
    "\n",
    "Tom Dean (@tomdean00)\n",
    "\n",
    "Kyrie Irving (@KyrieIrving)\n",
    "\n",
    "Jonathan Isaac (@JJudahIsaac)\n",
    "\n",
    "Bryson DeChambeau (@b_dechambeau)\n",
    "\n"
   ]
  },
  {
   "cell_type": "code",
   "execution_count": null,
   "metadata": {
    "colab": {
     "base_uri": "https://localhost:8080/",
     "height": 52
    },
    "executionInfo": {
     "elapsed": 22,
     "status": "ok",
     "timestamp": 1679902711037,
     "user": {
      "displayName": "KIM HAN NAH _",
      "userId": "14021567696386502849"
     },
     "user_tz": -480
    },
    "id": "XYqJLoGntsZ2",
    "outputId": "3c9e7b7d-6484-4265-a314-436f11124491"
   },
   "outputs": [],
   "source": [
    "\n",
    "\"\"\"\n",
    "pre - jul 2019 - oct 2019\n",
    "during - dec 2020-Feb 2021 & Jan 2022 - Mar 2022\n",
    "post - dec 2022 - feb 2023\n",
    "\n",
    "Novak Djokovic (@DjokerNole)\n",
    "Simone Biles (@Simone_Biles)\n",
    "Tom Dean (@tomdean00)\n",
    "Kyrie Irving (@KyrieIrving)\n",
    "Jonathan Isaac (@JJudahIsaac)\n",
    "Bryson DeChambeau (@b_dechambeau)\n",
    "\n",
    "\"\"\""
   ]
  },
  {
   "cell_type": "code",
   "execution_count": null,
   "metadata": {
    "id": "j5OPaku5m5bG"
   },
   "outputs": [],
   "source": [
    "\n",
    "\n",
    "# search terms\n",
    "#example \"(djokovic OR Novak OR #djokovic OR #Novak) since:2019-07-01 until:2019-10-31\"\n",
    "# until periods are exclusive\n",
    "\n",
    "\n",
    "#Pre covid\n",
    "# since:2019-07-01 until:2019-10-31\n",
    "query1 = \"from:DjokerNole since:2019-07-01 until:2019-10-31\"\n",
    "\n",
    "#During Covid\n",
    "# since:2020-12-01 until:2021-02-28\n",
    "# since:2022-01-01 until:2022-03-31\n",
    "query2 = \"from:DjokerNole since:2020-12-01 until:2021-02-28\"\n",
    "query3 = \"from:DjokerNole since:2022-01-01 until:2022-03-31\"\n",
    "\n",
    "#Post Covid\n",
    "# since:2023-12-01 until:2023-02-28\n",
    "query4 = \"from:DjokerNole since:2023-12-01 until:2023-02-28\"\n",
    "\n",
    "queryall_1 = \"from:DjokerNole since:2019-07-01 until:2023-02-28\"\n",
    "queryall_2 = \"from:Simone_Biles since:2019-07-01 until:2023-02-28\"\n",
    "queryall_3 = \"from:tomdean00 since:2019-07-01 until:2023-02-28\"\n",
    "queryall_4 = \"from:KyrieIrving since:2019-07-01 until:2023-02-28\"\n",
    "queryall_5 = \"from:JJudahIsaac since:2019-07-01 until:2023-02-28\"\n",
    "queryall_6 = \"from:b_dechambeau since:2019-07-01 until:2023-02-28\"\n",
    "\n",
    "\n",
    "querya_5 = \"from: since:2019-07-01 until:2023-02-28\"\n",
    "\n",
    "queries = [queryall_1,queryall_2,queryall_3,queryall_4,queryall_5,queryall_6]\n",
    "# Using TwitterSearchScraper to scrape data and append tweets to list\n",
    "\n",
    "\n",
    "# df = pd.DataFrame()\n",
    "to_combine_frames = []\n",
    "for query in queries:\n",
    "  tweets = []\n",
    "  for i, tweet in enumerate(sntwitter.TwitterSearchScraper(query).get_items()):\n",
    "    if i > 10000:\n",
    "        break\n",
    "    #declare the attributes to be returned\n",
    "    tweets.append([tweet.date, tweet.id, tweet.url, tweet.user.location, tweet.likeCount, tweet.retweetCount, tweet.rawContent, tweet.user.username,tweet.user.followersCount,tweet.replyCount , tweet.user.verified, tweet.hashtags])\n",
    "\n",
    "  # Creating a dataframe from the tweets list above\n",
    "  df1 = pd.DataFrame(tweets, columns=['date_time', 'tweet_id','url','userlocation','like_count','retweet_count', 'text', 'username','follower_count','reply_count','verified', 'hashtags'])\n",
    "  to_combine_frames.append(df1)\n",
    "\n",
    "df = pd.concat(to_combine_frames)\n",
    "df.to_csv('tweets', mode = 'a')"
   ]
  },
  {
   "cell_type": "code",
   "execution_count": null,
   "metadata": {
    "colab": {
     "base_uri": "https://localhost:8080/",
     "height": 206
    },
    "executionInfo": {
     "elapsed": 960,
     "status": "ok",
     "timestamp": 1679903640211,
     "user": {
      "displayName": "KIM HAN NAH _",
      "userId": "14021567696386502849"
     },
     "user_tz": -480
    },
    "id": "3TAFCrktprKE",
    "outputId": "01392d8c-dcb2-4066-b81f-7a0bd194e959"
   },
   "outputs": [],
   "source": [
    "df.head()"
   ]
  },
  {
   "cell_type": "code",
   "execution_count": null,
   "metadata": {
    "colab": {
     "base_uri": "https://localhost:8080/"
    },
    "executionInfo": {
     "elapsed": 6,
     "status": "ok",
     "timestamp": 1679903641624,
     "user": {
      "displayName": "KIM HAN NAH _",
      "userId": "14021567696386502849"
     },
     "user_tz": -480
    },
    "id": "c5UxzlN8o9Y9",
    "outputId": "3452674a-2f7e-45e8-9973-5b2524ca1227"
   },
   "outputs": [],
   "source": [
    "df.count()"
   ]
  },
  {
   "cell_type": "code",
   "execution_count": null,
   "metadata": {
    "id": "GlUqhWyMpNm_"
   },
   "outputs": [],
   "source": []
  },
  {
   "cell_type": "code",
   "execution_count": null,
   "metadata": {
    "id": "DEzYsKwQuGY0"
   },
   "outputs": [],
   "source": [
    "from google.colab import files"
   ]
  },
  {
   "cell_type": "code",
   "execution_count": null,
   "metadata": {
    "colab": {
     "base_uri": "https://localhost:8080/",
     "height": 17
    },
    "executionInfo": {
     "elapsed": 1112,
     "status": "ok",
     "timestamp": 1679903646657,
     "user": {
      "displayName": "KIM HAN NAH _",
      "userId": "14021567696386502849"
     },
     "user_tz": -480
    },
    "id": "7hLIepgWo5CV",
    "outputId": "8e21f01c-0dac-4b71-dc98-d21393c44cd8"
   },
   "outputs": [],
   "source": [
    "df.to_csv('output.csv')\n",
    "files.download('output.csv')"
   ]
  },
  {
   "cell_type": "code",
   "execution_count": null,
   "metadata": {
    "id": "lRX_ONWdDSvH"
   },
   "outputs": [],
   "source": []
  },
  {
   "cell_type": "code",
   "execution_count": null,
   "metadata": {
    "id": "UAYMpdJxDTFg"
   },
   "outputs": [],
   "source": []
  }
 ],
 "metadata": {
  "colab": {
   "machine_shape": "hm",
   "provenance": [
    {
     "file_id": "1JUL32S3r1rShFY4BLK54w5GSwOKqJUe1",
     "timestamp": 1679046201476
    }
   ]
  },
  "kernelspec": {
   "display_name": "Python 3",
   "language": "python",
   "name": "python3"
  },
  "language_info": {
   "codemirror_mode": {
    "name": "ipython",
    "version": 3
   },
   "file_extension": ".py",
   "mimetype": "text/x-python",
   "name": "python",
   "nbconvert_exporter": "python",
   "pygments_lexer": "ipython3",
   "version": "3.9.13"
  }
 },
 "nbformat": 4,
 "nbformat_minor": 1
}
