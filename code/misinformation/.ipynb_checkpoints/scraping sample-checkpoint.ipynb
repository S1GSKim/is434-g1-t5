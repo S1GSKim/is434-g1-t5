{
 "cells": [
  {
   "cell_type": "code",
   "execution_count": null,
   "id": "ccc85a64",
   "metadata": {},
   "outputs": [],
   "source": [
    "#Reference\n",
    "#https://www.geeksforgeeks.org/scraping-websites-with-newspaper3k-in-python/"
   ]
  },
  {
   "cell_type": "code",
   "execution_count": 1,
   "id": "614ac8d7",
   "metadata": {},
   "outputs": [
    {
     "name": "stdout",
     "output_type": "stream",
     "text": [
      "Defaulting to user installation because normal site-packages is not writeable\n",
      "Collecting newspaper3k\n",
      "  Downloading newspaper3k-0.2.8-py3-none-any.whl (211 kB)\n",
      "     -------------------------------------- 211.1/211.1 kB 4.4 MB/s eta 0:00:00\n",
      "Requirement already satisfied: nltk>=3.2.1 in c:\\programdata\\anaconda3\\lib\\site-packages (from newspaper3k) (3.7)\n",
      "Collecting feedparser>=5.2.1\n",
      "  Downloading feedparser-6.0.10-py3-none-any.whl (81 kB)\n",
      "     ---------------------------------------- 81.1/81.1 kB 4.7 MB/s eta 0:00:00\n",
      "Collecting tinysegmenter==0.3\n",
      "  Downloading tinysegmenter-0.3.tar.gz (16 kB)\n",
      "  Preparing metadata (setup.py): started\n",
      "  Preparing metadata (setup.py): finished with status 'done'\n",
      "Requirement already satisfied: lxml>=3.6.0 in c:\\programdata\\anaconda3\\lib\\site-packages (from newspaper3k) (4.9.1)\n",
      "Requirement already satisfied: python-dateutil>=2.5.3 in c:\\programdata\\anaconda3\\lib\\site-packages (from newspaper3k) (2.8.2)\n",
      "Collecting feedfinder2>=0.0.4\n",
      "  Downloading feedfinder2-0.0.4.tar.gz (3.3 kB)\n",
      "  Preparing metadata (setup.py): started\n",
      "  Preparing metadata (setup.py): finished with status 'done'\n",
      "Requirement already satisfied: PyYAML>=3.11 in c:\\users\\hannah.kim\\appdata\\roaming\\python\\python39\\site-packages (from newspaper3k) (5.4.1)\n",
      "Requirement already satisfied: tldextract>=2.0.1 in c:\\programdata\\anaconda3\\lib\\site-packages (from newspaper3k) (3.2.0)\n",
      "Requirement already satisfied: requests>=2.10.0 in c:\\programdata\\anaconda3\\lib\\site-packages (from newspaper3k) (2.28.1)\n",
      "Requirement already satisfied: Pillow>=3.3.0 in c:\\programdata\\anaconda3\\lib\\site-packages (from newspaper3k) (9.2.0)\n",
      "Requirement already satisfied: cssselect>=0.9.2 in c:\\users\\hannah.kim\\appdata\\roaming\\python\\python39\\site-packages (from newspaper3k) (1.2.0)\n",
      "Requirement already satisfied: beautifulsoup4>=4.4.1 in c:\\programdata\\anaconda3\\lib\\site-packages (from newspaper3k) (4.11.1)\n",
      "Collecting jieba3k>=0.35.1\n",
      "  Downloading jieba3k-0.35.1.zip (7.4 MB)\n",
      "     ---------------------------------------- 7.4/7.4 MB 6.8 MB/s eta 0:00:00\n",
      "  Preparing metadata (setup.py): started\n",
      "  Preparing metadata (setup.py): finished with status 'done'\n",
      "Requirement already satisfied: soupsieve>1.2 in c:\\programdata\\anaconda3\\lib\\site-packages (from beautifulsoup4>=4.4.1->newspaper3k) (2.3.1)\n",
      "Requirement already satisfied: six in c:\\programdata\\anaconda3\\lib\\site-packages (from feedfinder2>=0.0.4->newspaper3k) (1.16.0)\n",
      "Collecting sgmllib3k\n",
      "  Downloading sgmllib3k-1.0.0.tar.gz (5.8 kB)\n",
      "  Preparing metadata (setup.py): started\n",
      "  Preparing metadata (setup.py): finished with status 'done'\n",
      "Requirement already satisfied: joblib in c:\\programdata\\anaconda3\\lib\\site-packages (from nltk>=3.2.1->newspaper3k) (1.2.0)\n",
      "Requirement already satisfied: regex>=2021.8.3 in c:\\programdata\\anaconda3\\lib\\site-packages (from nltk>=3.2.1->newspaper3k) (2022.7.9)\n",
      "Requirement already satisfied: tqdm in c:\\programdata\\anaconda3\\lib\\site-packages (from nltk>=3.2.1->newspaper3k) (4.64.1)\n",
      "Requirement already satisfied: click in c:\\programdata\\anaconda3\\lib\\site-packages (from nltk>=3.2.1->newspaper3k) (8.0.4)\n",
      "Requirement already satisfied: idna<4,>=2.5 in c:\\programdata\\anaconda3\\lib\\site-packages (from requests>=2.10.0->newspaper3k) (3.3)\n",
      "Requirement already satisfied: urllib3<1.27,>=1.21.1 in c:\\programdata\\anaconda3\\lib\\site-packages (from requests>=2.10.0->newspaper3k) (1.26.11)\n",
      "Requirement already satisfied: charset-normalizer<3,>=2 in c:\\programdata\\anaconda3\\lib\\site-packages (from requests>=2.10.0->newspaper3k) (2.0.4)\n",
      "Requirement already satisfied: certifi>=2017.4.17 in c:\\programdata\\anaconda3\\lib\\site-packages (from requests>=2.10.0->newspaper3k) (2022.9.14)\n",
      "Requirement already satisfied: filelock>=3.0.8 in c:\\programdata\\anaconda3\\lib\\site-packages (from tldextract>=2.0.1->newspaper3k) (3.6.0)\n",
      "Requirement already satisfied: requests-file>=1.4 in c:\\programdata\\anaconda3\\lib\\site-packages (from tldextract>=2.0.1->newspaper3k) (1.5.1)\n",
      "Requirement already satisfied: colorama in c:\\users\\hannah.kim\\appdata\\roaming\\python\\python39\\site-packages (from click->nltk>=3.2.1->newspaper3k) (0.4.6)\n",
      "Building wheels for collected packages: tinysegmenter, feedfinder2, jieba3k, sgmllib3k\n",
      "  Building wheel for tinysegmenter (setup.py): started\n",
      "  Building wheel for tinysegmenter (setup.py): finished with status 'done'\n",
      "  Created wheel for tinysegmenter: filename=tinysegmenter-0.3-py3-none-any.whl size=13553 sha256=6e6600c4dc494e31655b1f372fc77d7b058a9d97512406ceaefd5389ecbfe7d7\n",
      "  Stored in directory: c:\\users\\hannah.kim\\appdata\\local\\pip\\cache\\wheels\\94\\ad\\df\\a2a01300cea47d5695f242f7e925a805970106fd9e4b151468\n",
      "  Building wheel for feedfinder2 (setup.py): started\n",
      "  Building wheel for feedfinder2 (setup.py): finished with status 'done'\n",
      "  Created wheel for feedfinder2: filename=feedfinder2-0.0.4-py3-none-any.whl size=3357 sha256=75f0d48f6cd5e16c3b910c5872fd553bd9ce9d532dda7c3323a7670aaa35af51\n",
      "  Stored in directory: c:\\users\\hannah.kim\\appdata\\local\\pip\\cache\\wheels\\43\\4a\\c2\\61a371b2524ac90805391c660d8dc4505705297f25e2b85a5d\n",
      "  Building wheel for jieba3k (setup.py): started\n",
      "  Building wheel for jieba3k (setup.py): finished with status 'done'\n",
      "  Created wheel for jieba3k: filename=jieba3k-0.35.1-py3-none-any.whl size=7398404 sha256=87f0c488733d5f23ed74786ffa41cf1ed55363535147cc9d6e05b6b93320f7f2\n",
      "  Stored in directory: c:\\users\\hannah.kim\\appdata\\local\\pip\\cache\\wheels\\c2\\22\\59\\8214a8d6357e9f540ce1f37f9a4362b6156b4ca81b37f1945f\n",
      "  Building wheel for sgmllib3k (setup.py): started\n",
      "  Building wheel for sgmllib3k (setup.py): finished with status 'done'\n",
      "  Created wheel for sgmllib3k: filename=sgmllib3k-1.0.0-py3-none-any.whl size=6066 sha256=ae50baa690541ae52920f33865daa7ff96e7713a5e00c484bee37307ab35088c\n",
      "  Stored in directory: c:\\users\\hannah.kim\\appdata\\local\\pip\\cache\\wheels\\65\\7a\\a7\\78c287f64e401255dff4c13fdbc672fed5efbfd21c530114e1\n",
      "Successfully built tinysegmenter feedfinder2 jieba3k sgmllib3k\n",
      "Installing collected packages: tinysegmenter, sgmllib3k, jieba3k, feedparser, feedfinder2, newspaper3k\n",
      "Successfully installed feedfinder2-0.0.4 feedparser-6.0.10 jieba3k-0.35.1 newspaper3k-0.2.8 sgmllib3k-1.0.0 tinysegmenter-0.3\n",
      "Note: you may need to restart the kernel to use updated packages.\n"
     ]
    },
    {
     "name": "stderr",
     "output_type": "stream",
     "text": [
      "WARNING: Ignoring invalid distribution -ktime (c:\\programdata\\anaconda3\\lib\\site-packages)\n",
      "WARNING: Ignoring invalid distribution -ktime (c:\\programdata\\anaconda3\\lib\\site-packages)\n",
      "WARNING: Ignoring invalid distribution -ktime (c:\\programdata\\anaconda3\\lib\\site-packages)\n",
      "WARNING: Ignoring invalid distribution -ktime (c:\\programdata\\anaconda3\\lib\\site-packages)\n"
     ]
    }
   ],
   "source": [
    "pip install newspaper3k"
   ]
  },
  {
   "cell_type": "code",
   "execution_count": 5,
   "id": "81d5e78d",
   "metadata": {},
   "outputs": [
    {
     "name": "stderr",
     "output_type": "stream",
     "text": [
      "C:\\ProgramData\\Anaconda3\\lib\\site-packages\\scipy\\__init__.py:146: UserWarning: A NumPy version >=1.16.5 and <1.23.0 is required for this version of SciPy (detected version 1.24.2\n",
      "  warnings.warn(f\"A NumPy version >={np_minversion} and <{np_maxversion}\"\n"
     ]
    },
    {
     "name": "stdout",
     "output_type": "stream",
     "text": [
      "Article's Title:\n",
      "CIA Director William Burns tests positive for COVID-19\n",
      "n\n",
      "Article's Text:\n",
      "CIA Director William Burns has tested positive for COVID-19, according to an agency statement Thursday.\n",
      "\n",
      "The CIA said Burns is experiencing mild symptoms and working from home, with plans to return to the office after five days and testing negative. The director is fully vaccinated and boosted.\n",
      "\n",
      "NEW LEGISLATION WOULD PREVENT THE INTELLIGENCE COMMUNITY FROM SPYING ON AMERICANS\n",
      "\n",
      "Burns last met with President Biden on Wednesday morning in a socially distanced meeting where the director wore an N-95 mask. The agency says Burns is not considered a close contact of the president by Centers for Disease Control and Prevention standards. The nature of the meeting was not disclosed by the CIA.\n",
      "\n",
      "KIDS' COVID VACCINATIONS LESS EFFECTIVE AGAINST OMICRON VS. DELTA, BUT HELPS WARD OFF SEVERE ILLNESS FROM BOTH\n",
      "\n",
      "CLICK HERE TO GET THE FOX NEWS APP\n",
      "\n",
      "Biden is not known to have tested positive for the virus since the pandemic began. Several people in recent weeks have tested positive for the virus shortly after seeing the president, including press secretary Jen Psaki, deputy press secretary Karine Jean-Pierre and Irish Prime Minister Micheál Martin.\n",
      "n\n",
      "Article's Summary:\n",
      "CIA Director William Burns has tested positive for COVID-19, according to an agency statement Thursday.\n",
      "The CIA said Burns is experiencing mild symptoms and working from home, with plans to return to the office after five days and testing negative.\n",
      "The agency says Burns is not considered a close contact of the president by Centers for Disease Control and Prevention standards.\n",
      "KIDS' COVID VACCINATIONS LESS EFFECTIVE AGAINST OMICRON VS. DELTA, BUT HELPS WARD OFF SEVERE ILLNESS FROM BOTHCLICK HERE TO GET THE FOX NEWS APPBiden is not known to have tested positive for the virus since the pandemic began.\n",
      "Several people in recent weeks have tested positive for the virus shortly after seeing the president, including press secretary Jen Psaki, deputy press secretary Karine Jean-Pierre and Irish Prime Minister Micheál Martin.\n",
      "n\n",
      "Article's Keywords:\n",
      "['press', 'positive', 'director', 'william', 'tested', 'meeting', 'virus', 'cia', 'covid19', 'tests', 'burns', 'secretary', 'president']\n"
     ]
    }
   ],
   "source": [
    "\n",
    "from newspaper import Article\n",
    " \n",
    "#A new article from TOI\n",
    "url = \"https://t.co/qhRoWIHU1S\"\n",
    " \n",
    "#For different language newspaper refer above table\n",
    "toi_article = Article(url, language=\"en\") # en for English\n",
    " \n",
    "#To download the article\n",
    "toi_article.download()\n",
    " \n",
    "#To parse the article\n",
    "toi_article.parse()\n",
    " \n",
    "#To perform natural language processing ie..nlp\n",
    "toi_article.nlp()\n",
    " \n",
    "#To extract title\n",
    "print(\"Article's Title:\")\n",
    "print(toi_article.title)\n",
    "print(\"n\")\n",
    " \n",
    "#To extract text\n",
    "print(\"Article's Text:\")\n",
    "print(toi_article.text)\n",
    "print(\"n\")\n",
    " \n",
    "#To extract summary\n",
    "print(\"Article's Summary:\")\n",
    "print(toi_article.summary)\n",
    "print(\"n\")\n",
    " \n",
    "#To extract keywords\n",
    "print(\"Article's Keywords:\")\n",
    "print(toi_article.keywords)\n"
   ]
  },
  {
   "cell_type": "code",
   "execution_count": null,
   "id": "f65f6f17",
   "metadata": {},
   "outputs": [],
   "source": []
  },
  {
   "cell_type": "code",
   "execution_count": null,
   "id": "be732607",
   "metadata": {},
   "outputs": [],
   "source": []
  },
  {
   "cell_type": "code",
   "execution_count": null,
   "id": "527bd28a",
   "metadata": {},
   "outputs": [],
   "source": []
  },
  {
   "cell_type": "code",
   "execution_count": null,
   "id": "dfcad2cf",
   "metadata": {},
   "outputs": [],
   "source": []
  },
  {
   "cell_type": "code",
   "execution_count": null,
   "id": "1902b3a3",
   "metadata": {},
   "outputs": [],
   "source": []
  }
 ],
 "metadata": {
  "kernelspec": {
   "display_name": "Python 3",
   "language": "python",
   "name": "python3"
  },
  "language_info": {
   "codemirror_mode": {
    "name": "ipython",
    "version": 3
   },
   "file_extension": ".py",
   "mimetype": "text/x-python",
   "name": "python",
   "nbconvert_exporter": "python",
   "pygments_lexer": "ipython3",
   "version": "3.9.13"
  }
 },
 "nbformat": 4,
 "nbformat_minor": 5
}
